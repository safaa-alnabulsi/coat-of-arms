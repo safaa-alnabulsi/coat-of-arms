{
 "cells": [
  {
   "cell_type": "code",
   "execution_count": 1,
   "id": "b63643a3",
   "metadata": {},
   "outputs": [],
   "source": [
    "# auto-load when code changes outside\n",
    "%load_ext autoreload\n",
    "%autoreload 2\n",
    "%load_ext pyinstrument\n",
    "\n",
    "import sys\n",
    "sys.path.insert(0,'..')\n"
   ]
  },
  {
   "cell_type": "code",
   "execution_count": null,
   "id": "664e06f4",
   "metadata": {},
   "outputs": [],
   "source": [
    "from src.dataset import Dataset\n",
    "from src.label_checker_automata import LabelCheckerAutomata\n",
    "import src.utils as utils\n",
    "from src.caption import Caption"
   ]
  },
  {
   "cell_type": "markdown",
   "id": "b5126bbb",
   "metadata": {},
   "source": [
    "## Load data and all labels"
   ]
  },
  {
   "cell_type": "code",
   "execution_count": null,
   "id": "91b43f42",
   "metadata": {},
   "outputs": [],
   "source": [
    "dataset = Dataset('../dataset/2021-03-19_classification-labeling-results.json')\n",
    "all_labels = dataset.all_answers\n",
    "len(all_labels)"
   ]
  },
  {
   "cell_type": "markdown",
   "id": "e3bd2295",
   "metadata": {},
   "source": [
    "## Check if the labels match our automata "
   ]
  },
  {
   "cell_type": "code",
   "execution_count": 72,
   "id": "6e8f0d3b",
   "metadata": {},
   "outputs": [
    {
     "name": "stdout",
     "output_type": "stream",
     "text": [
      "Total number of labels 3001\n",
      "Valid labels with plural 356\n",
      "Invalid labels 2645\n"
     ]
    }
   ],
   "source": [
    "pl_automata = LabelCheckerAutomata(support_plural=True)\n",
    "validated_pl_labels = pl_automata.get_valid_labels(all_labels)\n",
    "\n",
    "total = len(all_labels)\n",
    "valid_plural = sum(validated_pl_labels.values())\n",
    "print('Total number of labels', total)\n",
    "print('Valid labels with plural', valid_plural)\n",
    "print('Invalid labels', total - valid_plural)"
   ]
  },
  {
   "cell_type": "markdown",
   "id": "1593ee28",
   "metadata": {},
   "source": [
    "# We now have 356 valid labels\n",
    "# How many of the charges of the valid labels can be found in the Armoria api?\n",
    "# Answer: 64"
   ]
  },
  {
   "cell_type": "code",
   "execution_count": 75,
   "id": "97bea68a",
   "metadata": {},
   "outputs": [],
   "source": [
    "def get_number_of_valid_labels_in_armoria(labels):\n",
    "    sum_valid_armoria = 0\n",
    "    valid_labels = []\n",
    "    for label in labels:\n",
    "        caption_label = Caption(label)\n",
    "        if caption_label.is_valid_in_armoria == True:\n",
    "            sum_valid_armoria+=1\n",
    "            valid_labels.append(label)\n",
    "\n",
    "    return sum_valid_armoria, valid_labels\n"
   ]
  },
  {
   "cell_type": "code",
   "execution_count": 76,
   "id": "9558bbfb",
   "metadata": {},
   "outputs": [
    {
     "name": "stdout",
     "output_type": "stream",
     "text": [
      "Caption Class - exception in label A S bendy, ['bendy']\n",
      "Caption Class - exception in label G OS bend ch. mullet, ['ch.']\n",
      "Caption Class - exception in label O BG bendy & border engrailed, ['&']\n",
      "Caption Class - exception in label O S 3 antlers in pale, ['in']\n",
      "Caption Class - exception in label G OO bend betw 4 lions, ['betw']\n",
      "Caption Class - exception in label A S bend dancetty, ['bend', 'dancetty']\n",
      "Caption Class - exception in label O B 3 antlers in pale, ['in']\n",
      "Caption Class - exception in label G OS pale ch. 3 chevrons, ['ch.']\n",
      "Caption Class - exception in label A G bendy of 4, ['bendy']\n",
      "Caption Class - exception in label A BA bend ch. 3 fleurs-de-lis, ['ch.']\n",
      "Caption Class - exception in label S AA pale & chief, ['&']\n",
      "Caption Class - exception in label G AO bend betw 6 crowns, ['betw']\n",
      "Caption Class - exception in label X O AG bendy sn & pale, ['sn', '&']\n",
      "Caption Class - exception in label A G bendy of 8, ['bendy']\n",
      "Caption Class - exception in label G A 2 scytheblades addorsed, ['scytheblades']\n",
      "Caption Class - exception in label S AA pale acc. 6 roses, ['acc.']\n",
      "Caption Class - exception in label G A 2 demi-wheels addorsed, ['demi-wheels']\n",
      "Caption Class - exception in label G A pale, ['pale']\n",
      "Caption Class - exception in label A G bend, ['bend']\n",
      "Caption Class - exception in label A SO bend ch. 3 roundels, ['ch.']\n",
      "Caption Class - exception in label O S bend, ['bend']\n",
      "Caption Class - exception in label G OO bend & border, ['&']\n",
      "Caption Class - exception in label B AB bend ch. 3 roses, ['ch.']\n",
      "Caption Class - exception in label O G pale, ['pale']\n",
      "Caption Class - exception in label G A 3 lozenges in bend, ['in']\n",
      "Caption Class - exception in label B X AG 3 bends checky, ['checky']\n",
      "Caption Class - exception in label S O bend, ['bend']\n",
      "Caption Class - exception in label G A bend, ['bend']\n",
      "Caption Class - exception in label A G checky, ['checky']\n",
      "Caption Class - exception in label S O 3 wolf-hooks in pale, ['in']\n",
      "Caption Class - exception in label B O 2 axes addorsed, ['axes']\n",
      "Caption Class - exception in label A B stag's head, [\"stag's\"]\n",
      "Caption Class - exception in label B A 2 sickles addorsed, ['sickles']\n",
      "Caption Class - exception in label O BA bend ch. mullet, ['ch.']\n",
      "Caption Class - exception in label A S bend, ['bend']\n",
      "Caption Class - exception in label O B pale, ['pale']\n",
      "Caption Class - exception in label A BA bend undy ch. 3 fish, ['undy', 'ch.']\n",
      "Caption Class - exception in label O B 3 lozenges in bend, ['in']\n",
      "Caption Class - exception in label G Z bend, ['bend']\n",
      "Caption Class - exception in label A S 3 lozenges in bend, ['in']\n",
      "Caption Class - exception in label G A bend sn, ['bend', 'sn']\n",
      "Caption Class - exception in label B OG bend ch. 3 chevrons, ['ch.']\n",
      "Caption Class - exception in label A G checky of 9, ['checky']\n",
      "Caption Class - exception in label O G bend, ['bend']\n",
      "Caption Class - exception in label A G 3 gambs in pale, ['in']\n",
      "Caption Class - exception in label G XA AB pale checky & chief, ['&', 'chief']\n",
      "Caption Class - exception in label G Z bendy, ['bendy']\n",
      "Caption Class - exception in label X O AG checky & chief, ['&']\n",
      "Caption Class - exception in label G A bendy of 4, ['bendy']\n",
      "Caption Class - exception in label A S pale, ['pale']\n",
      "Caption Class - exception in label G BA bend ch. fish, ['ch.']\n",
      "Caption Class - exception in label S X AG bend checky, ['checky']\n",
      "Caption Class - exception in label B A pale, ['pale']\n",
      "Caption Class - exception in label O SA roundel ch. estoile, ['ch.']\n",
      "Caption Class - exception in label O S 3 moor's heads, [\"moor's\"]\n",
      "Caption Class - exception in label O BG checky & border, ['&']\n",
      "Caption Class - exception in label S A bend, ['bend']\n",
      "Caption Class - exception in label B AG bend ch. 3 escallops, ['ch.']\n",
      "Caption Class - exception in label G O bend, ['bend']\n",
      "Caption Class - exception in label G OO bend betw 6 mullets, ['betw']\n",
      "Caption Class - exception in label B A bend, ['bend']\n",
      "Caption Class - exception in label X G AB checky & chief, ['&']\n",
      "Caption Class - exception in label O G checky, ['checky']\n",
      "Caption Class - exception in label O SS bend betw 6 martlets, ['betw']\n",
      "Caption Class - exception in label B A 2 barbels addorsed, ['barbels']\n",
      "Caption Class - exception in label A G bendy, ['bendy']\n",
      "Caption Class - exception in label O BG bendy & border, ['&']\n",
      "Caption Class - exception in label G B bend, ['bend']\n",
      "Caption Class - exception in label G O 2 barbels addorsed, ['barbels']\n",
      "Caption Class - exception in label G O bend dancetty, ['bend', 'dancetty']\n",
      "Caption Class - exception in label G A 2 barbels addorsed, ['barbels']\n",
      "Caption Class - exception in label B A bend engrailed, ['bend', 'engrailed']\n",
      "Caption Class - exception in label G OO pale & 2 pales of lozenges, ['&']\n",
      "Caption Class - exception in label O B bend dancetty, ['bend', 'dancetty']\n",
      "Caption Class - exception in label O G bendy, ['bendy']\n",
      "Caption Class - exception in label O SO bend ch. 3 estoiles, ['ch.']\n",
      "Caption Class - exception in label X G BA 3 pales & bend, ['bend']\n",
      "Caption Class - exception in label G A 2 bends engrailed, ['bends']\n",
      "Caption Class - exception in label A S bend of lozenges, ['bend']\n",
      "Caption Class - exception in label O GB bend betw 6 escallops, ['betw']\n",
      "Caption Class - exception in label S O bendy, ['bendy']\n",
      "Caption Class - exception in label O GG bend betw 6 martlets, ['betw']\n",
      "Caption Class - exception in label O B checky, ['checky']\n",
      "Caption Class - exception in label O Z checky, ['checky']\n",
      "Caption Class - exception in label A G 2 horses passt in  pale, ['horses', 'in']\n",
      "Caption Class - exception in label O G 2 wolves passt in pale, ['wolves', 'in']\n",
      "Caption Class - exception in label A SO bend ch. 3 mullets, ['ch.']\n",
      "Caption Class - exception in label A S 2 wolves passt in pale, ['wolves', 'in']\n",
      "Caption Class - exception in label A B bendy, ['bendy']\n",
      "Caption Class - exception in label B OG bend & chief, ['&']\n",
      "Caption Class - exception in label B A bendy, ['bendy']\n",
      "Caption Class - exception in label O GA bend ch. 3 eagles, ['ch.']\n",
      "Caption Class - exception in label O GA bend ch. 3 fleurs-de-lis, ['ch.']\n",
      "Caption Class - exception in label A S 3 moor's heads, [\"moor's\"]\n",
      "Caption Class - exception in label O B checky of 9, ['checky']\n",
      "Caption Class - exception in label E G 2 barbels addorsed, ['barbels']\n",
      "Caption Class - exception in label O AG pale ch. 3 chevrons, ['ch.']\n",
      "Caption Class - exception in label Z E pale, ['pale']\n",
      "Caption Class - exception in label S O pale, ['pale']\n",
      "Caption Class - exception in label A S devil's head, [\"devil's\"]\n",
      "Caption Class - exception in label G AS bend ch. 3 horseshoes, ['ch.']\n",
      "Caption Class - exception in label A S horse's head, [\"horse's\"]\n",
      "Caption Class - exception in label A BA bend ch. 3 jew's hats, ['ch.']\n",
      "Caption Class - exception in label X G AS checky & chief, ['&']\n",
      "Caption Class - exception in label O S 2 gambs addorsed, ['gambs']\n",
      "Caption Class - exception in label G A swan's head, [\"swan's\"]\n",
      "Caption Class - exception in label G AS pale ch. chevron, ['ch.']\n",
      "Caption Class - exception in label B AG bend ch. 3 arrows, ['ch.']\n",
      "Caption Class - exception in label G A bendy, ['bendy']\n",
      "Caption Class - exception in label S A bend dancetty, ['bend', 'dancetty']\n",
      "Caption Class - exception in label G A bend of lozenges, ['bend']\n",
      "Caption Class - exception in label G A 3 stones in bend, ['in']\n",
      "Caption Class - exception in label X G AB checky & fess, ['&']\n",
      "Caption Class - exception in label G XO AB 2 pales checky & chief, ['&']\n",
      "Caption Class - exception in label G A checky of billets, ['checky']\n",
      "Caption Class - exception in label S GO bend betw 6 lions, ['betw']\n"
     ]
    },
    {
     "data": {
      "text/plain": [
       "(64,\n",
       " ['O S lion rampant',\n",
       "  'A S 3 lions',\n",
       "  'O G eagle',\n",
       "  'O B 3 lions passt guard',\n",
       "  'B A eagle',\n",
       "  'O G lion rampant',\n",
       "  'A G lion rampant',\n",
       "  'B O 5 eagles',\n",
       "  'O G 2 lions passt guard',\n",
       "  \"A G lion's head\",\n",
       "  'S O cross moline',\n",
       "  'G A 3 eagles',\n",
       "  'B O eagle',\n",
       "  'G A eagle',\n",
       "  'S A eagle',\n",
       "  'G O cross patonce',\n",
       "  'B A cross',\n",
       "  'A G cross moline',\n",
       "  'O S 3 lions passt guard',\n",
       "  'A G 2 lions passt guard cr.',\n",
       "  'O S eagle',\n",
       "  'G A cross',\n",
       "  'A G cross patonce',\n",
       "  'S A cross moline',\n",
       "  'B O lion rampant',\n",
       "  'B O cross',\n",
       "  'G A lion rampant',\n",
       "  'A G 3 eagles',\n",
       "  'O S eagle doubleheaded',\n",
       "  'A S lion rampant',\n",
       "  'O V cross moline',\n",
       "  'O V cross',\n",
       "  'O B lion rampant',\n",
       "  'B O 3 lions',\n",
       "  'A G cross',\n",
       "  'G O 2 lions passt guard',\n",
       "  'G O eagle',\n",
       "  'G O 3 lions',\n",
       "  'G O cross moline',\n",
       "  'A G eagle doubleheaded',\n",
       "  'O G 3 lions',\n",
       "  'A B lion rampant',\n",
       "  'G O lion rampant',\n",
       "  'S O 2 lions passt guard',\n",
       "  'A S lion passt',\n",
       "  'G O lion passt guard',\n",
       "  'O G 2 lions passt',\n",
       "  'A B cross',\n",
       "  'O V lion passt',\n",
       "  'G A 3 lions',\n",
       "  'B A lion rampant',\n",
       "  'S O lion rampant',\n",
       "  'A S eagle',\n",
       "  'A V 2 lions passt',\n",
       "  'V O lion rampant',\n",
       "  'O G 2 lions passt cr.',\n",
       "  'B G lion passt',\n",
       "  'O G cross',\n",
       "  'A G 2 lions rampant addorsed',\n",
       "  'S A 3 eagles',\n",
       "  'G A lion passt guard',\n",
       "  'A B eagle doubleheaded',\n",
       "  'S A lion rampant',\n",
       "  'G A 2 lions passt'])"
      ]
     },
     "execution_count": 76,
     "metadata": {},
     "output_type": "execute_result"
    }
   ],
   "source": [
    "get_number_of_valid_labels_in_armoria(validated_pl_labels)\n"
   ]
  },
  {
   "cell_type": "markdown",
   "id": "fe284737",
   "metadata": {},
   "source": [
    "# Create simple automata (No plural)"
   ]
  },
  {
   "cell_type": "code",
   "execution_count": 62,
   "id": "65043170",
   "metadata": {},
   "outputs": [
    {
     "name": "stdout",
     "output_type": "stream",
     "text": [
      "Total number of labels 3001\n",
      "Valid labels without plural 229\n",
      "Invalid labels 2772\n"
     ]
    }
   ],
   "source": [
    "simple_automata = LabelCheckerAutomata(support_plural=False)\n",
    "validated_simple_labels = simple_automata.get_valid_labels(all_labels)\n",
    "    \n",
    "total = len(all_labels)\n",
    "valid_simple = sum(validated_simple_labels.values())\n",
    "print('Total number of labels', total)\n",
    "print('Valid labels without plural', valid_simple)\n",
    "print('Invalid labels', total - valid_simple)\n"
   ]
  },
  {
   "cell_type": "markdown",
   "id": "ca3c38c1",
   "metadata": {},
   "source": [
    "# How big is your dataset with/out the plural?"
   ]
  },
  {
   "cell_type": "code",
   "execution_count": 63,
   "id": "691088b3",
   "metadata": {},
   "outputs": [
    {
     "name": "stdout",
     "output_type": "stream",
     "text": [
      "Valid labels with plural automata 356\n",
      "Valid labels with simple automata 229\n",
      "Valid plural labels only 127\n"
     ]
    }
   ],
   "source": [
    "print('Valid labels with plural automata', valid_plural)\n",
    "print('Valid labels with simple automata', valid_simple)\n",
    "print('Valid plural labels only', valid_plural - valid_simple)\n"
   ]
  },
  {
   "cell_type": "code",
   "execution_count": 64,
   "id": "d5d20a0b",
   "metadata": {},
   "outputs": [
    {
     "name": "stdout",
     "output_type": "stream",
     "text": [
      "127\n"
     ]
    },
    {
     "data": {
      "text/plain": [
       "['G A 3 hares salient',\n",
       " 'B O 3 fleurs-de-lis',\n",
       " \"G A 3 lion's heads cr.\",\n",
       " 'B OA 3 fleurs-de-lis & border',\n",
       " 'B OG 3 fleurs-de-lis & bend',\n",
       " 'A S 3 lions',\n",
       " 'A GOO chief ch. 2 roses & border',\n",
       " 'O B 3 lions passt guard',\n",
       " 'O GX AG 3 bars & border checky',\n",
       " 'O GB 3 bars & border',\n",
       " 'G A branch with 3 oak leaves erect',\n",
       " 'B O 4 chevrons',\n",
       " 'B O 5 eagles',\n",
       " 'A GB fess betw 3 eagles',\n",
       " 'A S 3 bars',\n",
       " 'A G 3 roses',\n",
       " 'G S 3 bugle-horns in pale',\n",
       " 'G AO 3 dices acc. mount',\n",
       " 'O G 2 lions passt guard',\n",
       " 'S O 3 estoiles',\n",
       " 'G A 3 eagles',\n",
       " 'O B 3 escutcheons',\n",
       " 'G A 2 wings',\n",
       " 'B A 2 wings',\n",
       " 'G A 2 bars dancetty',\n",
       " 'B A 2 crescents addorsed',\n",
       " 'O X SG 2 wings',\n",
       " 'O X AG 2 bars checky',\n",
       " 'G A 2 bars',\n",
       " 'S AA 6 fleurs-de-lis & chief',\n",
       " 'A S 3 cocks',\n",
       " 'O S 2 wings',\n",
       " 'B AO fess betw 3 mullets',\n",
       " 'B A 3 cocks',\n",
       " 'O S 3 lions passt guard',\n",
       " 'B AA 2 bars & chief',\n",
       " 'A G 3 chevrons',\n",
       " 'A G 2 lions passt guard cr.',\n",
       " 'S A 3 fleurs-de-lis',\n",
       " 'S A 2 crescents addorsed',\n",
       " 'A SA fess ch. 3 fish',\n",
       " 'A GV 3 roses slipped',\n",
       " 'O S 2 eagles in pale',\n",
       " 'B AO cross acc. 4 fleurs-de-lis',\n",
       " 'B GO cross acc. 4 fleurs-de-lis',\n",
       " 'S AO cross acc. 4 fleurs-de-lis',\n",
       " 'E G 3 chevrons',\n",
       " 'G E 3 chevrons',\n",
       " 'G O 3 mullets',\n",
       " 'A G 3 hands',\n",
       " 'A GG cross acc. 4 lions',\n",
       " 'A SS chevron betw 3 martlets',\n",
       " 'O GG fess acc. 6 martlets',\n",
       " 'O G 2 bars undy',\n",
       " 'O S 3 chevrons',\n",
       " 'A GG 3 chevrons & chief',\n",
       " \"O S 3 lion's heads cr.\",\n",
       " 'B AG cross ch. 5 crescents',\n",
       " 'A G 3 eagles',\n",
       " 'A S 3 escutcheons',\n",
       " 'G A 3 chevrons',\n",
       " 'A B 3 chevrons',\n",
       " 'O S 3 estoiles',\n",
       " 'B O 3 lions',\n",
       " 'G O 2 lions passt guard',\n",
       " 'O G 3 chevrons',\n",
       " 'G OO 2 bars acc. orle of martlets',\n",
       " 'O G 3 hands',\n",
       " 'O S 6 boars',\n",
       " 'G O 2 bars',\n",
       " 'G O 3 chevrons',\n",
       " 'A G 7 bars',\n",
       " 'G O 3 lions',\n",
       " 'B OG 3 fleurs-de-lis & border',\n",
       " 'A S 3 marmites',\n",
       " 'B O 3 blackbirds',\n",
       " 'B O 2 bars',\n",
       " 'O G 3 lions',\n",
       " 'S O 2 lions passt guard',\n",
       " \"B A 3 ram's faces\",\n",
       " 'O GB chevron betw 3 eagles',\n",
       " 'B OO 3 fleurs-de-lis & chief',\n",
       " 'O G 2 lions passt',\n",
       " 'O GG 2 bars undy acc. orle of martlets',\n",
       " 'G A 3 lions',\n",
       " 'S A 6 horseshoes',\n",
       " 'A G 3 escutcheons',\n",
       " 'G AB cross ch. 5 crescents',\n",
       " 'O G 2 bars',\n",
       " 'B O 3 bars undy',\n",
       " 'O G 3 fleurs-de-lis',\n",
       " 'A X OG 3 bars checky',\n",
       " \"A SG chevron betw 3 boar's heads\",\n",
       " 'A BO fess ch. 3 mullets',\n",
       " \"B A 3 bear's heads\",\n",
       " \"O XG AB chevron checky acc. 3 boar's heads\",\n",
       " 'A SA chevron ch. 3 mullets',\n",
       " \"B O 3 leopard's heads\",\n",
       " 'G AG chevron ch. 2 lions and rose',\n",
       " 'A SS chevron betw 3 fleurs-de-lis',\n",
       " 'A G 6 roses',\n",
       " \"A SG chevron betw 3 leopard's heads\",\n",
       " \"A S 3 stag's faces\",\n",
       " 'A V 2 lions passt',\n",
       " 'A GGO 2 bars gemelles & chief ch. lion passt',\n",
       " \"A GS chevron betw 3 boar's heads\",\n",
       " 'A SS 2 fish in saltire & border engrailed',\n",
       " \"A G 2 bear's heads addorsed\",\n",
       " 'G OB 3 lions & border engrailed',\n",
       " 'O G 2 lions passt cr.',\n",
       " 'A GO 3 chevrons & border',\n",
       " 'G OBO 3 lions passt guard & border flory',\n",
       " 'A G 2 bars',\n",
       " 'A S 2 bars dancetty',\n",
       " 'A BG lion cr. & 2 bars',\n",
       " 'A OG fess ch. 3 pales undy',\n",
       " 'A GG fess betw 3 fleurs-de-lis',\n",
       " 'G OS chevron ch. 3 eagles',\n",
       " 'B OA 3 mullets & chief',\n",
       " 'A G 2 lions rampant addorsed',\n",
       " 'B O 3 escutcheons',\n",
       " \"S AA fess acc. 3 lion's heads cr.\",\n",
       " 'S A 3 eagles',\n",
       " 'O GG fess betw 2 chevrons',\n",
       " 'G A 2 lions passt',\n",
       " 'A B 2 bars',\n",
       " 'A GOA chief ch. fleur-de-lis betw 2 mullets']"
      ]
     },
     "execution_count": 64,
     "metadata": {},
     "output_type": "execute_result"
    }
   ],
   "source": [
    "pl_labels = pl_automata.get_valid_plural_labels(all_labels)\n",
    "print(len(pl_labels))\n",
    "pl_labels"
   ]
  },
  {
   "cell_type": "code",
   "execution_count": null,
   "id": "719c4e4d",
   "metadata": {},
   "outputs": [],
   "source": []
  },
  {
   "cell_type": "markdown",
   "id": "22d40189",
   "metadata": {},
   "source": [
    "# How big is your dataset with the border? - Plural"
   ]
  },
  {
   "cell_type": "code",
   "execution_count": 66,
   "id": "ac80e934",
   "metadata": {},
   "outputs": [
    {
     "name": "stdout",
     "output_type": "stream",
     "text": [
      "21\n"
     ]
    },
    {
     "data": {
      "text/plain": [
       "['B OA 3 fleurs-de-lis & border',\n",
       " 'B OO cross & border',\n",
       " 'A GOO chief ch. 2 roses & border',\n",
       " 'O GX AG 3 bars & border checky',\n",
       " 'O GB 3 bars & border',\n",
       " 'O GZ eagle & border',\n",
       " 'O SX AG saltire & border compony',\n",
       " 'S AO lion chained cr. & border',\n",
       " 'G AO rose & border',\n",
       " 'G AB fess & border',\n",
       " 'G AO eagle & border',\n",
       " 'A VG fess & border',\n",
       " 'B OG 3 fleurs-de-lis & border',\n",
       " 'A GSO lion & border roundely',\n",
       " 'O SBO cross & border flory',\n",
       " 'A SB saltire & border',\n",
       " 'A SS 2 fish in saltire & border engrailed',\n",
       " 'G OB 3 lions & border engrailed',\n",
       " 'A GO 3 chevrons & border',\n",
       " 'G OBO 3 lions passt guard & border flory',\n",
       " 'A GX OB saltire & border compony undy']"
      ]
     },
     "execution_count": 66,
     "metadata": {},
     "output_type": "execute_result"
    }
   ],
   "source": [
    "b_labels = pl_automata.get_valid_labels_of(all_labels, 'border')\n",
    "print(len(b_labels))\n",
    "b_labels"
   ]
  },
  {
   "cell_type": "markdown",
   "id": "f0024b17",
   "metadata": {},
   "source": [
    "# How big is your dataset with the border? - Simple"
   ]
  },
  {
   "cell_type": "code",
   "execution_count": 67,
   "id": "10195e29",
   "metadata": {},
   "outputs": [
    {
     "name": "stdout",
     "output_type": "stream",
     "text": [
      "12\n"
     ]
    },
    {
     "data": {
      "text/plain": [
       "['B OO cross & border',\n",
       " 'O GZ eagle & border',\n",
       " 'O SX AG saltire & border compony',\n",
       " 'S AO lion chained cr. & border',\n",
       " 'G AO rose & border',\n",
       " 'G AB fess & border',\n",
       " 'G AO eagle & border',\n",
       " 'A VG fess & border',\n",
       " 'A GSO lion & border roundely',\n",
       " 'O SBO cross & border flory',\n",
       " 'A SB saltire & border',\n",
       " 'A GX OB saltire & border compony undy']"
      ]
     },
     "execution_count": 67,
     "metadata": {},
     "output_type": "execute_result"
    }
   ],
   "source": [
    "b_labels = simple_automata.get_valid_labels_of(all_labels, 'border')\n",
    "print(len(b_labels))\n",
    "b_labels"
   ]
  },
  {
   "cell_type": "markdown",
   "id": "cc52c6bb",
   "metadata": {},
   "source": [
    "# get simple valid labels with lion"
   ]
  },
  {
   "cell_type": "code",
   "execution_count": 68,
   "id": "f12b04ff",
   "metadata": {},
   "outputs": [
    {
     "name": "stdout",
     "output_type": "stream",
     "text": [
      "45\n"
     ]
    },
    {
     "data": {
      "text/plain": [
       "['O GO lion guard ch. cross',\n",
       " 'O S lion rampant',\n",
       " 'O G lion rampant',\n",
       " 'B A lion cr.',\n",
       " 'A G lion rampant',\n",
       " 'S AO lion chained cr. & border',\n",
       " 'G BA chief ch. lion isst',\n",
       " 'A GO lion roundely',\n",
       " \"A G lion's head\",\n",
       " 'A GB lion acc. fess',\n",
       " 'A GO chief indented ch. lion passt guard',\n",
       " 'O G lion guard',\n",
       " 'A SG lion acc. fess',\n",
       " 'S X AO lion hooded',\n",
       " 'O X GB lion hooded',\n",
       " 'G AB chief ch. lion isst',\n",
       " 'O GZ lion & chief',\n",
       " 'B O lion rampant',\n",
       " 'G A lion rampant',\n",
       " 'B GO lion & chief',\n",
       " 'O Z lion cr.',\n",
       " 'A S lion rampant',\n",
       " 'O B lion rampant',\n",
       " 'A GS fess acc. lion isst',\n",
       " 'G E lion cr.',\n",
       " 'A B lion rampant',\n",
       " 'G O lion rampant',\n",
       " 'S A lion cr.',\n",
       " 'A S lion passt',\n",
       " 'O S lion cr.',\n",
       " 'G O lion passt guard',\n",
       " 'A GSO lion & border roundely',\n",
       " 'O V lion passt',\n",
       " 'A G lion cr.',\n",
       " 'G A lion cr.',\n",
       " 'B A lion rampant',\n",
       " 'O SX EG lion acc. bend compony',\n",
       " 'S AG lion acc. bend engrailed',\n",
       " 'O G lion cr.',\n",
       " 'O GA chief ch. lion passt',\n",
       " 'S O lion rampant',\n",
       " 'V O lion rampant',\n",
       " 'B G lion passt',\n",
       " 'G A lion passt guard',\n",
       " 'S A lion rampant']"
      ]
     },
     "execution_count": 68,
     "metadata": {},
     "output_type": "execute_result"
    }
   ],
   "source": [
    "lion_labels = simple_automata.get_valid_labels_of(all_labels, 'lion')\n",
    "print(len(lion_labels))\n",
    "lion_labels"
   ]
  },
  {
   "cell_type": "code",
   "execution_count": 22,
   "id": "b29e73e6",
   "metadata": {},
   "outputs": [],
   "source": [
    "# checking the Armoria API manually\n",
    "    \n",
    "LION_MODIFIERS_MAP = {\n",
    "    'lion passt': 'lionPassant',\n",
    "    'lion passt guard': 'lionPassantGuardant',\n",
    "    'lion rampant': 'lionRampant',\n",
    "    \"lion's head\": 'lionHeadCaboshed'\n",
    "}\n",
    "\n"
   ]
  },
  {
   "cell_type": "markdown",
   "id": "69ff0e50",
   "metadata": {},
   "source": [
    "# get simple valid labels with cross"
   ]
  },
  {
   "cell_type": "code",
   "execution_count": 23,
   "id": "d079f127",
   "metadata": {},
   "outputs": [
    {
     "name": "stdout",
     "output_type": "stream",
     "text": [
      "26\n"
     ]
    },
    {
     "data": {
      "text/plain": [
       "['O GO lion guard ch. cross',\n",
       " 'B OO cross & border',\n",
       " 'S O cross moline',\n",
       " 'G O cross patonce',\n",
       " 'B A cross',\n",
       " 'A G cross moline',\n",
       " 'G A cross',\n",
       " 'O G cross engrailed',\n",
       " 'A G cross patonce',\n",
       " 'S A cross moline',\n",
       " 'A X AG cross moline vairy',\n",
       " 'B O cross',\n",
       " 'S O cross engrailed',\n",
       " 'O V cross moline',\n",
       " 'O V cross',\n",
       " 'A G cross',\n",
       " 'B AO escutcheon acc. orle of cross crosslets',\n",
       " 'G O cross moline',\n",
       " 'G Z cross moline',\n",
       " 'A B cross',\n",
       " 'O SBO cross & border flory',\n",
       " 'G E cross',\n",
       " 'A G cross engrailed',\n",
       " 'O S cross engrailed',\n",
       " 'S A cross engrailed',\n",
       " 'O G cross']"
      ]
     },
     "execution_count": 23,
     "metadata": {},
     "output_type": "execute_result"
    }
   ],
   "source": [
    "cross_labels = simple_automata.get_valid_labels_of(all_labels, 'cross')\n",
    "print(len(cross_labels))\n",
    "cross_labels"
   ]
  },
  {
   "cell_type": "code",
   "execution_count": 31,
   "id": "2b8c922d",
   "metadata": {},
   "outputs": [],
   "source": [
    "# checking the Armoria API manually\n",
    "    \n",
    "CROSS_MODIFIERS_MAP = {\n",
    "    'cross': 'crossHummetty' ,\n",
    "    'cross moline': 'crossMoline',\n",
    "    'cross patonce': 'crossPatonce',\n",
    "}\n",
    "\n"
   ]
  },
  {
   "cell_type": "markdown",
   "id": "c321f58f",
   "metadata": {},
   "source": [
    "# get simple valid labels with eagle"
   ]
  },
  {
   "cell_type": "code",
   "execution_count": 32,
   "id": "97307f52",
   "metadata": {},
   "outputs": [
    {
     "name": "stdout",
     "output_type": "stream",
     "text": [
      "26\n"
     ]
    },
    {
     "data": {
      "text/plain": [
       "['O G eagle',\n",
       " 'B A eagle',\n",
       " 'O GZ eagle & border',\n",
       " 'O BG eagle ch. crescent',\n",
       " 'O BX AG eagle ch. crescent checky',\n",
       " \"O S eagle's head\",\n",
       " 'O SA eagle ch. crescent',\n",
       " 'G AO eagle ch. crescent',\n",
       " \"A G dragon with eagle's wings\",\n",
       " 'B O eagle',\n",
       " 'G A eagle',\n",
       " 'B O eagle cr.',\n",
       " 'A GO eagle ch. crescent',\n",
       " 'S A eagle',\n",
       " 'G AO eagle & border',\n",
       " 'O S eagle',\n",
       " 'O GZ eagle doubleheaded cr. & chief',\n",
       " 'O S eagle doubleheaded',\n",
       " 'G O eagle',\n",
       " 'A G eagle doubleheaded',\n",
       " 'A SG eagle doubleheaded & bend',\n",
       " 'O BG eagle & bend',\n",
       " 'G A eagle cr.',\n",
       " 'S AO eagle ch. crescent',\n",
       " 'A S eagle',\n",
       " 'A B eagle doubleheaded']"
      ]
     },
     "execution_count": 32,
     "metadata": {},
     "output_type": "execute_result"
    }
   ],
   "source": [
    "eagle_labels = simple_automata.get_valid_labels_of(all_labels, 'eagle')\n",
    "print(len(eagle_labels))\n",
    "eagle_labels"
   ]
  },
  {
   "cell_type": "code",
   "execution_count": 33,
   "id": "71f6ebba",
   "metadata": {},
   "outputs": [],
   "source": [
    "# checking the Armoria API manually\n",
    "    \n",
    "EAGLE_MODIFIERS_MAP = {\n",
    "    'eagle': 'eagle' ,\n",
    "    'eagle doubleheaded': 'eagleTwoHeards',\n",
    "}\n",
    "\n"
   ]
  },
  {
   "cell_type": "code",
   "execution_count": 34,
   "id": "d1c6b929",
   "metadata": {},
   "outputs": [
    {
     "name": "stdout",
     "output_type": "stream",
     "text": [
      "0\n"
     ]
    },
    {
     "data": {
      "text/plain": [
       "[]"
      ]
     },
     "execution_count": 34,
     "metadata": {},
     "output_type": "execute_result"
    }
   ],
   "source": [
    "labels = simple_automata.get_valid_labels_of(all_labels, 'per pale')\n",
    "print(len(labels))\n",
    "labels"
   ]
  },
  {
   "cell_type": "code",
   "execution_count": null,
   "id": "da439184",
   "metadata": {},
   "outputs": [],
   "source": []
  },
  {
   "cell_type": "code",
   "execution_count": null,
   "id": "ef98d1d6",
   "metadata": {},
   "outputs": [],
   "source": []
  }
 ],
 "metadata": {
  "kernelspec": {
   "display_name": "Python 3 (ipykernel)",
   "language": "python",
   "name": "python3"
  },
  "language_info": {
   "codemirror_mode": {
    "name": "ipython",
    "version": 3
   },
   "file_extension": ".py",
   "mimetype": "text/x-python",
   "name": "python",
   "nbconvert_exporter": "python",
   "pygments_lexer": "ipython3",
   "version": "3.8.12"
  },
  "toc": {
   "base_numbering": 1,
   "nav_menu": {},
   "number_sections": true,
   "sideBar": true,
   "skip_h1_title": false,
   "title_cell": "Table of Contents",
   "title_sidebar": "Contents",
   "toc_cell": false,
   "toc_position": {},
   "toc_section_display": true,
   "toc_window_display": false
  }
 },
 "nbformat": 4,
 "nbformat_minor": 5
}
