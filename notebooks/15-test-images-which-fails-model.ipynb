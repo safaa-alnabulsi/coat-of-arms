{
 "cells": [
  {
   "cell_type": "code",
   "execution_count": 1,
   "id": "cf45c3b8",
   "metadata": {},
   "outputs": [],
   "source": [
    "# auto-load when code changes outside\n",
    "%load_ext autoreload\n",
    "%autoreload 2\n",
    "%load_ext pyinstrument\n",
    "\n",
    "import sys\n",
    "sys.path.insert(0,'..')\n"
   ]
  },
  {
   "cell_type": "code",
   "execution_count": 57,
   "id": "6b7cb44f",
   "metadata": {},
   "outputs": [],
   "source": [
    "import matplotlib.pyplot as plt\n",
    "import matplotlib.image as mpimg\n",
    "from PIL import Image\n",
    "from src.baseline.coa_model import load_model,plot_attention,get_training_mean_std,init_testing_model, get_caps_from, predict_image\n",
    "import torch\n",
    "from src.baseline.vocabulary import Vocabulary\n"
   ]
  },
  {
   "cell_type": "code",
   "execution_count": 58,
   "id": "015ae2b0",
   "metadata": {},
   "outputs": [
    {
     "ename": "NameError",
     "evalue": "name 'img_location' is not defined",
     "output_type": "error",
     "traceback": [
      "\u001b[0;31m---------------------------------------------------------------------------\u001b[0m",
      "\u001b[0;31mNameError\u001b[0m                                 Traceback (most recent call last)",
      "\u001b[0;32m/tmp/ipykernel_3854194/530039234.py\u001b[0m in \u001b[0;36m<module>\u001b[0;34m\u001b[0m\n\u001b[1;32m      4\u001b[0m \u001b[0mtest_caption_file\u001b[0m \u001b[0;34m=\u001b[0m \u001b[0mdata_location\u001b[0m \u001b[0;34m+\u001b[0m \u001b[0;34m'/test_captions_psumsq.txt'\u001b[0m\u001b[0;34m\u001b[0m\u001b[0;34m\u001b[0m\u001b[0m\n\u001b[1;32m      5\u001b[0m \u001b[0;34m\u001b[0m\u001b[0m\n\u001b[0;32m----> 6\u001b[0;31m \u001b[0mproblem_img\u001b[0m \u001b[0;34m=\u001b[0m \u001b[0mImage\u001b[0m\u001b[0;34m.\u001b[0m\u001b[0mopen\u001b[0m\u001b[0;34m(\u001b[0m\u001b[0mimg_location\u001b[0m\u001b[0;34m)\u001b[0m\u001b[0;34m.\u001b[0m\u001b[0mconvert\u001b[0m\u001b[0;34m(\u001b[0m\u001b[0;34m\"RGB\"\u001b[0m\u001b[0;34m)\u001b[0m\u001b[0;34m\u001b[0m\u001b[0;34m\u001b[0m\u001b[0m\n\u001b[0m\u001b[1;32m      7\u001b[0m \u001b[0;34m\u001b[0m\u001b[0m\n\u001b[1;32m      8\u001b[0m \u001b[0;31m# print(problem_img.shape)\u001b[0m\u001b[0;34m\u001b[0m\u001b[0;34m\u001b[0m\u001b[0;34m\u001b[0m\u001b[0m\n",
      "\u001b[0;31mNameError\u001b[0m: name 'img_location' is not defined"
     ]
    }
   ],
   "source": [
    "data_location = '/home/space/datasets/COA/generated-data-api-single-and-plural/'\n",
    "root_folder_images = data_location + '/res_images/'\n",
    "image_path = root_folder_images + '/image_940.png'\n",
    "test_caption_file = data_location + '/test_captions_psumsq.txt'\n",
    "\n",
    "problem_img = Image.open(img_location).convert(\"RGB\")\n",
    "\n",
    "# print(problem_img.shape)\n",
    "plt.imshow(problem_img)\n",
    "plt.show()\n"
   ]
  },
  {
   "cell_type": "code",
   "execution_count": 50,
   "id": "773768a7",
   "metadata": {},
   "outputs": [
    {
     "data": {
      "text/plain": [
       "torch.Size([3, 100, 100])"
      ]
     },
     "execution_count": 50,
     "metadata": {},
     "output_type": "execute_result"
    }
   ],
   "source": [
    "import torchvision.transforms as T\n",
    "\n",
    "trans = T.Compose([\n",
    "    T.Resize(226),                     \n",
    "    T.RandomCrop(224),                 \n",
    "    T.ToTensor(),                               \n",
    "    T.Normalize(mean, std) \n",
    "])\n",
    "\n",
    "trans = T.ToTensor()\n",
    "img_t = trans(problem_img)\n",
    "img_t.shape"
   ]
  },
  {
   "cell_type": "code",
   "execution_count": 13,
   "id": "c1ef433a",
   "metadata": {},
   "outputs": [
    {
     "data": {
      "text/plain": [
       "'/home/space/datasets/COA/experiments/run-09-26-2022-11:55:29/'"
      ]
     },
     "execution_count": 13,
     "metadata": {},
     "output_type": "execute_result"
    }
   ],
   "source": [
    "\n",
    "# Hyperparams\n",
    "\n",
    "embed_size=300\n",
    "vocab_size = 36\n",
    "attention_dim=256\n",
    "encoder_dim=512  ### resnet34 & resnet18\n",
    "decoder_dim=512\n",
    "learning_rate = 3e-4\n",
    "drop_prob=0.3\n",
    "ignored_idx = 0\n",
    "\n",
    "device = torch.device(\"cuda:0\" if torch.cuda.is_available() else \"cpu\")\n",
    "\n",
    "# BATCH_SIZE = 5\n",
    "NUM_WORKER = 2 #### this needs multi-core\n",
    "freq_threshold = 5\n",
    "batch_size = 1\n",
    "\n",
    "# 30 minutes to create those, as it's baseline, i ran it several times and it's the same\n",
    "vocab = Vocabulary(freq_threshold)\n",
    "vocab.stoi = {'<PAD>': 0, '<SOS>': 1, '<EOS>': 2, '<UNK>': 3, 'lion': 4, 'rampant': 5, 'passt': 6, 'guard': 7, 'head': 8, 'lions': 9, 'cross': 10, 'moline': 11, 'patonce': 12, 'eagle': 13, 'doubleheaded': 14, 'eagles': 15, 'a': 16, 'b': 17, 'o': 18, 's': 19, 'g': 20, 'e': 21, 'v': 22, '1': 23, '2': 24, '3': 25, '4': 26, '5': 27, '6': 28, '7': 29, '8': 30, '9': 31, '10': 32, '11': 33, 'border': 34, '&': 35}\n",
    "vocab.itos = {0: '<PAD>', 1: '<SOS>', 2: '<EOS>', 3: '<UNK>', 4: 'lion', 5: 'rampant', 6: 'passt', 7: 'guard', 8: 'head', 9: 'lions', 10: 'cross', 11: 'moline', 12: 'patonce', 13: 'eagle', 14: 'doubleheaded', 15: 'eagles', 16: 'a', 17: 'b', 18: 'o', 19: 's', 20: 'g', 21: 'e', 22: 'v', 23: '1', 24: '2', 25: '3', 26: '4', 27: '5', 28: '6', 29: '7', 30: '8', 31: '9', 32: '10', 33: '11', 34: 'border', 35: '&'}\n",
    "\n",
    "\n",
    "hyper_params = {'embed_size': embed_size,\n",
    "                'attention_dim': attention_dim,\n",
    "                'encoder_dim': encoder_dim,\n",
    "                'decoder_dim': decoder_dim,\n",
    "                'vocab_size': vocab_size\n",
    "              }\n",
    "\n",
    "\n",
    "EXP_FOLDER_PATH = '/home/space/datasets/COA/experiments/' \n",
    "run_path   = EXP_FOLDER_PATH + 'run-09-26-2022-11:55:29/'\n",
    "model_file = 'baseline-model-09-26-2022-12:02:27.pth'\n",
    "\n",
    "run_path"
   ]
  },
  {
   "cell_type": "code",
   "execution_count": 14,
   "id": "3ea6f257",
   "metadata": {},
   "outputs": [
    {
     "data": {
      "text/plain": [
       "EncoderDecoder(\n",
       "  (encoder): EncoderCNN(\n",
       "    (resnet): Sequential(\n",
       "      (0): Conv2d(3, 64, kernel_size=(7, 7), stride=(2, 2), padding=(3, 3), bias=False)\n",
       "      (1): BatchNorm2d(64, eps=1e-05, momentum=0.1, affine=True, track_running_stats=True)\n",
       "      (2): ReLU(inplace=True)\n",
       "      (3): MaxPool2d(kernel_size=3, stride=2, padding=1, dilation=1, ceil_mode=False)\n",
       "      (4): Sequential(\n",
       "        (0): BasicBlock(\n",
       "          (conv1): Conv2d(64, 64, kernel_size=(3, 3), stride=(1, 1), padding=(1, 1), bias=False)\n",
       "          (bn1): BatchNorm2d(64, eps=1e-05, momentum=0.1, affine=True, track_running_stats=True)\n",
       "          (relu): ReLU(inplace=True)\n",
       "          (conv2): Conv2d(64, 64, kernel_size=(3, 3), stride=(1, 1), padding=(1, 1), bias=False)\n",
       "          (bn2): BatchNorm2d(64, eps=1e-05, momentum=0.1, affine=True, track_running_stats=True)\n",
       "        )\n",
       "        (1): BasicBlock(\n",
       "          (conv1): Conv2d(64, 64, kernel_size=(3, 3), stride=(1, 1), padding=(1, 1), bias=False)\n",
       "          (bn1): BatchNorm2d(64, eps=1e-05, momentum=0.1, affine=True, track_running_stats=True)\n",
       "          (relu): ReLU(inplace=True)\n",
       "          (conv2): Conv2d(64, 64, kernel_size=(3, 3), stride=(1, 1), padding=(1, 1), bias=False)\n",
       "          (bn2): BatchNorm2d(64, eps=1e-05, momentum=0.1, affine=True, track_running_stats=True)\n",
       "        )\n",
       "      )\n",
       "      (5): Sequential(\n",
       "        (0): BasicBlock(\n",
       "          (conv1): Conv2d(64, 128, kernel_size=(3, 3), stride=(2, 2), padding=(1, 1), bias=False)\n",
       "          (bn1): BatchNorm2d(128, eps=1e-05, momentum=0.1, affine=True, track_running_stats=True)\n",
       "          (relu): ReLU(inplace=True)\n",
       "          (conv2): Conv2d(128, 128, kernel_size=(3, 3), stride=(1, 1), padding=(1, 1), bias=False)\n",
       "          (bn2): BatchNorm2d(128, eps=1e-05, momentum=0.1, affine=True, track_running_stats=True)\n",
       "          (downsample): Sequential(\n",
       "            (0): Conv2d(64, 128, kernel_size=(1, 1), stride=(2, 2), bias=False)\n",
       "            (1): BatchNorm2d(128, eps=1e-05, momentum=0.1, affine=True, track_running_stats=True)\n",
       "          )\n",
       "        )\n",
       "        (1): BasicBlock(\n",
       "          (conv1): Conv2d(128, 128, kernel_size=(3, 3), stride=(1, 1), padding=(1, 1), bias=False)\n",
       "          (bn1): BatchNorm2d(128, eps=1e-05, momentum=0.1, affine=True, track_running_stats=True)\n",
       "          (relu): ReLU(inplace=True)\n",
       "          (conv2): Conv2d(128, 128, kernel_size=(3, 3), stride=(1, 1), padding=(1, 1), bias=False)\n",
       "          (bn2): BatchNorm2d(128, eps=1e-05, momentum=0.1, affine=True, track_running_stats=True)\n",
       "        )\n",
       "      )\n",
       "      (6): Sequential(\n",
       "        (0): BasicBlock(\n",
       "          (conv1): Conv2d(128, 256, kernel_size=(3, 3), stride=(2, 2), padding=(1, 1), bias=False)\n",
       "          (bn1): BatchNorm2d(256, eps=1e-05, momentum=0.1, affine=True, track_running_stats=True)\n",
       "          (relu): ReLU(inplace=True)\n",
       "          (conv2): Conv2d(256, 256, kernel_size=(3, 3), stride=(1, 1), padding=(1, 1), bias=False)\n",
       "          (bn2): BatchNorm2d(256, eps=1e-05, momentum=0.1, affine=True, track_running_stats=True)\n",
       "          (downsample): Sequential(\n",
       "            (0): Conv2d(128, 256, kernel_size=(1, 1), stride=(2, 2), bias=False)\n",
       "            (1): BatchNorm2d(256, eps=1e-05, momentum=0.1, affine=True, track_running_stats=True)\n",
       "          )\n",
       "        )\n",
       "        (1): BasicBlock(\n",
       "          (conv1): Conv2d(256, 256, kernel_size=(3, 3), stride=(1, 1), padding=(1, 1), bias=False)\n",
       "          (bn1): BatchNorm2d(256, eps=1e-05, momentum=0.1, affine=True, track_running_stats=True)\n",
       "          (relu): ReLU(inplace=True)\n",
       "          (conv2): Conv2d(256, 256, kernel_size=(3, 3), stride=(1, 1), padding=(1, 1), bias=False)\n",
       "          (bn2): BatchNorm2d(256, eps=1e-05, momentum=0.1, affine=True, track_running_stats=True)\n",
       "        )\n",
       "      )\n",
       "      (7): Sequential(\n",
       "        (0): BasicBlock(\n",
       "          (conv1): Conv2d(256, 512, kernel_size=(3, 3), stride=(2, 2), padding=(1, 1), bias=False)\n",
       "          (bn1): BatchNorm2d(512, eps=1e-05, momentum=0.1, affine=True, track_running_stats=True)\n",
       "          (relu): ReLU(inplace=True)\n",
       "          (conv2): Conv2d(512, 512, kernel_size=(3, 3), stride=(1, 1), padding=(1, 1), bias=False)\n",
       "          (bn2): BatchNorm2d(512, eps=1e-05, momentum=0.1, affine=True, track_running_stats=True)\n",
       "          (downsample): Sequential(\n",
       "            (0): Conv2d(256, 512, kernel_size=(1, 1), stride=(2, 2), bias=False)\n",
       "            (1): BatchNorm2d(512, eps=1e-05, momentum=0.1, affine=True, track_running_stats=True)\n",
       "          )\n",
       "        )\n",
       "        (1): BasicBlock(\n",
       "          (conv1): Conv2d(512, 512, kernel_size=(3, 3), stride=(1, 1), padding=(1, 1), bias=False)\n",
       "          (bn1): BatchNorm2d(512, eps=1e-05, momentum=0.1, affine=True, track_running_stats=True)\n",
       "          (relu): ReLU(inplace=True)\n",
       "          (conv2): Conv2d(512, 512, kernel_size=(3, 3), stride=(1, 1), padding=(1, 1), bias=False)\n",
       "          (bn2): BatchNorm2d(512, eps=1e-05, momentum=0.1, affine=True, track_running_stats=True)\n",
       "        )\n",
       "      )\n",
       "    )\n",
       "  )\n",
       "  (decoder): DecoderRNN(\n",
       "    (embedding): Embedding(36, 300)\n",
       "    (attention): Attention(\n",
       "      (W): Linear(in_features=512, out_features=256, bias=True)\n",
       "      (U): Linear(in_features=512, out_features=256, bias=True)\n",
       "      (A): Linear(in_features=256, out_features=1, bias=True)\n",
       "    )\n",
       "    (init_h): Linear(in_features=512, out_features=512, bias=True)\n",
       "    (init_c): Linear(in_features=512, out_features=512, bias=True)\n",
       "    (lstm_cell): LSTMCell(812, 512)\n",
       "    (f_beta): Linear(in_features=512, out_features=512, bias=True)\n",
       "    (fcn): Linear(in_features=512, out_features=36, bias=True)\n",
       "    (drop): Dropout(p=0.3, inplace=False)\n",
       "  )\n",
       ")"
      ]
     },
     "execution_count": 14,
     "metadata": {},
     "output_type": "execute_result"
    }
   ],
   "source": [
    "\n",
    "model, optimizer, loss, criterion = load_model(run_path+model_file, \n",
    "                                    hyper_params, \n",
    "                                    learning_rate,\n",
    "                                    drop_prob, \n",
    "                                    ignored_idx,\n",
    "                                    pretrained=True)\n",
    "\n",
    "\n",
    "model"
   ]
  },
  {
   "cell_type": "code",
   "execution_count": 15,
   "id": "84ebcb41",
   "metadata": {},
   "outputs": [
    {
     "name": "stdout",
     "output_type": "stream",
     "text": [
      "mean=0.011504699476063251, std=0.08723288774490356\n"
     ]
    },
    {
     "data": {
      "text/plain": [
       "tensor(0.0115)"
      ]
     },
     "execution_count": 15,
     "metadata": {},
     "output_type": "execute_result"
    }
   ],
   "source": [
    "mean, std = get_training_mean_std(run_path)\n",
    "mean"
   ]
  },
  {
   "cell_type": "code",
   "execution_count": 16,
   "id": "f9267ddf",
   "metadata": {},
   "outputs": [
    {
     "data": {
      "text/plain": [
       "<torch.utils.data.dataloader.DataLoader at 0x153dc97846d0>"
      ]
     },
     "execution_count": 16,
     "metadata": {},
     "output_type": "execute_result"
    }
   ],
   "source": [
    "test_loader, test_dataset = init_testing_model(test_caption_file, \n",
    "                                               root_folder_images, \n",
    "                                               mean, std,\n",
    "                                               NUM_WORKER,\n",
    "                                               vocab,\n",
    "                                               batch_size, \n",
    "                                               device, \n",
    "                                               pin_memory=False)\n",
    "test_loader"
   ]
  },
  {
   "cell_type": "code",
   "execution_count": 17,
   "id": "bf5810d2",
   "metadata": {},
   "outputs": [
    {
     "data": {
      "text/plain": [
       "torch.Size([100, 100, 4])"
      ]
     },
     "execution_count": 17,
     "metadata": {},
     "output_type": "execute_result"
    }
   ],
   "source": [
    "problem_img.shape"
   ]
  },
  {
   "cell_type": "code",
   "execution_count": 51,
   "id": "ad750d54",
   "metadata": {},
   "outputs": [
    {
     "data": {
      "text/plain": [
       "torch.Size([1, 3, 100, 100])"
      ]
     },
     "execution_count": 51,
     "metadata": {},
     "output_type": "execute_result"
    }
   ],
   "source": [
    "img_t.unsqueeze(0).shape"
   ]
  },
  {
   "cell_type": "code",
   "execution_count": 55,
   "id": "602d2747",
   "metadata": {},
   "outputs": [
    {
     "data": {
      "image/png": "[encoded data removed]",
      "text/plain": [
       "<Figure size 432x288 with 1 Axes>"
      ]
     },
     "metadata": {
      "needs_background": "light"
     },
     "output_type": "display_data"
    },
    {
     "data": {
      "text/plain": [
       "(['s', 'b', 'cross', '<EOS>'],\n",
       " [array([[0.0625, 0.0625, 0.0625, 0.0625, 0.0625, 0.0625, 0.0625, 0.0625,\n",
       "          0.0625, 0.0625, 0.0625, 0.0625, 0.0625, 0.0625, 0.0625, 0.0625]],\n",
       "        dtype=float32),\n",
       "  array([[0.06187879, 0.04478607, 0.0496937 , 0.07531607, 0.04122118,\n",
       "          0.03730742, 0.04063106, 0.05686457, 0.0367525 , 0.03578689,\n",
       "          0.03990047, 0.05951755, 0.05116389, 0.04476916, 0.0606529 ,\n",
       "          0.26375782]], dtype=float32),\n",
       "  array([[0.06413142, 0.05828461, 0.05860398, 0.06093501, 0.05627972,\n",
       "          0.05690568, 0.05974992, 0.06131566, 0.05790553, 0.05793326,\n",
       "          0.05833821, 0.06665356, 0.05855661, 0.06403877, 0.07122353,\n",
       "          0.08914454]], dtype=float32),\n",
       "  array([[0.06537022, 0.05945706, 0.05977293, 0.06186425, 0.05635006,\n",
       "          0.05541193, 0.05901383, 0.06004809, 0.05792817, 0.05876962,\n",
       "          0.05893802, 0.06475272, 0.05713067, 0.0614735 , 0.07239509,\n",
       "          0.09132382]], dtype=float32)])"
      ]
     },
     "execution_count": 55,
     "metadata": {},
     "output_type": "execute_result"
    }
   ],
   "source": [
    "\n",
    "img = img_t.detach().clone()\n",
    "img1 = img_t.detach().clone()\n",
    "# img.unsqueeze(0): torch.Size([1, 3, 224, 224])\n",
    "caps,alphas = get_caps_from(model, test_dataset, img.unsqueeze(0),device)\n",
    "caps,alphas\n"
   ]
  },
  {
   "cell_type": "code",
   "execution_count": 64,
   "id": "be57bf6a",
   "metadata": {},
   "outputs": [
    {
     "data": {
      "text/plain": [
       "'s b cross'"
      ]
     },
     "execution_count": 64,
     "metadata": {},
     "output_type": "execute_result"
    }
   ],
   "source": [
    "features_tensor = img_t.detach().clone().unsqueeze(0)\n",
    "features = model.encoder(features_tensor.to(device))\n",
    "\n",
    "# predict the caption from the image\n",
    "caps,_ = model.decoder.generate_caption(features, vocab=test_dataset.vocab)   \n",
    "caps = caps[:-1]\n",
    "predicted_caption = ' '.join(caps)\n",
    "\n",
    "predicted_caption"
   ]
  },
  {
   "cell_type": "code",
   "execution_count": null,
   "id": "38789415",
   "metadata": {},
   "outputs": [],
   "source": [
    "plot_attention(img1, caps, alphas)"
   ]
  },
  {
   "cell_type": "code",
   "execution_count": null,
   "id": "9f9f8189",
   "metadata": {},
   "outputs": [],
   "source": []
  },
  {
   "cell_type": "code",
   "execution_count": null,
   "id": "b8396756",
   "metadata": {},
   "outputs": [],
   "source": []
  }
 ],
 "metadata": {
  "kernelspec": {
   "display_name": "Python 3 (ipykernel)",
   "language": "python",
   "name": "python3"
  },
  "language_info": {
   "codemirror_mode": {
    "name": "ipython",
    "version": 3
   },
   "file_extension": ".py",
   "mimetype": "text/x-python",
   "name": "python",
   "nbconvert_exporter": "python",
   "pygments_lexer": "ipython3",
   "version": "3.8.10"
  }
 },
 "nbformat": 4,
 "nbformat_minor": 5
}
