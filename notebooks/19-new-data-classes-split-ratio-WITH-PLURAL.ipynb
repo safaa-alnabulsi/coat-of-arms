{
 "cells": [
  {
   "cell_type": "code",
   "execution_count": 1,
   "id": "25076d27",
   "metadata": {},
   "outputs": [],
   "source": [
    "# auto-load when code changes outside\n",
    "%load_ext autoreload\n",
    "%autoreload 2\n",
    "\n",
    "import sys\n",
    "sys.path.insert(0,'..')\n"
   ]
  },
  {
   "cell_type": "code",
   "execution_count": 2,
   "id": "bf2389a1",
   "metadata": {},
   "outputs": [
    {
     "name": "stderr",
     "output_type": "stream",
     "text": [
      "2023-06-09 11:15:38.778 INFO    numexpr.utils: Note: NumExpr detected 64 cores but \"NUMEXPR_MAX_THREADS\" not set, so enforcing safe limit of 8.\n",
      "2023-06-09 11:15:38.779 INFO    numexpr.utils: NumExpr defaulting to 8 threads.\n"
     ]
    }
   ],
   "source": [
    "import numpy as np\n",
    "import streamlit as st\n",
    "from copy import deepcopy as dc\n",
    "import pandas as pd\n",
    "from pathlib import Path\n",
    "from src.label_checker_automata import LabelCheckerAutomata\n",
    "from src.caption import Caption\n",
    "import src.utils as utils"
   ]
  },
  {
   "cell_type": "code",
   "execution_count": 3,
   "id": "a2f8af5a",
   "metadata": {},
   "outputs": [
    {
     "data": {
      "text/html": [
       "<div>\n",
       "<style scoped>\n",
       "    .dataframe tbody tr th:only-of-type {\n",
       "        vertical-align: middle;\n",
       "    }\n",
       "\n",
       "    .dataframe tbody tr th {\n",
       "        vertical-align: top;\n",
       "    }\n",
       "\n",
       "    .dataframe thead th {\n",
       "        text-align: right;\n",
       "    }\n",
       "</style>\n",
       "<table border=\"1\" class=\"dataframe\">\n",
       "  <thead>\n",
       "    <tr style=\"text-align: right;\">\n",
       "      <th></th>\n",
       "      <th>label</th>\n",
       "    </tr>\n",
       "  </thead>\n",
       "  <tbody>\n",
       "    <tr>\n",
       "      <th>0</th>\n",
       "      <td>S AOGB 3 annulets &amp; chief ch. lion isst &amp; label</td>\n",
       "    </tr>\n",
       "    <tr>\n",
       "      <th>1</th>\n",
       "      <td>G A cross potenty</td>\n",
       "    </tr>\n",
       "    <tr>\n",
       "      <th>2</th>\n",
       "      <td>lion; lion q.f.   {OS; BO}</td>\n",
       "    </tr>\n",
       "    <tr>\n",
       "      <th>3</th>\n",
       "      <td>O B lion rampant</td>\n",
       "    </tr>\n",
       "    <tr>\n",
       "      <th>4</th>\n",
       "      <td>fess; eagle doubleheaded; =; =  {OS, SA}</td>\n",
       "    </tr>\n",
       "    <tr>\n",
       "      <th>...</th>\n",
       "      <td>...</td>\n",
       "    </tr>\n",
       "    <tr>\n",
       "      <th>577</th>\n",
       "      <td>cross; gonfanon; =; =   {GA, AG}</td>\n",
       "    </tr>\n",
       "    <tr>\n",
       "      <th>578</th>\n",
       "      <td>B A lion rampant</td>\n",
       "    </tr>\n",
       "    <tr>\n",
       "      <th>579</th>\n",
       "      <td>A G eagle cr.</td>\n",
       "    </tr>\n",
       "    <tr>\n",
       "      <th>580</th>\n",
       "      <td>G O lion rampant</td>\n",
       "    </tr>\n",
       "    <tr>\n",
       "      <th>581</th>\n",
       "      <td>X S GA cross, papelonny</td>\n",
       "    </tr>\n",
       "  </tbody>\n",
       "</table>\n",
       "<p>582 rows × 1 columns</p>\n",
       "</div>"
      ],
      "text/plain": [
       "                                               label\n",
       "0    S AOGB 3 annulets & chief ch. lion isst & label\n",
       "1                                  G A cross potenty\n",
       "2                         lion; lion q.f.   {OS; BO}\n",
       "3                                   O B lion rampant\n",
       "4           fess; eagle doubleheaded; =; =  {OS, SA}\n",
       "..                                               ...\n",
       "577                 cross; gonfanon; =; =   {GA, AG}\n",
       "578                                 B A lion rampant\n",
       "579                                    A G eagle cr.\n",
       "580                                 G O lion rampant\n",
       "581                          X S GA cross, papelonny\n",
       "\n",
       "[582 rows x 1 columns]"
      ]
     },
     "execution_count": 3,
     "metadata": {},
     "output_type": "execute_result"
    }
   ],
   "source": [
    "data_dir = Path(\"../data/new/images\")\n",
    "\n",
    "labels = []\n",
    "\n",
    "for image_fn in data_dir.iterdir():\n",
    "    if image_fn.suffix == \".jpg\" and not image_fn.name.startswith(\".\"):\n",
    "        labels.append(\"_\".join(image_fn.stem.split(\"_\")[1:]))\n",
    "\n",
    "df = pd.DataFrame.from_dict({\n",
    "    \"label\": labels,\n",
    "})\n",
    "df"
   ]
  },
  {
   "cell_type": "code",
   "execution_count": 20,
   "id": "b8630f8b",
   "metadata": {},
   "outputs": [
    {
     "name": "stdout",
     "output_type": "stream",
     "text": [
      "There are 117 train images\n",
      "There are 39 val images\n",
      "There are 39 test images\n"
     ]
    }
   ],
   "source": [
    "root_folder_images = \"../data/new/\"\n",
    "\n",
    "train_annotation_file = root_folder_images + '/full-train_captions_psumsq.txt'\n",
    "val_annotation_file  = root_folder_images + '/full-val_captions_psumsq.txt'\n",
    "test_annotation_file  = root_folder_images + '/full-test_captions_psumsq.txt'\n",
    "\n",
    "df1 = pd.read_csv(train_annotation_file)\n",
    "print(\"There are {} train images\".format(len(df1)))\n",
    "\n",
    "df2 = pd.read_csv(val_annotation_file)\n",
    "print(\"There are {} val images\".format(len(df2)))\n",
    "\n",
    "df3 = pd.read_csv(test_annotation_file)\n",
    "print(\"There are {} test images\".format(len(df3)))\n"
   ]
  },
  {
   "cell_type": "code",
   "execution_count": 21,
   "id": "5e4d57d1",
   "metadata": {},
   "outputs": [],
   "source": [
    "def count_charges(df):\n",
    "    train_captions = df['caption']\n",
    "    count_lion, count_cross, count_eagle = 0,0,0\n",
    "    count_lions, count_crosses, count_eagles = 0,0,0\n",
    "    \n",
    "    for c in train_captions:\n",
    "        if \"lion\" in c:\n",
    "            count_lion+=1\n",
    "        if \"eagle\" in c:\n",
    "            count_eagle+=1\n",
    "        if \"cross\" in c:\n",
    "            count_cross+=1\n",
    "        \n",
    "        if \"lions\" in c:\n",
    "            count_lions+=1\n",
    "        if \"eagles\" in c:\n",
    "            count_eagles+=1\n",
    "        if \"crosses\" in c:\n",
    "            count_crosses+=1\n",
    "\n",
    "            \n",
    "    print(\"Lion count:\", count_lion) \n",
    "    print(\"Eagle count:\", count_eagle) \n",
    "    print(\"Cross count:\", count_cross)\n",
    "\n",
    "    print(\"Lions count:\", count_lions) \n",
    "    print(\"Eagles count:\", count_eagles) \n",
    "    print(\"Crosses count:\", count_crosses)\n",
    "\n",
    "    print(\"--------------------------------------\")\n",
    "    \n",
    "    print(\"Lion ration:\", round(count_lion/len(train_captions), 2))\n",
    "    print(\"Eagle ration:\", round(count_eagle/len(train_captions), 2)) \n",
    "    print(\"Cross ration:\", round(count_cross/len(train_captions), 2)) \n",
    "\n",
    "    print(\"Lions ration:\", round(count_lions/len(train_captions), 2))\n",
    "    print(\"Eagles ration:\", round(count_eagles/len(train_captions), 2)) \n",
    "    print(\"Crosses ration:\", round(count_crosses/len(train_captions), 2)) \n",
    "\n",
    "    print(\"--------------------------------------\")\n",
    "    \n",
    "    df = pd.DataFrame({'mass': [count_lion, count_eagle, count_cross, count_lions, count_eagles, count_crosses],\n",
    "                   'radius': [2439.7, 6051.8, 6378.1,2439.7, 6051.8, 6378.1]},\n",
    "                  index=['count_lion', 'count_eagle', 'count_cross', 'count_lions', 'count_eagles', 'count_crosses'])\n",
    "    plot = df.plot.pie(y='mass', figsize=(5, 5))\n",
    "        \n",
    "    print(\"--------------------------------------\")\n",
    "\n",
    "    return count_lion, count_eagle, count_cross, count_lions, count_eagles, count_crosses\n"
   ]
  },
  {
   "cell_type": "markdown",
   "id": "5a6c8bae",
   "metadata": {},
   "source": [
    "Train\n",
    "Lion count: 55\n",
    "Eagle count: 32\n",
    "Cross count: 30\n",
    "Lions count: 20\n",
    "Eagles count: 4\n",
    "Crosses count: 0\n",
    "\n",
    "Val\n",
    "Lion count: 22\n",
    "Eagle count: 9\n",
    "Cross count: 8\n",
    "Lions count: 5\n",
    "Eagles count: 1\n",
    "Crosses count: 0\n",
    "\n",
    "Test\n",
    "Lion count: 18\n",
    "Eagle count: 14\n",
    "Cross count: 7\n",
    "Lions count: 2\n",
    "Eagles count: 4\n",
    "Crosses count: 0"
   ]
  },
  {
   "cell_type": "code",
   "execution_count": 23,
   "id": "93c61dd8",
   "metadata": {},
   "outputs": [
    {
     "name": "stdout",
     "output_type": "stream",
     "text": [
      "Train\n",
      "Lion count: 56\n",
      "Eagle count: 29\n",
      "Cross count: 32\n",
      "Lions count: 14\n",
      "Eagles count: 5\n",
      "Crosses count: 0\n",
      "--------------------------------------\n",
      "Lion ration: 0.48\n",
      "Eagle ration: 0.25\n",
      "Cross ration: 0.27\n",
      "Lions ration: 0.12\n",
      "Eagles ration: 0.04\n",
      "Crosses ration: 0.0\n",
      "--------------------------------------\n",
      "--------------------------------------\n"
     ]
    },
    {
     "data": {
      "image/png": "[encoded data removed]",
      "text/plain": [
       "<Figure size 360x360 with 1 Axes>"
      ]
     },
     "metadata": {},
     "output_type": "display_data"
    }
   ],
   "source": [
    "print(\"Train\")\n",
    "count_lion, count_eagle, count_cross, count_lions, count_eagles, count_crosses = count_charges(df1)\n",
    "\n"
   ]
  },
  {
   "cell_type": "code",
   "execution_count": 24,
   "id": "6b757da1",
   "metadata": {},
   "outputs": [
    {
     "name": "stdout",
     "output_type": "stream",
     "text": [
      "Val\n",
      "Lion count: 19\n",
      "Eagle count: 17\n",
      "Cross count: 3\n",
      "Lions count: 7\n",
      "Eagles count: 3\n",
      "Crosses count: 0\n",
      "--------------------------------------\n",
      "Lion ration: 0.49\n",
      "Eagle ration: 0.44\n",
      "Cross ration: 0.08\n",
      "Lions ration: 0.18\n",
      "Eagles ration: 0.08\n",
      "Crosses ration: 0.0\n",
      "--------------------------------------\n",
      "--------------------------------------\n"
     ]
    },
    {
     "data": {
      "image/png": "[encoded data removed]",
      "text/plain": [
       "<Figure size 360x360 with 1 Axes>"
      ]
     },
     "metadata": {},
     "output_type": "display_data"
    }
   ],
   "source": [
    "print(\"Val\")\n",
    "count_lion, count_eagle, count_cross, count_lions, count_eagles, count_crosses = count_charges(df2)\n"
   ]
  },
  {
   "cell_type": "code",
   "execution_count": 25,
   "id": "988254ec",
   "metadata": {},
   "outputs": [
    {
     "name": "stdout",
     "output_type": "stream",
     "text": [
      "Test\n",
      "Lion count: 20\n",
      "Eagle count: 9\n",
      "Cross count: 10\n",
      "Lions count: 6\n",
      "Eagles count: 1\n",
      "Crosses count: 0\n",
      "--------------------------------------\n",
      "Lion ration: 0.51\n",
      "Eagle ration: 0.23\n",
      "Cross ration: 0.26\n",
      "Lions ration: 0.15\n",
      "Eagles ration: 0.03\n",
      "Crosses ration: 0.0\n",
      "--------------------------------------\n",
      "--------------------------------------\n"
     ]
    },
    {
     "data": {
      "image/png": "[encoded data removed]",
      "text/plain": [
       "<Figure size 360x360 with 1 Axes>"
      ]
     },
     "metadata": {},
     "output_type": "display_data"
    }
   ],
   "source": [
    "print(\"Test\")\n",
    "\n",
    "count_lion, count_eagle, count_cross, count_lions, count_eagles, count_crosses = count_charges(df3)\n"
   ]
  },
  {
   "cell_type": "code",
   "execution_count": null,
   "id": "03de8513",
   "metadata": {},
   "outputs": [],
   "source": []
  }
 ],
 "metadata": {
  "kernelspec": {
   "display_name": "Python 3 (ipykernel)",
   "language": "python",
   "name": "python3"
  },
  "language_info": {
   "codemirror_mode": {
    "name": "ipython",
    "version": 3
   },
   "file_extension": ".py",
   "mimetype": "text/x-python",
   "name": "python",
   "nbconvert_exporter": "python",
   "pygments_lexer": "ipython3",
   "version": "3.8.10"
  }
 },
 "nbformat": 4,
 "nbformat_minor": 5
}
