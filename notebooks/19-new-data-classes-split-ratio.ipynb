{
 "cells": [
  {
   "cell_type": "code",
   "execution_count": 1,
   "id": "25076d27",
   "metadata": {},
   "outputs": [],
   "source": [
    "# auto-load when code changes outside\n",
    "%load_ext autoreload\n",
    "%autoreload 2\n",
    "\n",
    "import sys\n",
    "sys.path.insert(0,'..')\n"
   ]
  },
  {
   "cell_type": "code",
   "execution_count": 2,
   "id": "bf2389a1",
   "metadata": {},
   "outputs": [
    {
     "name": "stderr",
     "output_type": "stream",
     "text": [
      "2023-03-09 21:30:58.851 INFO    numexpr.utils: Note: NumExpr detected 64 cores but \"NUMEXPR_MAX_THREADS\" not set, so enforcing safe limit of 8.\n",
      "2023-03-09 21:30:58.853 INFO    numexpr.utils: NumExpr defaulting to 8 threads.\n"
     ]
    }
   ],
   "source": [
    "import numpy as np\n",
    "import streamlit as st\n",
    "from copy import deepcopy as dc\n",
    "import pandas as pd\n",
    "from pathlib import Path\n",
    "from src.label_checker_automata import LabelCheckerAutomata\n",
    "from src.caption import Caption\n",
    "import src.utils as utils"
   ]
  },
  {
   "cell_type": "code",
   "execution_count": 3,
   "id": "a2f8af5a",
   "metadata": {},
   "outputs": [
    {
     "data": {
      "text/html": [
       "<div>\n",
       "<style scoped>\n",
       "    .dataframe tbody tr th:only-of-type {\n",
       "        vertical-align: middle;\n",
       "    }\n",
       "\n",
       "    .dataframe tbody tr th {\n",
       "        vertical-align: top;\n",
       "    }\n",
       "\n",
       "    .dataframe thead th {\n",
       "        text-align: right;\n",
       "    }\n",
       "</style>\n",
       "<table border=\"1\" class=\"dataframe\">\n",
       "  <thead>\n",
       "    <tr style=\"text-align: right;\">\n",
       "      <th></th>\n",
       "      <th>label</th>\n",
       "    </tr>\n",
       "  </thead>\n",
       "  <tbody>\n",
       "    <tr>\n",
       "      <th>0</th>\n",
       "      <td>S AOGB 3 annulets &amp; chief ch. lion isst &amp; label</td>\n",
       "    </tr>\n",
       "    <tr>\n",
       "      <th>1</th>\n",
       "      <td>G A cross potenty</td>\n",
       "    </tr>\n",
       "    <tr>\n",
       "      <th>2</th>\n",
       "      <td>lion; lion q.f.   {OS; BO}</td>\n",
       "    </tr>\n",
       "    <tr>\n",
       "      <th>3</th>\n",
       "      <td>O B lion rampant</td>\n",
       "    </tr>\n",
       "    <tr>\n",
       "      <th>4</th>\n",
       "      <td>fess; eagle doubleheaded; =; =  {OS, SA}</td>\n",
       "    </tr>\n",
       "    <tr>\n",
       "      <th>...</th>\n",
       "      <td>...</td>\n",
       "    </tr>\n",
       "    <tr>\n",
       "      <th>577</th>\n",
       "      <td>cross; gonfanon; =; =   {GA, AG}</td>\n",
       "    </tr>\n",
       "    <tr>\n",
       "      <th>578</th>\n",
       "      <td>B A lion rampant</td>\n",
       "    </tr>\n",
       "    <tr>\n",
       "      <th>579</th>\n",
       "      <td>A G eagle cr.</td>\n",
       "    </tr>\n",
       "    <tr>\n",
       "      <th>580</th>\n",
       "      <td>G O lion rampant</td>\n",
       "    </tr>\n",
       "    <tr>\n",
       "      <th>581</th>\n",
       "      <td>X S GA cross, papelonny</td>\n",
       "    </tr>\n",
       "  </tbody>\n",
       "</table>\n",
       "<p>582 rows × 1 columns</p>\n",
       "</div>"
      ],
      "text/plain": [
       "                                               label\n",
       "0    S AOGB 3 annulets & chief ch. lion isst & label\n",
       "1                                  G A cross potenty\n",
       "2                         lion; lion q.f.   {OS; BO}\n",
       "3                                   O B lion rampant\n",
       "4           fess; eagle doubleheaded; =; =  {OS, SA}\n",
       "..                                               ...\n",
       "577                 cross; gonfanon; =; =   {GA, AG}\n",
       "578                                 B A lion rampant\n",
       "579                                    A G eagle cr.\n",
       "580                                 G O lion rampant\n",
       "581                          X S GA cross, papelonny\n",
       "\n",
       "[582 rows x 1 columns]"
      ]
     },
     "execution_count": 3,
     "metadata": {},
     "output_type": "execute_result"
    }
   ],
   "source": [
    "data_dir = Path(\"../data/new/images\")\n",
    "\n",
    "labels = []\n",
    "\n",
    "for image_fn in data_dir.iterdir():\n",
    "    if image_fn.suffix == \".jpg\" and not image_fn.name.startswith(\".\"):\n",
    "        labels.append(\"_\".join(image_fn.stem.split(\"_\")[1:]))\n",
    "\n",
    "df = pd.DataFrame.from_dict({\n",
    "    \"label\": labels,\n",
    "})\n",
    "df"
   ]
  },
  {
   "cell_type": "code",
   "execution_count": 5,
   "id": "b8630f8b",
   "metadata": {},
   "outputs": [
    {
     "name": "stdout",
     "output_type": "stream",
     "text": [
      "There are 106 train images\n",
      "There are 35 val images\n",
      "There are 36 test images\n"
     ]
    }
   ],
   "source": [
    "root_folder_images = \"../data/new/\"\n",
    "\n",
    "train_annotation_file = root_folder_images + '/train_captions_psumsq.txt'\n",
    "val_annotation_file  = root_folder_images + '/val_captions_psumsq.txt'\n",
    "test_annotation_file  = root_folder_images + '/test_captions_psumsq.txt'\n",
    "\n",
    "df1 = pd.read_csv(train_annotation_file)\n",
    "print(\"There are {} train images\".format(len(df1)))\n",
    "\n",
    "df2 = pd.read_csv(val_annotation_file)\n",
    "print(\"There are {} val images\".format(len(df2)))\n",
    "\n",
    "df3 = pd.read_csv(test_annotation_file)\n",
    "print(\"There are {} test images\".format(len(df3)))\n"
   ]
  },
  {
   "cell_type": "code",
   "execution_count": 37,
   "id": "5e4d57d1",
   "metadata": {},
   "outputs": [],
   "source": [
    "def count_charges(df):\n",
    "    train_captions = df['caption']\n",
    "    count_lion, count_cross, count_eagle = 0,0,0\n",
    "    \n",
    "    for c in train_captions:\n",
    "        if \"lion\" in c:\n",
    "            count_lion+=1\n",
    "        if \"eagle\" in c:\n",
    "            count_eagle+=1\n",
    "        if \"cross\" in c:\n",
    "            count_cross+=1\n",
    "        \n",
    "    print(\"Lion count:\", count_lion) \n",
    "    print(\"Eagle count:\", count_eagle) \n",
    "    print(\"Cross count:\", count_cross)\n",
    "    \n",
    "    print(\"--------------------------------------\")\n",
    "    \n",
    "    print(\"Lion ration:\", round(count_lion/len(train_captions), 2))\n",
    "    print(\"Eagle ration:\", round(count_eagle/len(train_captions), 2)) \n",
    "    print(\"Cross ration:\", round(count_cross/len(train_captions), 2)) \n",
    "    \n",
    "    print(\"--------------------------------------\")\n",
    "    \n",
    "    df = pd.DataFrame({'mass': [count_lion, count_eagle, count_cross],\n",
    "                   'radius': [2439.7, 6051.8, 6378.1]},\n",
    "                  index=['count_lion', 'count_eagle', 'count_cross'])\n",
    "    plot = df.plot.pie(y='mass', figsize=(5, 5))\n",
    "    \n",
    "    print(\"--------------------------------------\")\n",
    "\n",
    "    return count_lion, count_eagle, count_cross\n"
   ]
  },
  {
   "cell_type": "code",
   "execution_count": 34,
   "id": "93c61dd8",
   "metadata": {},
   "outputs": [
    {
     "name": "stdout",
     "output_type": "stream",
     "text": [
      "Train\n",
      "Lion count: 47\n",
      "Eagle count: 37\n",
      "Cross count: 22\n",
      "--------------------------------------\n",
      "Lion ration: 0.44\n",
      "Eagle ration: 0.35\n",
      "Cross ration: 0.21\n",
      "--------------------------------------\n"
     ]
    },
    {
     "data": {
      "image/png": "[encoded data removed]",
      "text/plain": [
       "<Figure size 360x360 with 1 Axes>"
      ]
     },
     "metadata": {},
     "output_type": "display_data"
    }
   ],
   "source": [
    "print(\"Train\")\n",
    "count_lion, count_eagle, count_cross = count_charges(df1)\n"
   ]
  },
  {
   "cell_type": "code",
   "execution_count": 35,
   "id": "6b757da1",
   "metadata": {},
   "outputs": [
    {
     "name": "stdout",
     "output_type": "stream",
     "text": [
      "Val\n",
      "Lion count: 15\n",
      "Eagle count: 10\n",
      "Cross count: 10\n",
      "--------------------------------------\n",
      "Lion ration: 0.43\n",
      "Eagle ration: 0.29\n",
      "Cross ration: 0.29\n",
      "--------------------------------------\n"
     ]
    },
    {
     "data": {
      "image/png": "[encoded data removed]",
      "text/plain": [
       "<Figure size 360x360 with 1 Axes>"
      ]
     },
     "metadata": {},
     "output_type": "display_data"
    }
   ],
   "source": [
    "print(\"Val\")\n",
    "count_lion, count_eagle, count_cross = count_charges(df2)\n"
   ]
  },
  {
   "cell_type": "code",
   "execution_count": 36,
   "id": "988254ec",
   "metadata": {},
   "outputs": [
    {
     "name": "stdout",
     "output_type": "stream",
     "text": [
      "Test\n",
      "Lion count: 23\n",
      "Eagle count: 7\n",
      "Cross count: 6\n",
      "--------------------------------------\n",
      "Lion ration: 0.64\n",
      "Eagle ration: 0.19\n",
      "Cross ration: 0.17\n",
      "--------------------------------------\n"
     ]
    },
    {
     "data": {
      "image/png": "[encoded data removed]",
      "text/plain": [
       "<Figure size 360x360 with 1 Axes>"
      ]
     },
     "metadata": {},
     "output_type": "display_data"
    }
   ],
   "source": [
    "print(\"Test\")\n",
    "\n",
    "count_lion, count_eagle, count_cross = count_charges(df3)\n"
   ]
  },
  {
   "cell_type": "code",
   "execution_count": null,
   "id": "03de8513",
   "metadata": {},
   "outputs": [],
   "source": []
  }
 ],
 "metadata": {
  "kernelspec": {
   "display_name": "Python 3 (ipykernel)",
   "language": "python",
   "name": "python3"
  },
  "language_info": {
   "codemirror_mode": {
    "name": "ipython",
    "version": 3
   },
   "file_extension": ".py",
   "mimetype": "text/x-python",
   "name": "python",
   "nbconvert_exporter": "python",
   "pygments_lexer": "ipython3",
   "version": "3.8.10"
  }
 },
 "nbformat": 4,
 "nbformat_minor": 5
}
