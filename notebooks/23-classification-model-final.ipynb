{
 "cells": [
  {
   "cell_type": "code",
   "execution_count": 1,
   "id": "0105032e",
   "metadata": {},
   "outputs": [
    {
     "name": "stdout",
     "output_type": "stream",
     "text": [
      "| ID | GPU | MEM |\n",
      "------------------\n",
      "|  0 |  0% |  0% |\n",
      "|  1 |  0% |  0% |\n",
      "|  2 |  0% |  0% |\n",
      "|  3 |  0% |  0% |\n"
     ]
    }
   ],
   "source": [
    "# auto-load when code changes outside\n",
    "%load_ext autoreload\n",
    "%autoreload 2\n",
    "%load_ext pyinstrument\n",
    "# Load the TensorBoard notebook extension\n",
    "%load_ext tensorboard\n",
    "\n",
    "import sys\n",
    "sys.path.insert(0,'..')\n",
    "\n",
    "# https://www.kaggle.com/code/jainamshah17/pytorch-starter-image-classification\n",
    "\n",
    "from GPUtil import showUtilization as gpu_usage\n",
    "gpu_usage()                             \n"
   ]
  },
  {
   "cell_type": "code",
   "execution_count": 2,
   "id": "6cf59b4e",
   "metadata": {},
   "outputs": [],
   "source": [
    "import os\n",
    "import time\n",
    "import numpy as np\n",
    "import pandas as pd\n",
    "\n",
    "import torch\n",
    "import torch.nn as nn\n",
    "import torch.nn.functional as F\n",
    "\n",
    "from torch.utils.data import DataLoader, Dataset\n",
    "from torch.utils.data import RandomSampler\n",
    "\n",
    "import torchvision.transforms as T\n",
    "import torchvision.models as models\n",
    "from torchvision.utils import make_grid\n",
    "from torch.utils.data import RandomSampler\n",
    "\n",
    "from matplotlib import pyplot as plt\n",
    "\n",
    "from src.caption import Caption\n",
    "from src.baseline.coa_model import save_model, load_model, train_validate_test_split\n",
    "from src.baseline.data_loader import get_mean, get_std\n",
    "\n",
    "\n",
    "import torch\n",
    "import gc\n",
    "# from GPUtil import showUtilization as gpu_usage\n",
    "\n",
    "import torchdatasets as td\n",
    "from src.baseline.noise import Noise\n",
    "from torch.utils.data import RandomSampler\n",
    "from src.pytorchtools import EarlyStopping, EarlyStoppingAccuracy\n",
    "from pathlib import Path\n",
    "import random\n",
    "from PIL import Image\n"
   ]
  },
  {
   "cell_type": "code",
   "execution_count": 3,
   "id": "a586bd89",
   "metadata": {},
   "outputs": [],
   "source": [
    "\n",
    "\n",
    "def calc_accuracy(true, pred):\n",
    "    accuracies = []\n",
    "    accuracies_charge_only = []\n",
    "    accuracies_charge_color = []\n",
    "    accuracies_shield_only = []\n",
    "\n",
    "    pred = F.softmax(pred, dim = 1)\n",
    "    true = torch.zeros(pred.shape[0], pred.shape[1]).scatter_(1, true.unsqueeze(1), 1.)\n",
    "    batch_size = len(pred)\n",
    "    \n",
    "    pred_t, true_t = pred.argmax(-1), true.argmax(-1)\n",
    "    for i in range(0, batch_size-1):\n",
    "        score, charge_score, charge_color_score, shield_color_score = calc_predicted_label_accuracy(true_t[i], pred_t[i])\n",
    "        accuracies.append(score)\n",
    "        accuracies_charge_only.append(charge_score)\n",
    "        accuracies_charge_color.append(charge_color_score)\n",
    "        accuracies_shield_only.append(shield_color_score)\n",
    "        \n",
    "    return accuracies, accuracies_charge_only, accuracies_charge_color, accuracies_shield_only\n",
    "\n",
    "def calc_predicted_label_accuracy(true_class, predicted_class):\n",
    "    \n",
    "    true_label = CLASSES_MAP.get(int(true_class))\n",
    "\n",
    "    charge = true_label[0]\n",
    "    modifier = true_label[1]\n",
    "    charge_color = true_label[2]\n",
    "    shield_color = true_label[3]\n",
    "\n",
    "    predicted_label = CLASSES_MAP.get(int(predicted_class))\n",
    "\n",
    "    pre_charge = predicted_label[0]\n",
    "    pre_modifier = predicted_label[1]\n",
    "    pre_charge_color = predicted_label[2]\n",
    "    pre_shield_color = predicted_label[3]\n",
    "    \n",
    "    charge_hits = 0\n",
    "    modifier_hits = 0\n",
    "    charge_color_score = 0\n",
    "    shield_color_score = 0\n",
    "    \n",
    "    if charge == pre_charge:\n",
    "        charge_hits+=1\n",
    "    \n",
    "    if modifier == pre_modifier:\n",
    "        modifier_hits+=1\n",
    "\n",
    "    if charge_color == pre_charge_color:\n",
    "        charge_color_score+=1\n",
    "        \n",
    "    if shield_color == pre_shield_color:\n",
    "        shield_color_score+=1\n",
    "\n",
    "    charge_score = (charge_hits + modifier_hits) / 2\n",
    "    \n",
    "    score = (charge_score + charge_color_score + shield_color_score) / 3\n",
    "    \n",
    "    return score, charge_score, charge_color_score, shield_color_score\n",
    "\n",
    "def calc_accuracy_standard(true, pred):\n",
    "    pred = F.softmax(pred, dim = 1)\n",
    "    true = torch.zeros(pred.shape[0], pred.shape[1]).scatter_(1, true.unsqueeze(1), 1.)\n",
    "    acc = (true.argmax(-1) == pred.argmax(-1)).float().detach().numpy()\n",
    "    acc = float((100 * acc.sum()) / len(acc))\n",
    "    return round(acc, 4)\n",
    "\n",
    "### Training Code\n",
    "def train_classification_model(model, optimizer, criterion, lr_scheduler, epochs, train_data_loader, val_data_loader, device):\n",
    "    from tqdm import tqdm\n",
    "    \n",
    "    # initialize the early_stopping object\n",
    "    checkpoint_file=f\"{data_location}/classification-checkpoint.pt\"\n",
    "    early_stopping = EarlyStoppingAccuracy(patience=10, verbose=True, path=checkpoint_file)\n",
    "\n",
    "    accuracies = []\n",
    "    accuracies_charge_only = []\n",
    "    accuracies_charge_color = []\n",
    "    accuracies_shield_only = []\n",
    "\n",
    "    avg_acc_ls = []\n",
    "    avg_acc_ls_charge_only = []\n",
    "    avg_acc_ls_charge_color = []\n",
    "    avg_acc_ls_shield_only = []\n",
    "\n",
    "    avg_train_acc_list = []\n",
    "    for epoch in range(epochs):\n",
    "        start = time.time()\n",
    "\n",
    "        #Epoch Loss & Accuracy\n",
    "        train_epoch_losses = []\n",
    "        train_epoch_accuracies = []\n",
    "        _iter = 1\n",
    "\n",
    "        #Val Loss & Accuracy\n",
    "        val_epoch_losses = []\n",
    "        val_epoch_accuracies = []\n",
    "        train_epoch_accuracies = []\n",
    "        train_epoch_losses = []\n",
    "        # Training\n",
    "        with tqdm(train_data_loader, unit=\"batch\") as tepoch:\n",
    "            tepoch.set_description(f\"Epoch {epoch}\")\n",
    "            print('Epoch-{0} lr: {1}'.format(epoch, optimizer.param_groups[0]['lr']))\n",
    "            for images, labels,_,_,_ in tepoch: \n",
    "                images = images.to(device)\n",
    "                labels = labels.to(device)\n",
    "\n",
    "                #Reset Grads\n",
    "                optimizer.zero_grad()\n",
    "\n",
    "                #Forward ->\n",
    "                preds = model(images)\n",
    "\n",
    "#                 #Calculate Accuracy\n",
    "#                 print(\"train_classification_model\")\n",
    "                acc = calc_accuracy_standard(labels.cpu(), preds.cpu())\n",
    "#                 print(\"-----------------------------------\")\n",
    "\n",
    "                #Calculate Loss & Backward, Update Weights (Step)\n",
    "                loss = criterion(preds, labels)\n",
    "                loss.backward()\n",
    "                optimizer.step()\n",
    "#                 lr_scheduler.step()\n",
    "                \n",
    "                #Append loss & acc\n",
    "                loss_value = loss.item()\n",
    "                train_epoch_losses.append(loss_value)\n",
    "                train_epoch_accuracies.append(acc)\n",
    "                \n",
    "                tepoch.set_postfix({'train_batch_loss': loss_value})\n",
    "                tepoch.set_postfix({'train_batch_accuracy': acc})\n",
    "\n",
    "                if _iter % 500 == 0:\n",
    "                    print(\"> Iteration {} < \".format(_iter))\n",
    "                    print(\"Iter Loss = {}\".format(round(loss_value, 4)))\n",
    "                    print(\"Iter Accuracy = {} % \\n\".format(acc))\n",
    "\n",
    "                _iter += 1\n",
    "                \n",
    "        \n",
    "        train_epoch_loss = sum(train_epoch_losses) / len(train_epoch_losses)\n",
    "        train_epoch_accuracy = sum(train_epoch_accuracies) / len(train_epoch_accuracies)\n",
    "        tepoch.set_postfix({'train_epoch_loss': train_epoch_loss})\n",
    "        tepoch.set_postfix({'train_epoch_accuracy': train_epoch_accuracy})\n",
    "\n",
    "        avg_train_acc_list.append(train_epoch_accuracy)\n",
    "\n",
    "        # tryinf to free the memory\n",
    "#         gc.collect()\n",
    "#         torch.cuda.empty_cache()\n",
    "#         gpu_usage()                             \n",
    "\n",
    "        #Validation\n",
    "        with tqdm(val_data_loader, unit=\"batch\") as tepoch:\n",
    "            tepoch.set_description(f\"Epoch {epoch}\")\n",
    "            for images, labels,_,_,images_names in tepoch:\n",
    "                images = images.to(device)\n",
    "                labels = labels.to(device)\n",
    "\n",
    "                #Forward ->\n",
    "                preds = model(images)\n",
    "\n",
    "                #Calculate Accuracy\n",
    "#                 print(\"evaluation_classification\")\n",
    "#                 print('images_names', images_names)\n",
    "                \n",
    "                acc1, acc2, acc3, acc4 = calc_accuracy(labels.cpu(), preds.cpu())\n",
    "                for i in acc1:\n",
    "                    accuracies.append(i)\n",
    "                for i in acc2:\n",
    "                    accuracies_charge_only.append(i)\n",
    "                for i in acc3:\n",
    "                    accuracies_charge_color.append(i)\n",
    "                for i in acc4:\n",
    "                    accuracies_shield_only.append(i)\n",
    "\n",
    "                print(\"-----------------------------------\")\n",
    "\n",
    "                #Calculate Loss\n",
    "                loss = criterion(preds, labels)\n",
    "\n",
    "                #Append loss & acc\n",
    "                loss_value = loss.item()\n",
    "                tepoch.set_postfix({'val_epoch_loss': loss_value})\n",
    "                val_epoch_losses.append(loss_value)\n",
    "\n",
    "        # ------------------------------------------\n",
    "        # calc avg values coming out of every batch in one epoch \n",
    "        val_epoch_accuracy = sum(accuracies) / len(accuracies)\n",
    "        \n",
    "        # breakdown of accuracies - average per validation\n",
    "        avg_acc_charge_only  = sum(accuracies_charge_only) / len(accuracies_charge_only)\n",
    "        avg_acc_charge_color = sum(accuracies_charge_color) / len(accuracies_charge_color)\n",
    "        avg_acc_shield_only  = sum(accuracies_shield_only) / len(accuracies_shield_only)\n",
    "       \n",
    "        val_epoch_accuracies.append(val_epoch_accuracy)\n",
    "        tepoch.set_postfix({'val_epoch_accuracy': val_epoch_accuracy})\n",
    "        # ------------------------------------------\n",
    "\n",
    "        train_epoch_loss = np.mean(train_epoch_losses)\n",
    "        val_epoch_loss = np.mean(val_epoch_losses)\n",
    "        \n",
    "        # collect avg loss values coming out of every batch in one epoch\n",
    "        train_loss.append(train_epoch_loss)\n",
    "        val_loss.append(val_epoch_loss)\n",
    "\n",
    "        # ------------------------------------------  \n",
    "        # collect avg values coming out of every epochs \n",
    "        avg_acc_ls.append(val_epoch_accuracy)\n",
    "        avg_acc_ls_charge_only.append(avg_acc_charge_only)\n",
    "        avg_acc_ls_charge_color.append(avg_acc_charge_color)\n",
    "        avg_acc_ls_shield_only.append(avg_acc_shield_only)\n",
    "        # ------------------------------------------\n",
    "        end = time.time()\n",
    "\n",
    "        # Print Epoch Statistics\n",
    "        print(\"** Epoch {} ** - Epoch Time {}\".format(epoch, int(end-start)))\n",
    "        print(\"Train Loss = {}\".format(round(train_epoch_loss, 4)))\n",
    "        print(\"Train Accuracy = {} % \\n\".format(train_epoch_accuracy))\n",
    "        print(\"Val Loss = {}\".format(round(val_epoch_loss, 4)))\n",
    "        print(\"Val epoch Accuracy = {} % \\n\".format(val_epoch_accuracy))\n",
    "        print(\"Val Charge Accuracy = {} % \\n\".format(avg_acc_charge_only))\n",
    "        print(\"Val Charge Color Accuracy = {} %\\n\".format(avg_acc_charge_color))\n",
    "        print(\"Val Shield Color Accuracy = {} % \\n\".format(avg_acc_shield_only))\n",
    "        \n",
    "        early_stopping(val_epoch_accuracy, model, optimizer, epoch)\n",
    "           \n",
    "        if early_stopping.early_stop:\n",
    "            print(\"Early stopping. Stopping the training of the model.\")\n",
    "            break\n",
    "        print(\"------------------------------------------------------------\")\n",
    "\n",
    "    val_acc_score = sum(avg_acc_ls) / len(avg_acc_ls)\n",
    "    acc_score_charge = sum(avg_acc_ls_charge_only) / len(avg_acc_ls_charge_only)\n",
    "    acc_score_charge_color = sum(avg_acc_ls_charge_color) / len(avg_acc_ls_charge_color)\n",
    "    acc_score_shield = sum(avg_acc_ls_shield_only) / len(avg_acc_ls_shield_only)\n",
    "    ftrain_loss = sum(train_loss) / len(train_loss) \n",
    "    fval_loss = sum(val_loss) / len(val_loss) \n",
    "    train_acc_standard = sum(avg_train_acc_list) / len(avg_train_acc_list) \n",
    "    \n",
    "    print('Final Accuracy ALL (Overall): {}%'.format(100. * round(val_acc_score, 2)))\n",
    "    print('Final Accuracy Charge-Mod only (Overall): {}%'.format(100. * round(acc_score_charge, 2)))\n",
    "    print('Final Accuracy Charge color (Overall): {}%'.format(100. * round(acc_score_charge_color, 2)))\n",
    "    print('Final Accuracy Shield color (Overall): {}%'.format(100. * round(acc_score_shield, 2)))\n",
    "    print('Final train loss (Overall): {}'.format(round(ftrain_loss, 2)))\n",
    "    print('Final val loss (Overall): {}'.format(round(fval_loss, 2)))\n",
    "            \n",
    "    return model, ftrain_loss, train_acc_standard, fval_loss, val_acc_score\n",
    "\n",
    "def test_classification_model(model, test_data_loader):\n",
    "    test_epoch_loss = []\n",
    "    test_epoch_accuracy = []\n",
    "\n",
    "    test_loss = []\n",
    "    test_accuracy = []\n",
    "\n",
    "    accuracies = []\n",
    "    accuracies_charge_only = []\n",
    "    accuracies_charge_color = []\n",
    "    accuracies_shield_only = []\n",
    "\n",
    "    accuracy_test_list = []\n",
    "    accuracy_test_list_charge=[]\n",
    "    accuracy_test_list_charge_color=[]\n",
    "    accuracy_test_list_shield=[]\n",
    "\n",
    "    # model.eval()\n",
    "    with torch.no_grad():\n",
    "        for images, labels,_,_,_ in test_data_loader:\n",
    "            print(type(labels))\n",
    "            images = images.to(\"cpu\")\n",
    "            labels = labels.to(\"cpu\")\n",
    "\n",
    "            #Forward ->\n",
    "            preds = model(images)\n",
    "\n",
    "            #Calculate Accuracy\n",
    "            acc = calc_accuracy_standard(labels.cpu(), preds.cpu())\n",
    "            acc1,acc2,acc3,acc4 = calc_accuracy(labels.cpu(), preds.cpu())\n",
    "            for i in acc1:\n",
    "                accuracies.append(i)\n",
    "            for i in acc2:\n",
    "                accuracies_charge_only.append(i)\n",
    "            for i in acc3:\n",
    "                accuracies_charge_color.append(i)\n",
    "            for i in acc4:\n",
    "                accuracies_shield_only.append(i)\n",
    "\n",
    "            #Calculate Loss\n",
    "            loss = criterion(preds, labels)\n",
    "\n",
    "            #Append loss & acc\n",
    "            loss_value = loss.item()\n",
    "            test_epoch_loss.append(loss_value)\n",
    "            test_epoch_accuracy.append(acc)\n",
    "\n",
    "            avg_batch_acc = sum(accuracies)/len(accuracies)\n",
    "            avg_batch_acc_charge = sum(accuracies_charge_only)/len(accuracies_charge_only)\n",
    "            avg_batch_acc_chrage_color = sum(accuracies_charge_color)/len(accuracies_charge_color)\n",
    "            avg_batch_acc_shield = sum(accuracies_shield_only)/len(accuracies_shield_only)\n",
    "            \n",
    "#             avg_batch_acc_charge, avg_batch_acc_chrage_color, avg_batch_acc_shield = 0,0,0\n",
    "            accuracy_test_list.append(avg_batch_acc)\n",
    "            accuracy_test_list_charge.append(avg_batch_acc_charge)\n",
    "            accuracy_test_list_charge_color.append(avg_batch_acc_chrage_color)\n",
    "            accuracy_test_list_shield.append(avg_batch_acc_shield)\n",
    "            \n",
    "            print(\"Test Accuracy Standard (in progress) = {} % \\n\".format(acc))\n",
    "            print('Test Accuracy ALL (in progress): {}%'.format(100. * round(avg_batch_acc, 2)))\n",
    "            print('Test Accuracy Charge-Mod only (in progress): {}%'.format(100. * round(avg_batch_acc_charge, 2)))\n",
    "            print('Test Accuracy Charge color (in progress): {}%'.format(100. * round(avg_batch_acc_chrage_color, 2)))\n",
    "            print('Test Accuracy Shield color (in progress): {}%'.format(100. * round(avg_batch_acc_shield, 2)))\n",
    "            \n",
    "    test_epoch_loss = sum(test_epoch_loss) / len(test_epoch_loss)\n",
    "    test_epoch_accuracy =  sum(test_epoch_accuracy) / len(test_epoch_accuracy)\n",
    "\n",
    "    test_loss.append(test_epoch_loss)\n",
    "    test_accuracy.append(test_epoch_accuracy)\n",
    "\n",
    "    acc_test_score = sum(accuracy_test_list) / len(accuracy_test_list)\n",
    "    acc_test_score_charge = sum(accuracy_test_list_charge) / len(accuracy_test_list_charge)\n",
    "    acc_test_score_charge_color = sum(accuracy_test_list_charge_color) / len(accuracy_test_list_charge_color)\n",
    "    acc_test_score_shield = sum(accuracy_test_list_shield) / len(accuracy_test_list_shield)\n",
    "    \n",
    "    print(\"Test Accuracy Standard = {} % \\n\".format(test_epoch_accuracy))\n",
    "    print(\"Final Test Loss = {}\".format(round(test_epoch_loss, 4)))\n",
    "    print('Final Test Accuracy ALL (Overall): {}%'.format(100. * round(acc_test_score, 2)))\n",
    "    print('Final Test Accuracy Charge-Mod only (Overall): {}%'.format(100. * round(acc_test_score_charge, 2)))\n",
    "    print('Final Test Accuracy Charge color (Overall): {}%'.format(100. * round(acc_test_score_charge_color, 2)))\n",
    "    print('Final Test Accuracy Shield color (Overall): {}%'.format(100. * round(acc_test_score_shield, 2)))\n",
    "\n",
    "\n",
    "class CoAClassDataset(td.Dataset):\n",
    "\n",
    "    def __init__(self, root_dir, captions_file, transform=None, freq_threshold=5, vocab=None, device=\"cpu\", calc_mean=False):\n",
    "        super().__init__()  # for the td.Dataset\n",
    "        self.root_dir = root_dir\n",
    "        self.transform = transform\n",
    "        self.device = device\n",
    "        self.df = pd.read_csv(captions_file)\n",
    "        self.calc_mean = calc_mean\n",
    "\n",
    "        # Get image and caption colum from the dataframe\n",
    "        self.img_names = self.df[\"image\"]\n",
    "        self.classes = self.df[\"class\"]\n",
    "\n",
    "        # Get pixels colum from the dataframe\n",
    "        try:\n",
    "            self.psum = self.df[\"psum\"]\n",
    "        except IndexError:\n",
    "            print('no pixels sum column')\n",
    "\n",
    "        try:\n",
    "            self.psum_sq = self.df[\"psum_sq\"]\n",
    "        except IndexError:\n",
    "            print('no squared pixels sum column')\n",
    "\n",
    "\n",
    "    def __len__(self):\n",
    "        return len(self.df)\n",
    "\n",
    "    def __getitem__(self, idx):\n",
    "        \"\"\"Read the image and return needed information to \n",
    "        be used later by the loader\n",
    "\n",
    "        Args:\n",
    "           idx(int): index of the image we want to read in the list\n",
    "\n",
    "        Returns:\n",
    "            tensor: image tensor \n",
    "            string: image class\n",
    "            float: sum of the pixels -> to calculate the mean \n",
    "            float: squared sum of the pixels -> to calculate the std\n",
    "            string: image file name \n",
    "        \"\"\"\n",
    "        if self.calc_mean == True:\n",
    "            return torch.tensor([]), torch.tensor([]), float(self.psum[idx]), float(self.psum_sq[idx]), self.img_names[idx]\n",
    "        else:\n",
    "            try:\n",
    "                return self._get_image_tensor(idx), self._get_label_class(idx), float(self.psum[idx]), float(self.psum_sq[idx]), self.img_names[idx]\n",
    "            except TypeError or IndexError:\n",
    "                print(f' Error, cannot find image with index: {str(idx)}')\n",
    "\n",
    "    def _get_image_tensor(self, idx):\n",
    "        img_name = self.img_names[idx]\n",
    "\n",
    "        img_location = os.path.join(self.root_dir, img_name)\n",
    "\n",
    "        my_image = Path(img_location)\n",
    "        if not my_image.exists():\n",
    "            print(f'skipping image {img_name}, as it does not exist')\n",
    "\n",
    "        img = Image.open(img_location).convert(\"RGB\")\n",
    "#         print(img)\n",
    "        # apply the transfromation to the image\n",
    "        if self.transform is not None:\n",
    "#             print('self.transform is not None')\n",
    "            img_t = self.transform(img)\n",
    "        else:\n",
    "            trans = T.ToTensor()\n",
    "            img_t = trans(img)\n",
    "#         print('img_t: ',img_t)\n",
    "\n",
    "        return img_t\n",
    "\n",
    "    def _get_label_class(self, idx):\n",
    "        \n",
    "        label_class = self.classes[idx]\n",
    "#         print('label_class',label_class)\n",
    "        \n",
    "#         if self.transform is not None:\n",
    "#             label_class_t = self.transform(label_class)\n",
    "#         else:\n",
    "#             trans = T.ToTensor()\n",
    "#             label_class_t = trans(label_class)\n",
    "\n",
    "        return label_class\n",
    "\n",
    "\n"
   ]
  },
  {
   "cell_type": "code",
   "execution_count": 4,
   "id": "29bc9346",
   "metadata": {},
   "outputs": [],
   "source": [
    "\n",
    "# ---------------------- Reproducibility -------------------\n",
    "\n",
    "seed = 87423\n",
    "random.seed(seed)     # python random generator\n",
    "np.random.seed(seed)  # numpy random generator\n",
    "\n",
    "torch.manual_seed(seed)\n",
    "#     torch.cuda.manual_seed_all(seed)\n",
    "\n",
    "torch.backends.cudnn.deterministic = True\n",
    "torch.backends.cudnn.benchmark = False\n",
    "\n",
    "# ----------------------------------------------------------------- "
   ]
  },
  {
   "cell_type": "code",
   "execution_count": 5,
   "id": "f0924aab",
   "metadata": {},
   "outputs": [
    {
     "name": "stdout",
     "output_type": "stream",
     "text": [
      "There are 90 train images\n",
      "There are 30 val images\n",
      "There are 30 test images\n",
      "mean =  tensor(0.5162, dtype=torch.float64)\n",
      "std =  tensor(0.3284, dtype=torch.float64)\n"
     ]
    }
   ],
   "source": [
    "\n",
    "\n",
    "MISSING_TOKEN = 'None'\n",
    "\n",
    "# data_location =  '../baseline-gen-data/small/'\n",
    "data_location =  '/home/salnabulsi/coat-of-arms/data/new/'\n",
    "\n",
    "# --------------------------------------------------------------\n",
    "# get classes_map\n",
    "new_caption_file = data_location + '/new-labels-psumsq-2.txt'\n",
    "df = pd.read_csv(new_caption_file).fillna(MISSING_TOKEN)\n",
    "column_values = df[['charge','mod', 'color', 'shield_color']].value_counts(dropna=False)\n",
    "classes = list(column_values.to_dict().keys())\n",
    "CLASSES_MAP = {}\n",
    "for i in range(len(classes)):\n",
    "    CLASSES_MAP[i] = classes[i]\n",
    "\n",
    "# --------------------------------------------------------------\n",
    "\n",
    "new_with_class_caption_file = data_location + '/new-labels-class-psumsq-2.txt'\n",
    "\n",
    "df_new = pd.read_csv(new_with_class_caption_file)\n",
    "#     train, validate, test = train_validate_test_split(df_new, train_percent=.6, validate_percent=.2, seed=None)\n",
    "\n",
    "train_annotation_file = data_location + '/train_labels_psumsq-2.txt'\n",
    "val_annotation_file  = data_location + '/val_labels_psumsq-2.txt'\n",
    "test_annotation_file  = data_location + '/test_labels_psumsq-2.txt'\n",
    "\n",
    "#     train.to_csv(train_annotation_file, sep=',',index=False)\n",
    "#     test.to_csv(test_annotation_file, sep=',',index=False)\n",
    "#     validate.to_csv(val_annotation_file, sep=',',index=False)\n",
    "\n",
    "\n",
    "# print(\"There are {} total images\".format(len(df)))\n",
    "\n",
    "df1 = pd.read_csv(train_annotation_file)\n",
    "print(\"There are {} train images\".format(len(df1)))\n",
    "\n",
    "df2 = pd.read_csv(val_annotation_file)\n",
    "print(\"There are {} val images\".format(len(df2)))\n",
    "\n",
    "df3 = pd.read_csv(test_annotation_file)\n",
    "print(\"There are {} test images\".format(len(df3)))\n",
    "\n",
    "device = torch.device(\"cuda:0\" if torch.cuda.is_available() else \"cpu\")\n",
    "\n",
    "BATCH_SIZE = 5\n",
    "NUM_WORKER = 2 #### this needs multi-core\n",
    "# NUM_WORKER = 0 #### this needs multi-core\n",
    "pin_memory=False,\n",
    "SHUFFLE=True\n",
    "images_location = data_location + '/resized'\n",
    "learning_rate = 0.0009 #0.0005 #0.0004 #0.0001 #3e-4 #0.01 # \n",
    "drop_prob=0.5\n",
    "\n",
    "train_dataset = CoAClassDataset(images_location, \n",
    "                     train_annotation_file, \n",
    "                     transform=None, \n",
    "                     device=device,\n",
    "                     calc_mean=True)\n",
    "\n",
    "train_data_loader = DataLoader(\n",
    "    dataset = train_dataset,\n",
    "    batch_size = BATCH_SIZE,\n",
    "    sampler = None,\n",
    "    num_workers = NUM_WORKER,\n",
    ")\n",
    "\n",
    "height = 621\n",
    "width = 634\n",
    "\n",
    "mean = get_mean(train_dataset, train_data_loader, height, width)\n",
    "std = get_std(train_dataset, train_data_loader, mean, height, width)\n",
    "print(\"mean = \", mean)\n",
    "print(\"std = \", std)"
   ]
  },
  {
   "cell_type": "code",
   "execution_count": 6,
   "id": "5990fda3",
   "metadata": {},
   "outputs": [
    {
     "name": "stderr",
     "output_type": "stream",
     "text": [
      "Epoch 0:   0%|                                                       | 0/18 [00:00<?, ?batch/s]"
     ]
    },
    {
     "name": "stdout",
     "output_type": "stream",
     "text": [
      "Epoch-0 lr: 0.0009\n"
     ]
    },
    {
     "name": "stderr",
     "output_type": "stream",
     "text": [
      "/home/salnabulsi/.thesis-py38/lib/python3.8/site-packages/torch/nn/functional.py:718: UserWarning: Named tensors and all their associated APIs are an experimental feature and subject to change. Please do not use them for anything important until they are released as stable. (Triggered internally at  /pytorch/c10/core/TensorImpl.h:1156.)\n",
      "  return torch.max_pool2d(input, kernel_size, stride, padding, dilation, ceil_mode)\n",
      "Epoch 0: 100%|██████████████████████| 18/18 [00:02<00:00,  6.96batch/s, train_batch_accuracy=0]\n",
      "Epoch 0:  67%|██████████████████         | 4/6 [00:01<00:00,  4.76batch/s, val_epoch_loss=5.14]"
     ]
    },
    {
     "name": "stdout",
     "output_type": "stream",
     "text": [
      "-----------------------------------\n",
      "-----------------------------------\n",
      "-----------------------------------\n",
      "-----------------------------------\n",
      "-----------------------------------\n",
      "-----------------------------------\n"
     ]
    },
    {
     "name": "stderr",
     "output_type": "stream",
     "text": [
      "Epoch 0: 100%|███████████████████████████| 6/6 [00:01<00:00,  4.88batch/s, val_epoch_loss=5.14]\n"
     ]
    },
    {
     "name": "stdout",
     "output_type": "stream",
     "text": [
      "** Epoch 0 ** - Epoch Time 3\n",
      "Train Loss = 6.6331\n",
      "Train Accuracy = 0.0 % \n",
      "\n",
      "Val Loss = 5.1208\n",
      "Val epoch Accuracy = 0.2291666666666666 % \n",
      "\n",
      "Val Charge Accuracy = 0.3125 % \n",
      "\n",
      "Val Charge Color Accuracy = 0.25 %\n",
      "\n",
      "Val Shield Color Accuracy = 0.125 % \n",
      "\n",
      "Accuracy increased (0.000000 --> 0.229167).  Saving model ...\n",
      "------------------------------------------------------------\n"
     ]
    },
    {
     "name": "stderr",
     "output_type": "stream",
     "text": [
      "Epoch 1:   0%|                                                       | 0/18 [00:00<?, ?batch/s]"
     ]
    },
    {
     "name": "stdout",
     "output_type": "stream",
     "text": [
      "Epoch-1 lr: 0.0009\n"
     ]
    },
    {
     "name": "stderr",
     "output_type": "stream",
     "text": [
      "Epoch 1: 100%|██████████████████████| 18/18 [00:01<00:00,  9.58batch/s, train_batch_accuracy=0]\n",
      "Epoch 1:  67%|██████████████████         | 4/6 [00:01<00:00,  4.89batch/s, val_epoch_loss=4.94]"
     ]
    },
    {
     "name": "stdout",
     "output_type": "stream",
     "text": [
      "-----------------------------------\n",
      "-----------------------------------\n",
      "-----------------------------------\n",
      "-----------------------------------\n",
      "-----------------------------------\n"
     ]
    },
    {
     "name": "stderr",
     "output_type": "stream",
     "text": [
      "Epoch 1: 100%|███████████████████████████| 6/6 [00:01<00:00,  5.02batch/s, val_epoch_loss=5.18]\n"
     ]
    },
    {
     "name": "stdout",
     "output_type": "stream",
     "text": [
      "-----------------------------------\n",
      "** Epoch 1 ** - Epoch Time 3\n",
      "Train Loss = 4.5722\n",
      "Train Accuracy = 3.3333333333333335 % \n",
      "\n",
      "Val Loss = 4.9796\n",
      "Val epoch Accuracy = 0.2083333333333333 % \n",
      "\n",
      "Val Charge Accuracy = 0.22916666666666666 % \n",
      "\n",
      "Val Charge Color Accuracy = 0.20833333333333334 %\n",
      "\n",
      "Val Shield Color Accuracy = 0.1875 % \n",
      "\n",
      "EarlyStopping counter: 1 out of 10\n",
      "------------------------------------------------------------\n"
     ]
    },
    {
     "name": "stderr",
     "output_type": "stream",
     "text": [
      "Epoch 2:   0%|                                                       | 0/18 [00:00<?, ?batch/s]"
     ]
    },
    {
     "name": "stdout",
     "output_type": "stream",
     "text": [
      "Epoch-2 lr: 0.0009\n"
     ]
    },
    {
     "name": "stderr",
     "output_type": "stream",
     "text": [
      "Epoch 2: 100%|██████████████████████| 18/18 [00:01<00:00,  9.30batch/s, train_batch_accuracy=0]\n",
      "Epoch 2:  83%|███████████████████████▎    | 5/6 [00:01<00:00,  5.84batch/s, val_epoch_loss=5.1]"
     ]
    },
    {
     "name": "stdout",
     "output_type": "stream",
     "text": [
      "-----------------------------------\n",
      "-----------------------------------\n",
      "-----------------------------------\n",
      "-----------------------------------\n",
      "-----------------------------------\n",
      "-----------------------------------\n"
     ]
    },
    {
     "name": "stderr",
     "output_type": "stream",
     "text": [
      "Epoch 2: 100%|████████████████████████████| 6/6 [00:01<00:00,  5.09batch/s, val_epoch_loss=5.1]\n"
     ]
    },
    {
     "name": "stdout",
     "output_type": "stream",
     "text": [
      "** Epoch 2 ** - Epoch Time 3\n",
      "Train Loss = 4.2811\n",
      "Train Accuracy = 1.1111111111111112 % \n",
      "\n",
      "Val Loss = 5.0219\n",
      "Val epoch Accuracy = 0.20138888888888892 % \n",
      "\n",
      "Val Charge Accuracy = 0.22916666666666666 % \n",
      "\n",
      "Val Charge Color Accuracy = 0.1527777777777778 %\n",
      "\n",
      "Val Shield Color Accuracy = 0.2222222222222222 % \n",
      "\n",
      "EarlyStopping counter: 2 out of 10\n",
      "------------------------------------------------------------\n"
     ]
    },
    {
     "name": "stderr",
     "output_type": "stream",
     "text": [
      "Epoch 3:   0%|                                                       | 0/18 [00:00<?, ?batch/s]"
     ]
    },
    {
     "name": "stdout",
     "output_type": "stream",
     "text": [
      "Epoch-3 lr: 0.0009\n"
     ]
    },
    {
     "name": "stderr",
     "output_type": "stream",
     "text": [
      "Epoch 3: 100%|█████████████████████| 18/18 [00:01<00:00,  9.29batch/s, train_batch_accuracy=20]\n",
      "Epoch 3:  67%|██████████████████         | 4/6 [00:01<00:00,  4.65batch/s, val_epoch_loss=4.53]"
     ]
    },
    {
     "name": "stdout",
     "output_type": "stream",
     "text": [
      "-----------------------------------\n",
      "-----------------------------------\n",
      "-----------------------------------\n",
      "-----------------------------------\n",
      "-----------------------------------\n"
     ]
    },
    {
     "name": "stderr",
     "output_type": "stream",
     "text": [
      "Epoch 3: 100%|███████████████████████████| 6/6 [00:01<00:00,  4.85batch/s, val_epoch_loss=6.15]\n"
     ]
    },
    {
     "name": "stdout",
     "output_type": "stream",
     "text": [
      "-----------------------------------\n",
      "** Epoch 3 ** - Epoch Time 3\n",
      "Train Loss = 4.0017\n",
      "Train Accuracy = 3.3333333333333335 % \n",
      "\n",
      "Val Loss = 5.7287\n",
      "Val epoch Accuracy = 0.21354166666666663 % \n",
      "\n",
      "Val Charge Accuracy = 0.234375 % \n",
      "\n",
      "Val Charge Color Accuracy = 0.1875 %\n",
      "\n",
      "Val Shield Color Accuracy = 0.21875 % \n",
      "\n",
      "EarlyStopping counter: 3 out of 10\n",
      "------------------------------------------------------------\n"
     ]
    },
    {
     "name": "stderr",
     "output_type": "stream",
     "text": [
      "Epoch 4:   0%|                                                       | 0/18 [00:00<?, ?batch/s]"
     ]
    },
    {
     "name": "stdout",
     "output_type": "stream",
     "text": [
      "Epoch-4 lr: 0.0009\n"
     ]
    },
    {
     "name": "stderr",
     "output_type": "stream",
     "text": [
      "Epoch 4: 100%|██████████████████████| 18/18 [00:01<00:00,  9.14batch/s, train_batch_accuracy=0]\n",
      "Epoch 4:  83%|██████████████████████▌    | 5/6 [00:00<00:00,  6.41batch/s, val_epoch_loss=4.97]"
     ]
    },
    {
     "name": "stdout",
     "output_type": "stream",
     "text": [
      "-----------------------------------\n",
      "-----------------------------------\n",
      "-----------------------------------\n",
      "-----------------------------------\n",
      "-----------------------------------\n",
      "-----------------------------------\n"
     ]
    },
    {
     "name": "stderr",
     "output_type": "stream",
     "text": [
      "Epoch 4: 100%|███████████████████████████| 6/6 [00:01<00:00,  5.54batch/s, val_epoch_loss=4.97]\n"
     ]
    },
    {
     "name": "stdout",
     "output_type": "stream",
     "text": [
      "** Epoch 4 ** - Epoch Time 3\n",
      "Train Loss = 3.9029\n",
      "Train Accuracy = 4.444444444444445 % \n",
      "\n",
      "Val Loss = 5.4002\n",
      "Val epoch Accuracy = 0.21666666666666654 % \n",
      "\n",
      "Val Charge Accuracy = 0.23333333333333334 % \n",
      "\n",
      "Val Charge Color Accuracy = 0.18333333333333332 %\n",
      "\n",
      "Val Shield Color Accuracy = 0.23333333333333334 % \n",
      "\n",
      "EarlyStopping counter: 4 out of 10\n",
      "------------------------------------------------------------\n"
     ]
    },
    {
     "name": "stderr",
     "output_type": "stream",
     "text": [
      "Epoch 5:   0%|                                                       | 0/18 [00:00<?, ?batch/s]"
     ]
    },
    {
     "name": "stdout",
     "output_type": "stream",
     "text": [
      "Epoch-5 lr: 0.0009\n"
     ]
    },
    {
     "name": "stderr",
     "output_type": "stream",
     "text": [
      "Epoch 5: 100%|██████████████████████| 18/18 [00:01<00:00,  9.66batch/s, train_batch_accuracy=0]\n",
      "Epoch 5:  67%|██████████████████         | 4/6 [00:01<00:00,  5.16batch/s, val_epoch_loss=4.94]"
     ]
    },
    {
     "name": "stdout",
     "output_type": "stream",
     "text": [
      "-----------------------------------\n",
      "-----------------------------------\n",
      "-----------------------------------\n",
      "-----------------------------------\n",
      "-----------------------------------\n",
      "-----------------------------------\n"
     ]
    },
    {
     "name": "stderr",
     "output_type": "stream",
     "text": [
      "Epoch 5: 100%|███████████████████████████| 6/6 [00:01<00:00,  5.28batch/s, val_epoch_loss=4.94]\n"
     ]
    },
    {
     "name": "stdout",
     "output_type": "stream",
     "text": [
      "** Epoch 5 ** - Epoch Time 3\n",
      "Train Loss = 3.7829\n",
      "Train Accuracy = 4.444444444444445 % \n",
      "\n",
      "Val Loss = 5.8024\n",
      "Val epoch Accuracy = 0.23263888888888873 % \n",
      "\n",
      "Val Charge Accuracy = 0.2465277777777778 % \n",
      "\n",
      "Val Charge Color Accuracy = 0.1875 %\n",
      "\n",
      "Val Shield Color Accuracy = 0.2638888888888889 % \n",
      "\n",
      "Accuracy increased (0.229167 --> 0.232639).  Saving model ...\n",
      "------------------------------------------------------------\n"
     ]
    },
    {
     "name": "stderr",
     "output_type": "stream",
     "text": [
      "Epoch 6:   0%|                                                       | 0/18 [00:00<?, ?batch/s]"
     ]
    },
    {
     "name": "stdout",
     "output_type": "stream",
     "text": [
      "Epoch-6 lr: 0.0009\n"
     ]
    },
    {
     "name": "stderr",
     "output_type": "stream",
     "text": [
      "Epoch 6: 100%|██████████████████████| 18/18 [00:01<00:00,  9.17batch/s, train_batch_accuracy=0]\n",
      "Epoch 6:  67%|██████████████████         | 4/6 [00:00<00:00,  5.90batch/s, val_epoch_loss=4.25]"
     ]
    },
    {
     "name": "stdout",
     "output_type": "stream",
     "text": [
      "-----------------------------------\n",
      "-----------------------------------\n",
      "-----------------------------------\n",
      "-----------------------------------\n",
      "-----------------------------------\n",
      "-----------------------------------\n"
     ]
    },
    {
     "name": "stderr",
     "output_type": "stream",
     "text": [
      "Epoch 6: 100%|███████████████████████████| 6/6 [00:01<00:00,  5.87batch/s, val_epoch_loss=7.38]\n"
     ]
    },
    {
     "name": "stdout",
     "output_type": "stream",
     "text": [
      "** Epoch 6 ** - Epoch Time 2\n",
      "Train Loss = 3.773\n",
      "Train Accuracy = 2.2222222222222223 % \n",
      "\n",
      "Val Loss = 5.4065\n",
      "Val epoch Accuracy = 0.2361111111111111 % \n",
      "\n",
      "Val Charge Accuracy = 0.25 % \n",
      "\n",
      "Val Charge Color Accuracy = 0.18452380952380953 %\n",
      "\n",
      "Val Shield Color Accuracy = 0.27380952380952384 % \n",
      "\n",
      "Accuracy increased (0.232639 --> 0.236111).  Saving model ...\n",
      "------------------------------------------------------------\n"
     ]
    },
    {
     "name": "stderr",
     "output_type": "stream",
     "text": [
      "Epoch 7:   0%|                                                       | 0/18 [00:00<?, ?batch/s]"
     ]
    },
    {
     "name": "stdout",
     "output_type": "stream",
     "text": [
      "Epoch-7 lr: 0.0009\n"
     ]
    },
    {
     "name": "stderr",
     "output_type": "stream",
     "text": [
      "Epoch 7: 100%|██████████████████████| 18/18 [00:01<00:00,  9.80batch/s, train_batch_accuracy=0]\n",
      "Epoch 7:  67%|██████████████████         | 4/6 [00:00<00:00,  6.65batch/s, val_epoch_loss=4.93]"
     ]
    },
    {
     "name": "stdout",
     "output_type": "stream",
     "text": [
      "-----------------------------------\n",
      "-----------------------------------\n",
      "-----------------------------------\n",
      "-----------------------------------\n",
      "-----------------------------------\n"
     ]
    },
    {
     "name": "stderr",
     "output_type": "stream",
     "text": [
      "Epoch 7: 100%|███████████████████████████| 6/6 [00:00<00:00,  6.81batch/s, val_epoch_loss=5.91]\n"
     ]
    },
    {
     "name": "stdout",
     "output_type": "stream",
     "text": [
      "-----------------------------------\n",
      "** Epoch 7 ** - Epoch Time 2\n",
      "Train Loss = 3.787\n",
      "Train Accuracy = 4.444444444444445 % \n",
      "\n",
      "Val Loss = 5.9479\n",
      "Val epoch Accuracy = 0.24479166666666677 % \n",
      "\n",
      "Val Charge Accuracy = 0.24479166666666666 % \n",
      "\n",
      "Val Charge Color Accuracy = 0.19791666666666666 %\n",
      "\n",
      "Val Shield Color Accuracy = 0.2916666666666667 % \n",
      "\n",
      "Accuracy increased (0.236111 --> 0.244792).  Saving model ...\n",
      "------------------------------------------------------------\n"
     ]
    },
    {
     "name": "stderr",
     "output_type": "stream",
     "text": [
      "Epoch 8:   0%|                                                       | 0/18 [00:00<?, ?batch/s]"
     ]
    },
    {
     "name": "stdout",
     "output_type": "stream",
     "text": [
      "Epoch-8 lr: 0.0009\n"
     ]
    },
    {
     "name": "stderr",
     "output_type": "stream",
     "text": [
      "Epoch 8: 100%|██████████████████████| 18/18 [00:01<00:00,  9.41batch/s, train_batch_accuracy=0]\n",
      "Epoch 8:  67%|██████████████████         | 4/6 [00:00<00:00,  6.29batch/s, val_epoch_loss=5.66]"
     ]
    },
    {
     "name": "stdout",
     "output_type": "stream",
     "text": [
      "-----------------------------------\n",
      "-----------------------------------\n",
      "-----------------------------------\n",
      "-----------------------------------\n",
      "-----------------------------------\n",
      "-----------------------------------\n"
     ]
    },
    {
     "name": "stderr",
     "output_type": "stream",
     "text": [
      "Epoch 8: 100%|███████████████████████████| 6/6 [00:00<00:00,  6.31batch/s, val_epoch_loss=5.66]\n"
     ]
    },
    {
     "name": "stdout",
     "output_type": "stream",
     "text": [
      "** Epoch 8 ** - Epoch Time 2\n",
      "Train Loss = 3.7769\n",
      "Train Accuracy = 5.555555555555555 % \n",
      "\n",
      "Val Loss = 5.8286\n",
      "Val epoch Accuracy = 0.2507716049382718 % \n",
      "\n",
      "Val Charge Accuracy = 0.2523148148148148 % \n",
      "\n",
      "Val Charge Color Accuracy = 0.19907407407407407 %\n",
      "\n",
      "Val Shield Color Accuracy = 0.30092592592592593 % \n",
      "\n",
      "Accuracy increased (0.244792 --> 0.250772).  Saving model ...\n",
      "------------------------------------------------------------\n"
     ]
    },
    {
     "name": "stderr",
     "output_type": "stream",
     "text": [
      "Epoch 9:   0%|                                                       | 0/18 [00:00<?, ?batch/s]"
     ]
    },
    {
     "name": "stdout",
     "output_type": "stream",
     "text": [
      "Epoch-9 lr: 0.0009\n"
     ]
    },
    {
     "name": "stderr",
     "output_type": "stream",
     "text": [
      "Epoch 9: 100%|██████████████████████| 18/18 [00:01<00:00,  9.87batch/s, train_batch_accuracy=0]\n",
      "Epoch 9:  67%|██████████████████         | 4/6 [00:01<00:00,  5.12batch/s, val_epoch_loss=3.76]"
     ]
    },
    {
     "name": "stdout",
     "output_type": "stream",
     "text": [
      "-----------------------------------\n",
      "-----------------------------------\n",
      "-----------------------------------\n",
      "-----------------------------------\n",
      "-----------------------------------\n",
      "-----------------------------------\n"
     ]
    },
    {
     "name": "stderr",
     "output_type": "stream",
     "text": [
      "Epoch 9: 100%|███████████████████████████| 6/6 [00:01<00:00,  5.19batch/s, val_epoch_loss=3.76]\n"
     ]
    },
    {
     "name": "stdout",
     "output_type": "stream",
     "text": [
      "** Epoch 9 ** - Epoch Time 2\n",
      "Train Loss = 3.7628\n",
      "Train Accuracy = 2.2222222222222223 % \n",
      "\n",
      "Val Loss = 6.0694\n",
      "Val epoch Accuracy = 0.25972222222222247 % \n",
      "\n",
      "Val Charge Accuracy = 0.25416666666666665 % \n",
      "\n",
      "Val Charge Color Accuracy = 0.22083333333333333 %\n",
      "\n",
      "Val Shield Color Accuracy = 0.30416666666666664 % \n",
      "\n",
      "Accuracy increased (0.250772 --> 0.259722).  Saving model ...\n",
      "------------------------------------------------------------\n"
     ]
    },
    {
     "name": "stderr",
     "output_type": "stream",
     "text": [
      "Epoch 10:   0%|                                                      | 0/18 [00:00<?, ?batch/s]"
     ]
    },
    {
     "name": "stdout",
     "output_type": "stream",
     "text": [
      "Epoch-10 lr: 0.0009\n"
     ]
    },
    {
     "name": "stderr",
     "output_type": "stream",
     "text": [
      "Epoch 10: 100%|█████████████████████| 18/18 [00:01<00:00, 10.33batch/s, train_batch_accuracy=0]\n",
      "Epoch 10:  67%|█████████████████▎        | 4/6 [00:00<00:00,  6.07batch/s, val_epoch_loss=4.84]"
     ]
    },
    {
     "name": "stdout",
     "output_type": "stream",
     "text": [
      "-----------------------------------\n",
      "-----------------------------------\n",
      "-----------------------------------\n",
      "-----------------------------------\n",
      "-----------------------------------\n"
     ]
    },
    {
     "name": "stderr",
     "output_type": "stream",
     "text": [
      "Epoch 10: 100%|██████████████████████████| 6/6 [00:00<00:00,  6.02batch/s, val_epoch_loss=5.79]\n"
     ]
    },
    {
     "name": "stdout",
     "output_type": "stream",
     "text": [
      "-----------------------------------\n",
      "** Epoch 10 ** - Epoch Time 2\n",
      "Train Loss = 3.7998\n",
      "Train Accuracy = 3.3333333333333335 % \n",
      "\n",
      "Val Loss = 5.8282\n",
      "Val epoch Accuracy = 0.26452020202020216 % \n",
      "\n",
      "Val Charge Accuracy = 0.2556818181818182 % \n",
      "\n",
      "Val Charge Color Accuracy = 0.22348484848484848 %\n",
      "\n",
      "Val Shield Color Accuracy = 0.3143939393939394 % \n",
      "\n",
      "Accuracy increased (0.259722 --> 0.264520).  Saving model ...\n",
      "------------------------------------------------------------\n"
     ]
    },
    {
     "name": "stderr",
     "output_type": "stream",
     "text": [
      "Epoch 11:   0%|                                                      | 0/18 [00:00<?, ?batch/s]"
     ]
    },
    {
     "name": "stdout",
     "output_type": "stream",
     "text": [
      "Epoch-11 lr: 0.0009\n"
     ]
    },
    {
     "name": "stderr",
     "output_type": "stream",
     "text": [
      "Epoch 11: 100%|█████████████████████| 18/18 [00:01<00:00,  9.74batch/s, train_batch_accuracy=0]\n",
      "Epoch 11:  67%|██████████████████         | 4/6 [00:01<00:00,  4.60batch/s, val_epoch_loss=4.6]"
     ]
    },
    {
     "name": "stdout",
     "output_type": "stream",
     "text": [
      "-----------------------------------\n",
      "-----------------------------------\n",
      "-----------------------------------\n",
      "-----------------------------------\n",
      "-----------------------------------\n"
     ]
    },
    {
     "name": "stderr",
     "output_type": "stream",
     "text": [
      "Epoch 11: 100%|█████████████████████████████| 6/6 [00:01<00:00,  4.80batch/s, val_epoch_loss=5]\n"
     ]
    },
    {
     "name": "stdout",
     "output_type": "stream",
     "text": [
      "-----------------------------------\n",
      "** Epoch 11 ** - Epoch Time 3\n",
      "Train Loss = 3.7565\n",
      "Train Accuracy = 3.3333333333333335 % \n",
      "\n",
      "Val Loss = 5.6828\n",
      "Val epoch Accuracy = 0.2633101851851852 % \n",
      "\n",
      "Val Charge Accuracy = 0.2586805555555556 % \n",
      "\n",
      "Val Charge Color Accuracy = 0.2326388888888889 %\n",
      "\n",
      "Val Shield Color Accuracy = 0.2986111111111111 % \n",
      "\n",
      "EarlyStopping counter: 1 out of 10\n",
      "------------------------------------------------------------\n"
     ]
    },
    {
     "name": "stderr",
     "output_type": "stream",
     "text": [
      "Epoch 12:   0%|                                                      | 0/18 [00:00<?, ?batch/s]"
     ]
    },
    {
     "name": "stdout",
     "output_type": "stream",
     "text": [
      "Epoch-12 lr: 0.0009\n"
     ]
    },
    {
     "name": "stderr",
     "output_type": "stream",
     "text": [
      "Epoch 12: 100%|█████████████████████| 18/18 [00:01<00:00, 10.38batch/s, train_batch_accuracy=0]\n",
      "Epoch 12:  67%|█████████████████▎        | 4/6 [00:01<00:00,  5.17batch/s, val_epoch_loss=6.19]"
     ]
    },
    {
     "name": "stdout",
     "output_type": "stream",
     "text": [
      "-----------------------------------\n",
      "-----------------------------------\n",
      "-----------------------------------\n",
      "-----------------------------------\n",
      "-----------------------------------\n",
      "-----------------------------------\n"
     ]
    },
    {
     "name": "stderr",
     "output_type": "stream",
     "text": [
      "Epoch 12: 100%|██████████████████████████| 6/6 [00:01<00:00,  5.30batch/s, val_epoch_loss=6.19]\n"
     ]
    },
    {
     "name": "stdout",
     "output_type": "stream",
     "text": [
      "** Epoch 12 ** - Epoch Time 2\n",
      "Train Loss = 3.7328\n",
      "Train Accuracy = 2.2222222222222223 % \n",
      "\n",
      "Val Loss = 5.9852\n",
      "Val epoch Accuracy = 0.26175213675213665 % \n",
      "\n",
      "Val Charge Accuracy = 0.25961538461538464 % \n",
      "\n",
      "Val Charge Color Accuracy = 0.23076923076923078 %\n",
      "\n",
      "Val Shield Color Accuracy = 0.2948717948717949 % \n",
      "\n",
      "EarlyStopping counter: 2 out of 10\n",
      "------------------------------------------------------------\n"
     ]
    },
    {
     "name": "stderr",
     "output_type": "stream",
     "text": [
      "Epoch 13:   0%|                                                      | 0/18 [00:00<?, ?batch/s]"
     ]
    },
    {
     "name": "stdout",
     "output_type": "stream",
     "text": [
      "Epoch-13 lr: 0.0009\n"
     ]
    },
    {
     "name": "stderr",
     "output_type": "stream",
     "text": [
      "Epoch 13: 100%|█████████████████████| 18/18 [00:01<00:00, 11.73batch/s, train_batch_accuracy=0]\n",
      "Epoch 13:  67%|█████████████████▎        | 4/6 [00:01<00:00,  5.00batch/s, val_epoch_loss=4.85]"
     ]
    },
    {
     "name": "stdout",
     "output_type": "stream",
     "text": [
      "-----------------------------------\n",
      "-----------------------------------\n",
      "-----------------------------------\n",
      "-----------------------------------\n",
      "-----------------------------------\n"
     ]
    },
    {
     "name": "stderr",
     "output_type": "stream",
     "text": [
      "Epoch 13: 100%|██████████████████████████| 6/6 [00:01<00:00,  5.12batch/s, val_epoch_loss=5.16]\n"
     ]
    },
    {
     "name": "stdout",
     "output_type": "stream",
     "text": [
      "-----------------------------------\n",
      "** Epoch 13 ** - Epoch Time 2\n",
      "Train Loss = 3.7172\n",
      "Train Accuracy = 7.777777777777778 % \n",
      "\n",
      "Val Loss = 6.0641\n",
      "Val epoch Accuracy = 0.2633928571428569 % \n",
      "\n",
      "Val Charge Accuracy = 0.26339285714285715 % \n",
      "\n",
      "Val Charge Color Accuracy = 0.22916666666666666 %\n",
      "\n",
      "Val Shield Color Accuracy = 0.2976190476190476 % \n",
      "\n",
      "EarlyStopping counter: 3 out of 10\n",
      "------------------------------------------------------------\n"
     ]
    },
    {
     "name": "stderr",
     "output_type": "stream",
     "text": [
      "Epoch 14:   0%|                                                      | 0/18 [00:00<?, ?batch/s]"
     ]
    },
    {
     "name": "stdout",
     "output_type": "stream",
     "text": [
      "Epoch-14 lr: 0.0009\n"
     ]
    },
    {
     "name": "stderr",
     "output_type": "stream",
     "text": [
      "Epoch 14: 100%|█████████████████████| 18/18 [00:01<00:00,  9.26batch/s, train_batch_accuracy=0]\n",
      "Epoch 14:  67%|██████████████████         | 4/6 [00:01<00:00,  5.05batch/s, val_epoch_loss=9.3]"
     ]
    },
    {
     "name": "stdout",
     "output_type": "stream",
     "text": [
      "-----------------------------------\n",
      "-----------------------------------\n",
      "-----------------------------------\n",
      "-----------------------------------\n",
      "-----------------------------------\n",
      "-----------------------------------\n"
     ]
    },
    {
     "name": "stderr",
     "output_type": "stream",
     "text": [
      "Epoch 14: 100%|███████████████████████████| 6/6 [00:01<00:00,  5.18batch/s, val_epoch_loss=9.3]\n"
     ]
    },
    {
     "name": "stdout",
     "output_type": "stream",
     "text": [
      "** Epoch 14 ** - Epoch Time 3\n",
      "Train Loss = 3.7758\n",
      "Train Accuracy = 6.666666666666667 % \n",
      "\n",
      "Val Loss = 7.7895\n",
      "Val epoch Accuracy = 0.2680555555555552 % \n",
      "\n",
      "Val Charge Accuracy = 0.2625 % \n",
      "\n",
      "Val Charge Color Accuracy = 0.23333333333333334 %\n",
      "\n",
      "Val Shield Color Accuracy = 0.30833333333333335 % \n",
      "\n",
      "Accuracy increased (0.264520 --> 0.268056).  Saving model ...\n",
      "------------------------------------------------------------\n"
     ]
    },
    {
     "name": "stderr",
     "output_type": "stream",
     "text": [
      "Epoch 15:   0%|                                                      | 0/18 [00:00<?, ?batch/s]"
     ]
    },
    {
     "name": "stdout",
     "output_type": "stream",
     "text": [
      "Epoch-15 lr: 0.0009\n"
     ]
    },
    {
     "name": "stderr",
     "output_type": "stream",
     "text": [
      "Epoch 15: 100%|█████████████████████| 18/18 [00:01<00:00,  9.63batch/s, train_batch_accuracy=0]\n",
      "Epoch 15:  67%|█████████████████▎        | 4/6 [00:01<00:00,  4.89batch/s, val_epoch_loss=5.75]"
     ]
    },
    {
     "name": "stdout",
     "output_type": "stream",
     "text": [
      "-----------------------------------\n",
      "-----------------------------------\n",
      "-----------------------------------\n",
      "-----------------------------------\n",
      "-----------------------------------\n",
      "-----------------------------------\n"
     ]
    },
    {
     "name": "stderr",
     "output_type": "stream",
     "text": [
      "Epoch 15: 100%|██████████████████████████| 6/6 [00:01<00:00,  5.02batch/s, val_epoch_loss=5.75]\n"
     ]
    },
    {
     "name": "stdout",
     "output_type": "stream",
     "text": [
      "** Epoch 15 ** - Epoch Time 3\n",
      "Train Loss = 3.7837\n",
      "Train Accuracy = 3.3333333333333335 % \n",
      "\n",
      "Val Loss = 5.9296\n",
      "Val epoch Accuracy = 0.2647569444444441 % \n",
      "\n",
      "Val Charge Accuracy = 0.2604166666666667 % \n",
      "\n",
      "Val Charge Color Accuracy = 0.23177083333333334 %\n",
      "\n",
      "Val Shield Color Accuracy = 0.3020833333333333 % \n",
      "\n",
      "EarlyStopping counter: 1 out of 10\n",
      "------------------------------------------------------------\n"
     ]
    },
    {
     "name": "stderr",
     "output_type": "stream",
     "text": [
      "Epoch 16:   0%|                                                      | 0/18 [00:00<?, ?batch/s]"
     ]
    },
    {
     "name": "stdout",
     "output_type": "stream",
     "text": [
      "Epoch-16 lr: 0.0009\n"
     ]
    },
    {
     "name": "stderr",
     "output_type": "stream",
     "text": [
      "Epoch 16: 100%|█████████████████████| 18/18 [00:01<00:00,  9.70batch/s, train_batch_accuracy=0]\n",
      "Epoch 16:  67%|█████████████████▎        | 4/6 [00:00<00:00,  5.97batch/s, val_epoch_loss=5.42]"
     ]
    },
    {
     "name": "stdout",
     "output_type": "stream",
     "text": [
      "-----------------------------------\n",
      "-----------------------------------\n",
      "-----------------------------------\n",
      "-----------------------------------\n",
      "-----------------------------------\n",
      "-----------------------------------\n"
     ]
    },
    {
     "name": "stderr",
     "output_type": "stream",
     "text": [
      "Epoch 16: 100%|██████████████████████████| 6/6 [00:01<00:00,  5.98batch/s, val_epoch_loss=5.42]\n"
     ]
    },
    {
     "name": "stdout",
     "output_type": "stream",
     "text": [
      "** Epoch 16 ** - Epoch Time 2\n",
      "Train Loss = 3.7424\n",
      "Train Accuracy = 3.3333333333333335 % \n",
      "\n",
      "Val Loss = 6.5821\n",
      "Val epoch Accuracy = 0.26838235294117607 % \n",
      "\n",
      "Val Charge Accuracy = 0.2659313725490196 % \n",
      "\n",
      "Val Charge Color Accuracy = 0.23284313725490197 %\n",
      "\n",
      "Val Shield Color Accuracy = 0.30637254901960786 % \n",
      "\n",
      "Accuracy increased (0.268056 --> 0.268382).  Saving model ...\n",
      "------------------------------------------------------------\n"
     ]
    },
    {
     "name": "stderr",
     "output_type": "stream",
     "text": [
      "Epoch 17:   0%|                                                      | 0/18 [00:00<?, ?batch/s]"
     ]
    },
    {
     "name": "stdout",
     "output_type": "stream",
     "text": [
      "Epoch-17 lr: 0.0009\n"
     ]
    },
    {
     "name": "stderr",
     "output_type": "stream",
     "text": [
      "Epoch 17: 100%|█████████████████████| 18/18 [00:01<00:00, 10.41batch/s, train_batch_accuracy=0]\n",
      "Epoch 17:  67%|█████████████████▎        | 4/6 [00:01<00:00,  5.23batch/s, val_epoch_loss=4.71]"
     ]
    },
    {
     "name": "stdout",
     "output_type": "stream",
     "text": [
      "-----------------------------------\n",
      "-----------------------------------\n",
      "-----------------------------------\n",
      "-----------------------------------\n",
      "-----------------------------------\n",
      "-----------------------------------\n"
     ]
    },
    {
     "name": "stderr",
     "output_type": "stream",
     "text": [
      "Epoch 17: 100%|██████████████████████████| 6/6 [00:01<00:00,  5.20batch/s, val_epoch_loss=4.71]\n"
     ]
    },
    {
     "name": "stdout",
     "output_type": "stream",
     "text": [
      "** Epoch 17 ** - Epoch Time 2\n",
      "Train Loss = 3.7601\n",
      "Train Accuracy = 2.2222222222222223 % \n",
      "\n",
      "Val Loss = 6.021\n",
      "Val epoch Accuracy = 0.26388888888888845 % \n",
      "\n",
      "Val Charge Accuracy = 0.26157407407407407 % \n",
      "\n",
      "Val Charge Color Accuracy = 0.22685185185185186 %\n",
      "\n",
      "Val Shield Color Accuracy = 0.30324074074074076 % \n",
      "\n",
      "EarlyStopping counter: 1 out of 10\n",
      "------------------------------------------------------------\n"
     ]
    },
    {
     "name": "stderr",
     "output_type": "stream",
     "text": [
      "Epoch 18:   0%|                                                      | 0/18 [00:00<?, ?batch/s]"
     ]
    },
    {
     "name": "stdout",
     "output_type": "stream",
     "text": [
      "Epoch-18 lr: 0.0009\n"
     ]
    },
    {
     "name": "stderr",
     "output_type": "stream",
     "text": [
      "Epoch 18: 100%|████████████████████| 18/18 [00:01<00:00, 11.76batch/s, train_batch_accuracy=20]\n",
      "Epoch 18:  67%|█████████████████▎        | 4/6 [00:01<00:00,  4.84batch/s, val_epoch_loss=6.16]"
     ]
    },
    {
     "name": "stdout",
     "output_type": "stream",
     "text": [
      "-----------------------------------\n",
      "-----------------------------------\n",
      "-----------------------------------\n",
      "-----------------------------------\n",
      "-----------------------------------\n",
      "-----------------------------------\n"
     ]
    },
    {
     "name": "stderr",
     "output_type": "stream",
     "text": [
      "Epoch 18: 100%|██████████████████████████| 6/6 [00:01<00:00,  4.92batch/s, val_epoch_loss=6.16]\n"
     ]
    },
    {
     "name": "stdout",
     "output_type": "stream",
     "text": [
      "** Epoch 18 ** - Epoch Time 2\n",
      "Train Loss = 3.727\n",
      "Train Accuracy = 3.3333333333333335 % \n",
      "\n",
      "Val Loss = 6.2494\n",
      "Val epoch Accuracy = 0.26498538011695855 % \n",
      "\n",
      "Val Charge Accuracy = 0.26206140350877194 % \n",
      "\n",
      "Val Charge Color Accuracy = 0.22587719298245615 %\n",
      "\n",
      "Val Shield Color Accuracy = 0.30701754385964913 % \n",
      "\n",
      "EarlyStopping counter: 2 out of 10\n",
      "------------------------------------------------------------\n"
     ]
    },
    {
     "name": "stderr",
     "output_type": "stream",
     "text": [
      "Epoch 19:   0%|                                                      | 0/18 [00:00<?, ?batch/s]"
     ]
    },
    {
     "name": "stdout",
     "output_type": "stream",
     "text": [
      "Epoch-19 lr: 0.0009\n"
     ]
    },
    {
     "name": "stderr",
     "output_type": "stream",
     "text": [
      "Epoch 19: 100%|█████████████████████| 18/18 [00:01<00:00,  9.28batch/s, train_batch_accuracy=0]\n",
      "Epoch 19:  67%|█████████████████▎        | 4/6 [00:01<00:00,  4.70batch/s, val_epoch_loss=6.37]"
     ]
    },
    {
     "name": "stdout",
     "output_type": "stream",
     "text": [
      "-----------------------------------\n",
      "-----------------------------------\n",
      "-----------------------------------\n",
      "-----------------------------------\n",
      "-----------------------------------\n",
      "-----------------------------------\n"
     ]
    },
    {
     "name": "stderr",
     "output_type": "stream",
     "text": [
      "Epoch 19: 100%|██████████████████████████| 6/6 [00:01<00:00,  4.82batch/s, val_epoch_loss=5.01]\n"
     ]
    },
    {
     "name": "stdout",
     "output_type": "stream",
     "text": [
      "** Epoch 19 ** - Epoch Time 3\n",
      "Train Loss = 3.7563\n",
      "Train Accuracy = 5.555555555555555 % \n",
      "\n",
      "Val Loss = 6.3095\n",
      "Val epoch Accuracy = 0.26666666666666605 % \n",
      "\n",
      "Val Charge Accuracy = 0.2625 % \n",
      "\n",
      "Val Charge Color Accuracy = 0.22708333333333333 %\n",
      "\n",
      "Val Shield Color Accuracy = 0.3104166666666667 % \n",
      "\n",
      "EarlyStopping counter: 3 out of 10\n",
      "------------------------------------------------------------\n"
     ]
    },
    {
     "name": "stderr",
     "output_type": "stream",
     "text": [
      "Epoch 20:   0%|                                                      | 0/18 [00:00<?, ?batch/s]"
     ]
    },
    {
     "name": "stdout",
     "output_type": "stream",
     "text": [
      "Epoch-20 lr: 0.0009\n"
     ]
    },
    {
     "name": "stderr",
     "output_type": "stream",
     "text": [
      "Epoch 20: 100%|█████████████████████| 18/18 [00:01<00:00,  9.41batch/s, train_batch_accuracy=0]\n",
      "Epoch 20:  67%|█████████████████▎        | 4/6 [00:01<00:00,  4.80batch/s, val_epoch_loss=6.42]"
     ]
    },
    {
     "name": "stdout",
     "output_type": "stream",
     "text": [
      "-----------------------------------\n",
      "-----------------------------------\n",
      "-----------------------------------\n",
      "-----------------------------------\n",
      "-----------------------------------\n"
     ]
    },
    {
     "name": "stderr",
     "output_type": "stream",
     "text": [
      "Epoch 20: 100%|██████████████████████████| 6/6 [00:01<00:00,  4.97batch/s, val_epoch_loss=6.45]\n"
     ]
    },
    {
     "name": "stdout",
     "output_type": "stream",
     "text": [
      "-----------------------------------\n",
      "** Epoch 20 ** - Epoch Time 3\n",
      "Train Loss = 3.7431\n",
      "Train Accuracy = 3.3333333333333335 % \n",
      "\n",
      "Val Loss = 6.1939\n",
      "Val epoch Accuracy = 0.26686507936507897 % \n",
      "\n",
      "Val Charge Accuracy = 0.26686507936507936 % \n",
      "\n",
      "Val Charge Color Accuracy = 0.2261904761904762 %\n",
      "\n",
      "Val Shield Color Accuracy = 0.30753968253968256 % \n",
      "\n",
      "EarlyStopping counter: 4 out of 10\n",
      "------------------------------------------------------------\n"
     ]
    },
    {
     "name": "stderr",
     "output_type": "stream",
     "text": [
      "Epoch 21:   0%|                                                      | 0/18 [00:00<?, ?batch/s]"
     ]
    },
    {
     "name": "stdout",
     "output_type": "stream",
     "text": [
      "Epoch-21 lr: 0.0009\n"
     ]
    },
    {
     "name": "stderr",
     "output_type": "stream",
     "text": [
      "Epoch 21: 100%|█████████████████████| 18/18 [00:01<00:00,  9.97batch/s, train_batch_accuracy=0]\n",
      "Epoch 21:  67%|█████████████████▎        | 4/6 [00:01<00:00,  5.41batch/s, val_epoch_loss=6.18]"
     ]
    },
    {
     "name": "stdout",
     "output_type": "stream",
     "text": [
      "-----------------------------------\n",
      "-----------------------------------\n",
      "-----------------------------------\n",
      "-----------------------------------\n",
      "-----------------------------------\n",
      "-----------------------------------\n"
     ]
    },
    {
     "name": "stderr",
     "output_type": "stream",
     "text": [
      "Epoch 21: 100%|██████████████████████████| 6/6 [00:01<00:00,  5.34batch/s, val_epoch_loss=6.18]\n"
     ]
    },
    {
     "name": "stdout",
     "output_type": "stream",
     "text": [
      "** Epoch 21 ** - Epoch Time 2\n",
      "Train Loss = 3.7131\n",
      "Train Accuracy = 7.777777777777778 % \n",
      "\n",
      "Val Loss = 6.0905\n",
      "Val epoch Accuracy = 0.26704545454545425 % \n",
      "\n",
      "Val Charge Accuracy = 0.2689393939393939 % \n",
      "\n",
      "Val Charge Color Accuracy = 0.22537878787878787 %\n",
      "\n",
      "Val Shield Color Accuracy = 0.3068181818181818 % \n",
      "\n",
      "EarlyStopping counter: 5 out of 10\n",
      "------------------------------------------------------------\n"
     ]
    },
    {
     "name": "stderr",
     "output_type": "stream",
     "text": [
      "Epoch 22:   0%|                                                      | 0/18 [00:00<?, ?batch/s]"
     ]
    },
    {
     "name": "stdout",
     "output_type": "stream",
     "text": [
      "Epoch-22 lr: 0.0009\n"
     ]
    },
    {
     "name": "stderr",
     "output_type": "stream",
     "text": [
      "Epoch 22: 100%|█████████████████████| 18/18 [00:01<00:00,  9.67batch/s, train_batch_accuracy=0]\n",
      "Epoch 22:  67%|█████████████████▎        | 4/6 [00:00<00:00,  5.45batch/s, val_epoch_loss=5.92]"
     ]
    },
    {
     "name": "stdout",
     "output_type": "stream",
     "text": [
      "-----------------------------------\n",
      "-----------------------------------\n",
      "-----------------------------------\n",
      "-----------------------------------\n",
      "-----------------------------------\n",
      "-----------------------------------\n"
     ]
    },
    {
     "name": "stderr",
     "output_type": "stream",
     "text": [
      "Epoch 22: 100%|██████████████████████████| 6/6 [00:01<00:00,  5.50batch/s, val_epoch_loss=5.92]\n"
     ]
    },
    {
     "name": "stdout",
     "output_type": "stream",
     "text": [
      "** Epoch 22 ** - Epoch Time 2\n",
      "Train Loss = 3.7448\n",
      "Train Accuracy = 2.2222222222222223 % \n",
      "\n",
      "Val Loss = 6.1204\n",
      "Val epoch Accuracy = 0.26781400966183555 % \n",
      "\n",
      "Val Charge Accuracy = 0.2726449275362319 % \n",
      "\n",
      "Val Charge Color Accuracy = 0.2246376811594203 %\n",
      "\n",
      "Val Shield Color Accuracy = 0.3061594202898551 % \n",
      "\n",
      "EarlyStopping counter: 6 out of 10\n",
      "------------------------------------------------------------\n"
     ]
    },
    {
     "name": "stderr",
     "output_type": "stream",
     "text": [
      "Epoch 23:   0%|                                                      | 0/18 [00:00<?, ?batch/s]"
     ]
    },
    {
     "name": "stdout",
     "output_type": "stream",
     "text": [
      "Epoch-23 lr: 0.0009\n"
     ]
    },
    {
     "name": "stderr",
     "output_type": "stream",
     "text": [
      "Epoch 23: 100%|█████████████████████| 18/18 [00:01<00:00, 10.41batch/s, train_batch_accuracy=0]\n",
      "Epoch 23:  67%|█████████████████▎        | 4/6 [00:01<00:00,  5.16batch/s, val_epoch_loss=3.74]"
     ]
    },
    {
     "name": "stdout",
     "output_type": "stream",
     "text": [
      "-----------------------------------\n",
      "-----------------------------------\n",
      "-----------------------------------\n",
      "-----------------------------------\n",
      "-----------------------------------\n",
      "-----------------------------------\n"
     ]
    },
    {
     "name": "stderr",
     "output_type": "stream",
     "text": [
      "Epoch 23: 100%|██████████████████████████| 6/6 [00:01<00:00,  5.26batch/s, val_epoch_loss=3.74]\n"
     ]
    },
    {
     "name": "stdout",
     "output_type": "stream",
     "text": [
      "** Epoch 23 ** - Epoch Time 2\n",
      "Train Loss = 3.7208\n",
      "Train Accuracy = 4.444444444444445 % \n",
      "\n",
      "Val Loss = 6.0386\n",
      "Val epoch Accuracy = 0.2685185185185185 % \n",
      "\n",
      "Val Charge Accuracy = 0.2725694444444444 % \n",
      "\n",
      "Val Charge Color Accuracy = 0.2309027777777778 %\n",
      "\n",
      "Val Shield Color Accuracy = 0.3020833333333333 % \n",
      "\n",
      "Accuracy increased (0.268382 --> 0.268519).  Saving model ...\n",
      "------------------------------------------------------------\n"
     ]
    },
    {
     "name": "stderr",
     "output_type": "stream",
     "text": [
      "Epoch 24:   0%|                                                      | 0/18 [00:00<?, ?batch/s]"
     ]
    },
    {
     "name": "stdout",
     "output_type": "stream",
     "text": [
      "Epoch-24 lr: 0.0009\n"
     ]
    },
    {
     "name": "stderr",
     "output_type": "stream",
     "text": [
      "Epoch 24: 100%|█████████████████████| 18/18 [00:01<00:00,  9.85batch/s, train_batch_accuracy=0]\n",
      "Epoch 24:  67%|█████████████████▎        | 4/6 [00:00<00:00,  6.04batch/s, val_epoch_loss=4.88]"
     ]
    },
    {
     "name": "stdout",
     "output_type": "stream",
     "text": [
      "-----------------------------------\n",
      "-----------------------------------\n",
      "-----------------------------------\n",
      "-----------------------------------\n",
      "-----------------------------------\n",
      "-----------------------------------\n"
     ]
    },
    {
     "name": "stderr",
     "output_type": "stream",
     "text": [
      "Epoch 24: 100%|██████████████████████████| 6/6 [00:01<00:00,  5.94batch/s, val_epoch_loss=4.88]\n"
     ]
    },
    {
     "name": "stdout",
     "output_type": "stream",
     "text": [
      "** Epoch 24 ** - Epoch Time 2\n",
      "Train Loss = 3.7442\n",
      "Train Accuracy = 3.3333333333333335 % \n",
      "\n",
      "Val Loss = 6.1138\n",
      "Val epoch Accuracy = 0.26861111111111124 % \n",
      "\n",
      "Val Charge Accuracy = 0.2725 % \n",
      "\n",
      "Val Charge Color Accuracy = 0.23166666666666666 %\n",
      "\n",
      "Val Shield Color Accuracy = 0.3016666666666667 % \n",
      "\n",
      "Accuracy increased (0.268519 --> 0.268611).  Saving model ...\n",
      "------------------------------------------------------------\n"
     ]
    },
    {
     "name": "stderr",
     "output_type": "stream",
     "text": [
      "Epoch 25:   0%|                                                      | 0/18 [00:00<?, ?batch/s]"
     ]
    },
    {
     "name": "stdout",
     "output_type": "stream",
     "text": [
      "Epoch-25 lr: 0.0009\n"
     ]
    },
    {
     "name": "stderr",
     "output_type": "stream",
     "text": [
      "Epoch 25: 100%|█████████████████████| 18/18 [00:01<00:00,  9.20batch/s, train_batch_accuracy=0]\n",
      "Epoch 25:  67%|█████████████████▎        | 4/6 [00:01<00:00,  4.98batch/s, val_epoch_loss=6.09]"
     ]
    },
    {
     "name": "stdout",
     "output_type": "stream",
     "text": [
      "-----------------------------------\n",
      "-----------------------------------\n",
      "-----------------------------------\n",
      "-----------------------------------\n",
      "-----------------------------------\n"
     ]
    },
    {
     "name": "stderr",
     "output_type": "stream",
     "text": [
      "Epoch 25: 100%|██████████████████████████| 6/6 [00:01<00:00,  5.13batch/s, val_epoch_loss=6.44]\n"
     ]
    },
    {
     "name": "stdout",
     "output_type": "stream",
     "text": [
      "-----------------------------------\n",
      "** Epoch 25 ** - Epoch Time 3\n",
      "Train Loss = 3.7409\n",
      "Train Accuracy = 5.555555555555555 % \n",
      "\n",
      "Val Loss = 6.242\n",
      "Val epoch Accuracy = 0.26869658119658146 % \n",
      "\n",
      "Val Charge Accuracy = 0.2708333333333333 % \n",
      "\n",
      "Val Charge Color Accuracy = 0.23397435897435898 %\n",
      "\n",
      "Val Shield Color Accuracy = 0.30128205128205127 % \n",
      "\n",
      "Accuracy increased (0.268611 --> 0.268697).  Saving model ...\n",
      "------------------------------------------------------------\n"
     ]
    },
    {
     "name": "stderr",
     "output_type": "stream",
     "text": [
      "Epoch 26:   0%|                                                      | 0/18 [00:00<?, ?batch/s]"
     ]
    },
    {
     "name": "stdout",
     "output_type": "stream",
     "text": [
      "Epoch-26 lr: 0.0009\n"
     ]
    },
    {
     "name": "stderr",
     "output_type": "stream",
     "text": [
      "Epoch 26: 100%|█████████████████████| 18/18 [00:01<00:00,  9.55batch/s, train_batch_accuracy=0]\n",
      "Epoch 26:  67%|█████████████████▎        | 4/6 [00:01<00:00,  5.03batch/s, val_epoch_loss=6.14]"
     ]
    },
    {
     "name": "stdout",
     "output_type": "stream",
     "text": [
      "-----------------------------------\n",
      "-----------------------------------\n",
      "-----------------------------------\n",
      "-----------------------------------\n",
      "-----------------------------------\n"
     ]
    },
    {
     "name": "stderr",
     "output_type": "stream",
     "text": [
      "Epoch 26: 100%|██████████████████████████| 6/6 [00:01<00:00,  5.12batch/s, val_epoch_loss=6.36]\n"
     ]
    },
    {
     "name": "stdout",
     "output_type": "stream",
     "text": [
      "-----------------------------------\n",
      "** Epoch 26 ** - Epoch Time 3\n",
      "Train Loss = 3.7274\n",
      "Train Accuracy = 3.3333333333333335 % \n",
      "\n",
      "Val Loss = 6.2929\n",
      "Val epoch Accuracy = 0.2677469135802473 % \n",
      "\n",
      "Val Charge Accuracy = 0.27237654320987653 % \n",
      "\n",
      "Val Charge Color Accuracy = 0.2345679012345679 %\n",
      "\n",
      "Val Shield Color Accuracy = 0.2962962962962963 % \n",
      "\n",
      "EarlyStopping counter: 1 out of 10\n",
      "------------------------------------------------------------\n"
     ]
    },
    {
     "name": "stderr",
     "output_type": "stream",
     "text": [
      "Epoch 27:   0%|                                                      | 0/18 [00:00<?, ?batch/s]"
     ]
    },
    {
     "name": "stdout",
     "output_type": "stream",
     "text": [
      "Epoch-27 lr: 0.0009\n"
     ]
    },
    {
     "name": "stderr",
     "output_type": "stream",
     "text": [
      "Epoch 27: 100%|█████████████████████| 18/18 [00:01<00:00,  9.91batch/s, train_batch_accuracy=0]\n",
      "Epoch 27:  83%|█████████████████████▋    | 5/6 [00:01<00:00,  6.29batch/s, val_epoch_loss=6.27]"
     ]
    },
    {
     "name": "stdout",
     "output_type": "stream",
     "text": [
      "-----------------------------------\n",
      "-----------------------------------\n",
      "-----------------------------------\n",
      "-----------------------------------\n",
      "-----------------------------------\n",
      "-----------------------------------\n"
     ]
    },
    {
     "name": "stderr",
     "output_type": "stream",
     "text": [
      "Epoch 27: 100%|██████████████████████████| 6/6 [00:01<00:00,  5.44batch/s, val_epoch_loss=6.27]\n"
     ]
    },
    {
     "name": "stdout",
     "output_type": "stream",
     "text": [
      "** Epoch 27 ** - Epoch Time 2\n",
      "Train Loss = 3.724\n",
      "Train Accuracy = 2.2222222222222223 % \n",
      "\n",
      "Val Loss = 6.2919\n",
      "Val epoch Accuracy = 0.2681051587301593 % \n",
      "\n",
      "Val Charge Accuracy = 0.27306547619047616 % \n",
      "\n",
      "Val Charge Color Accuracy = 0.23363095238095238 %\n",
      "\n",
      "Val Shield Color Accuracy = 0.2976190476190476 % \n",
      "\n",
      "EarlyStopping counter: 2 out of 10\n",
      "------------------------------------------------------------\n"
     ]
    },
    {
     "name": "stderr",
     "output_type": "stream",
     "text": [
      "Epoch 28:   0%|                                                      | 0/18 [00:00<?, ?batch/s]"
     ]
    },
    {
     "name": "stdout",
     "output_type": "stream",
     "text": [
      "Epoch-28 lr: 0.0009\n"
     ]
    },
    {
     "name": "stderr",
     "output_type": "stream",
     "text": [
      "Epoch 28: 100%|█████████████████████| 18/18 [00:01<00:00,  9.66batch/s, train_batch_accuracy=0]\n",
      "Epoch 28:  83%|█████████████████████▋    | 5/6 [00:01<00:00,  6.31batch/s, val_epoch_loss=7.44]"
     ]
    },
    {
     "name": "stdout",
     "output_type": "stream",
     "text": [
      "-----------------------------------\n",
      "-----------------------------------\n",
      "-----------------------------------\n",
      "-----------------------------------\n",
      "-----------------------------------\n",
      "-----------------------------------\n"
     ]
    },
    {
     "name": "stderr",
     "output_type": "stream",
     "text": [
      "Epoch 28: 100%|██████████████████████████| 6/6 [00:01<00:00,  5.44batch/s, val_epoch_loss=7.44]\n"
     ]
    },
    {
     "name": "stdout",
     "output_type": "stream",
     "text": [
      "** Epoch 28 ** - Epoch Time 2\n",
      "Train Loss = 3.7112\n",
      "Train Accuracy = 4.444444444444445 % \n",
      "\n",
      "Val Loss = 6.3298\n",
      "Val epoch Accuracy = 0.2677203065134106 % \n",
      "\n",
      "Val Charge Accuracy = 0.27298850574712646 % \n",
      "\n",
      "Val Charge Color Accuracy = 0.23275862068965517 %\n",
      "\n",
      "Val Shield Color Accuracy = 0.2974137931034483 % \n",
      "\n",
      "EarlyStopping counter: 3 out of 10\n",
      "------------------------------------------------------------\n"
     ]
    },
    {
     "name": "stderr",
     "output_type": "stream",
     "text": [
      "Epoch 29:   0%|                                                      | 0/18 [00:00<?, ?batch/s]"
     ]
    },
    {
     "name": "stdout",
     "output_type": "stream",
     "text": [
      "Epoch-29 lr: 0.0009\n"
     ]
    },
    {
     "name": "stderr",
     "output_type": "stream",
     "text": [
      "Epoch 29: 100%|█████████████████████| 18/18 [00:01<00:00,  9.32batch/s, train_batch_accuracy=0]\n",
      "Epoch 29:  67%|█████████████████▎        | 4/6 [00:00<00:00,  5.32batch/s, val_epoch_loss=6.74]"
     ]
    },
    {
     "name": "stdout",
     "output_type": "stream",
     "text": [
      "-----------------------------------\n",
      "-----------------------------------\n",
      "-----------------------------------\n",
      "-----------------------------------\n",
      "-----------------------------------\n"
     ]
    },
    {
     "name": "stderr",
     "output_type": "stream",
     "text": [
      "Epoch 29: 100%|██████████████████████████| 6/6 [00:01<00:00,  5.58batch/s, val_epoch_loss=5.21]\n"
     ]
    },
    {
     "name": "stdout",
     "output_type": "stream",
     "text": [
      "-----------------------------------\n",
      "** Epoch 29 ** - Epoch Time 3\n",
      "Train Loss = 3.6964\n",
      "Train Accuracy = 3.3333333333333335 % \n",
      "\n",
      "Val Loss = 6.3492\n",
      "Val epoch Accuracy = 0.2678240740740748 % \n",
      "\n",
      "Val Charge Accuracy = 0.2743055555555556 % \n",
      "\n",
      "Val Charge Color Accuracy = 0.23194444444444445 %\n",
      "\n",
      "Val Shield Color Accuracy = 0.2972222222222222 % \n",
      "\n",
      "EarlyStopping counter: 4 out of 10\n",
      "------------------------------------------------------------\n"
     ]
    },
    {
     "name": "stderr",
     "output_type": "stream",
     "text": [
      "Epoch 30:   0%|                                                      | 0/18 [00:00<?, ?batch/s]"
     ]
    },
    {
     "name": "stdout",
     "output_type": "stream",
     "text": [
      "Epoch-30 lr: 0.0009\n"
     ]
    },
    {
     "name": "stderr",
     "output_type": "stream",
     "text": [
      "Epoch 30: 100%|█████████████████████| 18/18 [00:01<00:00, 10.18batch/s, train_batch_accuracy=0]\n",
      "Epoch 30:  83%|█████████████████████▋    | 5/6 [00:00<00:00,  6.69batch/s, val_epoch_loss=6.38]"
     ]
    },
    {
     "name": "stdout",
     "output_type": "stream",
     "text": [
      "-----------------------------------\n",
      "-----------------------------------\n",
      "-----------------------------------\n",
      "-----------------------------------\n",
      "-----------------------------------\n",
      "-----------------------------------\n"
     ]
    },
    {
     "name": "stderr",
     "output_type": "stream",
     "text": [
      "Epoch 30: 100%|██████████████████████████| 6/6 [00:01<00:00,  5.79batch/s, val_epoch_loss=6.38]\n"
     ]
    },
    {
     "name": "stdout",
     "output_type": "stream",
     "text": [
      "** Epoch 30 ** - Epoch Time 2\n",
      "Train Loss = 3.7173\n",
      "Train Accuracy = 2.2222222222222223 % \n",
      "\n",
      "Val Loss = 6.3631\n",
      "Val epoch Accuracy = 0.2665770609319004 % \n",
      "\n",
      "Val Charge Accuracy = 0.27553763440860213 % \n",
      "\n",
      "Val Charge Color Accuracy = 0.22849462365591397 %\n",
      "\n",
      "Val Shield Color Accuracy = 0.2956989247311828 % \n",
      "\n",
      "EarlyStopping counter: 5 out of 10\n",
      "------------------------------------------------------------\n"
     ]
    },
    {
     "name": "stderr",
     "output_type": "stream",
     "text": [
      "Epoch 31:   0%|                                                      | 0/18 [00:00<?, ?batch/s]"
     ]
    },
    {
     "name": "stdout",
     "output_type": "stream",
     "text": [
      "Epoch-31 lr: 0.0009\n"
     ]
    },
    {
     "name": "stderr",
     "output_type": "stream",
     "text": [
      "Epoch 31: 100%|█████████████████████| 18/18 [00:01<00:00, 10.33batch/s, train_batch_accuracy=0]\n",
      "Epoch 31:  67%|█████████████████▎        | 4/6 [00:01<00:00,  5.19batch/s, val_epoch_loss=7.73]"
     ]
    },
    {
     "name": "stdout",
     "output_type": "stream",
     "text": [
      "-----------------------------------\n",
      "-----------------------------------\n",
      "-----------------------------------\n",
      "-----------------------------------\n",
      "-----------------------------------\n",
      "-----------------------------------\n"
     ]
    },
    {
     "name": "stderr",
     "output_type": "stream",
     "text": [
      "Epoch 31: 100%|██████████████████████████| 6/6 [00:01<00:00,  5.25batch/s, val_epoch_loss=7.73]\n"
     ]
    },
    {
     "name": "stdout",
     "output_type": "stream",
     "text": [
      "** Epoch 31 ** - Epoch Time 2\n",
      "Train Loss = 3.7325\n",
      "Train Accuracy = 5.555555555555555 % \n",
      "\n",
      "Val Loss = 6.3173\n",
      "Val epoch Accuracy = 0.2682291666666675 % \n",
      "\n",
      "Val Charge Accuracy = 0.2747395833333333 % \n",
      "\n",
      "Val Charge Color Accuracy = 0.22916666666666666 %\n",
      "\n",
      "Val Shield Color Accuracy = 0.30078125 % \n",
      "\n",
      "EarlyStopping counter: 6 out of 10\n",
      "------------------------------------------------------------\n"
     ]
    },
    {
     "name": "stderr",
     "output_type": "stream",
     "text": [
      "Epoch 32:   0%|                                                      | 0/18 [00:00<?, ?batch/s]"
     ]
    },
    {
     "name": "stdout",
     "output_type": "stream",
     "text": [
      "Epoch-32 lr: 0.0009\n"
     ]
    },
    {
     "name": "stderr",
     "output_type": "stream",
     "text": [
      "Epoch 32: 100%|█████████████████████| 18/18 [00:01<00:00,  9.74batch/s, train_batch_accuracy=0]\n",
      "Epoch 32:  67%|█████████████████▎        | 4/6 [00:01<00:00,  5.11batch/s, val_epoch_loss=6.49]"
     ]
    },
    {
     "name": "stdout",
     "output_type": "stream",
     "text": [
      "-----------------------------------\n",
      "-----------------------------------\n",
      "-----------------------------------\n",
      "-----------------------------------\n",
      "-----------------------------------\n",
      "-----------------------------------\n"
     ]
    },
    {
     "name": "stderr",
     "output_type": "stream",
     "text": [
      "Epoch 32: 100%|██████████████████████████| 6/6 [00:01<00:00,  5.30batch/s, val_epoch_loss=6.49]\n"
     ]
    },
    {
     "name": "stdout",
     "output_type": "stream",
     "text": [
      "** Epoch 32 ** - Epoch Time 2\n",
      "Train Loss = 3.7334\n",
      "Train Accuracy = 2.2222222222222223 % \n",
      "\n",
      "Val Loss = 6.4402\n",
      "Val epoch Accuracy = 0.2691498316498326 % \n",
      "\n",
      "Val Charge Accuracy = 0.2746212121212121 % \n",
      "\n",
      "Val Charge Color Accuracy = 0.2335858585858586 %\n",
      "\n",
      "Val Shield Color Accuracy = 0.29924242424242425 % \n",
      "\n",
      "Accuracy increased (0.268697 --> 0.269150).  Saving model ...\n",
      "------------------------------------------------------------\n"
     ]
    },
    {
     "name": "stderr",
     "output_type": "stream",
     "text": [
      "Epoch 33:   0%|                                                      | 0/18 [00:00<?, ?batch/s]"
     ]
    },
    {
     "name": "stdout",
     "output_type": "stream",
     "text": [
      "Epoch-33 lr: 0.0009\n"
     ]
    },
    {
     "name": "stderr",
     "output_type": "stream",
     "text": [
      "Epoch 33: 100%|█████████████████████| 18/18 [00:01<00:00,  9.82batch/s, train_batch_accuracy=0]\n",
      "Epoch 33:  67%|█████████████████▎        | 4/6 [00:01<00:00,  4.71batch/s, val_epoch_loss=5.15]"
     ]
    },
    {
     "name": "stdout",
     "output_type": "stream",
     "text": [
      "-----------------------------------\n",
      "-----------------------------------\n",
      "-----------------------------------\n",
      "-----------------------------------\n",
      "-----------------------------------\n"
     ]
    },
    {
     "name": "stderr",
     "output_type": "stream",
     "text": [
      "Epoch 33: 100%|██████████████████████████| 6/6 [00:01<00:00,  4.84batch/s, val_epoch_loss=8.02]\n"
     ]
    },
    {
     "name": "stdout",
     "output_type": "stream",
     "text": [
      "-----------------------------------\n",
      "** Epoch 33 ** - Epoch Time 3\n",
      "Train Loss = 3.7401\n",
      "Train Accuracy = 3.3333333333333335 % \n",
      "\n",
      "Val Loss = 6.5395\n",
      "Val epoch Accuracy = 0.26879084967320366 % \n",
      "\n",
      "Val Charge Accuracy = 0.2757352941176471 % \n",
      "\n",
      "Val Charge Color Accuracy = 0.23161764705882354 %\n",
      "\n",
      "Val Shield Color Accuracy = 0.29901960784313725 % \n",
      "\n",
      "EarlyStopping counter: 1 out of 10\n",
      "------------------------------------------------------------\n"
     ]
    },
    {
     "name": "stderr",
     "output_type": "stream",
     "text": [
      "Epoch 34:   0%|                                                      | 0/18 [00:00<?, ?batch/s]"
     ]
    },
    {
     "name": "stdout",
     "output_type": "stream",
     "text": [
      "Epoch-34 lr: 0.0009\n"
     ]
    },
    {
     "name": "stderr",
     "output_type": "stream",
     "text": [
      "Epoch 34: 100%|█████████████████████| 18/18 [00:01<00:00,  9.96batch/s, train_batch_accuracy=0]\n",
      "Epoch 34:  67%|█████████████████▎        | 4/6 [00:01<00:00,  5.03batch/s, val_epoch_loss=5.24]"
     ]
    },
    {
     "name": "stdout",
     "output_type": "stream",
     "text": [
      "-----------------------------------\n",
      "-----------------------------------\n",
      "-----------------------------------\n",
      "-----------------------------------\n",
      "-----------------------------------\n"
     ]
    },
    {
     "name": "stderr",
     "output_type": "stream",
     "text": [
      "Epoch 34: 100%|██████████████████████████| 6/6 [00:01<00:00,  5.05batch/s, val_epoch_loss=8.25]\n"
     ]
    },
    {
     "name": "stdout",
     "output_type": "stream",
     "text": [
      "-----------------------------------\n",
      "** Epoch 34 ** - Epoch Time 3\n",
      "Train Loss = 3.7379\n",
      "Train Accuracy = 4.444444444444445 % \n",
      "\n",
      "Val Loss = 6.2177\n",
      "Val epoch Accuracy = 0.2686507936507948 % \n",
      "\n",
      "Val Charge Accuracy = 0.2761904761904762 % \n",
      "\n",
      "Val Charge Color Accuracy = 0.23214285714285715 %\n",
      "\n",
      "Val Shield Color Accuracy = 0.2976190476190476 % \n",
      "\n",
      "EarlyStopping counter: 2 out of 10\n",
      "------------------------------------------------------------\n"
     ]
    },
    {
     "name": "stderr",
     "output_type": "stream",
     "text": [
      "Epoch 35:   0%|                                                      | 0/18 [00:00<?, ?batch/s]"
     ]
    },
    {
     "name": "stdout",
     "output_type": "stream",
     "text": [
      "Epoch-35 lr: 0.0009\n"
     ]
    },
    {
     "name": "stderr",
     "output_type": "stream",
     "text": [
      "Epoch 35: 100%|█████████████████████| 18/18 [00:01<00:00,  9.20batch/s, train_batch_accuracy=0]\n",
      "Epoch 35:  67%|██████████████████         | 4/6 [00:00<00:00,  5.81batch/s, val_epoch_loss=4.6]"
     ]
    },
    {
     "name": "stdout",
     "output_type": "stream",
     "text": [
      "-----------------------------------\n",
      "-----------------------------------\n",
      "-----------------------------------\n",
      "-----------------------------------\n",
      "-----------------------------------\n"
     ]
    },
    {
     "name": "stderr",
     "output_type": "stream",
     "text": [
      "Epoch 35: 100%|██████████████████████████| 6/6 [00:01<00:00,  5.80batch/s, val_epoch_loss=6.94]\n"
     ]
    },
    {
     "name": "stdout",
     "output_type": "stream",
     "text": [
      "-----------------------------------\n",
      "** Epoch 35 ** - Epoch Time 2\n",
      "Train Loss = 3.7129\n",
      "Train Accuracy = 3.3333333333333335 % \n",
      "\n",
      "Val Loss = 6.3526\n",
      "Val epoch Accuracy = 0.26909722222222343 % \n",
      "\n",
      "Val Charge Accuracy = 0.27719907407407407 % \n",
      "\n",
      "Val Charge Color Accuracy = 0.2337962962962963 %\n",
      "\n",
      "Val Shield Color Accuracy = 0.2962962962962963 % \n",
      "\n",
      "EarlyStopping counter: 3 out of 10\n",
      "------------------------------------------------------------\n"
     ]
    },
    {
     "name": "stderr",
     "output_type": "stream",
     "text": [
      "Epoch 36:   0%|                                                      | 0/18 [00:00<?, ?batch/s]"
     ]
    },
    {
     "name": "stdout",
     "output_type": "stream",
     "text": [
      "Epoch-36 lr: 0.0009\n"
     ]
    },
    {
     "name": "stderr",
     "output_type": "stream",
     "text": [
      "Epoch 36: 100%|█████████████████████| 18/18 [00:01<00:00, 10.20batch/s, train_batch_accuracy=0]\n",
      "Epoch 36:  67%|██████████████████         | 4/6 [00:01<00:00,  5.02batch/s, val_epoch_loss=9.5]"
     ]
    },
    {
     "name": "stdout",
     "output_type": "stream",
     "text": [
      "-----------------------------------\n",
      "-----------------------------------\n",
      "-----------------------------------\n",
      "-----------------------------------\n",
      "-----------------------------------\n"
     ]
    },
    {
     "name": "stderr",
     "output_type": "stream",
     "text": [
      "Epoch 36: 100%|██████████████████████████| 6/6 [00:01<00:00,  5.08batch/s, val_epoch_loss=6.37]\n"
     ]
    },
    {
     "name": "stdout",
     "output_type": "stream",
     "text": [
      "-----------------------------------\n",
      "** Epoch 36 ** - Epoch Time 2\n",
      "Train Loss = 3.7192\n",
      "Train Accuracy = 2.2222222222222223 % \n",
      "\n",
      "Val Loss = 6.4162\n",
      "Val epoch Accuracy = 0.26764264264264387 % \n",
      "\n",
      "Val Charge Accuracy = 0.27702702702702703 % \n",
      "\n",
      "Val Charge Color Accuracy = 0.23423423423423423 %\n",
      "\n",
      "Val Shield Color Accuracy = 0.2916666666666667 % \n",
      "\n",
      "EarlyStopping counter: 4 out of 10\n",
      "------------------------------------------------------------\n"
     ]
    },
    {
     "name": "stderr",
     "output_type": "stream",
     "text": [
      "Epoch 37:   0%|                                                      | 0/18 [00:00<?, ?batch/s]"
     ]
    },
    {
     "name": "stdout",
     "output_type": "stream",
     "text": [
      "Epoch-37 lr: 0.0009\n"
     ]
    },
    {
     "name": "stderr",
     "output_type": "stream",
     "text": [
      "Epoch 37: 100%|█████████████████████| 18/18 [00:01<00:00,  9.89batch/s, train_batch_accuracy=0]\n",
      "Epoch 37:  67%|█████████████████▎        | 4/6 [00:00<00:00,  5.83batch/s, val_epoch_loss=6.03]"
     ]
    },
    {
     "name": "stdout",
     "output_type": "stream",
     "text": [
      "-----------------------------------\n",
      "-----------------------------------\n",
      "-----------------------------------\n",
      "-----------------------------------\n",
      "-----------------------------------\n",
      "-----------------------------------\n"
     ]
    },
    {
     "name": "stderr",
     "output_type": "stream",
     "text": [
      "Epoch 37: 100%|██████████████████████████| 6/6 [00:01<00:00,  5.84batch/s, val_epoch_loss=8.05]\n"
     ]
    },
    {
     "name": "stdout",
     "output_type": "stream",
     "text": [
      "** Epoch 37 ** - Epoch Time 2\n",
      "Train Loss = 3.7251\n",
      "Train Accuracy = 2.2222222222222223 % \n",
      "\n",
      "Val Loss = 6.519\n",
      "Val epoch Accuracy = 0.2673611111111124 % \n",
      "\n",
      "Val Charge Accuracy = 0.2768640350877193 % \n",
      "\n",
      "Val Charge Color Accuracy = 0.23793859649122806 %\n",
      "\n",
      "Val Shield Color Accuracy = 0.28728070175438597 % \n",
      "\n",
      "EarlyStopping counter: 5 out of 10\n",
      "------------------------------------------------------------\n"
     ]
    },
    {
     "name": "stderr",
     "output_type": "stream",
     "text": [
      "Epoch 38:   0%|                                                      | 0/18 [00:00<?, ?batch/s]"
     ]
    },
    {
     "name": "stdout",
     "output_type": "stream",
     "text": [
      "Epoch-38 lr: 0.0009\n"
     ]
    },
    {
     "name": "stderr",
     "output_type": "stream",
     "text": [
      "Epoch 38: 100%|█████████████████████| 18/18 [00:01<00:00,  9.79batch/s, train_batch_accuracy=0]\n",
      "Epoch 38:  67%|█████████████████▎        | 4/6 [00:01<00:00,  4.86batch/s, val_epoch_loss=7.68]"
     ]
    },
    {
     "name": "stdout",
     "output_type": "stream",
     "text": [
      "-----------------------------------\n",
      "-----------------------------------\n",
      "-----------------------------------\n",
      "-----------------------------------\n",
      "-----------------------------------\n"
     ]
    },
    {
     "name": "stderr",
     "output_type": "stream",
     "text": [
      "Epoch 38: 100%|██████████████████████████| 6/6 [00:01<00:00,  4.99batch/s, val_epoch_loss=6.89]\n"
     ]
    },
    {
     "name": "stdout",
     "output_type": "stream",
     "text": [
      "-----------------------------------\n",
      "** Epoch 38 ** - Epoch Time 3\n",
      "Train Loss = 3.7206\n",
      "Train Accuracy = 4.444444444444445 % \n",
      "\n",
      "Val Loss = 6.4646\n",
      "Val epoch Accuracy = 0.2678062678062691 % \n",
      "\n",
      "Val Charge Accuracy = 0.2767094017094017 % \n",
      "\n",
      "Val Charge Color Accuracy = 0.23931623931623933 %\n",
      "\n",
      "Val Shield Color Accuracy = 0.28739316239316237 % \n",
      "\n",
      "EarlyStopping counter: 6 out of 10\n",
      "------------------------------------------------------------\n"
     ]
    },
    {
     "name": "stderr",
     "output_type": "stream",
     "text": [
      "Epoch 39:   0%|                                                      | 0/18 [00:00<?, ?batch/s]"
     ]
    },
    {
     "name": "stdout",
     "output_type": "stream",
     "text": [
      "Epoch-39 lr: 0.0009\n"
     ]
    },
    {
     "name": "stderr",
     "output_type": "stream",
     "text": [
      "Epoch 39: 100%|████████████████████| 18/18 [00:01<00:00, 10.24batch/s, train_batch_accuracy=20]\n",
      "Epoch 39:  67%|█████████████████▎        | 4/6 [00:00<00:00,  5.62batch/s, val_epoch_loss=6.53]"
     ]
    },
    {
     "name": "stdout",
     "output_type": "stream",
     "text": [
      "-----------------------------------\n",
      "-----------------------------------\n",
      "-----------------------------------\n",
      "-----------------------------------\n",
      "-----------------------------------\n"
     ]
    },
    {
     "name": "stderr",
     "output_type": "stream",
     "text": [
      "Epoch 39: 100%|██████████████████████████| 6/6 [00:01<00:00,  5.63batch/s, val_epoch_loss=5.15]\n"
     ]
    },
    {
     "name": "stdout",
     "output_type": "stream",
     "text": [
      "-----------------------------------\n",
      "** Epoch 39 ** - Epoch Time 2\n",
      "Train Loss = 3.7232\n",
      "Train Accuracy = 3.3333333333333335 % \n",
      "\n",
      "Val Loss = 6.5342\n",
      "Val epoch Accuracy = 0.26788194444444574 % \n",
      "\n",
      "Val Charge Accuracy = 0.2765625 % \n",
      "\n",
      "Val Charge Color Accuracy = 0.23854166666666668 %\n",
      "\n",
      "Val Shield Color Accuracy = 0.28854166666666664 % \n",
      "\n",
      "EarlyStopping counter: 7 out of 10\n",
      "------------------------------------------------------------\n"
     ]
    },
    {
     "name": "stderr",
     "output_type": "stream",
     "text": [
      "Epoch 40:   0%|                                                      | 0/18 [00:00<?, ?batch/s]"
     ]
    },
    {
     "name": "stdout",
     "output_type": "stream",
     "text": [
      "Epoch-40 lr: 0.0009\n"
     ]
    },
    {
     "name": "stderr",
     "output_type": "stream",
     "text": [
      "Epoch 40: 100%|█████████████████████| 18/18 [00:01<00:00,  9.46batch/s, train_batch_accuracy=0]\n",
      "Epoch 40:  67%|██████████████████         | 4/6 [00:01<00:00,  4.73batch/s, val_epoch_loss=3.8]"
     ]
    },
    {
     "name": "stdout",
     "output_type": "stream",
     "text": [
      "-----------------------------------\n",
      "-----------------------------------\n",
      "-----------------------------------\n",
      "-----------------------------------\n",
      "-----------------------------------\n"
     ]
    },
    {
     "name": "stderr",
     "output_type": "stream",
     "text": [
      "Epoch 40: 100%|███████████████████████████| 6/6 [00:01<00:00,  4.90batch/s, val_epoch_loss=7.6]\n"
     ]
    },
    {
     "name": "stdout",
     "output_type": "stream",
     "text": [
      "-----------------------------------\n",
      "** Epoch 40 ** - Epoch Time 3\n",
      "Train Loss = 3.7241\n",
      "Train Accuracy = 5.555555555555555 % \n",
      "\n",
      "Val Loss = 6.496\n",
      "Val epoch Accuracy = 0.2679539295392966 % \n",
      "\n",
      "Val Charge Accuracy = 0.2774390243902439 % \n",
      "\n",
      "Val Charge Color Accuracy = 0.23780487804878048 %\n",
      "\n",
      "Val Shield Color Accuracy = 0.2886178861788618 % \n",
      "\n",
      "EarlyStopping counter: 8 out of 10\n",
      "------------------------------------------------------------\n"
     ]
    },
    {
     "name": "stderr",
     "output_type": "stream",
     "text": [
      "Epoch 41:   0%|                                                      | 0/18 [00:00<?, ?batch/s]"
     ]
    },
    {
     "name": "stdout",
     "output_type": "stream",
     "text": [
      "Epoch-41 lr: 0.0009\n"
     ]
    },
    {
     "name": "stderr",
     "output_type": "stream",
     "text": [
      "Epoch 41: 100%|█████████████████████| 18/18 [00:01<00:00,  9.30batch/s, train_batch_accuracy=0]\n",
      "Epoch 41:  67%|█████████████████▎        | 4/6 [00:00<00:00,  5.41batch/s, val_epoch_loss=7.73]"
     ]
    },
    {
     "name": "stdout",
     "output_type": "stream",
     "text": [
      "-----------------------------------\n",
      "-----------------------------------\n",
      "-----------------------------------\n",
      "-----------------------------------\n",
      "-----------------------------------\n"
     ]
    },
    {
     "name": "stderr",
     "output_type": "stream",
     "text": [
      "Epoch 41: 100%|██████████████████████████| 6/6 [00:01<00:00,  5.56batch/s, val_epoch_loss=5.03]\n"
     ]
    },
    {
     "name": "stdout",
     "output_type": "stream",
     "text": [
      "-----------------------------------\n",
      "** Epoch 41 ** - Epoch Time 3\n",
      "Train Loss = 3.7175\n",
      "Train Accuracy = 4.444444444444445 % \n",
      "\n",
      "Val Loss = 6.4109\n",
      "Val epoch Accuracy = 0.2683531746031756 % \n",
      "\n",
      "Val Charge Accuracy = 0.27728174603174605 % \n",
      "\n",
      "Val Charge Color Accuracy = 0.2371031746031746 %\n",
      "\n",
      "Val Shield Color Accuracy = 0.2906746031746032 % \n",
      "\n",
      "EarlyStopping counter: 9 out of 10\n",
      "------------------------------------------------------------\n"
     ]
    },
    {
     "name": "stderr",
     "output_type": "stream",
     "text": [
      "Epoch 42:   0%|                                                      | 0/18 [00:00<?, ?batch/s]"
     ]
    },
    {
     "name": "stdout",
     "output_type": "stream",
     "text": [
      "Epoch-42 lr: 0.0009\n"
     ]
    },
    {
     "name": "stderr",
     "output_type": "stream",
     "text": [
      "Epoch 42: 100%|████████████████████| 18/18 [00:01<00:00, 10.06batch/s, train_batch_accuracy=20]\n",
      "Epoch 42:  67%|█████████████████▎        | 4/6 [00:01<00:00,  5.18batch/s, val_epoch_loss=6.37]"
     ]
    },
    {
     "name": "stdout",
     "output_type": "stream",
     "text": [
      "-----------------------------------\n",
      "-----------------------------------\n",
      "-----------------------------------\n",
      "-----------------------------------\n",
      "-----------------------------------\n",
      "-----------------------------------\n"
     ]
    },
    {
     "name": "stderr",
     "output_type": "stream",
     "text": [
      "\r",
      "Epoch 42: 100%|██████████████████████████| 6/6 [00:01<00:00,  5.28batch/s, val_epoch_loss=6.37]"
     ]
    },
    {
     "name": "stdout",
     "output_type": "stream",
     "text": [
      "** Epoch 42 ** - Epoch Time 2\n",
      "Train Loss = 3.7218\n",
      "Train Accuracy = 4.444444444444445 % \n",
      "\n",
      "Val Loss = 6.5162\n",
      "Val epoch Accuracy = 0.2677648578811378 % \n",
      "\n",
      "Val Charge Accuracy = 0.2771317829457364 % \n",
      "\n",
      "Val Charge Color Accuracy = 0.2364341085271318 %\n",
      "\n",
      "Val Shield Color Accuracy = 0.28972868217054265 % \n",
      "\n",
      "EarlyStopping counter: 10 out of 10\n",
      "Early stopping. Stopping the training of the model.\n",
      "Final Accuracy ALL (Overall): 26.0%\n",
      "Final Accuracy Charge-Mod only (Overall): 27.0%\n",
      "Final Accuracy Charge color (Overall): 22.0%\n",
      "Final Accuracy Shield color (Overall): 28.999999999999996%\n",
      "Final train loss (Overall): 3.85\n",
      "Final val loss (Overall): 6.13\n"
     ]
    },
    {
     "name": "stderr",
     "output_type": "stream",
     "text": [
      "\n"
     ]
    }
   ],
   "source": [
    "\n",
    "\n",
    "train_transform_list = [\n",
    "    T.RandomHorizontalFlip(),\n",
    "    T.RandomRotation(10),\n",
    "    T.RandomCrop(224),\n",
    "]\n",
    "\n",
    "# Use RandomApply to apply the transform randomly to some of the images\n",
    "transform_with_random = T.Compose([\n",
    "    T.Resize((height, width)), # mandetory                  \n",
    "    random.choice(train_transform_list),\n",
    "    T.ToTensor(),\n",
    "    T.Normalize(mean, std), # mandetory \n",
    "    Noise(0.1, 0.05), # this should come at the end\n",
    "])\n",
    "\n",
    "transform_for_test = T.Compose([\n",
    "    T.Resize((height,width)),\n",
    "    T.ToTensor(),                               \n",
    "    T.Normalize(mean, std) \n",
    "])\n",
    "\n",
    "train_dataset = CoAClassDataset(images_location, \n",
    "                     train_annotation_file, \n",
    "                     transform=transform_with_random, \n",
    "                     device=device,\n",
    "                     calc_mean=False)\n",
    "\n",
    "val_dataset = CoAClassDataset(images_location, \n",
    "                     val_annotation_file, \n",
    "                     transform=transform_with_random, \n",
    "                     device=device,\n",
    "                     calc_mean=False)\n",
    "\n",
    "test_dataset = CoAClassDataset(images_location, \n",
    "                     test_annotation_file, \n",
    "                     transform=transform_with_random, \n",
    "                     device=device,\n",
    "                     calc_mean=False)\n",
    "\n",
    "train_random_sampler = RandomSampler(train_dataset)\n",
    "val_random_sampler = RandomSampler(val_dataset)\n",
    "test_random_sampler = RandomSampler(test_dataset)\n",
    "\n",
    "# --------------------------------------------------\n",
    "\n",
    "# Shuffle Argument is mutually exclusive with Sampler!\n",
    "train_random_sampler = RandomSampler(train_dataset)\n",
    "val_random_sampler = RandomSampler(val_dataset)\n",
    "test_random_sampler = RandomSampler(test_dataset)\n",
    "\n",
    "# --------------------------------------------------\n",
    "\n",
    "# Shuffle Argument is mutually exclusive with Sampler!\n",
    "train_data_loader = DataLoader(\n",
    "    dataset = train_dataset,\n",
    "    batch_size = BATCH_SIZE,\n",
    "    sampler = train_random_sampler,\n",
    "    num_workers = NUM_WORKER,\n",
    ")\n",
    "\n",
    "val_data_loader = DataLoader(\n",
    "    dataset = val_dataset,\n",
    "    batch_size = BATCH_SIZE,\n",
    "    sampler = val_random_sampler,\n",
    "    num_workers = NUM_WORKER,\n",
    ")\n",
    "\n",
    "test_data_loader = DataLoader(\n",
    "    dataset = test_dataset,\n",
    "    batch_size = BATCH_SIZE,\n",
    "    sampler = test_random_sampler,\n",
    "    num_workers = NUM_WORKER,\n",
    ")    \n",
    "# --------------------------------------------------\n",
    "### Define model\n",
    "model = models.vgg16(pretrained = True)\n",
    "\n",
    "### Modifying last few layers and no of classes\n",
    "# NOTE: cross_entropy loss takes unnormalized op (logits), then function itself applies softmax and calculates loss, so no need to include softmax here\n",
    "model.classifier = nn.Sequential(\n",
    "    nn.Linear(25088, 4096, bias = True),\n",
    "    nn.ReLU(inplace = True),\n",
    "    nn.Dropout(drop_prob),\n",
    "    nn.Linear(4096, 2048, bias = True),\n",
    "    nn.ReLU(inplace = True),\n",
    "    nn.Dropout(drop_prob),\n",
    "    nn.Linear(2048, 200)\n",
    ")\n",
    "\n",
    "# --------------------------------------------------\n",
    "\n",
    "torch.cuda.empty_cache()\n",
    "\n",
    "model.to(device)\n",
    "\n",
    "### Training Details\n",
    "\n",
    "optimizer = torch.optim.Adam(model.parameters(), lr = learning_rate)\n",
    "lr_scheduler = torch.optim.lr_scheduler.StepLR(optimizer, step_size = 5, gamma = 0.75)\n",
    "criterion = nn.CrossEntropyLoss()\n",
    "\n",
    "train_loss = []\n",
    "train_accuracy = []\n",
    "\n",
    "val_loss = []\n",
    "val_accuracy = []\n",
    "\n",
    "epochs = 100\n",
    "CUDA_LAUNCH_BLOCKING=1\n",
    "\n",
    "# --------------------------------------------------\n",
    "\n",
    "model, train_epoch_loss, train_epoch_accuracy, val_epoch_loss, val_epoch_accuracy = train_classification_model(model,optimizer, criterion, lr_scheduler, epochs, train_data_loader, val_data_loader, device)\n",
    "\n",
    "\n",
    "# --------------------------------------------------\n"
   ]
  },
  {
   "cell_type": "code",
   "execution_count": 7,
   "id": "7bef320e",
   "metadata": {
    "scrolled": false
   },
   "outputs": [
    {
     "name": "stdout",
     "output_type": "stream",
     "text": [
      "model has been saved to:  /home/salnabulsi/coat-of-arms/data/new//classification-model-trained-on-only-real-06-17-2023-16:45:20.pth\n",
      "running test directly afterwards\n",
      "<class 'torch.Tensor'>\n",
      "Test Accuracy Standard (in progress) = 0.0 % \n",
      "\n",
      "Test Accuracy ALL (in progress): 17.0%\n",
      "Test Accuracy Charge-Mod only (in progress): 25.0%\n",
      "Test Accuracy Charge color (in progress): 0.0%\n",
      "Test Accuracy Shield color (in progress): 25.0%\n",
      "<class 'torch.Tensor'>\n",
      "Test Accuracy Standard (in progress) = 0.0 % \n",
      "\n",
      "Test Accuracy ALL (in progress): 21.0%\n",
      "Test Accuracy Charge-Mod only (in progress): 12.0%\n",
      "Test Accuracy Charge color (in progress): 0.0%\n",
      "Test Accuracy Shield color (in progress): 50.0%\n",
      "<class 'torch.Tensor'>\n",
      "Test Accuracy Standard (in progress) = 0.0 % \n",
      "\n",
      "Test Accuracy ALL (in progress): 28.999999999999996%\n",
      "Test Accuracy Charge-Mod only (in progress): 28.999999999999996%\n",
      "Test Accuracy Charge color (in progress): 17.0%\n",
      "Test Accuracy Shield color (in progress): 42.0%\n",
      "<class 'torch.Tensor'>\n",
      "Test Accuracy Standard (in progress) = 0.0 % \n",
      "\n",
      "Test Accuracy ALL (in progress): 28.000000000000004%\n",
      "Test Accuracy Charge-Mod only (in progress): 34.0%\n",
      "Test Accuracy Charge color (in progress): 12.0%\n",
      "Test Accuracy Shield color (in progress): 38.0%\n",
      "<class 'torch.Tensor'>\n",
      "Test Accuracy Standard (in progress) = 0.0 % \n",
      "\n",
      "Test Accuracy ALL (in progress): 27.0%\n",
      "Test Accuracy Charge-Mod only (in progress): 35.0%\n",
      "Test Accuracy Charge color (in progress): 10.0%\n",
      "Test Accuracy Shield color (in progress): 35.0%\n",
      "<class 'torch.Tensor'>\n",
      "Test Accuracy Standard (in progress) = 0.0 % \n",
      "\n",
      "Test Accuracy ALL (in progress): 28.000000000000004%\n",
      "Test Accuracy Charge-Mod only (in progress): 38.0%\n",
      "Test Accuracy Charge color (in progress): 8.0%\n",
      "Test Accuracy Shield color (in progress): 38.0%\n",
      "Test Accuracy Standard = 0.0 % \n",
      "\n",
      "Final Test Loss = 6.0065\n",
      "Final Test Accuracy ALL (Overall): 25.0%\n",
      "Final Test Accuracy Charge-Mod only (Overall): 28.999999999999996%\n",
      "Final Test Accuracy Charge color (Overall): 8.0%\n",
      "Final Test Accuracy Shield color (Overall): 38.0%\n"
     ]
    }
   ],
   "source": [
    "\n",
    "from datetime import datetime\n",
    "\n",
    "# save the latest model\n",
    "now = datetime.now() # current date and time\n",
    "timestr = now.strftime(\"%m-%d-%Y-%H:%M:%S\")\n",
    "model_full_path = f\"{data_location}/classification-model-trained-on-only-real-{timestr}.pth\"\n",
    "\n",
    "model.cpu()\n",
    "model_state = {\n",
    "    'model_state_dict': model.state_dict(),\n",
    "    'optimizer_state_dict': optimizer.state_dict(),\n",
    "    'loss': train_epoch_loss,\n",
    "    'accuracy': train_epoch_accuracy\n",
    "}\n",
    "\n",
    "torch.save(model_state, model_full_path)\n",
    "print('model has been saved to: ', model_full_path)\n",
    "\n",
    "print('running test directly afterwards')\n",
    "test_classification_model(model, test_data_loader)\n"
   ]
  },
  {
   "cell_type": "code",
   "execution_count": null,
   "id": "5dadf3ec",
   "metadata": {},
   "outputs": [],
   "source": []
  }
 ],
 "metadata": {
  "kernelspec": {
   "display_name": "Python 3 (ipykernel)",
   "language": "python",
   "name": "python3"
  },
  "language_info": {
   "codemirror_mode": {
    "name": "ipython",
    "version": 3
   },
   "file_extension": ".py",
   "mimetype": "text/x-python",
   "name": "python",
   "nbconvert_exporter": "python",
   "pygments_lexer": "ipython3",
   "version": "3.8.10"
  }
 },
 "nbformat": 4,
 "nbformat_minor": 5
}
