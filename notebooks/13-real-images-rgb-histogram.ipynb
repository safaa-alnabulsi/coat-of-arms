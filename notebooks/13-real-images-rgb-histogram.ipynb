{
 "cells": [
  {
   "cell_type": "code",
   "execution_count": 1,
   "id": "59889884",
   "metadata": {},
   "outputs": [],
   "source": [
    "# auto-load when code changes outside\n",
    "%load_ext autoreload\n",
    "%autoreload 2\n",
    "%load_ext pyinstrument\n",
    "\n",
    "import sys\n",
    "sys.path.insert(0,'..')\n"
   ]
  },
  {
   "cell_type": "code",
   "execution_count": 2,
   "id": "0ecf535d",
   "metadata": {},
   "outputs": [],
   "source": [
    "#imports \n",
    "import os\n",
    "import numpy as np\n",
    "import pandas as pd\n",
    "import torchvision.transforms as T\n",
    "import matplotlib.image as mpimg\n",
    "\n",
    "from src.utils import plot_image, plot_im, save_im\n"
   ]
  },
  {
   "cell_type": "code",
   "execution_count": 4,
   "id": "e1ffba7b",
   "metadata": {
    "scrolled": false
   },
   "outputs": [
    {
     "name": "stdout",
     "output_type": "stream",
     "text": [
      "There are 177 test images\n"
     ]
    },
    {
     "data": {
      "text/html": [
       "<div>\n",
       "<style scoped>\n",
       "    .dataframe tbody tr th:only-of-type {\n",
       "        vertical-align: middle;\n",
       "    }\n",
       "\n",
       "    .dataframe tbody tr th {\n",
       "        vertical-align: top;\n",
       "    }\n",
       "\n",
       "    .dataframe thead th {\n",
       "        text-align: right;\n",
       "    }\n",
       "</style>\n",
       "<table border=\"1\" class=\"dataframe\">\n",
       "  <thead>\n",
       "    <tr style=\"text-align: right;\">\n",
       "      <th></th>\n",
       "      <th>image</th>\n",
       "      <th>caption</th>\n",
       "      <th>psum</th>\n",
       "      <th>psum_sq</th>\n",
       "    </tr>\n",
       "  </thead>\n",
       "  <tbody>\n",
       "    <tr>\n",
       "      <th>0</th>\n",
       "      <td>6423_G A cross.jpg</td>\n",
       "      <td>G A cross</td>\n",
       "      <td>19754.472656</td>\n",
       "      <td>15046.065430</td>\n",
       "    </tr>\n",
       "    <tr>\n",
       "      <th>1</th>\n",
       "      <td>1739_A G cross patonce.jpg</td>\n",
       "      <td>A G cross patonce</td>\n",
       "      <td>18735.156250</td>\n",
       "      <td>14356.203125</td>\n",
       "    </tr>\n",
       "    <tr>\n",
       "      <th>2</th>\n",
       "      <td>2870_O S lion rampant.jpg</td>\n",
       "      <td>O S lion rampant</td>\n",
       "      <td>15362.364258</td>\n",
       "      <td>9554.638672</td>\n",
       "    </tr>\n",
       "    <tr>\n",
       "      <th>3</th>\n",
       "      <td>18746_S A eagle.jpg</td>\n",
       "      <td>S A eagle</td>\n",
       "      <td>13549.989258</td>\n",
       "      <td>9141.958984</td>\n",
       "    </tr>\n",
       "    <tr>\n",
       "      <th>4</th>\n",
       "      <td>29836_G O 3 eagles.jpg</td>\n",
       "      <td>G O 3 eagles</td>\n",
       "      <td>16778.851562</td>\n",
       "      <td>13274.360352</td>\n",
       "    </tr>\n",
       "    <tr>\n",
       "      <th>...</th>\n",
       "      <td>...</td>\n",
       "      <td>...</td>\n",
       "      <td>...</td>\n",
       "      <td>...</td>\n",
       "    </tr>\n",
       "    <tr>\n",
       "      <th>172</th>\n",
       "      <td>29394_G O eagle doubleheaded.jpg</td>\n",
       "      <td>G O eagle doubleheaded</td>\n",
       "      <td>15421.950195</td>\n",
       "      <td>11365.047852</td>\n",
       "    </tr>\n",
       "    <tr>\n",
       "      <th>173</th>\n",
       "      <td>398_A S lion rampant.jpg</td>\n",
       "      <td>A S lion rampant</td>\n",
       "      <td>18646.660156</td>\n",
       "      <td>14093.865234</td>\n",
       "    </tr>\n",
       "    <tr>\n",
       "      <th>174</th>\n",
       "      <td>4459_B O eagle.jpg</td>\n",
       "      <td>B O eagle</td>\n",
       "      <td>17065.537109</td>\n",
       "      <td>11514.578125</td>\n",
       "    </tr>\n",
       "    <tr>\n",
       "      <th>175</th>\n",
       "      <td>5302_O B cross moline.jpg</td>\n",
       "      <td>O B cross moline</td>\n",
       "      <td>18390.984375</td>\n",
       "      <td>13203.470703</td>\n",
       "    </tr>\n",
       "    <tr>\n",
       "      <th>176</th>\n",
       "      <td>7881_G O 2 lions passt guard.jpg</td>\n",
       "      <td>G O 2 lions passt guard</td>\n",
       "      <td>16786.408203</td>\n",
       "      <td>11616.291992</td>\n",
       "    </tr>\n",
       "  </tbody>\n",
       "</table>\n",
       "<p>177 rows × 4 columns</p>\n",
       "</div>"
      ],
      "text/plain": [
       "                                image                  caption          psum  \\\n",
       "0                  6423_G A cross.jpg                G A cross  19754.472656   \n",
       "1          1739_A G cross patonce.jpg        A G cross patonce  18735.156250   \n",
       "2           2870_O S lion rampant.jpg         O S lion rampant  15362.364258   \n",
       "3                 18746_S A eagle.jpg                S A eagle  13549.989258   \n",
       "4              29836_G O 3 eagles.jpg             G O 3 eagles  16778.851562   \n",
       "..                                ...                      ...           ...   \n",
       "172  29394_G O eagle doubleheaded.jpg   G O eagle doubleheaded  15421.950195   \n",
       "173          398_A S lion rampant.jpg         A S lion rampant  18646.660156   \n",
       "174                4459_B O eagle.jpg                B O eagle  17065.537109   \n",
       "175         5302_O B cross moline.jpg         O B cross moline  18390.984375   \n",
       "176  7881_G O 2 lions passt guard.jpg  G O 2 lions passt guard  16786.408203   \n",
       "\n",
       "          psum_sq  \n",
       "0    15046.065430  \n",
       "1    14356.203125  \n",
       "2     9554.638672  \n",
       "3     9141.958984  \n",
       "4    13274.360352  \n",
       "..            ...  \n",
       "172  11365.047852  \n",
       "173  14093.865234  \n",
       "174  11514.578125  \n",
       "175  13203.470703  \n",
       "176  11616.291992  \n",
       "\n",
       "[177 rows x 4 columns]"
      ]
     },
     "execution_count": 4,
     "metadata": {},
     "output_type": "execute_result"
    }
   ],
   "source": [
    "# data_location='/home/salnabulsi/coat-of-arms/data/cropped_coas/out_valid'\n",
    "# data_location='/home/salnabulsi/coat-of-arms/data/cropped_coas/out'\n",
    "# data_location='/Users/salnabulsi/tub/coat-of-arms/data/cropped_coas/out_valid'\n",
    "\n",
    "# data_location='/Users/salnabulsi/tub/coat-of-arms/data/cropped_coas/out'\n",
    "data_location='/home/salnabulsi/coat-of-arms/data/new'\n",
    "\n",
    "test_caption_file  = data_location + '/test_real_captions_psumsq.txt'\n",
    "root_folder_images = data_location + '/images/'\n",
    "# root_folder_images = data_location + '/images/resized/'\n",
    "\n",
    "df = pd.read_csv(test_caption_file)\n",
    "\n",
    "print(\"There are {} test images\".format(len(df)))\n",
    "\n",
    "df"
   ]
  },
  {
   "cell_type": "code",
   "execution_count": 5,
   "id": "585c12e1",
   "metadata": {},
   "outputs": [
    {
     "name": "stderr",
     "output_type": "stream",
     "text": [
      "/home/salnabulsi/.thesis-py38/lib/python3.8/site-packages/torchvision/transforms/functional.py:114: UserWarning: The given NumPy array is not writeable, and PyTorch does not support non-writeable tensors. This means you can write to the underlying (supposedly non-writeable) NumPy array using the tensor. You may want to copy the array to protect its data or make it writeable before converting it to a tensor. This type of warning will be suppressed for the rest of this program. (Triggered internally at  /pytorch/torch/csrc/utils/tensor_numpy.cpp:180.)\n",
      "  img = torch.from_numpy(pic.transpose((2, 0, 1))).contiguous()\n"
     ]
    }
   ],
   "source": [
    "ls = []\n",
    "ims_size = []\n",
    "for im_name in df['image']:\n",
    "    image_full_path = root_folder_images + '/' + im_name\n",
    "    img = mpimg.imread(image_full_path)\n",
    "    trans = T.ToTensor()\n",
    "    img_t = trans(img)\n",
    "    ls.append( img_t.shape )\n",
    "# ls"
   ]
  },
  {
   "cell_type": "code",
   "execution_count": 6,
   "id": "14f8dc63",
   "metadata": {},
   "outputs": [
    {
     "data": {
      "text/plain": [
       "(array([189,   7, 213,  98,  16,   0,   4,   2,   0,   2]),\n",
       " array([   3. ,  213.2,  423.4,  633.6,  843.8, 1054. , 1264.2, 1474.4,\n",
       "        1684.6, 1894.8, 2105. ]))"
      ]
     },
     "execution_count": 6,
     "metadata": {},
     "output_type": "execute_result"
    }
   ],
   "source": [
    "hist, bin_edges = np.histogram(ls)\n",
    "hist, bin_edges"
   ]
  },
  {
   "cell_type": "code",
   "execution_count": 7,
   "id": "d1a0a31b",
   "metadata": {},
   "outputs": [
    {
     "data": {
      "image/png": "[encoded data removed]",
      "text/plain": [
       "<Figure size 432x288 with 1 Axes>"
      ]
     },
     "metadata": {
      "needs_background": "light"
     },
     "output_type": "display_data"
    }
   ],
   "source": [
    "import numpy as np\n",
    "import random\n",
    "from matplotlib import pyplot as plt\n",
    "\n",
    "plt.hist(ls, 5)\n",
    "\n",
    "# plt.hist(bins, bins=hist, alpha=0.5)\n",
    "plt.title('Real data shape')\n",
    "plt.xlabel('variable X (bin size = 5)')\n",
    "plt.ylabel('count')\n",
    "\n",
    "plt.show()\n"
   ]
  },
  {
   "cell_type": "code",
   "execution_count": null,
   "id": "ed277530",
   "metadata": {},
   "outputs": [],
   "source": []
  },
  {
   "cell_type": "code",
   "execution_count": null,
   "id": "a6de4fda",
   "metadata": {},
   "outputs": [],
   "source": []
  }
 ],
 "metadata": {
  "kernelspec": {
   "display_name": "Python 3 (ipykernel)",
   "language": "python",
   "name": "python3"
  },
  "language_info": {
   "codemirror_mode": {
    "name": "ipython",
    "version": 3
   },
   "file_extension": ".py",
   "mimetype": "text/x-python",
   "name": "python",
   "nbconvert_exporter": "python",
   "pygments_lexer": "ipython3",
   "version": "3.8.10"
  }
 },
 "nbformat": 4,
 "nbformat_minor": 5
}
