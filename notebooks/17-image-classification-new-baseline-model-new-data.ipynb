{
 "cells": [
  {
   "cell_type": "code",
   "execution_count": 1,
   "id": "5add87a1",
   "metadata": {},
   "outputs": [
    {
     "name": "stdout",
     "output_type": "stream",
     "text": [
      "| ID | GPU | MEM |\n",
      "------------------\n",
      "|  0 |  0% |  0% |\n"
     ]
    }
   ],
   "source": [
    "# auto-load when code changes outside\n",
    "%load_ext autoreload\n",
    "%autoreload 2\n",
    "%load_ext pyinstrument\n",
    "# Load the TensorBoard notebook extension\n",
    "%load_ext tensorboard\n",
    "\n",
    "import sys\n",
    "sys.path.insert(0,'..')\n",
    "\n",
    "# https://www.kaggle.com/code/jainamshah17/pytorch-starter-image-classification\n",
    "\n",
    "from GPUtil import showUtilization as gpu_usage\n",
    "gpu_usage()                             \n"
   ]
  },
  {
   "cell_type": "code",
   "execution_count": 3,
   "id": "b76b2bae",
   "metadata": {},
   "outputs": [],
   "source": [
    "import os\n",
    "import time\n",
    "import numpy as np\n",
    "import pandas as pd\n",
    "\n",
    "import torch\n",
    "import torch.nn as nn\n",
    "import torch.nn.functional as F\n",
    "\n",
    "from torch.utils.data import DataLoader, Dataset\n",
    "from torch.utils.data import RandomSampler\n",
    "\n",
    "import torchvision.transforms as T\n",
    "import torchvision.models as models\n",
    "from torchvision.utils import make_grid\n",
    "from torch.utils.data import RandomSampler\n",
    "\n",
    "from matplotlib import pyplot as plt\n",
    "\n",
    "from src.caption import Caption\n",
    "from src.baseline.coa_model import save_model, load_model, train_validate_test_split\n",
    "from src.baseline.data_loader import get_mean, get_std\n",
    "\n",
    "\n",
    "import torch\n",
    "import gc\n",
    "# from GPUtil import showUtilization as gpu_usage\n"
   ]
  },
  {
   "cell_type": "markdown",
   "id": "3ccfba26",
   "metadata": {},
   "source": [
    "## shared code"
   ]
  },
  {
   "cell_type": "code",
   "execution_count": 4,
   "id": "5c0699bc",
   "metadata": {},
   "outputs": [],
   "source": [
    "# essential functions \n",
    "def creat_caption_file(filename,columns='image,labels,psum,psum_sq'):\n",
    "    f = open(filename, \"w+\")\n",
    "    f.write(columns)\n",
    "    f.write('\\n')\n",
    "    f.close()\n",
    "\n",
    "def write_line_to_file(filename, line):\n",
    "    with open(filename, 'a') as f:\n",
    "        f.write(line)\n",
    "        f.write('\\n')\n",
    "    f.close()"
   ]
  },
  {
   "cell_type": "code",
   "execution_count": 5,
   "id": "cae1cde8",
   "metadata": {},
   "outputs": [],
   "source": [
    "# extract the main info from the label into three columns \n",
    "\n",
    "def write_break_down_columns(old_caption_file, new_caption_file):\n",
    "    with open(old_caption_file, 'r') as f:\n",
    "        for line in f:\n",
    "            # skip title\n",
    "            if 'image,caption,psum,psum_sq' in line:\n",
    "                continue\n",
    "\n",
    "            image_name, text_label,psum,psum_sq = line.split(',')\n",
    "            text_label = text_label.strip()\n",
    "\n",
    "            struc_label = Caption(text_label, support_plural=True).get_structured()\n",
    "            first_object = struc_label['objects'][0]\n",
    "            mod =  first_object['modifiers'][0] if len( first_object['modifiers']) > 0 else \"\"\n",
    "            write_line_to_file(new_caption_file, f\"{image_name},{first_object['charge']},{mod},{first_object['color']},{psum},{psum_sq}\")\n"
   ]
  },
  {
   "cell_type": "code",
   "execution_count": 6,
   "id": "e5c3a67f",
   "metadata": {},
   "outputs": [],
   "source": [
    "# write back the class number to the annotiation file\n",
    "def get_image_class(item, classes_map):\n",
    "    for k,v in classes_map.items():\n",
    "        if v == item:\n",
    "            return k\n",
    "    return None\n",
    "    \n",
    "def write_class_colum(df, with_class_caption_file, classes_map):\n",
    "    for _,line in df.iterrows():\n",
    "        image_name,charge,mod,color,psum,psum_sq = line['image'],line['charge'],line['mod'],line['color'],line['psum'],line['psum_sq']\n",
    "        image_class = get_image_class((charge, mod, color),classes_map)\n",
    "\n",
    "        write_line_to_file(with_class_caption_file, f\"{image_name},{charge},{mod},{color},{psum},{psum_sq},{image_class}\")\n"
   ]
  },
  {
   "cell_type": "code",
   "execution_count": 7,
   "id": "e41fa606",
   "metadata": {},
   "outputs": [],
   "source": [
    "import os\n",
    "import torch\n",
    "import pandas as pd\n",
    "import torchvision.transforms as T\n",
    "from PIL import Image\n",
    "from torch.utils.data import DataLoader, Dataset\n",
    "from src.baseline.vocabulary import Vocabulary\n",
    "import torchdatasets as td\n",
    "from src.utils import print_time\n",
    "from pathlib import Path\n",
    "\n",
    "\n",
    "class CoAClassDataset(td.Dataset):\n",
    "\n",
    "    def __init__(self, root_dir, captions_file, transform=None, freq_threshold=5, vocab=None, device=\"cpu\", calc_mean=False):\n",
    "        super().__init__()  # for the td.Dataset\n",
    "        self.root_dir = root_dir\n",
    "        self.transform = transform\n",
    "        self.device = device\n",
    "        self.df = pd.read_csv(captions_file)\n",
    "        self.calc_mean = calc_mean\n",
    "\n",
    "        # Get image and caption colum from the dataframe\n",
    "        self.img_names = self.df[\"image\"]\n",
    "        self.classes = self.df[\"class\"]\n",
    "\n",
    "        # Get pixels colum from the dataframe\n",
    "        try:\n",
    "            self.psum = self.df[\"psum\"]\n",
    "        except IndexError:\n",
    "            print('no pixels sum column')\n",
    "\n",
    "        try:\n",
    "            self.psum_sq = self.df[\"psum_sq\"]\n",
    "        except IndexError:\n",
    "            print('no squared pixels sum column')\n",
    "\n",
    "\n",
    "    def __len__(self):\n",
    "        return len(self.df)\n",
    "\n",
    "    def __getitem__(self, idx):\n",
    "        \"\"\"Read the image and return needed information to \n",
    "        be used later by the loader\n",
    "\n",
    "        Args:\n",
    "           idx(int): index of the image we want to read in the list\n",
    "\n",
    "        Returns:\n",
    "            tensor: image tensor \n",
    "            string: image class\n",
    "            float: sum of the pixels -> to calculate the mean \n",
    "            float: squared sum of the pixels -> to calculate the std\n",
    "            string: image file name \n",
    "        \"\"\"\n",
    "        if self.calc_mean == True:\n",
    "            return torch.tensor([]), torch.tensor([]), float(self.psum[idx]), float(self.psum_sq[idx]), self.img_names[idx]\n",
    "        else:\n",
    "            try:\n",
    "                return self._get_image_tensor(idx), self._get_label_class(idx), float(self.psum[idx]), float(self.psum_sq[idx]), self.img_names[idx]\n",
    "            except TypeError or IndexError:\n",
    "                print(f' Error, cannot find image with index: {str(idx)}')\n",
    "\n",
    "    def _get_image_tensor(self, idx):\n",
    "        img_name = self.img_names[idx]\n",
    "\n",
    "        img_location = os.path.join(self.root_dir, img_name)\n",
    "\n",
    "        my_image = Path(img_location)\n",
    "        if not my_image.exists():\n",
    "            print(f'skipping image {img_name}, as it does not exist')\n",
    "\n",
    "        img = Image.open(img_location).convert(\"RGB\")\n",
    "#         print(img)\n",
    "        # apply the transfromation to the image\n",
    "        if self.transform is not None:\n",
    "#             print('self.transform is not None')\n",
    "            img_t = self.transform(img)\n",
    "        else:\n",
    "            trans = T.ToTensor()\n",
    "            img_t = trans(img)\n",
    "#         print('img_t: ',img_t)\n",
    "\n",
    "        return img_t\n",
    "\n",
    "    def _get_label_class(self, idx):\n",
    "        \n",
    "        label_class = self.classes[idx]\n",
    "#         if self.transform is not None:\n",
    "#             label_class_t = self.transform(label_class)\n",
    "#         else:\n",
    "#             trans = T.ToTensor()\n",
    "#             label_class_t = trans(label_class)\n",
    "\n",
    "        return label_class\n",
    "\n",
    "    \n",
    "\n"
   ]
  },
  {
   "cell_type": "code",
   "execution_count": 8,
   "id": "211c6e74",
   "metadata": {},
   "outputs": [],
   "source": [
    "def visualize_one_batch(data_loader):\n",
    "    # Visualize one training batch\n",
    "    for images,classes,_,_,_ in data_loader:\n",
    "        print(type(classes))\n",
    "        fig, ax = plt.subplots(figsize = (25, 25))\n",
    "        ax.set_xticks([])\n",
    "        ax.set_yticks([])\n",
    "        ax.imshow(make_grid(images, 5).permute(1,2,0))\n",
    "        break\n"
   ]
  },
  {
   "cell_type": "code",
   "execution_count": 9,
   "id": "dd44653a",
   "metadata": {},
   "outputs": [],
   "source": [
    "def calc_accuracy(true,pred):\n",
    "    pred = F.softmax(pred, dim = 1)\n",
    "    true = torch.zeros(pred.shape[0], pred.shape[1]).scatter_(1, true.unsqueeze(1), 1.)\n",
    "    acc = (true.argmax(-1) == pred.argmax(-1)).float().detach().numpy()\n",
    "    acc = float((100 * acc.sum()) / len(acc))\n",
    "    return round(acc, 4)\n"
   ]
  },
  {
   "cell_type": "code",
   "execution_count": 63,
   "id": "440a55c6",
   "metadata": {
    "scrolled": false
   },
   "outputs": [],
   "source": [
    "### Training Code\n",
    "from src.pytorchtools import EarlyStopping, EarlyStoppingAccuracy\n",
    "\n",
    "def train_classification_model(model, optimizer, criterion, lr_scheduler, epochs, train_data_loader, val_data_loader, device):\n",
    "    from tqdm import tqdm\n",
    "    \n",
    "    # initialize the early_stopping object\n",
    "    checkpoint_file=f\"{data_location}/classification-checkpoint.pt\"\n",
    "    early_stopping = EarlyStoppingAccuracy(patience=10, verbose=True, path=checkpoint_file)\n",
    "\n",
    "    for epoch in range(epochs):\n",
    "        start = time.time()\n",
    "\n",
    "        #Epoch Loss & Accuracy\n",
    "        train_epoch_loss = []\n",
    "        train_epoch_accuracy = []\n",
    "        _iter = 1\n",
    "\n",
    "        #Val Loss & Accuracy\n",
    "        val_epoch_loss = []\n",
    "        val_epoch_accuracy = []\n",
    "\n",
    "        # Training\n",
    "        with tqdm(train_data_loader, unit=\"batch\") as tepoch:\n",
    "            tepoch.set_description(f\"Epoch {epoch}\")\n",
    "            print('Epoch-{0} lr: {1}'.format(epoch, optimizer.param_groups[0]['lr']))\n",
    "            for images, labels,_,_,_ in tepoch: \n",
    "                images = images.to(device)\n",
    "                labels = labels.to(device)\n",
    "\n",
    "                #Reset Grads\n",
    "                optimizer.zero_grad()\n",
    "\n",
    "                #Forward ->\n",
    "                preds = model(images)\n",
    "\n",
    "                #Calculate Accuracy\n",
    "                acc = calc_accuracy(labels.cpu(), preds.cpu())\n",
    "\n",
    "                #Calculate Loss & Backward, Update Weights (Step)\n",
    "                loss = criterion(preds, labels)\n",
    "                loss.backward()\n",
    "                optimizer.step()\n",
    "#                 lr_scheduler.step()\n",
    "                \n",
    "                #Append loss & acc\n",
    "                loss_value = loss.item()\n",
    "                train_epoch_loss.append(loss_value)\n",
    "                train_epoch_accuracy.append(acc)\n",
    "\n",
    "                tepoch.set_postfix({'train_epoch_loss': loss_value})\n",
    "    #             tepoch.set_postfix({'train_epoch_accuracy',acc})\n",
    "\n",
    "                if _iter % 500 == 0:\n",
    "                    print(\"> Iteration {} < \".format(_iter))\n",
    "                    print(\"Iter Loss = {}\".format(round(loss_value, 4)))\n",
    "                    print(\"Iter Accuracy = {} % \\n\".format(acc))\n",
    "\n",
    "                _iter += 1\n",
    "\n",
    "        # tryinf to free the memory\n",
    "#         gc.collect()\n",
    "#         torch.cuda.empty_cache()\n",
    "#         gpu_usage()                             \n",
    "\n",
    "        #Validation\n",
    "        with tqdm(val_data_loader, unit=\"batch\") as tepoch:\n",
    "            tepoch.set_description(f\"Epoch {epoch}\")\n",
    "            for images, labels,_,_,_ in tepoch:\n",
    "                images = images.to(device)\n",
    "                labels = labels.to(device)\n",
    "\n",
    "                #Forward ->\n",
    "                preds = model(images)\n",
    "\n",
    "                #Calculate Accuracy\n",
    "                acc = calc_accuracy(labels.cpu(), preds.cpu())\n",
    "\n",
    "                #Calculate Loss\n",
    "                loss = criterion(preds, labels)\n",
    "\n",
    "                #Append loss & acc\n",
    "                loss_value = loss.item()\n",
    "                val_epoch_loss.append(loss_value)\n",
    "                val_epoch_accuracy.append(acc)\n",
    "                tepoch.set_postfix({'val_epoch_loss': loss_value})\n",
    "    #             tepoch.set_postfix({'val_epoch_accuracy',acc})\n",
    "\n",
    "\n",
    "        train_epoch_loss = np.mean(train_epoch_loss)\n",
    "        train_epoch_accuracy = np.mean(train_epoch_accuracy)\n",
    "\n",
    "        val_epoch_loss = np.mean(val_epoch_loss)\n",
    "        val_epoch_accuracy = np.mean(val_epoch_accuracy)\n",
    "\n",
    "        end = time.time()\n",
    "\n",
    "        train_loss.append(train_epoch_loss)\n",
    "        train_accuracy.append(train_epoch_accuracy)\n",
    "\n",
    "        val_loss.append(val_epoch_loss)\n",
    "        val_accuracy.append(val_epoch_accuracy)\n",
    "\n",
    "        #Print Epoch Statistics\n",
    "        print(\"** Epoch {} ** - Epoch Time {}\".format(epoch, int(end-start)))\n",
    "        print(\"Train Loss = {}\".format(round(train_epoch_loss, 4)))\n",
    "        print(\"Train Accuracy = {} % \\n\".format(train_epoch_accuracy))\n",
    "        print(\"Val Loss = {}\".format(round(val_epoch_loss, 4)))\n",
    "        print(\"Val Accuracy = {} % \\n\".format(val_epoch_accuracy))\n",
    "        \n",
    "        early_stopping(val_epoch_accuracy, model, optimizer, epoch)\n",
    "           \n",
    "        if early_stopping.early_stop:\n",
    "            print(\"Early stopping. Stopping the training of the model.\")\n",
    "            break\n",
    "\n",
    "    return model, train_epoch_loss, train_epoch_accuracy, val_epoch_loss, val_epoch_accuracy\n",
    "\n",
    "\n"
   ]
  },
  {
   "cell_type": "code",
   "execution_count": 61,
   "id": "01e0a70b",
   "metadata": {},
   "outputs": [],
   "source": [
    "def test_classification_model(model, test_data_loader):\n",
    "    test_epoch_loss = []\n",
    "    test_epoch_accuracy = []\n",
    "\n",
    "    test_loss = []\n",
    "    test_accuracy = []\n",
    "\n",
    "    # model.eval()\n",
    "    with torch.no_grad():\n",
    "        for images, labels,_,_,_ in test_data_loader:\n",
    "            print(type(labels))\n",
    "            images = images.to(\"cpu\")\n",
    "            labels = labels.to(\"cpu\")\n",
    "\n",
    "            #Forward ->\n",
    "            preds = model(images)\n",
    "\n",
    "            #Calculate Accuracy\n",
    "            acc = calc_accuracy(labels.cpu(), preds.cpu())\n",
    "\n",
    "            #Calculate Loss\n",
    "            loss = criterion(preds, labels)\n",
    "\n",
    "            #Append loss & acc\n",
    "            loss_value = loss.item()\n",
    "            test_epoch_loss.append(loss_value)\n",
    "            test_epoch_accuracy.append(acc)\n",
    "\n",
    "    test_epoch_loss = np.mean(test_epoch_loss)\n",
    "    test_epoch_accuracy = np.mean(test_epoch_accuracy)\n",
    "\n",
    "    test_loss.append(test_epoch_loss)\n",
    "    test_accuracy.append(test_epoch_accuracy)\n",
    "\n",
    "    print(\"Test Loss = {}\".format(round(test_epoch_loss, 4)))\n",
    "    print(\"Test Accuracy = {} % \\n\".format(test_epoch_accuracy))\n",
    "\n"
   ]
  },
  {
   "cell_type": "markdown",
   "id": "240a4ea4",
   "metadata": {},
   "source": [
    "# Train on dataset with single object"
   ]
  },
  {
   "cell_type": "markdown",
   "id": "1cd54f65",
   "metadata": {},
   "source": [
    "## Data preprocessing "
   ]
  },
  {
   "cell_type": "code",
   "execution_count": 19,
   "id": "c557d457",
   "metadata": {},
   "outputs": [],
   "source": [
    "\n",
    "MISSING_TOKEN = 'None'"
   ]
  },
  {
   "cell_type": "code",
   "execution_count": 20,
   "id": "22b3dcfa",
   "metadata": {},
   "outputs": [],
   "source": [
    "# data_location =  '../baseline-gen-data/small/'\n",
    "data_location =  '/home/salnabulsi/coat-of-arms/data/new/'\n",
    "caption_file = data_location + 'test_real_captions_psumsq.txt'\n",
    "new_caption_file = data_location + '/new-labels-psumsq.txt'\n",
    "\n",
    "\n"
   ]
  },
  {
   "cell_type": "code",
   "execution_count": 21,
   "id": "0653413e",
   "metadata": {},
   "outputs": [],
   "source": [
    "creat_caption_file(new_caption_file, 'image,charge,mod,color,psum,psum_sq')\n"
   ]
  },
  {
   "cell_type": "code",
   "execution_count": 22,
   "id": "f96969f9",
   "metadata": {},
   "outputs": [],
   "source": [
    "write_break_down_columns(caption_file, new_caption_file)"
   ]
  },
  {
   "cell_type": "code",
   "execution_count": 23,
   "id": "1708ed79",
   "metadata": {},
   "outputs": [
    {
     "data": {
      "text/html": [
       "<div>\n",
       "<style scoped>\n",
       "    .dataframe tbody tr th:only-of-type {\n",
       "        vertical-align: middle;\n",
       "    }\n",
       "\n",
       "    .dataframe tbody tr th {\n",
       "        vertical-align: top;\n",
       "    }\n",
       "\n",
       "    .dataframe thead th {\n",
       "        text-align: right;\n",
       "    }\n",
       "</style>\n",
       "<table border=\"1\" class=\"dataframe\">\n",
       "  <thead>\n",
       "    <tr style=\"text-align: right;\">\n",
       "      <th></th>\n",
       "      <th>image</th>\n",
       "      <th>charge</th>\n",
       "      <th>mod</th>\n",
       "      <th>color</th>\n",
       "      <th>psum</th>\n",
       "      <th>psum_sq</th>\n",
       "    </tr>\n",
       "  </thead>\n",
       "  <tbody>\n",
       "    <tr>\n",
       "      <th>0</th>\n",
       "      <td>6423_G A cross.jpg</td>\n",
       "      <td>cross</td>\n",
       "      <td>None</td>\n",
       "      <td>A</td>\n",
       "      <td>19754.472656</td>\n",
       "      <td>15046.065430</td>\n",
       "    </tr>\n",
       "    <tr>\n",
       "      <th>1</th>\n",
       "      <td>1739_A G cross patonce.jpg</td>\n",
       "      <td>cross</td>\n",
       "      <td>patonce</td>\n",
       "      <td>G</td>\n",
       "      <td>18735.156250</td>\n",
       "      <td>14356.203125</td>\n",
       "    </tr>\n",
       "    <tr>\n",
       "      <th>2</th>\n",
       "      <td>2870_O S lion rampant.jpg</td>\n",
       "      <td>lion</td>\n",
       "      <td>rampant</td>\n",
       "      <td>S</td>\n",
       "      <td>15362.364258</td>\n",
       "      <td>9554.638672</td>\n",
       "    </tr>\n",
       "    <tr>\n",
       "      <th>3</th>\n",
       "      <td>18746_S A eagle.jpg</td>\n",
       "      <td>eagle</td>\n",
       "      <td>None</td>\n",
       "      <td>A</td>\n",
       "      <td>13549.989258</td>\n",
       "      <td>9141.958984</td>\n",
       "    </tr>\n",
       "    <tr>\n",
       "      <th>4</th>\n",
       "      <td>29836_G O 3 eagles.jpg</td>\n",
       "      <td>eagles</td>\n",
       "      <td>None</td>\n",
       "      <td>O</td>\n",
       "      <td>16778.851562</td>\n",
       "      <td>13274.360352</td>\n",
       "    </tr>\n",
       "    <tr>\n",
       "      <th>...</th>\n",
       "      <td>...</td>\n",
       "      <td>...</td>\n",
       "      <td>...</td>\n",
       "      <td>...</td>\n",
       "      <td>...</td>\n",
       "      <td>...</td>\n",
       "    </tr>\n",
       "    <tr>\n",
       "      <th>172</th>\n",
       "      <td>29394_G O eagle doubleheaded.jpg</td>\n",
       "      <td>eagle</td>\n",
       "      <td>doubleheaded</td>\n",
       "      <td>O</td>\n",
       "      <td>15421.950195</td>\n",
       "      <td>11365.047852</td>\n",
       "    </tr>\n",
       "    <tr>\n",
       "      <th>173</th>\n",
       "      <td>398_A S lion rampant.jpg</td>\n",
       "      <td>lion</td>\n",
       "      <td>rampant</td>\n",
       "      <td>S</td>\n",
       "      <td>18646.660156</td>\n",
       "      <td>14093.865234</td>\n",
       "    </tr>\n",
       "    <tr>\n",
       "      <th>174</th>\n",
       "      <td>4459_B O eagle.jpg</td>\n",
       "      <td>eagle</td>\n",
       "      <td>None</td>\n",
       "      <td>O</td>\n",
       "      <td>17065.537109</td>\n",
       "      <td>11514.578125</td>\n",
       "    </tr>\n",
       "    <tr>\n",
       "      <th>175</th>\n",
       "      <td>5302_O B cross moline.jpg</td>\n",
       "      <td>cross</td>\n",
       "      <td>moline</td>\n",
       "      <td>B</td>\n",
       "      <td>18390.984375</td>\n",
       "      <td>13203.470703</td>\n",
       "    </tr>\n",
       "    <tr>\n",
       "      <th>176</th>\n",
       "      <td>7881_G O 2 lions passt guard.jpg</td>\n",
       "      <td>lions</td>\n",
       "      <td>passt guard</td>\n",
       "      <td>O</td>\n",
       "      <td>16786.408203</td>\n",
       "      <td>11616.291992</td>\n",
       "    </tr>\n",
       "  </tbody>\n",
       "</table>\n",
       "<p>177 rows × 6 columns</p>\n",
       "</div>"
      ],
      "text/plain": [
       "                                image  charge           mod color  \\\n",
       "0                  6423_G A cross.jpg   cross          None     A   \n",
       "1          1739_A G cross patonce.jpg   cross       patonce     G   \n",
       "2           2870_O S lion rampant.jpg    lion       rampant     S   \n",
       "3                 18746_S A eagle.jpg   eagle          None     A   \n",
       "4              29836_G O 3 eagles.jpg  eagles          None     O   \n",
       "..                                ...     ...           ...   ...   \n",
       "172  29394_G O eagle doubleheaded.jpg   eagle  doubleheaded     O   \n",
       "173          398_A S lion rampant.jpg    lion       rampant     S   \n",
       "174                4459_B O eagle.jpg   eagle          None     O   \n",
       "175         5302_O B cross moline.jpg   cross        moline     B   \n",
       "176  7881_G O 2 lions passt guard.jpg   lions   passt guard     O   \n",
       "\n",
       "             psum       psum_sq  \n",
       "0    19754.472656  15046.065430  \n",
       "1    18735.156250  14356.203125  \n",
       "2    15362.364258   9554.638672  \n",
       "3    13549.989258   9141.958984  \n",
       "4    16778.851562  13274.360352  \n",
       "..            ...           ...  \n",
       "172  15421.950195  11365.047852  \n",
       "173  18646.660156  14093.865234  \n",
       "174  17065.537109  11514.578125  \n",
       "175  18390.984375  13203.470703  \n",
       "176  16786.408203  11616.291992  \n",
       "\n",
       "[177 rows x 6 columns]"
      ]
     },
     "execution_count": 23,
     "metadata": {},
     "output_type": "execute_result"
    }
   ],
   "source": [
    "\n",
    "df = pd.read_csv(new_caption_file).fillna(MISSING_TOKEN)\n",
    "df"
   ]
  },
  {
   "cell_type": "code",
   "execution_count": 24,
   "id": "cca08f3a",
   "metadata": {},
   "outputs": [
    {
     "data": {
      "text/plain": [
       "charge  mod           color\n",
       "lion    rampant       O        16\n",
       "                      G        12\n",
       "eagle   None          O        11\n",
       "lion    rampant       S        10\n",
       "                      A        10\n",
       "                      B         9\n",
       "eagle   None          A         8\n",
       "cross   None          A         7\n",
       "                      G         7\n",
       "lions   passt guard   O         7\n",
       "eagle   None          S         7\n",
       "                      G         5\n",
       "        doubleheaded  S         5\n",
       "cross   moline        G         5\n",
       "        None          S         5\n",
       "eagles  None          O         4\n",
       "lions   passt guard   S         4\n",
       "eagle   doubleheaded  A         3\n",
       "eagles  None          A         3\n",
       "lions   None          S         3\n",
       "                      A         3\n",
       "eagle   doubleheaded  G         3\n",
       "cross   None          B         2\n",
       "eagle   doubleheaded  O         2\n",
       "eagles  None          G         2\n",
       "cross   moline        O         2\n",
       "        None          O         2\n",
       "        moline        B         2\n",
       "lions   None          G         2\n",
       "cross   moline        S         2\n",
       "lion    rampant       V         2\n",
       "lions   None          B         1\n",
       "        passt         G         1\n",
       "        None          O         1\n",
       "        passt guard   A         1\n",
       "cross   moline        A         1\n",
       "        None          V         1\n",
       "eagle   doubleheaded  B         1\n",
       "cross   patonce       A         1\n",
       "lion    passt guard   O         1\n",
       "                      G         1\n",
       "        None          O         1\n",
       "cross   patonce       G         1\n",
       "dtype: int64"
      ]
     },
     "execution_count": 24,
     "metadata": {},
     "output_type": "execute_result"
    }
   ],
   "source": [
    "# Getting classes\n",
    "column_values = df[['charge','mod', 'color']].value_counts(dropna=False)\n",
    "column_values"
   ]
  },
  {
   "cell_type": "code",
   "execution_count": 25,
   "id": "c3a9847f",
   "metadata": {},
   "outputs": [
    {
     "data": {
      "text/plain": [
       "[('lion', 'rampant', 'O'),\n",
       " ('lion', 'rampant', 'G'),\n",
       " ('eagle', 'None', 'O'),\n",
       " ('lion', 'rampant', 'S'),\n",
       " ('lion', 'rampant', 'A'),\n",
       " ('lion', 'rampant', 'B'),\n",
       " ('eagle', 'None', 'A'),\n",
       " ('cross', 'None', 'A'),\n",
       " ('cross', 'None', 'G'),\n",
       " ('lions', 'passt guard', 'O'),\n",
       " ('eagle', 'None', 'S'),\n",
       " ('eagle', 'None', 'G'),\n",
       " ('eagle', 'doubleheaded', 'S'),\n",
       " ('cross', 'moline', 'G'),\n",
       " ('cross', 'None', 'S'),\n",
       " ('eagles', 'None', 'O'),\n",
       " ('lions', 'passt guard', 'S'),\n",
       " ('eagle', 'doubleheaded', 'A'),\n",
       " ('eagles', 'None', 'A'),\n",
       " ('lions', 'None', 'S'),\n",
       " ('lions', 'None', 'A'),\n",
       " ('eagle', 'doubleheaded', 'G'),\n",
       " ('cross', 'None', 'B'),\n",
       " ('eagle', 'doubleheaded', 'O'),\n",
       " ('eagles', 'None', 'G'),\n",
       " ('cross', 'moline', 'O'),\n",
       " ('cross', 'None', 'O'),\n",
       " ('cross', 'moline', 'B'),\n",
       " ('lions', 'None', 'G'),\n",
       " ('cross', 'moline', 'S'),\n",
       " ('lion', 'rampant', 'V'),\n",
       " ('lions', 'None', 'B'),\n",
       " ('lions', 'passt', 'G'),\n",
       " ('lions', 'None', 'O'),\n",
       " ('lions', 'passt guard', 'A'),\n",
       " ('cross', 'moline', 'A'),\n",
       " ('cross', 'None', 'V'),\n",
       " ('eagle', 'doubleheaded', 'B'),\n",
       " ('cross', 'patonce', 'A'),\n",
       " ('lion', 'passt guard', 'O'),\n",
       " ('lion', 'passt guard', 'G'),\n",
       " ('lion', 'None', 'O'),\n",
       " ('cross', 'patonce', 'G')]"
      ]
     },
     "execution_count": 25,
     "metadata": {},
     "output_type": "execute_result"
    }
   ],
   "source": [
    "classes = list(column_values.to_dict().keys())\n",
    "classes"
   ]
  },
  {
   "cell_type": "code",
   "execution_count": 26,
   "id": "c72bf44b",
   "metadata": {},
   "outputs": [
    {
     "data": {
      "text/plain": [
       "43"
      ]
     },
     "execution_count": 26,
     "metadata": {},
     "output_type": "execute_result"
    }
   ],
   "source": [
    "len(classes)"
   ]
  },
  {
   "cell_type": "code",
   "execution_count": 27,
   "id": "14cac2fc",
   "metadata": {},
   "outputs": [
    {
     "data": {
      "text/plain": [
       "tuple"
      ]
     },
     "execution_count": 27,
     "metadata": {},
     "output_type": "execute_result"
    }
   ],
   "source": [
    "type(classes[0])"
   ]
  },
  {
   "cell_type": "code",
   "execution_count": 28,
   "id": "1f25762b",
   "metadata": {},
   "outputs": [
    {
     "data": {
      "text/plain": [
       "{0: ('lion', 'rampant', 'O'),\n",
       " 1: ('lion', 'rampant', 'G'),\n",
       " 2: ('eagle', 'None', 'O'),\n",
       " 3: ('lion', 'rampant', 'S'),\n",
       " 4: ('lion', 'rampant', 'A'),\n",
       " 5: ('lion', 'rampant', 'B'),\n",
       " 6: ('eagle', 'None', 'A'),\n",
       " 7: ('cross', 'None', 'A'),\n",
       " 8: ('cross', 'None', 'G'),\n",
       " 9: ('lions', 'passt guard', 'O'),\n",
       " 10: ('eagle', 'None', 'S'),\n",
       " 11: ('eagle', 'None', 'G'),\n",
       " 12: ('eagle', 'doubleheaded', 'S'),\n",
       " 13: ('cross', 'moline', 'G'),\n",
       " 14: ('cross', 'None', 'S'),\n",
       " 15: ('eagles', 'None', 'O'),\n",
       " 16: ('lions', 'passt guard', 'S'),\n",
       " 17: ('eagle', 'doubleheaded', 'A'),\n",
       " 18: ('eagles', 'None', 'A'),\n",
       " 19: ('lions', 'None', 'S'),\n",
       " 20: ('lions', 'None', 'A'),\n",
       " 21: ('eagle', 'doubleheaded', 'G'),\n",
       " 22: ('cross', 'None', 'B'),\n",
       " 23: ('eagle', 'doubleheaded', 'O'),\n",
       " 24: ('eagles', 'None', 'G'),\n",
       " 25: ('cross', 'moline', 'O'),\n",
       " 26: ('cross', 'None', 'O'),\n",
       " 27: ('cross', 'moline', 'B'),\n",
       " 28: ('lions', 'None', 'G'),\n",
       " 29: ('cross', 'moline', 'S'),\n",
       " 30: ('lion', 'rampant', 'V'),\n",
       " 31: ('lions', 'None', 'B'),\n",
       " 32: ('lions', 'passt', 'G'),\n",
       " 33: ('lions', 'None', 'O'),\n",
       " 34: ('lions', 'passt guard', 'A'),\n",
       " 35: ('cross', 'moline', 'A'),\n",
       " 36: ('cross', 'None', 'V'),\n",
       " 37: ('eagle', 'doubleheaded', 'B'),\n",
       " 38: ('cross', 'patonce', 'A'),\n",
       " 39: ('lion', 'passt guard', 'O'),\n",
       " 40: ('lion', 'passt guard', 'G'),\n",
       " 41: ('lion', 'None', 'O'),\n",
       " 42: ('cross', 'patonce', 'G')}"
      ]
     },
     "execution_count": 28,
     "metadata": {},
     "output_type": "execute_result"
    }
   ],
   "source": [
    "# Give unique number to each class, , easier than handeling an enum of three strings!\n",
    "\n",
    "CLASSES_MAP = {}\n",
    "for i in range(len(classes)):\n",
    "    CLASSES_MAP[i] = classes[i]\n",
    "    \n",
    "CLASSES_MAP\n"
   ]
  },
  {
   "cell_type": "code",
   "execution_count": 29,
   "id": "dacc6807",
   "metadata": {},
   "outputs": [
    {
     "data": {
      "text/plain": [
       "dict_keys([0, 1, 2, 3, 4, 5, 6, 7, 8, 9, 10, 11, 12, 13, 14, 15, 16, 17, 18, 19, 20, 21, 22, 23, 24, 25, 26, 27, 28, 29, 30, 31, 32, 33, 34, 35, 36, 37, 38, 39, 40, 41, 42])"
      ]
     },
     "execution_count": 29,
     "metadata": {},
     "output_type": "execute_result"
    }
   ],
   "source": [
    "classes_to_int = CLASSES_MAP.keys()\n",
    "classes_to_int"
   ]
  },
  {
   "cell_type": "code",
   "execution_count": 30,
   "id": "d476ae2e",
   "metadata": {},
   "outputs": [],
   "source": [
    "new_with_class_caption_file = data_location + '/new-labels-class-psumsq.txt'\n"
   ]
  },
  {
   "cell_type": "code",
   "execution_count": 31,
   "id": "b4aa3512",
   "metadata": {},
   "outputs": [],
   "source": [
    "creat_caption_file(new_with_class_caption_file, 'image,charge,mod,color,psum,psum_sq,class')\n"
   ]
  },
  {
   "cell_type": "code",
   "execution_count": 32,
   "id": "4820b71b",
   "metadata": {},
   "outputs": [],
   "source": [
    "write_class_colum(df, new_with_class_caption_file, CLASSES_MAP)\n",
    "    "
   ]
  },
  {
   "cell_type": "code",
   "execution_count": 33,
   "id": "4caee9f9",
   "metadata": {},
   "outputs": [
    {
     "data": {
      "text/html": [
       "<div>\n",
       "<style scoped>\n",
       "    .dataframe tbody tr th:only-of-type {\n",
       "        vertical-align: middle;\n",
       "    }\n",
       "\n",
       "    .dataframe tbody tr th {\n",
       "        vertical-align: top;\n",
       "    }\n",
       "\n",
       "    .dataframe thead th {\n",
       "        text-align: right;\n",
       "    }\n",
       "</style>\n",
       "<table border=\"1\" class=\"dataframe\">\n",
       "  <thead>\n",
       "    <tr style=\"text-align: right;\">\n",
       "      <th></th>\n",
       "      <th>image</th>\n",
       "      <th>charge</th>\n",
       "      <th>mod</th>\n",
       "      <th>color</th>\n",
       "      <th>psum</th>\n",
       "      <th>psum_sq</th>\n",
       "      <th>class</th>\n",
       "    </tr>\n",
       "  </thead>\n",
       "  <tbody>\n",
       "    <tr>\n",
       "      <th>0</th>\n",
       "      <td>6423_G A cross.jpg</td>\n",
       "      <td>cross</td>\n",
       "      <td>None</td>\n",
       "      <td>A</td>\n",
       "      <td>19754.472656</td>\n",
       "      <td>15046.065430</td>\n",
       "      <td>7</td>\n",
       "    </tr>\n",
       "    <tr>\n",
       "      <th>1</th>\n",
       "      <td>1739_A G cross patonce.jpg</td>\n",
       "      <td>cross</td>\n",
       "      <td>patonce</td>\n",
       "      <td>G</td>\n",
       "      <td>18735.156250</td>\n",
       "      <td>14356.203125</td>\n",
       "      <td>42</td>\n",
       "    </tr>\n",
       "    <tr>\n",
       "      <th>2</th>\n",
       "      <td>2870_O S lion rampant.jpg</td>\n",
       "      <td>lion</td>\n",
       "      <td>rampant</td>\n",
       "      <td>S</td>\n",
       "      <td>15362.364258</td>\n",
       "      <td>9554.638672</td>\n",
       "      <td>3</td>\n",
       "    </tr>\n",
       "    <tr>\n",
       "      <th>3</th>\n",
       "      <td>18746_S A eagle.jpg</td>\n",
       "      <td>eagle</td>\n",
       "      <td>None</td>\n",
       "      <td>A</td>\n",
       "      <td>13549.989258</td>\n",
       "      <td>9141.958984</td>\n",
       "      <td>6</td>\n",
       "    </tr>\n",
       "    <tr>\n",
       "      <th>4</th>\n",
       "      <td>29836_G O 3 eagles.jpg</td>\n",
       "      <td>eagles</td>\n",
       "      <td>None</td>\n",
       "      <td>O</td>\n",
       "      <td>16778.851562</td>\n",
       "      <td>13274.360352</td>\n",
       "      <td>15</td>\n",
       "    </tr>\n",
       "    <tr>\n",
       "      <th>...</th>\n",
       "      <td>...</td>\n",
       "      <td>...</td>\n",
       "      <td>...</td>\n",
       "      <td>...</td>\n",
       "      <td>...</td>\n",
       "      <td>...</td>\n",
       "      <td>...</td>\n",
       "    </tr>\n",
       "    <tr>\n",
       "      <th>172</th>\n",
       "      <td>29394_G O eagle doubleheaded.jpg</td>\n",
       "      <td>eagle</td>\n",
       "      <td>doubleheaded</td>\n",
       "      <td>O</td>\n",
       "      <td>15421.950195</td>\n",
       "      <td>11365.047852</td>\n",
       "      <td>23</td>\n",
       "    </tr>\n",
       "    <tr>\n",
       "      <th>173</th>\n",
       "      <td>398_A S lion rampant.jpg</td>\n",
       "      <td>lion</td>\n",
       "      <td>rampant</td>\n",
       "      <td>S</td>\n",
       "      <td>18646.660156</td>\n",
       "      <td>14093.865234</td>\n",
       "      <td>3</td>\n",
       "    </tr>\n",
       "    <tr>\n",
       "      <th>174</th>\n",
       "      <td>4459_B O eagle.jpg</td>\n",
       "      <td>eagle</td>\n",
       "      <td>None</td>\n",
       "      <td>O</td>\n",
       "      <td>17065.537109</td>\n",
       "      <td>11514.578125</td>\n",
       "      <td>2</td>\n",
       "    </tr>\n",
       "    <tr>\n",
       "      <th>175</th>\n",
       "      <td>5302_O B cross moline.jpg</td>\n",
       "      <td>cross</td>\n",
       "      <td>moline</td>\n",
       "      <td>B</td>\n",
       "      <td>18390.984375</td>\n",
       "      <td>13203.470703</td>\n",
       "      <td>27</td>\n",
       "    </tr>\n",
       "    <tr>\n",
       "      <th>176</th>\n",
       "      <td>7881_G O 2 lions passt guard.jpg</td>\n",
       "      <td>lions</td>\n",
       "      <td>passt guard</td>\n",
       "      <td>O</td>\n",
       "      <td>16786.408203</td>\n",
       "      <td>11616.291992</td>\n",
       "      <td>9</td>\n",
       "    </tr>\n",
       "  </tbody>\n",
       "</table>\n",
       "<p>177 rows × 7 columns</p>\n",
       "</div>"
      ],
      "text/plain": [
       "                                image  charge           mod color  \\\n",
       "0                  6423_G A cross.jpg   cross          None     A   \n",
       "1          1739_A G cross patonce.jpg   cross       patonce     G   \n",
       "2           2870_O S lion rampant.jpg    lion       rampant     S   \n",
       "3                 18746_S A eagle.jpg   eagle          None     A   \n",
       "4              29836_G O 3 eagles.jpg  eagles          None     O   \n",
       "..                                ...     ...           ...   ...   \n",
       "172  29394_G O eagle doubleheaded.jpg   eagle  doubleheaded     O   \n",
       "173          398_A S lion rampant.jpg    lion       rampant     S   \n",
       "174                4459_B O eagle.jpg   eagle          None     O   \n",
       "175         5302_O B cross moline.jpg   cross        moline     B   \n",
       "176  7881_G O 2 lions passt guard.jpg   lions   passt guard     O   \n",
       "\n",
       "             psum       psum_sq  class  \n",
       "0    19754.472656  15046.065430      7  \n",
       "1    18735.156250  14356.203125     42  \n",
       "2    15362.364258   9554.638672      3  \n",
       "3    13549.989258   9141.958984      6  \n",
       "4    16778.851562  13274.360352     15  \n",
       "..            ...           ...    ...  \n",
       "172  15421.950195  11365.047852     23  \n",
       "173  18646.660156  14093.865234      3  \n",
       "174  17065.537109  11514.578125      2  \n",
       "175  18390.984375  13203.470703     27  \n",
       "176  16786.408203  11616.291992      9  \n",
       "\n",
       "[177 rows x 7 columns]"
      ]
     },
     "execution_count": 33,
     "metadata": {},
     "output_type": "execute_result"
    }
   ],
   "source": [
    "\n",
    "df_new = pd.read_csv(new_with_class_caption_file)\n",
    "df_new"
   ]
  },
  {
   "cell_type": "code",
   "execution_count": 34,
   "id": "f5c47c47",
   "metadata": {},
   "outputs": [
    {
     "name": "stdout",
     "output_type": "stream",
     "text": [
      "There are 106 train images\n",
      "There are 35 val images\n",
      "There are 36 test images\n"
     ]
    },
    {
     "data": {
      "text/html": [
       "<div>\n",
       "<style scoped>\n",
       "    .dataframe tbody tr th:only-of-type {\n",
       "        vertical-align: middle;\n",
       "    }\n",
       "\n",
       "    .dataframe tbody tr th {\n",
       "        vertical-align: top;\n",
       "    }\n",
       "\n",
       "    .dataframe thead th {\n",
       "        text-align: right;\n",
       "    }\n",
       "</style>\n",
       "<table border=\"1\" class=\"dataframe\">\n",
       "  <thead>\n",
       "    <tr style=\"text-align: right;\">\n",
       "      <th></th>\n",
       "      <th>image</th>\n",
       "      <th>charge</th>\n",
       "      <th>mod</th>\n",
       "      <th>color</th>\n",
       "      <th>psum</th>\n",
       "      <th>psum_sq</th>\n",
       "      <th>class</th>\n",
       "    </tr>\n",
       "  </thead>\n",
       "  <tbody>\n",
       "    <tr>\n",
       "      <th>0</th>\n",
       "      <td>87_G A cross.jpg</td>\n",
       "      <td>cross</td>\n",
       "      <td>None</td>\n",
       "      <td>A</td>\n",
       "      <td>16607.636719</td>\n",
       "      <td>11454.643555</td>\n",
       "      <td>7</td>\n",
       "    </tr>\n",
       "    <tr>\n",
       "      <th>1</th>\n",
       "      <td>4382_B A 2 lions passt guard.jpg</td>\n",
       "      <td>lions</td>\n",
       "      <td>passt guard</td>\n",
       "      <td>A</td>\n",
       "      <td>16040.631836</td>\n",
       "      <td>11036.284180</td>\n",
       "      <td>34</td>\n",
       "    </tr>\n",
       "    <tr>\n",
       "      <th>2</th>\n",
       "      <td>17941_A G lion rampant.jpg</td>\n",
       "      <td>lion</td>\n",
       "      <td>rampant</td>\n",
       "      <td>G</td>\n",
       "      <td>19688.000000</td>\n",
       "      <td>15166.090820</td>\n",
       "      <td>1</td>\n",
       "    </tr>\n",
       "    <tr>\n",
       "      <th>3</th>\n",
       "      <td>4289_V A lion rampant.jpg</td>\n",
       "      <td>lion</td>\n",
       "      <td>rampant</td>\n",
       "      <td>A</td>\n",
       "      <td>17711.251953</td>\n",
       "      <td>12160.342773</td>\n",
       "      <td>4</td>\n",
       "    </tr>\n",
       "    <tr>\n",
       "      <th>4</th>\n",
       "      <td>6610_O S lion rampant.jpg</td>\n",
       "      <td>lion</td>\n",
       "      <td>rampant</td>\n",
       "      <td>S</td>\n",
       "      <td>15834.119141</td>\n",
       "      <td>10824.548828</td>\n",
       "      <td>3</td>\n",
       "    </tr>\n",
       "    <tr>\n",
       "      <th>5</th>\n",
       "      <td>21370_A B lion rampant.jpg</td>\n",
       "      <td>lion</td>\n",
       "      <td>rampant</td>\n",
       "      <td>B</td>\n",
       "      <td>18375.636719</td>\n",
       "      <td>13869.170898</td>\n",
       "      <td>5</td>\n",
       "    </tr>\n",
       "    <tr>\n",
       "      <th>6</th>\n",
       "      <td>3921_A S 2 lions passt guard.jpg</td>\n",
       "      <td>lions</td>\n",
       "      <td>passt guard</td>\n",
       "      <td>S</td>\n",
       "      <td>18216.380859</td>\n",
       "      <td>13140.337891</td>\n",
       "      <td>16</td>\n",
       "    </tr>\n",
       "    <tr>\n",
       "      <th>7</th>\n",
       "      <td>32013_B A lion rampant.jpg</td>\n",
       "      <td>lion</td>\n",
       "      <td>rampant</td>\n",
       "      <td>A</td>\n",
       "      <td>15471.375977</td>\n",
       "      <td>9641.772461</td>\n",
       "      <td>4</td>\n",
       "    </tr>\n",
       "    <tr>\n",
       "      <th>8</th>\n",
       "      <td>1537_A S eagle doubleheaded.jpg</td>\n",
       "      <td>eagle</td>\n",
       "      <td>doubleheaded</td>\n",
       "      <td>S</td>\n",
       "      <td>18435.945312</td>\n",
       "      <td>13167.025391</td>\n",
       "      <td>12</td>\n",
       "    </tr>\n",
       "    <tr>\n",
       "      <th>9</th>\n",
       "      <td>19320_A S cross.jpg</td>\n",
       "      <td>cross</td>\n",
       "      <td>None</td>\n",
       "      <td>S</td>\n",
       "      <td>14748.231445</td>\n",
       "      <td>11295.405273</td>\n",
       "      <td>14</td>\n",
       "    </tr>\n",
       "    <tr>\n",
       "      <th>10</th>\n",
       "      <td>4459_B O eagle.jpg</td>\n",
       "      <td>eagle</td>\n",
       "      <td>None</td>\n",
       "      <td>O</td>\n",
       "      <td>17065.537109</td>\n",
       "      <td>11514.578125</td>\n",
       "      <td>2</td>\n",
       "    </tr>\n",
       "    <tr>\n",
       "      <th>11</th>\n",
       "      <td>19188_O G cross.jpg</td>\n",
       "      <td>cross</td>\n",
       "      <td>None</td>\n",
       "      <td>G</td>\n",
       "      <td>20937.501953</td>\n",
       "      <td>16216.572266</td>\n",
       "      <td>8</td>\n",
       "    </tr>\n",
       "    <tr>\n",
       "      <th>12</th>\n",
       "      <td>1293_O G lion rampant.jpg</td>\n",
       "      <td>lion</td>\n",
       "      <td>rampant</td>\n",
       "      <td>G</td>\n",
       "      <td>19208.078125</td>\n",
       "      <td>14720.148438</td>\n",
       "      <td>1</td>\n",
       "    </tr>\n",
       "    <tr>\n",
       "      <th>13</th>\n",
       "      <td>3957_G A eagle.jpg</td>\n",
       "      <td>eagle</td>\n",
       "      <td>None</td>\n",
       "      <td>A</td>\n",
       "      <td>17433.726562</td>\n",
       "      <td>12444.656250</td>\n",
       "      <td>6</td>\n",
       "    </tr>\n",
       "    <tr>\n",
       "      <th>14</th>\n",
       "      <td>6358_A V lion rampant.jpg</td>\n",
       "      <td>lion</td>\n",
       "      <td>rampant</td>\n",
       "      <td>V</td>\n",
       "      <td>19312.027344</td>\n",
       "      <td>14053.750977</td>\n",
       "      <td>30</td>\n",
       "    </tr>\n",
       "    <tr>\n",
       "      <th>15</th>\n",
       "      <td>22472_A S lion rampant.jpg</td>\n",
       "      <td>lion</td>\n",
       "      <td>rampant</td>\n",
       "      <td>S</td>\n",
       "      <td>18825.464844</td>\n",
       "      <td>14520.524414</td>\n",
       "      <td>3</td>\n",
       "    </tr>\n",
       "    <tr>\n",
       "      <th>16</th>\n",
       "      <td>12436_V A cross.jpg</td>\n",
       "      <td>cross</td>\n",
       "      <td>None</td>\n",
       "      <td>A</td>\n",
       "      <td>20165.808594</td>\n",
       "      <td>14731.599609</td>\n",
       "      <td>7</td>\n",
       "    </tr>\n",
       "    <tr>\n",
       "      <th>17</th>\n",
       "      <td>7835_O G cross moline.jpg</td>\n",
       "      <td>cross</td>\n",
       "      <td>moline</td>\n",
       "      <td>G</td>\n",
       "      <td>20022.146484</td>\n",
       "      <td>14929.674805</td>\n",
       "      <td>13</td>\n",
       "    </tr>\n",
       "    <tr>\n",
       "      <th>18</th>\n",
       "      <td>5269_G O cross.jpg</td>\n",
       "      <td>cross</td>\n",
       "      <td>None</td>\n",
       "      <td>O</td>\n",
       "      <td>19787.279297</td>\n",
       "      <td>14630.080078</td>\n",
       "      <td>26</td>\n",
       "    </tr>\n",
       "    <tr>\n",
       "      <th>19</th>\n",
       "      <td>1307_O G eagle.jpg</td>\n",
       "      <td>eagle</td>\n",
       "      <td>None</td>\n",
       "      <td>G</td>\n",
       "      <td>17347.087891</td>\n",
       "      <td>12770.771484</td>\n",
       "      <td>11</td>\n",
       "    </tr>\n",
       "    <tr>\n",
       "      <th>20</th>\n",
       "      <td>18847_B A eagle.jpg</td>\n",
       "      <td>eagle</td>\n",
       "      <td>None</td>\n",
       "      <td>A</td>\n",
       "      <td>16983.441406</td>\n",
       "      <td>10545.481445</td>\n",
       "      <td>6</td>\n",
       "    </tr>\n",
       "    <tr>\n",
       "      <th>21</th>\n",
       "      <td>2639_A G eagle.jpg</td>\n",
       "      <td>eagle</td>\n",
       "      <td>None</td>\n",
       "      <td>G</td>\n",
       "      <td>19314.957031</td>\n",
       "      <td>13905.460938</td>\n",
       "      <td>11</td>\n",
       "    </tr>\n",
       "    <tr>\n",
       "      <th>22</th>\n",
       "      <td>3227_G O 2 lions passt guard.jpg</td>\n",
       "      <td>lions</td>\n",
       "      <td>passt guard</td>\n",
       "      <td>O</td>\n",
       "      <td>15471.173828</td>\n",
       "      <td>11594.665039</td>\n",
       "      <td>9</td>\n",
       "    </tr>\n",
       "    <tr>\n",
       "      <th>23</th>\n",
       "      <td>624_A G 3 eagles.jpg</td>\n",
       "      <td>eagles</td>\n",
       "      <td>None</td>\n",
       "      <td>G</td>\n",
       "      <td>19348.310547</td>\n",
       "      <td>14736.956055</td>\n",
       "      <td>24</td>\n",
       "    </tr>\n",
       "    <tr>\n",
       "      <th>24</th>\n",
       "      <td>22189_V O eagle.jpg</td>\n",
       "      <td>eagle</td>\n",
       "      <td>None</td>\n",
       "      <td>O</td>\n",
       "      <td>16097.875977</td>\n",
       "      <td>10817.519531</td>\n",
       "      <td>2</td>\n",
       "    </tr>\n",
       "    <tr>\n",
       "      <th>25</th>\n",
       "      <td>7345_B O 5 eagles.jpg</td>\n",
       "      <td>eagles</td>\n",
       "      <td>None</td>\n",
       "      <td>O</td>\n",
       "      <td>15686.368164</td>\n",
       "      <td>10473.478516</td>\n",
       "      <td>15</td>\n",
       "    </tr>\n",
       "    <tr>\n",
       "      <th>26</th>\n",
       "      <td>6587_G A eagle.jpg</td>\n",
       "      <td>eagle</td>\n",
       "      <td>None</td>\n",
       "      <td>A</td>\n",
       "      <td>16970.082031</td>\n",
       "      <td>12690.582031</td>\n",
       "      <td>6</td>\n",
       "    </tr>\n",
       "    <tr>\n",
       "      <th>27</th>\n",
       "      <td>1667_O G lion rampant.jpg</td>\n",
       "      <td>lion</td>\n",
       "      <td>rampant</td>\n",
       "      <td>G</td>\n",
       "      <td>16582.656250</td>\n",
       "      <td>11219.661133</td>\n",
       "      <td>1</td>\n",
       "    </tr>\n",
       "    <tr>\n",
       "      <th>28</th>\n",
       "      <td>18220_A S lion rampant.jpg</td>\n",
       "      <td>lion</td>\n",
       "      <td>rampant</td>\n",
       "      <td>S</td>\n",
       "      <td>14618.182617</td>\n",
       "      <td>9891.173828</td>\n",
       "      <td>3</td>\n",
       "    </tr>\n",
       "    <tr>\n",
       "      <th>29</th>\n",
       "      <td>10757_B O eagle.jpg</td>\n",
       "      <td>eagle</td>\n",
       "      <td>None</td>\n",
       "      <td>O</td>\n",
       "      <td>17204.208984</td>\n",
       "      <td>12334.971680</td>\n",
       "      <td>2</td>\n",
       "    </tr>\n",
       "    <tr>\n",
       "      <th>30</th>\n",
       "      <td>10921_B A 3 eagles.jpg</td>\n",
       "      <td>eagles</td>\n",
       "      <td>None</td>\n",
       "      <td>A</td>\n",
       "      <td>17521.408203</td>\n",
       "      <td>11756.343750</td>\n",
       "      <td>18</td>\n",
       "    </tr>\n",
       "    <tr>\n",
       "      <th>31</th>\n",
       "      <td>17931_O B lion rampant.jpg</td>\n",
       "      <td>lion</td>\n",
       "      <td>rampant</td>\n",
       "      <td>B</td>\n",
       "      <td>18691.460938</td>\n",
       "      <td>13343.368164</td>\n",
       "      <td>5</td>\n",
       "    </tr>\n",
       "    <tr>\n",
       "      <th>32</th>\n",
       "      <td>17591_S A eagle.jpg</td>\n",
       "      <td>eagle</td>\n",
       "      <td>None</td>\n",
       "      <td>A</td>\n",
       "      <td>15152.466797</td>\n",
       "      <td>10438.558594</td>\n",
       "      <td>6</td>\n",
       "    </tr>\n",
       "    <tr>\n",
       "      <th>33</th>\n",
       "      <td>-1_S O 2 lions passt guard.jpg</td>\n",
       "      <td>lions</td>\n",
       "      <td>passt guard</td>\n",
       "      <td>O</td>\n",
       "      <td>12582.384766</td>\n",
       "      <td>8101.283203</td>\n",
       "      <td>9</td>\n",
       "    </tr>\n",
       "    <tr>\n",
       "      <th>34</th>\n",
       "      <td>31942_A G lion rampant.jpg</td>\n",
       "      <td>lion</td>\n",
       "      <td>rampant</td>\n",
       "      <td>G</td>\n",
       "      <td>16639.177734</td>\n",
       "      <td>10576.186523</td>\n",
       "      <td>1</td>\n",
       "    </tr>\n",
       "  </tbody>\n",
       "</table>\n",
       "</div>"
      ],
      "text/plain": [
       "                               image  charge           mod color  \\\n",
       "0                   87_G A cross.jpg   cross          None     A   \n",
       "1   4382_B A 2 lions passt guard.jpg   lions   passt guard     A   \n",
       "2         17941_A G lion rampant.jpg    lion       rampant     G   \n",
       "3          4289_V A lion rampant.jpg    lion       rampant     A   \n",
       "4          6610_O S lion rampant.jpg    lion       rampant     S   \n",
       "5         21370_A B lion rampant.jpg    lion       rampant     B   \n",
       "6   3921_A S 2 lions passt guard.jpg   lions   passt guard     S   \n",
       "7         32013_B A lion rampant.jpg    lion       rampant     A   \n",
       "8    1537_A S eagle doubleheaded.jpg   eagle  doubleheaded     S   \n",
       "9                19320_A S cross.jpg   cross          None     S   \n",
       "10                4459_B O eagle.jpg   eagle          None     O   \n",
       "11               19188_O G cross.jpg   cross          None     G   \n",
       "12         1293_O G lion rampant.jpg    lion       rampant     G   \n",
       "13                3957_G A eagle.jpg   eagle          None     A   \n",
       "14         6358_A V lion rampant.jpg    lion       rampant     V   \n",
       "15        22472_A S lion rampant.jpg    lion       rampant     S   \n",
       "16               12436_V A cross.jpg   cross          None     A   \n",
       "17         7835_O G cross moline.jpg   cross        moline     G   \n",
       "18                5269_G O cross.jpg   cross          None     O   \n",
       "19                1307_O G eagle.jpg   eagle          None     G   \n",
       "20               18847_B A eagle.jpg   eagle          None     A   \n",
       "21                2639_A G eagle.jpg   eagle          None     G   \n",
       "22  3227_G O 2 lions passt guard.jpg   lions   passt guard     O   \n",
       "23              624_A G 3 eagles.jpg  eagles          None     G   \n",
       "24               22189_V O eagle.jpg   eagle          None     O   \n",
       "25             7345_B O 5 eagles.jpg  eagles          None     O   \n",
       "26                6587_G A eagle.jpg   eagle          None     A   \n",
       "27         1667_O G lion rampant.jpg    lion       rampant     G   \n",
       "28        18220_A S lion rampant.jpg    lion       rampant     S   \n",
       "29               10757_B O eagle.jpg   eagle          None     O   \n",
       "30            10921_B A 3 eagles.jpg  eagles          None     A   \n",
       "31        17931_O B lion rampant.jpg    lion       rampant     B   \n",
       "32               17591_S A eagle.jpg   eagle          None     A   \n",
       "33    -1_S O 2 lions passt guard.jpg   lions   passt guard     O   \n",
       "34        31942_A G lion rampant.jpg    lion       rampant     G   \n",
       "\n",
       "            psum       psum_sq  class  \n",
       "0   16607.636719  11454.643555      7  \n",
       "1   16040.631836  11036.284180     34  \n",
       "2   19688.000000  15166.090820      1  \n",
       "3   17711.251953  12160.342773      4  \n",
       "4   15834.119141  10824.548828      3  \n",
       "5   18375.636719  13869.170898      5  \n",
       "6   18216.380859  13140.337891     16  \n",
       "7   15471.375977   9641.772461      4  \n",
       "8   18435.945312  13167.025391     12  \n",
       "9   14748.231445  11295.405273     14  \n",
       "10  17065.537109  11514.578125      2  \n",
       "11  20937.501953  16216.572266      8  \n",
       "12  19208.078125  14720.148438      1  \n",
       "13  17433.726562  12444.656250      6  \n",
       "14  19312.027344  14053.750977     30  \n",
       "15  18825.464844  14520.524414      3  \n",
       "16  20165.808594  14731.599609      7  \n",
       "17  20022.146484  14929.674805     13  \n",
       "18  19787.279297  14630.080078     26  \n",
       "19  17347.087891  12770.771484     11  \n",
       "20  16983.441406  10545.481445      6  \n",
       "21  19314.957031  13905.460938     11  \n",
       "22  15471.173828  11594.665039      9  \n",
       "23  19348.310547  14736.956055     24  \n",
       "24  16097.875977  10817.519531      2  \n",
       "25  15686.368164  10473.478516     15  \n",
       "26  16970.082031  12690.582031      6  \n",
       "27  16582.656250  11219.661133      1  \n",
       "28  14618.182617   9891.173828      3  \n",
       "29  17204.208984  12334.971680      2  \n",
       "30  17521.408203  11756.343750     18  \n",
       "31  18691.460938  13343.368164      5  \n",
       "32  15152.466797  10438.558594      6  \n",
       "33  12582.384766   8101.283203      9  \n",
       "34  16639.177734  10576.186523      1  "
      ]
     },
     "execution_count": 34,
     "metadata": {},
     "output_type": "execute_result"
    }
   ],
   "source": [
    "# train, validate, test = train_validate_test_split(df_new, train_percent=.6, validate_percent=.2, seed=None)\n",
    "\n",
    "train_annotation_file = data_location + '/train_labels_psumsq.txt'\n",
    "val_annotation_file  = data_location + '/val_labels_psumsq.txt'\n",
    "test_annotation_file  = data_location + '/test_labels_psumsq.txt'\n",
    "\n",
    "# train.to_csv(train_annotation_file, sep=',',index=False)\n",
    "# test.to_csv(test_annotation_file, sep=',',index=False)\n",
    "# validate.to_csv(val_annotation_file, sep=',',index=False)\n",
    "\n",
    "\n",
    "# print(\"There are {} total images\".format(len(df)))\n",
    "\n",
    "df1 = pd.read_csv(train_annotation_file)\n",
    "print(\"There are {} train images\".format(len(df1)))\n",
    "\n",
    "df2 = pd.read_csv(val_annotation_file)\n",
    "print(\"There are {} val images\".format(len(df2)))\n",
    "\n",
    "df3 = pd.read_csv(test_annotation_file)\n",
    "print(\"There are {} test images\".format(len(df3)))\n",
    "df2"
   ]
  },
  {
   "cell_type": "markdown",
   "id": "32358f4e",
   "metadata": {},
   "source": [
    "# Dataset and Dataloader  "
   ]
  },
  {
   "cell_type": "code",
   "execution_count": 35,
   "id": "defa1f6d",
   "metadata": {},
   "outputs": [
    {
     "data": {
      "text/plain": [
       "device(type='cuda', index=0)"
      ]
     },
     "execution_count": 35,
     "metadata": {},
     "output_type": "execute_result"
    }
   ],
   "source": [
    "# device = torch.device(\"cuda:0\" if torch.cuda.is_available() else \"cpu\")\n",
    "device = torch.device(\"cuda:0\" if torch.cuda.is_available() else \"cpu\")\n",
    "# device = torch.device(\"cpu\")\n",
    "\n",
    "device"
   ]
  },
  {
   "cell_type": "code",
   "execution_count": 36,
   "id": "5ae8c47b",
   "metadata": {},
   "outputs": [],
   "source": [
    "BATCH_SIZE = 56\n",
    "NUM_WORKER = 2 #### this needs multi-core\n",
    "# NUM_WORKER = 0 #### this needs multi-core\n",
    "pin_memory=False,\n",
    "calc_mean=False\n",
    "SHUFFLE=True"
   ]
  },
  {
   "cell_type": "markdown",
   "id": "02eb5812",
   "metadata": {},
   "source": [
    "# Mean and Std  "
   ]
  },
  {
   "cell_type": "code",
   "execution_count": 37,
   "id": "23959e23",
   "metadata": {},
   "outputs": [],
   "source": [
    "images_location = data_location + '/resized'\n",
    "\n",
    "train_dataset = CoAClassDataset(images_location, \n",
    "                     train_annotation_file, \n",
    "                     transform=None, \n",
    "                     device=device,\n",
    "                     calc_mean=True)\n",
    "\n",
    "train_data_loader = DataLoader(\n",
    "    dataset = train_dataset,\n",
    "    batch_size = BATCH_SIZE,\n",
    "    sampler = None,\n",
    "    num_workers = NUM_WORKER,\n",
    ")\n"
   ]
  },
  {
   "cell_type": "code",
   "execution_count": 38,
   "id": "a4822df2",
   "metadata": {},
   "outputs": [
    {
     "data": {
      "text/plain": [
       "(tensor([], size=(56, 0)), tensor([], size=(56, 0)))"
      ]
     },
     "execution_count": 38,
     "metadata": {},
     "output_type": "execute_result"
    }
   ],
   "source": [
    "\n",
    "dataiter = iter(train_data_loader)\n",
    "images,classes,_,_,_ = next(dataiter)\n",
    "images,classes"
   ]
  },
  {
   "cell_type": "code",
   "execution_count": 39,
   "id": "24d7d4a8",
   "metadata": {},
   "outputs": [],
   "source": [
    "mean = get_mean(train_dataset, train_data_loader, 500 , 500)\n",
    "\n",
    "# mean_file = f'{data_location}/mean.txt'\n",
    "# with open(mean_file, 'w') as file:\n",
    "#     file.write(str(float(mean)))\n",
    "\n"
   ]
  },
  {
   "cell_type": "code",
   "execution_count": 40,
   "id": "9045ed21",
   "metadata": {},
   "outputs": [],
   "source": [
    "std = get_std(train_dataset, train_data_loader, mean, 500 , 500)\n",
    "\n",
    "# std_file = f'{data_location}/std.txt'\n",
    "# with open(std_file, 'w') as file:\n",
    "#     file.write(str(float(std)))\n"
   ]
  },
  {
   "cell_type": "code",
   "execution_count": 41,
   "id": "55e68012",
   "metadata": {},
   "outputs": [
    {
     "data": {
      "text/plain": [
       "(tensor(0.0228, dtype=torch.float64), tensor(0.1258, dtype=torch.float64))"
      ]
     },
     "execution_count": 41,
     "metadata": {},
     "output_type": "execute_result"
    }
   ],
   "source": [
    "mean, std"
   ]
  },
  {
   "cell_type": "markdown",
   "id": "d664c37d",
   "metadata": {},
   "source": [
    "# Dataset and Dataloader  "
   ]
  },
  {
   "cell_type": "code",
   "execution_count": 42,
   "id": "206e92be",
   "metadata": {},
   "outputs": [],
   "source": [
    "transform = T.Compose([\n",
    "    T.Resize(226),                     \n",
    "    T.RandomCrop(224),                 \n",
    "    T.ToTensor(),                               \n",
    "    T.Normalize(mean, std)\n",
    "])\n"
   ]
  },
  {
   "cell_type": "code",
   "execution_count": 43,
   "id": "202365fa",
   "metadata": {},
   "outputs": [
    {
     "data": {
      "text/plain": [
       "(__main__.CoAClassDataset(root_dir=/home/salnabulsi/coat-of-arms/data/new//resized, transform=Compose(\n",
       "     Resize(size=226, interpolation=bilinear, max_size=None, antialias=None)\n",
       "     RandomCrop(size=(224, 224), padding=None)\n",
       "     ToTensor()\n",
       "     Normalize(mean=0.022752675621560536, std=0.1257942304766321)\n",
       " ), device=cuda:0, df=                                image  charge           mod color  \\\n",
       " 0                    47_A S eagle.jpg   eagle          None     S   \n",
       " 1               6397_B O 3 eagles.jpg  eagles          None     O   \n",
       " 2             70_A G cross moline.jpg   cross        moline     G   \n",
       " 3    12396_G O eagle doubleheaded.jpg   eagle  doubleheaded     O   \n",
       " 4           7350_A V lion rampant.jpg    lion       rampant     V   \n",
       " ..                                ...     ...           ...   ...   \n",
       " 101               29743_O A eagle.jpg   eagle          None     A   \n",
       " 102        22323_O S cross moline.jpg   cross        moline     S   \n",
       " 103            29836_G O 3 eagles.jpg  eagles          None     O   \n",
       " 104         9961_O G lion rampant.jpg    lion       rampant     G   \n",
       " 105         3837_A S lion rampant.jpg    lion       rampant     S   \n",
       " \n",
       "              psum       psum_sq  class  \n",
       " 0    16724.027344  12278.386719     10  \n",
       " 1    17801.812500  13127.361328     15  \n",
       " 2    20546.628906  16211.708984     13  \n",
       " 3    19235.371094  13618.621094     23  \n",
       " 4    18519.898438  13367.478516     30  \n",
       " ..            ...           ...    ...  \n",
       " 101  15786.106445  12848.285156      6  \n",
       " 102  17556.320312  12836.339844     29  \n",
       " 103  16778.851562  13274.360352     15  \n",
       " 104  17791.410156  11968.596680      1  \n",
       " 105  17216.394531  12833.941406      3  \n",
       " \n",
       " [106 rows x 7 columns], calc_mean=False, img_names=0                      47_A S eagle.jpg\n",
       " 1                 6397_B O 3 eagles.jpg\n",
       " 2               70_A G cross moline.jpg\n",
       " 3      12396_G O eagle doubleheaded.jpg\n",
       " 4             7350_A V lion rampant.jpg\n",
       "                      ...               \n",
       " 101                 29743_O A eagle.jpg\n",
       " 102          22323_O S cross moline.jpg\n",
       " 103              29836_G O 3 eagles.jpg\n",
       " 104           9961_O G lion rampant.jpg\n",
       " 105           3837_A S lion rampant.jpg\n",
       " Name: image, Length: 106, dtype: object, classes=0      10\n",
       " 1      15\n",
       " 2      13\n",
       " 3      23\n",
       " 4      30\n",
       "        ..\n",
       " 101     6\n",
       " 102    29\n",
       " 103    15\n",
       " 104     1\n",
       " 105     3\n",
       " Name: class, Length: 106, dtype: int64, psum=0      16724.027344\n",
       " 1      17801.812500\n",
       " 2      20546.628906\n",
       " 3      19235.371094\n",
       " 4      18519.898438\n",
       "            ...     \n",
       " 101    15786.106445\n",
       " 102    17556.320312\n",
       " 103    16778.851562\n",
       " 104    17791.410156\n",
       " 105    17216.394531\n",
       " Name: psum, Length: 106, dtype: float64, psum_sq=0      12278.386719\n",
       " 1      13127.361328\n",
       " 2      16211.708984\n",
       " 3      13618.621094\n",
       " 4      13367.478516\n",
       "            ...     \n",
       " 101    12848.285156\n",
       " 102    12836.339844\n",
       " 103    13274.360352\n",
       " 104    11968.596680\n",
       " 105    12833.941406\n",
       " Name: psum_sq, Length: 106, dtype: float64),\n",
       " __main__.CoAClassDataset(root_dir=/home/salnabulsi/coat-of-arms/data/new//resized, transform=Compose(\n",
       "     Resize(size=226, interpolation=bilinear, max_size=None, antialias=None)\n",
       "     RandomCrop(size=(224, 224), padding=None)\n",
       "     ToTensor()\n",
       "     Normalize(mean=0.022752675621560536, std=0.1257942304766321)\n",
       " ), device=cuda:0, df=                               image  charge           mod color  \\\n",
       " 0                   87_G A cross.jpg   cross          None     A   \n",
       " 1   4382_B A 2 lions passt guard.jpg   lions   passt guard     A   \n",
       " 2         17941_A G lion rampant.jpg    lion       rampant     G   \n",
       " 3          4289_V A lion rampant.jpg    lion       rampant     A   \n",
       " 4          6610_O S lion rampant.jpg    lion       rampant     S   \n",
       " 5         21370_A B lion rampant.jpg    lion       rampant     B   \n",
       " 6   3921_A S 2 lions passt guard.jpg   lions   passt guard     S   \n",
       " 7         32013_B A lion rampant.jpg    lion       rampant     A   \n",
       " 8    1537_A S eagle doubleheaded.jpg   eagle  doubleheaded     S   \n",
       " 9                19320_A S cross.jpg   cross          None     S   \n",
       " 10                4459_B O eagle.jpg   eagle          None     O   \n",
       " 11               19188_O G cross.jpg   cross          None     G   \n",
       " 12         1293_O G lion rampant.jpg    lion       rampant     G   \n",
       " 13                3957_G A eagle.jpg   eagle          None     A   \n",
       " 14         6358_A V lion rampant.jpg    lion       rampant     V   \n",
       " 15        22472_A S lion rampant.jpg    lion       rampant     S   \n",
       " 16               12436_V A cross.jpg   cross          None     A   \n",
       " 17         7835_O G cross moline.jpg   cross        moline     G   \n",
       " 18                5269_G O cross.jpg   cross          None     O   \n",
       " 19                1307_O G eagle.jpg   eagle          None     G   \n",
       " 20               18847_B A eagle.jpg   eagle          None     A   \n",
       " 21                2639_A G eagle.jpg   eagle          None     G   \n",
       " 22  3227_G O 2 lions passt guard.jpg   lions   passt guard     O   \n",
       " 23              624_A G 3 eagles.jpg  eagles          None     G   \n",
       " 24               22189_V O eagle.jpg   eagle          None     O   \n",
       " 25             7345_B O 5 eagles.jpg  eagles          None     O   \n",
       " 26                6587_G A eagle.jpg   eagle          None     A   \n",
       " 27         1667_O G lion rampant.jpg    lion       rampant     G   \n",
       " 28        18220_A S lion rampant.jpg    lion       rampant     S   \n",
       " 29               10757_B O eagle.jpg   eagle          None     O   \n",
       " 30            10921_B A 3 eagles.jpg  eagles          None     A   \n",
       " 31        17931_O B lion rampant.jpg    lion       rampant     B   \n",
       " 32               17591_S A eagle.jpg   eagle          None     A   \n",
       " 33    -1_S O 2 lions passt guard.jpg   lions   passt guard     O   \n",
       " 34        31942_A G lion rampant.jpg    lion       rampant     G   \n",
       " \n",
       "             psum       psum_sq  class  \n",
       " 0   16607.636719  11454.643555      7  \n",
       " 1   16040.631836  11036.284180     34  \n",
       " 2   19688.000000  15166.090820      1  \n",
       " 3   17711.251953  12160.342773      4  \n",
       " 4   15834.119141  10824.548828      3  \n",
       " 5   18375.636719  13869.170898      5  \n",
       " 6   18216.380859  13140.337891     16  \n",
       " 7   15471.375977   9641.772461      4  \n",
       " 8   18435.945312  13167.025391     12  \n",
       " 9   14748.231445  11295.405273     14  \n",
       " 10  17065.537109  11514.578125      2  \n",
       " 11  20937.501953  16216.572266      8  \n",
       " 12  19208.078125  14720.148438      1  \n",
       " 13  17433.726562  12444.656250      6  \n",
       " 14  19312.027344  14053.750977     30  \n",
       " 15  18825.464844  14520.524414      3  \n",
       " 16  20165.808594  14731.599609      7  \n",
       " 17  20022.146484  14929.674805     13  \n",
       " 18  19787.279297  14630.080078     26  \n",
       " 19  17347.087891  12770.771484     11  \n",
       " 20  16983.441406  10545.481445      6  \n",
       " 21  19314.957031  13905.460938     11  \n",
       " 22  15471.173828  11594.665039      9  \n",
       " 23  19348.310547  14736.956055     24  \n",
       " 24  16097.875977  10817.519531      2  \n",
       " 25  15686.368164  10473.478516     15  \n",
       " 26  16970.082031  12690.582031      6  \n",
       " 27  16582.656250  11219.661133      1  \n",
       " 28  14618.182617   9891.173828      3  \n",
       " 29  17204.208984  12334.971680      2  \n",
       " 30  17521.408203  11756.343750     18  \n",
       " 31  18691.460938  13343.368164      5  \n",
       " 32  15152.466797  10438.558594      6  \n",
       " 33  12582.384766   8101.283203      9  \n",
       " 34  16639.177734  10576.186523      1  , calc_mean=False, img_names=0                     87_G A cross.jpg\n",
       " 1     4382_B A 2 lions passt guard.jpg\n",
       " 2           17941_A G lion rampant.jpg\n",
       " 3            4289_V A lion rampant.jpg\n",
       " 4            6610_O S lion rampant.jpg\n",
       " 5           21370_A B lion rampant.jpg\n",
       " 6     3921_A S 2 lions passt guard.jpg\n",
       " 7           32013_B A lion rampant.jpg\n",
       " 8      1537_A S eagle doubleheaded.jpg\n",
       " 9                  19320_A S cross.jpg\n",
       " 10                  4459_B O eagle.jpg\n",
       " 11                 19188_O G cross.jpg\n",
       " 12           1293_O G lion rampant.jpg\n",
       " 13                  3957_G A eagle.jpg\n",
       " 14           6358_A V lion rampant.jpg\n",
       " 15          22472_A S lion rampant.jpg\n",
       " 16                 12436_V A cross.jpg\n",
       " 17           7835_O G cross moline.jpg\n",
       " 18                  5269_G O cross.jpg\n",
       " 19                  1307_O G eagle.jpg\n",
       " 20                 18847_B A eagle.jpg\n",
       " 21                  2639_A G eagle.jpg\n",
       " 22    3227_G O 2 lions passt guard.jpg\n",
       " 23                624_A G 3 eagles.jpg\n",
       " 24                 22189_V O eagle.jpg\n",
       " 25               7345_B O 5 eagles.jpg\n",
       " 26                  6587_G A eagle.jpg\n",
       " 27           1667_O G lion rampant.jpg\n",
       " 28          18220_A S lion rampant.jpg\n",
       " 29                 10757_B O eagle.jpg\n",
       " 30              10921_B A 3 eagles.jpg\n",
       " 31          17931_O B lion rampant.jpg\n",
       " 32                 17591_S A eagle.jpg\n",
       " 33      -1_S O 2 lions passt guard.jpg\n",
       " 34          31942_A G lion rampant.jpg\n",
       " Name: image, dtype: object, classes=0      7\n",
       " 1     34\n",
       " 2      1\n",
       " 3      4\n",
       " 4      3\n",
       " 5      5\n",
       " 6     16\n",
       " 7      4\n",
       " 8     12\n",
       " 9     14\n",
       " 10     2\n",
       " 11     8\n",
       " 12     1\n",
       " 13     6\n",
       " 14    30\n",
       " 15     3\n",
       " 16     7\n",
       " 17    13\n",
       " 18    26\n",
       " 19    11\n",
       " 20     6\n",
       " 21    11\n",
       " 22     9\n",
       " 23    24\n",
       " 24     2\n",
       " 25    15\n",
       " 26     6\n",
       " 27     1\n",
       " 28     3\n",
       " 29     2\n",
       " 30    18\n",
       " 31     5\n",
       " 32     6\n",
       " 33     9\n",
       " 34     1\n",
       " Name: class, dtype: int64, psum=0     16607.636719\n",
       " 1     16040.631836\n",
       " 2     19688.000000\n",
       " 3     17711.251953\n",
       " 4     15834.119141\n",
       " 5     18375.636719\n",
       " 6     18216.380859\n",
       " 7     15471.375977\n",
       " 8     18435.945312\n",
       " 9     14748.231445\n",
       " 10    17065.537109\n",
       " 11    20937.501953\n",
       " 12    19208.078125\n",
       " 13    17433.726562\n",
       " 14    19312.027344\n",
       " 15    18825.464844\n",
       " 16    20165.808594\n",
       " 17    20022.146484\n",
       " 18    19787.279297\n",
       " 19    17347.087891\n",
       " 20    16983.441406\n",
       " 21    19314.957031\n",
       " 22    15471.173828\n",
       " 23    19348.310547\n",
       " 24    16097.875977\n",
       " 25    15686.368164\n",
       " 26    16970.082031\n",
       " 27    16582.656250\n",
       " 28    14618.182617\n",
       " 29    17204.208984\n",
       " 30    17521.408203\n",
       " 31    18691.460938\n",
       " 32    15152.466797\n",
       " 33    12582.384766\n",
       " 34    16639.177734\n",
       " Name: psum, dtype: float64, psum_sq=0     11454.643555\n",
       " 1     11036.284180\n",
       " 2     15166.090820\n",
       " 3     12160.342773\n",
       " 4     10824.548828\n",
       " 5     13869.170898\n",
       " 6     13140.337891\n",
       " 7      9641.772461\n",
       " 8     13167.025391\n",
       " 9     11295.405273\n",
       " 10    11514.578125\n",
       " 11    16216.572266\n",
       " 12    14720.148438\n",
       " 13    12444.656250\n",
       " 14    14053.750977\n",
       " 15    14520.524414\n",
       " 16    14731.599609\n",
       " 17    14929.674805\n",
       " 18    14630.080078\n",
       " 19    12770.771484\n",
       " 20    10545.481445\n",
       " 21    13905.460938\n",
       " 22    11594.665039\n",
       " 23    14736.956055\n",
       " 24    10817.519531\n",
       " 25    10473.478516\n",
       " 26    12690.582031\n",
       " 27    11219.661133\n",
       " 28     9891.173828\n",
       " 29    12334.971680\n",
       " 30    11756.343750\n",
       " 31    13343.368164\n",
       " 32    10438.558594\n",
       " 33     8101.283203\n",
       " 34    10576.186523\n",
       " Name: psum_sq, dtype: float64),\n",
       " __main__.CoAClassDataset(root_dir=/home/salnabulsi/coat-of-arms/data/new//resized, transform=Compose(\n",
       "     Resize(size=226, interpolation=bilinear, max_size=None, antialias=None)\n",
       "     RandomCrop(size=(224, 224), padding=None)\n",
       "     ToTensor()\n",
       "     Normalize(mean=0.022752675621560536, std=0.1257942304766321)\n",
       " ), device=cuda:0, df=                                image  charge           mod color  \\\n",
       " 0               22583_G A 3 lions.jpg   lions          None     A   \n",
       " 1             -1_O G lion rampant.jpg    lion       rampant     G   \n",
       " 2                 779_O S 3 lions.jpg   lions          None     S   \n",
       " 3             -1_S A lion rampant.jpg    lion       rampant     A   \n",
       " 4                  5855_O S cross.jpg   cross          None     S   \n",
       " 5                   2_A S 3 lions.jpg   lions          None     S   \n",
       " 6    29394_G O eagle doubleheaded.jpg   eagle  doubleheaded     O   \n",
       " 7                   5096_B O lion.jpg    lion          None     O   \n",
       " 8     4150_A G eagle doubleheaded.jpg   eagle  doubleheaded     G   \n",
       " 9                  2712_G A eagle.jpg   eagle          None     A   \n",
       " 10         18863_B A lion rampant.jpg    lion       rampant     A   \n",
       " 11    7582_O S eagle doubleheaded.jpg   eagle  doubleheaded     S   \n",
       " 12            -1_G O cross moline.jpg   cross        moline     O   \n",
       " 13   22807_G A eagle doubleheaded.jpg   eagle  doubleheaded     A   \n",
       " 14  18885_O S 3 lions passt guard.jpg   lions   passt guard     S   \n",
       " 15                 6423_G A cross.jpg   cross          None     A   \n",
       " 16                 7037_A G cross.jpg   cross          None     G   \n",
       " 17                 6153_B O cross.jpg   cross          None     O   \n",
       " 18    6178_A G eagle doubleheaded.jpg   eagle  doubleheaded     G   \n",
       " 19          6539_B O lion rampant.jpg    lion       rampant     O   \n",
       " 20   7881_G O 2 lions passt guard.jpg   lions   passt guard     O   \n",
       " 21             23305_G A 5 eagles.jpg  eagles          None     A   \n",
       " 22                   -1_O S eagle.jpg   eagle          None     S   \n",
       " 23                17661_V A cross.jpg   cross          None     A   \n",
       " 24                22314_V O eagle.jpg   eagle          None     O   \n",
       " 25         22011_O S cross moline.jpg   cross        moline     S   \n",
       " 26            -2_G O lion rampant.jpg    lion       rampant     O   \n",
       " 27          1154_A G lion rampant.jpg    lion       rampant     G   \n",
       " 28                 6250_G O eagle.jpg   eagle          None     O   \n",
       " 29              17945_A G 3 lions.jpg   lions          None     G   \n",
       " 30         17637_B O lion rampant.jpg    lion       rampant     O   \n",
       " 31                18746_S A eagle.jpg   eagle          None     A   \n",
       " 32           586_S O lion rampant.jpg    lion       rampant     O   \n",
       " 33          4250_G O lion rampant.jpg    lion       rampant     O   \n",
       " 34         22863_A B lion rampant.jpg    lion       rampant     B   \n",
       " 35                 3783_A S cross.jpg   cross          None     S   \n",
       " \n",
       "             psum       psum_sq  class  \n",
       " 0   17143.685547  11905.894531     20  \n",
       " 1   19502.525391  14411.244141      1  \n",
       " 2   17897.234375  13364.068359     19  \n",
       " 3   15937.239258  11243.893555      4  \n",
       " 4   17914.048828  13420.807617     14  \n",
       " 5   20594.166016  16004.906250     19  \n",
       " 6   15421.950195  11365.047852     23  \n",
       " 7   17294.921875  12365.071289     41  \n",
       " 8   17792.591797  13136.107422     21  \n",
       " 9   17919.142578  12627.549805      6  \n",
       " 10  15901.439453  10765.582031      4  \n",
       " 11  15886.408203  11330.470703     12  \n",
       " 12  17399.830078  12450.992188     25  \n",
       " 13  16803.783203  11832.979492     17  \n",
       " 14  15398.718750   9966.543945     16  \n",
       " 15  19754.472656  15046.065430      7  \n",
       " 16  16989.802734  12900.414062      8  \n",
       " 17  18295.042969  13465.237305     26  \n",
       " 18  18572.263672  13647.697266     21  \n",
       " 19  14490.898438   9011.532227      0  \n",
       " 20  16786.408203  11616.291992      9  \n",
       " 21  19403.224609  13718.656250     18  \n",
       " 22   8856.400391   5284.234375     10  \n",
       " 23  17940.914062  12772.734375      7  \n",
       " 24  17537.599609  11756.308594      2  \n",
       " 25  18441.097656  13409.946289     29  \n",
       " 26  17320.962891  12319.477539      0  \n",
       " 27  20738.640625  15633.050781      1  \n",
       " 28  17089.580078  11658.906250      2  \n",
       " 29  20477.203125  15778.110352     28  \n",
       " 30  16658.386719  11586.335938      0  \n",
       " 31  13549.989258   9141.958984      6  \n",
       " 32  14328.132812   9109.769531      0  \n",
       " 33  17597.402344  12533.581055      0  \n",
       " 34  19029.816406  14415.330078      5  \n",
       " 35  16614.548828  12325.733398     14  , calc_mean=False, img_names=0                 22583_G A 3 lions.jpg\n",
       " 1               -1_O G lion rampant.jpg\n",
       " 2                   779_O S 3 lions.jpg\n",
       " 3               -1_S A lion rampant.jpg\n",
       " 4                    5855_O S cross.jpg\n",
       " 5                     2_A S 3 lions.jpg\n",
       " 6      29394_G O eagle doubleheaded.jpg\n",
       " 7                     5096_B O lion.jpg\n",
       " 8       4150_A G eagle doubleheaded.jpg\n",
       " 9                    2712_G A eagle.jpg\n",
       " 10           18863_B A lion rampant.jpg\n",
       " 11      7582_O S eagle doubleheaded.jpg\n",
       " 12              -1_G O cross moline.jpg\n",
       " 13     22807_G A eagle doubleheaded.jpg\n",
       " 14    18885_O S 3 lions passt guard.jpg\n",
       " 15                   6423_G A cross.jpg\n",
       " 16                   7037_A G cross.jpg\n",
       " 17                   6153_B O cross.jpg\n",
       " 18      6178_A G eagle doubleheaded.jpg\n",
       " 19            6539_B O lion rampant.jpg\n",
       " 20     7881_G O 2 lions passt guard.jpg\n",
       " 21               23305_G A 5 eagles.jpg\n",
       " 22                     -1_O S eagle.jpg\n",
       " 23                  17661_V A cross.jpg\n",
       " 24                  22314_V O eagle.jpg\n",
       " 25           22011_O S cross moline.jpg\n",
       " 26              -2_G O lion rampant.jpg\n",
       " 27            1154_A G lion rampant.jpg\n",
       " 28                   6250_G O eagle.jpg\n",
       " 29                17945_A G 3 lions.jpg\n",
       " 30           17637_B O lion rampant.jpg\n",
       " 31                  18746_S A eagle.jpg\n",
       " 32             586_S O lion rampant.jpg\n",
       " 33            4250_G O lion rampant.jpg\n",
       " 34           22863_A B lion rampant.jpg\n",
       " 35                   3783_A S cross.jpg\n",
       " Name: image, dtype: object, classes=0     20\n",
       " 1      1\n",
       " 2     19\n",
       " 3      4\n",
       " 4     14\n",
       " 5     19\n",
       " 6     23\n",
       " 7     41\n",
       " 8     21\n",
       " 9      6\n",
       " 10     4\n",
       " 11    12\n",
       " 12    25\n",
       " 13    17\n",
       " 14    16\n",
       " 15     7\n",
       " 16     8\n",
       " 17    26\n",
       " 18    21\n",
       " 19     0\n",
       " 20     9\n",
       " 21    18\n",
       " 22    10\n",
       " 23     7\n",
       " 24     2\n",
       " 25    29\n",
       " 26     0\n",
       " 27     1\n",
       " 28     2\n",
       " 29    28\n",
       " 30     0\n",
       " 31     6\n",
       " 32     0\n",
       " 33     0\n",
       " 34     5\n",
       " 35    14\n",
       " Name: class, dtype: int64, psum=0     17143.685547\n",
       " 1     19502.525391\n",
       " 2     17897.234375\n",
       " 3     15937.239258\n",
       " 4     17914.048828\n",
       " 5     20594.166016\n",
       " 6     15421.950195\n",
       " 7     17294.921875\n",
       " 8     17792.591797\n",
       " 9     17919.142578\n",
       " 10    15901.439453\n",
       " 11    15886.408203\n",
       " 12    17399.830078\n",
       " 13    16803.783203\n",
       " 14    15398.718750\n",
       " 15    19754.472656\n",
       " 16    16989.802734\n",
       " 17    18295.042969\n",
       " 18    18572.263672\n",
       " 19    14490.898438\n",
       " 20    16786.408203\n",
       " 21    19403.224609\n",
       " 22     8856.400391\n",
       " 23    17940.914062\n",
       " 24    17537.599609\n",
       " 25    18441.097656\n",
       " 26    17320.962891\n",
       " 27    20738.640625\n",
       " 28    17089.580078\n",
       " 29    20477.203125\n",
       " 30    16658.386719\n",
       " 31    13549.989258\n",
       " 32    14328.132812\n",
       " 33    17597.402344\n",
       " 34    19029.816406\n",
       " 35    16614.548828\n",
       " Name: psum, dtype: float64, psum_sq=0     11905.894531\n",
       " 1     14411.244141\n",
       " 2     13364.068359\n",
       " 3     11243.893555\n",
       " 4     13420.807617\n",
       " 5     16004.906250\n",
       " 6     11365.047852\n",
       " 7     12365.071289\n",
       " 8     13136.107422\n",
       " 9     12627.549805\n",
       " 10    10765.582031\n",
       " 11    11330.470703\n",
       " 12    12450.992188\n",
       " 13    11832.979492\n",
       " 14     9966.543945\n",
       " 15    15046.065430\n",
       " 16    12900.414062\n",
       " 17    13465.237305\n",
       " 18    13647.697266\n",
       " 19     9011.532227\n",
       " 20    11616.291992\n",
       " 21    13718.656250\n",
       " 22     5284.234375\n",
       " 23    12772.734375\n",
       " 24    11756.308594\n",
       " 25    13409.946289\n",
       " 26    12319.477539\n",
       " 27    15633.050781\n",
       " 28    11658.906250\n",
       " 29    15778.110352\n",
       " 30    11586.335938\n",
       " 31     9141.958984\n",
       " 32     9109.769531\n",
       " 33    12533.581055\n",
       " 34    14415.330078\n",
       " 35    12325.733398\n",
       " Name: psum_sq, dtype: float64))"
      ]
     },
     "execution_count": 43,
     "metadata": {},
     "output_type": "execute_result"
    }
   ],
   "source": [
    "train_dataset = CoAClassDataset(images_location, \n",
    "                     train_annotation_file, \n",
    "                     transform=transform, \n",
    "                     device=device,\n",
    "                     calc_mean=False)\n",
    "\n",
    "val_dataset = CoAClassDataset(images_location, \n",
    "                     val_annotation_file, \n",
    "                     transform=transform, \n",
    "                     device=device,\n",
    "                     calc_mean=False)\n",
    "\n",
    "test_dataset = CoAClassDataset(images_location, \n",
    "                     test_annotation_file, \n",
    "                     transform=transform, \n",
    "                     device=device,\n",
    "                     calc_mean=False)\n",
    "\n",
    "train_dataset,val_dataset,test_dataset"
   ]
  },
  {
   "cell_type": "code",
   "execution_count": 44,
   "id": "f9e462b1",
   "metadata": {},
   "outputs": [],
   "source": [
    "# Data Loader  -  using Sampler (YT Video)\n",
    "\n",
    "train_random_sampler = RandomSampler(train_dataset)\n",
    "val_random_sampler = RandomSampler(val_dataset)\n",
    "test_random_sampler = RandomSampler(test_dataset)\n",
    "\n",
    "# --------------------------------------------------\n",
    "\n",
    "# Shuffle Argument is mutually exclusive with Sampler!\n",
    "train_data_loader = DataLoader(\n",
    "    dataset = train_dataset,\n",
    "    batch_size = BATCH_SIZE,\n",
    "    sampler = train_random_sampler,\n",
    "    num_workers = NUM_WORKER,\n",
    ")\n",
    "\n",
    "val_data_loader = DataLoader(\n",
    "    dataset = val_dataset,\n",
    "    batch_size = BATCH_SIZE,\n",
    "    sampler = val_random_sampler,\n",
    "    num_workers = NUM_WORKER,\n",
    ")\n",
    "\n",
    "test_data_loader = DataLoader(\n",
    "    dataset = test_dataset,\n",
    "    batch_size = BATCH_SIZE,\n",
    "    sampler = test_random_sampler,\n",
    "    num_workers = NUM_WORKER,\n",
    ")"
   ]
  },
  {
   "cell_type": "code",
   "execution_count": 45,
   "id": "56bd27df",
   "metadata": {},
   "outputs": [
    {
     "name": "stderr",
     "output_type": "stream",
     "text": [
      "Clipping input data to the valid range for imshow with RGB data ([0..1] for floats or [0..255] for integers).\n"
     ]
    },
    {
     "name": "stdout",
     "output_type": "stream",
     "text": [
      "<class 'torch.Tensor'>\n"
     ]
    },
    {
     "data": {
      "image/png": "[encoded data removed]",
      "text/plain": [
       "<Figure size 1800x1800 with 1 Axes>"
      ]
     },
     "metadata": {},
     "output_type": "display_data"
    }
   ],
   "source": [
    "\n",
    "\n",
    "visualize_one_batch(train_data_loader)"
   ]
  },
  {
   "cell_type": "code",
   "execution_count": 46,
   "id": "83ac1d46",
   "metadata": {},
   "outputs": [
    {
     "name": "stdout",
     "output_type": "stream",
     "text": [
      "Caption: 10303_A B cross.jpg cross rampant B\n",
      "(100, 97, 3)\n"
     ]
    },
    {
     "data": {
      "image/png": "[encoded data removed]",
      "text/plain": [
       "<Figure size 432x288 with 1 Axes>"
      ]
     },
     "metadata": {
      "needs_background": "light"
     },
     "output_type": "display_data"
    }
   ],
   "source": [
    "import matplotlib.image as mpimg\n",
    "i = 8\n",
    "image_path = images_location +'/'+ df1.iloc[i,0]\n",
    "print(\"Caption:\", df1.iloc[i,0], df1.iloc[i,1], df.iloc[i,2],df1.iloc[i,3])\n",
    "img=mpimg.imread(image_path)\n",
    "print(img.shape)\n",
    "plt.imshow(img)\n",
    "plt.show()\n"
   ]
  },
  {
   "cell_type": "code",
   "execution_count": 47,
   "id": "77852902",
   "metadata": {},
   "outputs": [
    {
     "name": "stderr",
     "output_type": "stream",
     "text": [
      "Clipping input data to the valid range for imshow with RGB data ([0..1] for floats or [0..255] for integers).\n"
     ]
    },
    {
     "name": "stdout",
     "output_type": "stream",
     "text": [
      "torch.Size([3, 224, 224])\n"
     ]
    },
    {
     "data": {
      "image/png": "[encoded data removed]",
      "text/plain": [
       "<Figure size 432x288 with 1 Axes>"
      ]
     },
     "metadata": {
      "needs_background": "light"
     },
     "output_type": "display_data"
    }
   ],
   "source": [
    "dataiter = iter(train_data_loader)\n",
    "images,classes,_,_,_ = next(dataiter)\n",
    "img = images[0]\n",
    "# print(img)\n",
    "# img=mpimg.imread(image_path)\n",
    "print(img.shape)\n",
    "# plt.imshow(img)\n",
    "plt.imshow(img.permute(1,2,0))\n",
    "plt.show()\n"
   ]
  },
  {
   "cell_type": "code",
   "execution_count": 48,
   "id": "3c026049",
   "metadata": {},
   "outputs": [
    {
     "name": "stderr",
     "output_type": "stream",
     "text": [
      "Clipping input data to the valid range for imshow with RGB data ([0..1] for floats or [0..255] for integers).\n"
     ]
    },
    {
     "name": "stdout",
     "output_type": "stream",
     "text": [
      "<class 'torch.Tensor'>\n"
     ]
    },
    {
     "data": {
      "image/png": "[encoded data removed]",
      "text/plain": [
       "<Figure size 1800x1800 with 1 Axes>"
      ]
     },
     "metadata": {},
     "output_type": "display_data"
    }
   ],
   "source": [
    "visualize_one_batch(val_data_loader)"
   ]
  },
  {
   "cell_type": "markdown",
   "id": "5adbdd6e",
   "metadata": {},
   "source": [
    "# Model Definition"
   ]
  },
  {
   "cell_type": "code",
   "execution_count": 49,
   "id": "8a76db13",
   "metadata": {},
   "outputs": [],
   "source": [
    "### Define model\n",
    "model = models.vgg16(pretrained = True)\n",
    "\n",
    "### Modifying last few layers and no of classes\n",
    "# NOTE: cross_entropy loss takes unnormalized op (logits), then function itself applies softmax and calculates loss, so no need to include softmax here\n",
    "model.classifier = nn.Sequential(\n",
    "    nn.Linear(25088, 4096, bias = True),\n",
    "    nn.ReLU(inplace = True),\n",
    "    nn.Dropout(0.4),\n",
    "    nn.Linear(4096, 2048, bias = True),\n",
    "    nn.ReLU(inplace = True),\n",
    "    nn.Dropout(0.4),\n",
    "    nn.Linear(2048, 200)\n",
    ")\n"
   ]
  },
  {
   "cell_type": "code",
   "execution_count": 50,
   "id": "84518a86",
   "metadata": {},
   "outputs": [],
   "source": [
    "\n",
    "# from torchviz import make_dot, make_dot_from_trace\n",
    "\n",
    "# make_dot(model, params=dict(model.named_parameters()))\n"
   ]
  },
  {
   "cell_type": "markdown",
   "id": "3c35fc64",
   "metadata": {},
   "source": [
    "# Model Training, Validation and Testing"
   ]
  },
  {
   "cell_type": "code",
   "execution_count": 64,
   "id": "edea0f65",
   "metadata": {},
   "outputs": [],
   "source": [
    "device = torch.device('cuda') if torch.cuda.is_available() else torch.device('cpu')\n",
    "torch.cuda.empty_cache()\n",
    "\n",
    "model.to(device)\n",
    "\n",
    "### Training Details\n",
    "\n",
    "optimizer = torch.optim.Adam(model.parameters(), lr = 0.0001)\n",
    "lr_scheduler = torch.optim.lr_scheduler.StepLR(optimizer, step_size = 5, gamma = 0.75)\n",
    "criterion = nn.CrossEntropyLoss()\n",
    "\n",
    "train_loss = []\n",
    "train_accuracy = []\n",
    "\n",
    "val_loss = []\n",
    "val_accuracy = []\n",
    "\n",
    "epochs = 100\n",
    "CUDA_LAUNCH_BLOCKING=1"
   ]
  },
  {
   "cell_type": "code",
   "execution_count": 65,
   "id": "ee2adb42",
   "metadata": {},
   "outputs": [
    {
     "name": "stderr",
     "output_type": "stream",
     "text": [
      "Epoch 0:   0%|                                                                | 0/2 [00:00<?, ?batch/s]"
     ]
    },
    {
     "name": "stdout",
     "output_type": "stream",
     "text": [
      "Epoch-0 lr: 0.0001\n"
     ]
    },
    {
     "name": "stderr",
     "output_type": "stream",
     "text": [
      "Epoch 0: 100%|█████████████████████████████████| 2/2 [00:01<00:00,  1.33batch/s, train_epoch_loss=1.01]\n",
      "Epoch 0: 100%|████████████████████████████████████| 1/1 [00:01<00:00,  1.11s/batch, val_epoch_loss=5.2]\n"
     ]
    },
    {
     "name": "stdout",
     "output_type": "stream",
     "text": [
      "** Epoch 0 ** - Epoch Time 2\n",
      "Train Loss = 0.5209\n",
      "Train Accuracy = 88.0 % \n",
      "\n",
      "Val Loss = 5.196\n",
      "Val Accuracy = 40.0 % \n",
      "\n",
      "Accuracy increased (0.000000 --> 40.000000).  Saving model ...\n"
     ]
    },
    {
     "name": "stderr",
     "output_type": "stream",
     "text": [
      "Epoch 1:   0%|                                                                | 0/2 [00:00<?, ?batch/s]"
     ]
    },
    {
     "name": "stdout",
     "output_type": "stream",
     "text": [
      "Epoch-1 lr: 0.0001\n"
     ]
    },
    {
     "name": "stderr",
     "output_type": "stream",
     "text": [
      "Epoch 1: 100%|████████████████████████████████| 2/2 [00:01<00:00,  1.39batch/s, train_epoch_loss=0.497]\n",
      "Epoch 1: 100%|███████████████████████████████████| 1/1 [00:01<00:00,  1.22s/batch, val_epoch_loss=3.84]\n"
     ]
    },
    {
     "name": "stdout",
     "output_type": "stream",
     "text": [
      "** Epoch 1 ** - Epoch Time 2\n",
      "Train Loss = 0.4344\n",
      "Train Accuracy = 88.75 % \n",
      "\n",
      "Val Loss = 3.8374\n",
      "Val Accuracy = 37.1429 % \n",
      "\n",
      "EarlyStopping counter: 1 out of 10\n"
     ]
    },
    {
     "name": "stderr",
     "output_type": "stream",
     "text": [
      "Epoch 2:   0%|                                                                | 0/2 [00:00<?, ?batch/s]"
     ]
    },
    {
     "name": "stdout",
     "output_type": "stream",
     "text": [
      "Epoch-2 lr: 0.0001\n"
     ]
    },
    {
     "name": "stderr",
     "output_type": "stream",
     "text": [
      "Epoch 2: 100%|████████████████████████████████| 2/2 [00:01<00:00,  1.23batch/s, train_epoch_loss=0.188]\n",
      "Epoch 2: 100%|███████████████████████████████████| 1/1 [00:01<00:00,  1.10s/batch, val_epoch_loss=3.33]\n"
     ]
    },
    {
     "name": "stdout",
     "output_type": "stream",
     "text": [
      "** Epoch 2 ** - Epoch Time 2\n",
      "Train Loss = 0.1675\n",
      "Train Accuracy = 94.32145 % \n",
      "\n",
      "Val Loss = 3.3319\n",
      "Val Accuracy = 40.0 % \n",
      "\n",
      "Accuracy increased (40.000000 --> 40.000000).  Saving model ...\n"
     ]
    },
    {
     "name": "stderr",
     "output_type": "stream",
     "text": [
      "Epoch 3:   0%|                                                                | 0/2 [00:00<?, ?batch/s]"
     ]
    },
    {
     "name": "stdout",
     "output_type": "stream",
     "text": [
      "Epoch-3 lr: 0.0001\n"
     ]
    },
    {
     "name": "stderr",
     "output_type": "stream",
     "text": [
      "Epoch 3: 100%|███████████████████████████████| 2/2 [00:01<00:00,  1.30batch/s, train_epoch_loss=0.0945]\n",
      "Epoch 3: 100%|███████████████████████████████████| 1/1 [00:01<00:00,  1.22s/batch, val_epoch_loss=3.89]\n"
     ]
    },
    {
     "name": "stdout",
     "output_type": "stream",
     "text": [
      "** Epoch 3 ** - Epoch Time 2\n",
      "Train Loss = 0.1072\n",
      "Train Accuracy = 99.10714999999999 % \n",
      "\n",
      "Val Loss = 3.8949\n",
      "Val Accuracy = 37.1429 % \n",
      "\n",
      "EarlyStopping counter: 1 out of 10\n"
     ]
    },
    {
     "name": "stderr",
     "output_type": "stream",
     "text": [
      "Epoch 4:   0%|                                                                | 0/2 [00:00<?, ?batch/s]"
     ]
    },
    {
     "name": "stdout",
     "output_type": "stream",
     "text": [
      "Epoch-4 lr: 0.0001\n"
     ]
    },
    {
     "name": "stderr",
     "output_type": "stream",
     "text": [
      "Epoch 4: 100%|███████████████████████████████| 2/2 [00:01<00:00,  1.39batch/s, train_epoch_loss=0.0438]\n",
      "Epoch 4: 100%|███████████████████████████████████| 1/1 [00:01<00:00,  1.12s/batch, val_epoch_loss=4.25]\n"
     ]
    },
    {
     "name": "stdout",
     "output_type": "stream",
     "text": [
      "** Epoch 4 ** - Epoch Time 2\n",
      "Train Loss = 0.0664\n",
      "Train Accuracy = 99.10714999999999 % \n",
      "\n",
      "Val Loss = 4.2461\n",
      "Val Accuracy = 40.0 % \n",
      "\n",
      "Accuracy increased (40.000000 --> 40.000000).  Saving model ...\n"
     ]
    },
    {
     "name": "stderr",
     "output_type": "stream",
     "text": [
      "Epoch 5:   0%|                                                                | 0/2 [00:00<?, ?batch/s]"
     ]
    },
    {
     "name": "stdout",
     "output_type": "stream",
     "text": [
      "Epoch-5 lr: 0.0001\n"
     ]
    },
    {
     "name": "stderr",
     "output_type": "stream",
     "text": [
      "Epoch 5: 100%|███████████████████████████████| 2/2 [00:01<00:00,  1.27batch/s, train_epoch_loss=0.0313]\n",
      "Epoch 5: 100%|███████████████████████████████████| 1/1 [00:01<00:00,  1.18s/batch, val_epoch_loss=5.05]\n"
     ]
    },
    {
     "name": "stdout",
     "output_type": "stream",
     "text": [
      "** Epoch 5 ** - Epoch Time 2\n",
      "Train Loss = 0.0267\n",
      "Train Accuracy = 99.0 % \n",
      "\n",
      "Val Loss = 5.0546\n",
      "Val Accuracy = 37.1429 % \n",
      "\n",
      "EarlyStopping counter: 1 out of 10\n"
     ]
    },
    {
     "name": "stderr",
     "output_type": "stream",
     "text": [
      "Epoch 6:   0%|                                                                | 0/2 [00:00<?, ?batch/s]"
     ]
    },
    {
     "name": "stdout",
     "output_type": "stream",
     "text": [
      "Epoch-6 lr: 0.0001\n"
     ]
    },
    {
     "name": "stderr",
     "output_type": "stream",
     "text": [
      "Epoch 6: 100%|████████████████████████████████| 2/2 [00:01<00:00,  1.23batch/s, train_epoch_loss=0.158]\n",
      "Epoch 6: 100%|███████████████████████████████████| 1/1 [00:01<00:00,  1.19s/batch, val_epoch_loss=5.08]\n"
     ]
    },
    {
     "name": "stdout",
     "output_type": "stream",
     "text": [
      "** Epoch 6 ** - Epoch Time 2\n",
      "Train Loss = 0.089\n",
      "Train Accuracy = 96.10714999999999 % \n",
      "\n",
      "Val Loss = 5.0778\n",
      "Val Accuracy = 42.8571 % \n",
      "\n",
      "Accuracy increased (40.000000 --> 42.857100).  Saving model ...\n"
     ]
    },
    {
     "name": "stderr",
     "output_type": "stream",
     "text": [
      "Epoch 7:   0%|                                                                | 0/2 [00:00<?, ?batch/s]"
     ]
    },
    {
     "name": "stdout",
     "output_type": "stream",
     "text": [
      "Epoch-7 lr: 0.0001\n"
     ]
    },
    {
     "name": "stderr",
     "output_type": "stream",
     "text": [
      "Epoch 7: 100%|███████████████████████████████| 2/2 [00:01<00:00,  1.36batch/s, train_epoch_loss=0.0291]\n",
      "Epoch 7: 100%|███████████████████████████████████| 1/1 [00:01<00:00,  1.17s/batch, val_epoch_loss=5.18]\n"
     ]
    },
    {
     "name": "stdout",
     "output_type": "stream",
     "text": [
      "** Epoch 7 ** - Epoch Time 2\n",
      "Train Loss = 0.0245\n",
      "Train Accuracy = 98.10714999999999 % \n",
      "\n",
      "Val Loss = 5.1762\n",
      "Val Accuracy = 48.5714 % \n",
      "\n",
      "Accuracy increased (42.857100 --> 48.571400).  Saving model ...\n"
     ]
    },
    {
     "name": "stderr",
     "output_type": "stream",
     "text": [
      "Epoch 8:   0%|                                                                | 0/2 [00:00<?, ?batch/s]"
     ]
    },
    {
     "name": "stdout",
     "output_type": "stream",
     "text": [
      "Epoch-8 lr: 0.0001\n"
     ]
    },
    {
     "name": "stderr",
     "output_type": "stream",
     "text": [
      "Epoch 8: 100%|███████████████████████████████| 2/2 [00:01<00:00,  1.24batch/s, train_epoch_loss=0.0118]\n",
      "Epoch 8: 100%|██████████████████████████████████████| 1/1 [00:01<00:00,  1.18s/batch, val_epoch_loss=5]\n"
     ]
    },
    {
     "name": "stdout",
     "output_type": "stream",
     "text": [
      "** Epoch 8 ** - Epoch Time 2\n",
      "Train Loss = 0.0203\n",
      "Train Accuracy = 99.10714999999999 % \n",
      "\n",
      "Val Loss = 5.0022\n",
      "Val Accuracy = 37.1429 % \n",
      "\n",
      "EarlyStopping counter: 1 out of 10\n"
     ]
    },
    {
     "name": "stderr",
     "output_type": "stream",
     "text": [
      "Epoch 9:   0%|                                                                | 0/2 [00:00<?, ?batch/s]"
     ]
    },
    {
     "name": "stdout",
     "output_type": "stream",
     "text": [
      "Epoch-9 lr: 0.0001\n"
     ]
    },
    {
     "name": "stderr",
     "output_type": "stream",
     "text": [
      "Epoch 9: 100%|██████████████████████████████| 2/2 [00:01<00:00,  1.24batch/s, train_epoch_loss=0.00194]\n",
      "Epoch 9: 100%|███████████████████████████████████| 1/1 [00:01<00:00,  1.18s/batch, val_epoch_loss=4.81]\n"
     ]
    },
    {
     "name": "stdout",
     "output_type": "stream",
     "text": [
      "** Epoch 9 ** - Epoch Time 2\n",
      "Train Loss = 0.0246\n",
      "Train Accuracy = 99.10714999999999 % \n",
      "\n",
      "Val Loss = 4.8118\n",
      "Val Accuracy = 37.1429 % \n",
      "\n",
      "EarlyStopping counter: 2 out of 10\n"
     ]
    },
    {
     "name": "stderr",
     "output_type": "stream",
     "text": [
      "Epoch 10:   0%|                                                               | 0/2 [00:00<?, ?batch/s]"
     ]
    },
    {
     "name": "stdout",
     "output_type": "stream",
     "text": [
      "Epoch-10 lr: 0.0001\n"
     ]
    },
    {
     "name": "stderr",
     "output_type": "stream",
     "text": [
      "Epoch 10: 100%|█████████████████████████████| 2/2 [00:01<00:00,  1.32batch/s, train_epoch_loss=0.00968]\n",
      "Epoch 10: 100%|██████████████████████████████████| 1/1 [00:01<00:00,  1.21s/batch, val_epoch_loss=4.53]\n"
     ]
    },
    {
     "name": "stdout",
     "output_type": "stream",
     "text": [
      "** Epoch 10 ** - Epoch Time 2\n",
      "Train Loss = 0.0085\n",
      "Train Accuracy = 100.0 % \n",
      "\n",
      "Val Loss = 4.5287\n",
      "Val Accuracy = 22.8571 % \n",
      "\n",
      "EarlyStopping counter: 3 out of 10\n"
     ]
    },
    {
     "name": "stderr",
     "output_type": "stream",
     "text": [
      "Epoch 11:   0%|                                                               | 0/2 [00:00<?, ?batch/s]"
     ]
    },
    {
     "name": "stdout",
     "output_type": "stream",
     "text": [
      "Epoch-11 lr: 0.0001\n"
     ]
    },
    {
     "name": "stderr",
     "output_type": "stream",
     "text": [
      "Epoch 11: 100%|██████████████████████████████| 2/2 [00:01<00:00,  1.27batch/s, train_epoch_loss=0.0381]\n",
      "Epoch 11: 100%|██████████████████████████████████| 1/1 [00:01<00:00,  1.20s/batch, val_epoch_loss=4.77]\n"
     ]
    },
    {
     "name": "stdout",
     "output_type": "stream",
     "text": [
      "** Epoch 11 ** - Epoch Time 2\n",
      "Train Loss = 0.0218\n",
      "Train Accuracy = 99.0 % \n",
      "\n",
      "Val Loss = 4.7661\n",
      "Val Accuracy = 31.4286 % \n",
      "\n",
      "EarlyStopping counter: 4 out of 10\n"
     ]
    },
    {
     "name": "stderr",
     "output_type": "stream",
     "text": [
      "Epoch 12:   0%|                                                               | 0/2 [00:00<?, ?batch/s]"
     ]
    },
    {
     "name": "stdout",
     "output_type": "stream",
     "text": [
      "Epoch-12 lr: 0.0001\n"
     ]
    },
    {
     "name": "stderr",
     "output_type": "stream",
     "text": [
      "Epoch 12: 100%|█████████████████████████████| 2/2 [00:01<00:00,  1.31batch/s, train_epoch_loss=0.00144]\n",
      "Epoch 12: 100%|██████████████████████████████████| 1/1 [00:01<00:00,  1.19s/batch, val_epoch_loss=4.37]\n"
     ]
    },
    {
     "name": "stdout",
     "output_type": "stream",
     "text": [
      "** Epoch 12 ** - Epoch Time 2\n",
      "Train Loss = 0.0026\n",
      "Train Accuracy = 100.0 % \n",
      "\n",
      "Val Loss = 4.3742\n",
      "Val Accuracy = 40.0 % \n",
      "\n",
      "EarlyStopping counter: 5 out of 10\n"
     ]
    },
    {
     "name": "stderr",
     "output_type": "stream",
     "text": [
      "Epoch 13:   0%|                                                               | 0/2 [00:00<?, ?batch/s]"
     ]
    },
    {
     "name": "stdout",
     "output_type": "stream",
     "text": [
      "Epoch-13 lr: 0.0001\n"
     ]
    },
    {
     "name": "stderr",
     "output_type": "stream",
     "text": [
      "Epoch 13: 100%|██████████████████████████████| 2/2 [00:01<00:00,  1.42batch/s, train_epoch_loss=0.0239]\n",
      "Epoch 13: 100%|██████████████████████████████████| 1/1 [00:01<00:00,  1.25s/batch, val_epoch_loss=5.15]\n"
     ]
    },
    {
     "name": "stdout",
     "output_type": "stream",
     "text": [
      "** Epoch 13 ** - Epoch Time 2\n",
      "Train Loss = 0.0135\n",
      "Train Accuracy = 99.0 % \n",
      "\n",
      "Val Loss = 5.1472\n",
      "Val Accuracy = 37.1429 % \n",
      "\n",
      "EarlyStopping counter: 6 out of 10\n"
     ]
    },
    {
     "name": "stderr",
     "output_type": "stream",
     "text": [
      "Epoch 14:   0%|                                                               | 0/2 [00:00<?, ?batch/s]"
     ]
    },
    {
     "name": "stdout",
     "output_type": "stream",
     "text": [
      "Epoch-14 lr: 0.0001\n"
     ]
    },
    {
     "name": "stderr",
     "output_type": "stream",
     "text": [
      "Epoch 14: 100%|██████████████████████████████| 2/2 [00:01<00:00,  1.30batch/s, train_epoch_loss=0.0219]\n",
      "Epoch 14: 100%|███████████████████████████████████| 1/1 [00:01<00:00,  1.20s/batch, val_epoch_loss=5.9]\n"
     ]
    },
    {
     "name": "stdout",
     "output_type": "stream",
     "text": [
      "** Epoch 14 ** - Epoch Time 2\n",
      "Train Loss = 0.0119\n",
      "Train Accuracy = 100.0 % \n",
      "\n",
      "Val Loss = 5.9018\n",
      "Val Accuracy = 31.4286 % \n",
      "\n",
      "EarlyStopping counter: 7 out of 10\n"
     ]
    },
    {
     "name": "stderr",
     "output_type": "stream",
     "text": [
      "Epoch 15:   0%|                                                               | 0/2 [00:00<?, ?batch/s]"
     ]
    },
    {
     "name": "stdout",
     "output_type": "stream",
     "text": [
      "Epoch-15 lr: 0.0001\n"
     ]
    },
    {
     "name": "stderr",
     "output_type": "stream",
     "text": [
      "Epoch 15: 100%|█████████████████████████████| 2/2 [00:01<00:00,  1.40batch/s, train_epoch_loss=0.00712]\n",
      "Epoch 15: 100%|██████████████████████████████████| 1/1 [00:01<00:00,  1.17s/batch, val_epoch_loss=5.08]\n"
     ]
    },
    {
     "name": "stdout",
     "output_type": "stream",
     "text": [
      "** Epoch 15 ** - Epoch Time 2\n",
      "Train Loss = 0.0186\n",
      "Train Accuracy = 99.10714999999999 % \n",
      "\n",
      "Val Loss = 5.0832\n",
      "Val Accuracy = 31.4286 % \n",
      "\n",
      "EarlyStopping counter: 8 out of 10\n"
     ]
    },
    {
     "name": "stderr",
     "output_type": "stream",
     "text": [
      "Epoch 16:   0%|                                                               | 0/2 [00:00<?, ?batch/s]"
     ]
    },
    {
     "name": "stdout",
     "output_type": "stream",
     "text": [
      "Epoch-16 lr: 0.0001\n"
     ]
    },
    {
     "name": "stderr",
     "output_type": "stream",
     "text": [
      "Epoch 16: 100%|█████████████████████████████| 2/2 [00:01<00:00,  1.33batch/s, train_epoch_loss=0.00822]\n",
      "Epoch 16: 100%|██████████████████████████████████| 1/1 [00:01<00:00,  1.23s/batch, val_epoch_loss=4.73]\n"
     ]
    },
    {
     "name": "stdout",
     "output_type": "stream",
     "text": [
      "** Epoch 16 ** - Epoch Time 2\n",
      "Train Loss = 0.005\n",
      "Train Accuracy = 100.0 % \n",
      "\n",
      "Val Loss = 4.7289\n",
      "Val Accuracy = 42.8571 % \n",
      "\n",
      "EarlyStopping counter: 9 out of 10\n"
     ]
    },
    {
     "name": "stderr",
     "output_type": "stream",
     "text": [
      "Epoch 17:   0%|                                                               | 0/2 [00:00<?, ?batch/s]"
     ]
    },
    {
     "name": "stdout",
     "output_type": "stream",
     "text": [
      "Epoch-17 lr: 0.0001\n"
     ]
    },
    {
     "name": "stderr",
     "output_type": "stream",
     "text": [
      "Epoch 17: 100%|████████████████████████████| 2/2 [00:01<00:00,  1.33batch/s, train_epoch_loss=0.000498]\n",
      "Epoch 17: 100%|██████████████████████████████████| 1/1 [00:01<00:00,  1.17s/batch, val_epoch_loss=4.51]\n"
     ]
    },
    {
     "name": "stdout",
     "output_type": "stream",
     "text": [
      "** Epoch 17 ** - Epoch Time 2\n",
      "Train Loss = 0.0005\n",
      "Train Accuracy = 100.0 % \n",
      "\n",
      "Val Loss = 4.5121\n",
      "Val Accuracy = 51.4286 % \n",
      "\n",
      "Accuracy increased (48.571400 --> 51.428600).  Saving model ...\n"
     ]
    },
    {
     "name": "stderr",
     "output_type": "stream",
     "text": [
      "Epoch 18:   0%|                                                               | 0/2 [00:00<?, ?batch/s]"
     ]
    },
    {
     "name": "stdout",
     "output_type": "stream",
     "text": [
      "Epoch-18 lr: 0.0001\n"
     ]
    },
    {
     "name": "stderr",
     "output_type": "stream",
     "text": [
      "Epoch 18: 100%|████████████████████████████| 2/2 [00:01<00:00,  1.21batch/s, train_epoch_loss=0.000453]\n",
      "Epoch 18: 100%|██████████████████████████████████| 1/1 [00:01<00:00,  1.17s/batch, val_epoch_loss=4.69]\n"
     ]
    },
    {
     "name": "stdout",
     "output_type": "stream",
     "text": [
      "** Epoch 18 ** - Epoch Time 2\n",
      "Train Loss = 0.0046\n",
      "Train Accuracy = 100.0 % \n",
      "\n",
      "Val Loss = 4.6867\n",
      "Val Accuracy = 57.1429 % \n",
      "\n",
      "Accuracy increased (51.428600 --> 57.142900).  Saving model ...\n"
     ]
    },
    {
     "name": "stderr",
     "output_type": "stream",
     "text": [
      "Epoch 19:   0%|                                                               | 0/2 [00:00<?, ?batch/s]"
     ]
    },
    {
     "name": "stdout",
     "output_type": "stream",
     "text": [
      "Epoch-19 lr: 0.0001\n"
     ]
    },
    {
     "name": "stderr",
     "output_type": "stream",
     "text": [
      "Epoch 19: 100%|████████████████████████████| 2/2 [00:01<00:00,  1.36batch/s, train_epoch_loss=0.000644]\n",
      "Epoch 19: 100%|██████████████████████████████████| 1/1 [00:01<00:00,  1.14s/batch, val_epoch_loss=4.21]\n"
     ]
    },
    {
     "name": "stdout",
     "output_type": "stream",
     "text": [
      "** Epoch 19 ** - Epoch Time 2\n",
      "Train Loss = 0.0006\n",
      "Train Accuracy = 100.0 % \n",
      "\n",
      "Val Loss = 4.2145\n",
      "Val Accuracy = 54.2857 % \n",
      "\n",
      "EarlyStopping counter: 1 out of 10\n"
     ]
    },
    {
     "name": "stderr",
     "output_type": "stream",
     "text": [
      "Epoch 20:   0%|                                                               | 0/2 [00:00<?, ?batch/s]"
     ]
    },
    {
     "name": "stdout",
     "output_type": "stream",
     "text": [
      "Epoch-20 lr: 0.0001\n"
     ]
    },
    {
     "name": "stderr",
     "output_type": "stream",
     "text": [
      "Epoch 20: 100%|████████████████████████████| 2/2 [00:02<00:00,  1.10s/batch, train_epoch_loss=0.000788]\n",
      "Epoch 20: 100%|██████████████████████████████████| 1/1 [00:01<00:00,  1.28s/batch, val_epoch_loss=4.89]\n"
     ]
    },
    {
     "name": "stdout",
     "output_type": "stream",
     "text": [
      "** Epoch 20 ** - Epoch Time 3\n",
      "Train Loss = 0.0007\n",
      "Train Accuracy = 100.0 % \n",
      "\n",
      "Val Loss = 4.8909\n",
      "Val Accuracy = 40.0 % \n",
      "\n",
      "EarlyStopping counter: 2 out of 10\n"
     ]
    },
    {
     "name": "stderr",
     "output_type": "stream",
     "text": [
      "Epoch 21:   0%|                                                               | 0/2 [00:00<?, ?batch/s]"
     ]
    },
    {
     "name": "stdout",
     "output_type": "stream",
     "text": [
      "Epoch-21 lr: 0.0001\n"
     ]
    },
    {
     "name": "stderr",
     "output_type": "stream",
     "text": [
      "Epoch 21: 100%|████████████████████████████| 2/2 [00:01<00:00,  1.31batch/s, train_epoch_loss=0.000353]\n",
      "Epoch 21: 100%|██████████████████████████████████| 1/1 [00:01<00:00,  1.20s/batch, val_epoch_loss=5.59]\n"
     ]
    },
    {
     "name": "stdout",
     "output_type": "stream",
     "text": [
      "** Epoch 21 ** - Epoch Time 2\n",
      "Train Loss = 0.0005\n",
      "Train Accuracy = 100.0 % \n",
      "\n",
      "Val Loss = 5.5858\n",
      "Val Accuracy = 48.5714 % \n",
      "\n",
      "EarlyStopping counter: 3 out of 10\n"
     ]
    },
    {
     "name": "stderr",
     "output_type": "stream",
     "text": [
      "Epoch 22:   0%|                                                               | 0/2 [00:00<?, ?batch/s]"
     ]
    },
    {
     "name": "stdout",
     "output_type": "stream",
     "text": [
      "Epoch-22 lr: 0.0001\n"
     ]
    },
    {
     "name": "stderr",
     "output_type": "stream",
     "text": [
      "Epoch 22: 100%|████████████████████████████| 2/2 [00:01<00:00,  1.18batch/s, train_epoch_loss=0.000455]\n",
      "Epoch 22: 100%|██████████████████████████████████| 1/1 [00:01<00:00,  1.21s/batch, val_epoch_loss=4.89]\n"
     ]
    },
    {
     "name": "stdout",
     "output_type": "stream",
     "text": [
      "** Epoch 22 ** - Epoch Time 2\n",
      "Train Loss = 0.0007\n",
      "Train Accuracy = 100.0 % \n",
      "\n",
      "Val Loss = 4.8897\n",
      "Val Accuracy = 51.4286 % \n",
      "\n",
      "EarlyStopping counter: 4 out of 10\n"
     ]
    },
    {
     "name": "stderr",
     "output_type": "stream",
     "text": [
      "Epoch 23:   0%|                                                               | 0/2 [00:00<?, ?batch/s]"
     ]
    },
    {
     "name": "stdout",
     "output_type": "stream",
     "text": [
      "Epoch-23 lr: 0.0001\n"
     ]
    },
    {
     "name": "stderr",
     "output_type": "stream",
     "text": [
      "Epoch 23: 100%|█████████████████████████████| 2/2 [00:01<00:00,  1.22batch/s, train_epoch_loss=0.00598]\n",
      "Epoch 23: 100%|██████████████████████████████████| 1/1 [00:01<00:00,  1.24s/batch, val_epoch_loss=5.58]\n"
     ]
    },
    {
     "name": "stdout",
     "output_type": "stream",
     "text": [
      "** Epoch 23 ** - Epoch Time 2\n",
      "Train Loss = 0.0035\n",
      "Train Accuracy = 100.0 % \n",
      "\n",
      "Val Loss = 5.5835\n",
      "Val Accuracy = 48.5714 % \n",
      "\n",
      "EarlyStopping counter: 5 out of 10\n"
     ]
    },
    {
     "name": "stderr",
     "output_type": "stream",
     "text": [
      "Epoch 24:   0%|                                                               | 0/2 [00:00<?, ?batch/s]"
     ]
    },
    {
     "name": "stdout",
     "output_type": "stream",
     "text": [
      "Epoch-24 lr: 0.0001\n"
     ]
    },
    {
     "name": "stderr",
     "output_type": "stream",
     "text": [
      "Epoch 24: 100%|████████████████████████████| 2/2 [00:01<00:00,  1.31batch/s, train_epoch_loss=0.000469]\n",
      "Epoch 24: 100%|██████████████████████████████████| 1/1 [00:01<00:00,  1.22s/batch, val_epoch_loss=4.77]\n"
     ]
    },
    {
     "name": "stdout",
     "output_type": "stream",
     "text": [
      "** Epoch 24 ** - Epoch Time 2\n",
      "Train Loss = 0.0003\n",
      "Train Accuracy = 100.0 % \n",
      "\n",
      "Val Loss = 4.7709\n",
      "Val Accuracy = 45.7143 % \n",
      "\n",
      "EarlyStopping counter: 6 out of 10\n"
     ]
    },
    {
     "name": "stderr",
     "output_type": "stream",
     "text": [
      "Epoch 25:   0%|                                                               | 0/2 [00:00<?, ?batch/s]"
     ]
    },
    {
     "name": "stdout",
     "output_type": "stream",
     "text": [
      "Epoch-25 lr: 0.0001\n"
     ]
    },
    {
     "name": "stderr",
     "output_type": "stream",
     "text": [
      "Epoch 25: 100%|████████████████████████████| 2/2 [00:02<00:00,  1.29s/batch, train_epoch_loss=0.000631]\n",
      "Epoch 25: 100%|██████████████████████████████████| 1/1 [00:01<00:00,  1.28s/batch, val_epoch_loss=4.93]\n"
     ]
    },
    {
     "name": "stdout",
     "output_type": "stream",
     "text": [
      "** Epoch 25 ** - Epoch Time 3\n",
      "Train Loss = 0.0003\n",
      "Train Accuracy = 100.0 % \n",
      "\n",
      "Val Loss = 4.9336\n",
      "Val Accuracy = 48.5714 % \n",
      "\n",
      "EarlyStopping counter: 7 out of 10\n"
     ]
    },
    {
     "name": "stderr",
     "output_type": "stream",
     "text": [
      "Epoch 26:   0%|                                                               | 0/2 [00:00<?, ?batch/s]"
     ]
    },
    {
     "name": "stdout",
     "output_type": "stream",
     "text": [
      "Epoch-26 lr: 0.0001\n"
     ]
    },
    {
     "name": "stderr",
     "output_type": "stream",
     "text": [
      "Epoch 26: 100%|████████████████████████████| 2/2 [00:01<00:00,  1.25batch/s, train_epoch_loss=0.000125]\n",
      "Epoch 26: 100%|██████████████████████████████████| 1/1 [00:01<00:00,  1.21s/batch, val_epoch_loss=4.79]\n"
     ]
    },
    {
     "name": "stdout",
     "output_type": "stream",
     "text": [
      "** Epoch 26 ** - Epoch Time 2\n",
      "Train Loss = 0.0001\n",
      "Train Accuracy = 100.0 % \n",
      "\n",
      "Val Loss = 4.7882\n",
      "Val Accuracy = 45.7143 % \n",
      "\n",
      "EarlyStopping counter: 8 out of 10\n"
     ]
    },
    {
     "name": "stderr",
     "output_type": "stream",
     "text": [
      "Epoch 27:   0%|                                                               | 0/2 [00:00<?, ?batch/s]"
     ]
    },
    {
     "name": "stdout",
     "output_type": "stream",
     "text": [
      "Epoch-27 lr: 0.0001\n"
     ]
    },
    {
     "name": "stderr",
     "output_type": "stream",
     "text": [
      "Epoch 27: 100%|█████████████████████████████| 2/2 [00:01<00:00,  1.12batch/s, train_epoch_loss=8.61e-5]\n",
      "Epoch 27: 100%|██████████████████████████████████| 1/1 [00:01<00:00,  1.18s/batch, val_epoch_loss=4.91]\n"
     ]
    },
    {
     "name": "stdout",
     "output_type": "stream",
     "text": [
      "** Epoch 27 ** - Epoch Time 2\n",
      "Train Loss = 0.0001\n",
      "Train Accuracy = 100.0 % \n",
      "\n",
      "Val Loss = 4.9071\n",
      "Val Accuracy = 51.4286 % \n",
      "\n",
      "EarlyStopping counter: 9 out of 10\n"
     ]
    },
    {
     "name": "stderr",
     "output_type": "stream",
     "text": [
      "Epoch 28:   0%|                                                               | 0/2 [00:00<?, ?batch/s]"
     ]
    },
    {
     "name": "stdout",
     "output_type": "stream",
     "text": [
      "Epoch-28 lr: 0.0001\n"
     ]
    },
    {
     "name": "stderr",
     "output_type": "stream",
     "text": [
      "Epoch 28: 100%|████████████████████████████| 2/2 [00:01<00:00,  1.29batch/s, train_epoch_loss=0.000102]\n",
      "Epoch 28: 100%|██████████████████████████████████| 1/1 [00:01<00:00,  1.18s/batch, val_epoch_loss=5.52]"
     ]
    },
    {
     "name": "stdout",
     "output_type": "stream",
     "text": [
      "** Epoch 28 ** - Epoch Time 2\n",
      "Train Loss = 0.0001\n",
      "Train Accuracy = 100.0 % \n",
      "\n",
      "Val Loss = 5.5166\n",
      "Val Accuracy = 42.8571 % \n",
      "\n",
      "EarlyStopping counter: 10 out of 10\n",
      "Early stopping. Stopping the training of the model.\n"
     ]
    },
    {
     "name": "stderr",
     "output_type": "stream",
     "text": [
      "\n"
     ]
    }
   ],
   "source": [
    "\n",
    "model, train_epoch_loss, train_epoch_accuracy, val_epoch_loss, val_epoch_accuracy = train_classification_model(model,optimizer, criterion, lr_scheduler, epochs, train_data_loader, val_data_loader, device)\n"
   ]
  },
  {
   "cell_type": "markdown",
   "id": "7ce10cfd",
   "metadata": {},
   "source": [
    "## Save model to disk"
   ]
  },
  {
   "cell_type": "code",
   "execution_count": 66,
   "id": "93895c20",
   "metadata": {},
   "outputs": [],
   "source": [
    "\n",
    "from datetime import datetime\n",
    "\n",
    "# save the latest model\n",
    "now = datetime.now() # current date and time\n",
    "timestr = now.strftime(\"%m-%d-%Y-%H:%M:%S\")\n",
    "model_full_path = f\"{data_location}/classification-model-trained-on-only-real-{timestr}.pth\"\n",
    "\n",
    "model.cpu()\n",
    "model_state = {\n",
    "    'model_state_dict': model.state_dict(),\n",
    "    'optimizer_state_dict': optimizer.state_dict(),\n",
    "    'loss': train_epoch_loss,\n",
    "    'accuracy': train_epoch_accuracy\n",
    "}\n",
    "\n",
    "torch.save(model_state, model_full_path)\n"
   ]
  },
  {
   "cell_type": "code",
   "execution_count": 67,
   "id": "c1c01556",
   "metadata": {},
   "outputs": [
    {
     "data": {
      "text/plain": [
       "'/home/salnabulsi/coat-of-arms/data/new//classification-model-trained-on-only-real-02-26-2023-16:12:59.pth'"
      ]
     },
     "execution_count": 67,
     "metadata": {},
     "output_type": "execute_result"
    }
   ],
   "source": [
    "model_full_path"
   ]
  },
  {
   "cell_type": "code",
   "execution_count": 68,
   "id": "be160e72",
   "metadata": {},
   "outputs": [
    {
     "data": {
      "text/plain": [
       "VGG(\n",
       "  (features): Sequential(\n",
       "    (0): Conv2d(3, 64, kernel_size=(3, 3), stride=(1, 1), padding=(1, 1))\n",
       "    (1): ReLU(inplace=True)\n",
       "    (2): Conv2d(64, 64, kernel_size=(3, 3), stride=(1, 1), padding=(1, 1))\n",
       "    (3): ReLU(inplace=True)\n",
       "    (4): MaxPool2d(kernel_size=2, stride=2, padding=0, dilation=1, ceil_mode=False)\n",
       "    (5): Conv2d(64, 128, kernel_size=(3, 3), stride=(1, 1), padding=(1, 1))\n",
       "    (6): ReLU(inplace=True)\n",
       "    (7): Conv2d(128, 128, kernel_size=(3, 3), stride=(1, 1), padding=(1, 1))\n",
       "    (8): ReLU(inplace=True)\n",
       "    (9): MaxPool2d(kernel_size=2, stride=2, padding=0, dilation=1, ceil_mode=False)\n",
       "    (10): Conv2d(128, 256, kernel_size=(3, 3), stride=(1, 1), padding=(1, 1))\n",
       "    (11): ReLU(inplace=True)\n",
       "    (12): Conv2d(256, 256, kernel_size=(3, 3), stride=(1, 1), padding=(1, 1))\n",
       "    (13): ReLU(inplace=True)\n",
       "    (14): Conv2d(256, 256, kernel_size=(3, 3), stride=(1, 1), padding=(1, 1))\n",
       "    (15): ReLU(inplace=True)\n",
       "    (16): MaxPool2d(kernel_size=2, stride=2, padding=0, dilation=1, ceil_mode=False)\n",
       "    (17): Conv2d(256, 512, kernel_size=(3, 3), stride=(1, 1), padding=(1, 1))\n",
       "    (18): ReLU(inplace=True)\n",
       "    (19): Conv2d(512, 512, kernel_size=(3, 3), stride=(1, 1), padding=(1, 1))\n",
       "    (20): ReLU(inplace=True)\n",
       "    (21): Conv2d(512, 512, kernel_size=(3, 3), stride=(1, 1), padding=(1, 1))\n",
       "    (22): ReLU(inplace=True)\n",
       "    (23): MaxPool2d(kernel_size=2, stride=2, padding=0, dilation=1, ceil_mode=False)\n",
       "    (24): Conv2d(512, 512, kernel_size=(3, 3), stride=(1, 1), padding=(1, 1))\n",
       "    (25): ReLU(inplace=True)\n",
       "    (26): Conv2d(512, 512, kernel_size=(3, 3), stride=(1, 1), padding=(1, 1))\n",
       "    (27): ReLU(inplace=True)\n",
       "    (28): Conv2d(512, 512, kernel_size=(3, 3), stride=(1, 1), padding=(1, 1))\n",
       "    (29): ReLU(inplace=True)\n",
       "    (30): MaxPool2d(kernel_size=2, stride=2, padding=0, dilation=1, ceil_mode=False)\n",
       "  )\n",
       "  (avgpool): AdaptiveAvgPool2d(output_size=(7, 7))\n",
       "  (classifier): Sequential(\n",
       "    (0): Linear(in_features=25088, out_features=4096, bias=True)\n",
       "    (1): ReLU(inplace=True)\n",
       "    (2): Dropout(p=0.4, inplace=False)\n",
       "    (3): Linear(in_features=4096, out_features=2048, bias=True)\n",
       "    (4): ReLU(inplace=True)\n",
       "    (5): Dropout(p=0.4, inplace=False)\n",
       "    (6): Linear(in_features=2048, out_features=200, bias=True)\n",
       "  )\n",
       ")"
      ]
     },
     "execution_count": 68,
     "metadata": {},
     "output_type": "execute_result"
    }
   ],
   "source": [
    "model.cuda()\n"
   ]
  },
  {
   "cell_type": "markdown",
   "id": "e5e0f4f3",
   "metadata": {},
   "source": [
    "## Test model on synthetic data\n"
   ]
  },
  {
   "cell_type": "code",
   "execution_count": 69,
   "id": "b7e6b410",
   "metadata": {},
   "outputs": [
    {
     "data": {
      "text/plain": [
       "(VGG(\n",
       "   (features): Sequential(\n",
       "     (0): Conv2d(3, 64, kernel_size=(3, 3), stride=(1, 1), padding=(1, 1))\n",
       "     (1): ReLU(inplace=True)\n",
       "     (2): Conv2d(64, 64, kernel_size=(3, 3), stride=(1, 1), padding=(1, 1))\n",
       "     (3): ReLU(inplace=True)\n",
       "     (4): MaxPool2d(kernel_size=2, stride=2, padding=0, dilation=1, ceil_mode=False)\n",
       "     (5): Conv2d(64, 128, kernel_size=(3, 3), stride=(1, 1), padding=(1, 1))\n",
       "     (6): ReLU(inplace=True)\n",
       "     (7): Conv2d(128, 128, kernel_size=(3, 3), stride=(1, 1), padding=(1, 1))\n",
       "     (8): ReLU(inplace=True)\n",
       "     (9): MaxPool2d(kernel_size=2, stride=2, padding=0, dilation=1, ceil_mode=False)\n",
       "     (10): Conv2d(128, 256, kernel_size=(3, 3), stride=(1, 1), padding=(1, 1))\n",
       "     (11): ReLU(inplace=True)\n",
       "     (12): Conv2d(256, 256, kernel_size=(3, 3), stride=(1, 1), padding=(1, 1))\n",
       "     (13): ReLU(inplace=True)\n",
       "     (14): Conv2d(256, 256, kernel_size=(3, 3), stride=(1, 1), padding=(1, 1))\n",
       "     (15): ReLU(inplace=True)\n",
       "     (16): MaxPool2d(kernel_size=2, stride=2, padding=0, dilation=1, ceil_mode=False)\n",
       "     (17): Conv2d(256, 512, kernel_size=(3, 3), stride=(1, 1), padding=(1, 1))\n",
       "     (18): ReLU(inplace=True)\n",
       "     (19): Conv2d(512, 512, kernel_size=(3, 3), stride=(1, 1), padding=(1, 1))\n",
       "     (20): ReLU(inplace=True)\n",
       "     (21): Conv2d(512, 512, kernel_size=(3, 3), stride=(1, 1), padding=(1, 1))\n",
       "     (22): ReLU(inplace=True)\n",
       "     (23): MaxPool2d(kernel_size=2, stride=2, padding=0, dilation=1, ceil_mode=False)\n",
       "     (24): Conv2d(512, 512, kernel_size=(3, 3), stride=(1, 1), padding=(1, 1))\n",
       "     (25): ReLU(inplace=True)\n",
       "     (26): Conv2d(512, 512, kernel_size=(3, 3), stride=(1, 1), padding=(1, 1))\n",
       "     (27): ReLU(inplace=True)\n",
       "     (28): Conv2d(512, 512, kernel_size=(3, 3), stride=(1, 1), padding=(1, 1))\n",
       "     (29): ReLU(inplace=True)\n",
       "     (30): MaxPool2d(kernel_size=2, stride=2, padding=0, dilation=1, ceil_mode=False)\n",
       "   )\n",
       "   (avgpool): AdaptiveAvgPool2d(output_size=(7, 7))\n",
       "   (classifier): Sequential(\n",
       "     (0): Linear(in_features=25088, out_features=4096, bias=True)\n",
       "     (1): ReLU(inplace=True)\n",
       "     (2): Dropout(p=0.4, inplace=False)\n",
       "     (3): Linear(in_features=4096, out_features=2048, bias=True)\n",
       "     (4): ReLU(inplace=True)\n",
       "     (5): Dropout(p=0.4, inplace=False)\n",
       "     (6): Linear(in_features=2048, out_features=200, bias=True)\n",
       "   )\n",
       " ),\n",
       " Adam (\n",
       " Parameter Group 0\n",
       "     amsgrad: False\n",
       "     betas: (0.9, 0.999)\n",
       "     eps: 1e-08\n",
       "     initial_lr: 0.0001\n",
       "     lr: 0.0001\n",
       "     weight_decay: 0\n",
       " ),\n",
       " 6.232780833670404e-05,\n",
       " 100.0)"
      ]
     },
     "execution_count": 69,
     "metadata": {},
     "output_type": "execute_result"
    }
   ],
   "source": [
    "# load model from disk \n",
    "### creat a new model model\n",
    "model = models.vgg16(pretrained = True)\n",
    "\n",
    "### Modifying last few layers and no of classes\n",
    "model.classifier = nn.Sequential(\n",
    "    nn.Linear(25088, 4096, bias = True),\n",
    "    nn.ReLU(inplace = True),\n",
    "    nn.Dropout(0.4),\n",
    "    nn.Linear(4096, 2048, bias = True),\n",
    "    nn.ReLU(inplace = True),\n",
    "    nn.Dropout(0.4),\n",
    "    nn.Linear(2048, 200)\n",
    ")\n",
    "\n",
    "optimizer = torch.optim.Adam(model.parameters(), lr = 0.0001)\n",
    "\n",
    "\n",
    "model_file_path =  data_location + '/classification-model-trained-on-only-real-02-26-2023-16:12:59.pth'\n",
    "saved_model = torch.load(model_file_path, map_location=torch.device(device))\n",
    "\n",
    "model.load_state_dict(saved_model['model_state_dict'])\n",
    "optimizer.load_state_dict(saved_model['optimizer_state_dict'])\n",
    "criterion = nn.CrossEntropyLoss()\n",
    "\n",
    "loss = saved_model['loss']\n",
    "accuracy = saved_model['accuracy']\n",
    "\n",
    "model, optimizer, loss, accuracy"
   ]
  },
  {
   "cell_type": "code",
   "execution_count": 70,
   "id": "a32e1dbb",
   "metadata": {},
   "outputs": [
    {
     "name": "stdout",
     "output_type": "stream",
     "text": [
      "<class 'torch.Tensor'>\n",
      "Test Loss = 4.4935\n",
      "Test Accuracy = 41.6667 % \n",
      "\n"
     ]
    }
   ],
   "source": [
    "#this cell execution from real classification-model-trained-on-only-real-02-26-2023-13:04:13.pth\n",
    "test_classification_model(model, test_data_loader)"
   ]
  },
  {
   "cell_type": "code",
   "execution_count": 72,
   "id": "f27f744c",
   "metadata": {},
   "outputs": [
    {
     "name": "stdout",
     "output_type": "stream",
     "text": [
      "<class 'torch.Tensor'>\n",
      "Test Loss = 4.2466\n",
      "Test Accuracy = 36.1111 % \n",
      "\n"
     ]
    }
   ],
   "source": [
    "import torch\n",
    "import random\n",
    "seed = 1234\n",
    "random.seed(seed)     # python random generator\n",
    "np.random.seed(seed)  # numpy random generator\n",
    "\n",
    "torch.manual_seed(seed)\n",
    "# torch.cuda.manual_seed_all(seed)\n",
    "\n",
    "torch.backends.cudnn.deterministic = True\n",
    "torch.backends.cudnn.benchmark = False\n",
    "\n",
    "\n",
    "test_classification_model(model, test_data_loader)"
   ]
  }
 ],
 "metadata": {
  "kernelspec": {
   "display_name": "Python 3 (ipykernel)",
   "language": "python",
   "name": "python3"
  },
  "language_info": {
   "codemirror_mode": {
    "name": "ipython",
    "version": 3
   },
   "file_extension": ".py",
   "mimetype": "text/x-python",
   "name": "python",
   "nbconvert_exporter": "python",
   "pygments_lexer": "ipython3",
   "version": "3.8.10"
  },
  "toc": {
   "base_numbering": 1,
   "nav_menu": {
    "height": "194px",
    "width": "277px"
   },
   "number_sections": true,
   "sideBar": true,
   "skip_h1_title": false,
   "title_cell": "Table of Contents",
   "title_sidebar": "Contents",
   "toc_cell": false,
   "toc_position": {},
   "toc_section_display": true,
   "toc_window_display": false
  }
 },
 "nbformat": 4,
 "nbformat_minor": 5
}
