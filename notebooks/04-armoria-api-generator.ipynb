{
 "cells": [
  {
   "cell_type": "markdown",
   "id": "101e5655",
   "metadata": {},
   "source": [
    "# Armoria API"
   ]
  },
  {
   "cell_type": "code",
   "execution_count": 12,
   "id": "afa9a8d3",
   "metadata": {},
   "outputs": [
    {
     "name": "stdout",
     "output_type": "stream",
     "text": [
      "The autoreload extension is already loaded. To reload it, use:\n",
      "  %reload_ext autoreload\n",
      "The pyinstrument extension is already loaded. To reload it, use:\n",
      "  %reload_ext pyinstrument\n"
     ]
    }
   ],
   "source": [
    "# auto-load when code changes outside\n",
    "%load_ext autoreload\n",
    "%autoreload 2\n",
    "%load_ext pyinstrument\n",
    "\n",
    "import sys\n",
    "sys.path.insert(0,'..')\n",
    "\n",
    "\n",
    "import os\n",
    "from src.armoria_api import ArmoriaAPIPayload, ArmoriaAPIWrapper\n",
    "from src.armoria_api_generator_helper import ArmoriaAPIGeneratorHelper\n",
    "\n",
    "from src.caption import Caption\n"
   ]
  },
  {
   "cell_type": "markdown",
   "id": "bd4d09b5",
   "metadata": {},
   "source": [
    "# Examples of using the ArmoriaAPIWrapper "
   ]
  },
  {
   "cell_type": "code",
   "execution_count": 3,
   "id": "e6698cfd",
   "metadata": {},
   "outputs": [],
   "source": [
    "coa_lion = {\"t1\":\"or\",\n",
    "       \"shield\":\"heater\",\n",
    "       \"charges\":[{\"charge\":\"lionRampant\",\"t\":\"gules\",\"p\":\"e\",\"size\":1.5}],\n",
    "       \"ordinaries\":[{\"ordinary\":\"bordure\",\"t\":\"azure\"}],\n",
    "      }\n",
    "\n",
    "api = ArmoriaAPIWrapper(size = 500,format=\"png\", coa=coa_lion)\n",
    "api.show_image()\n"
   ]
  },
  {
   "cell_type": "code",
   "execution_count": 19,
   "id": "b372925e",
   "metadata": {},
   "outputs": [],
   "source": [
    "\n",
    "coa_cross = {\"t1\":\"argent\",\n",
    "       \"shield\":\"heater\",\n",
    "       \"charges\":[{\"charge\":\"crossMoline\",\n",
    "                   \"t\":\"azure\",\n",
    "                   \"p\":\"df\",\n",
    "                   \"size\":0.5}]\n",
    "      }\n",
    "\n",
    "api = ArmoriaAPIWrapper(size = 500,format=\"png\", coa=coa_cross)\n",
    "api.show_image()"
   ]
  },
  {
   "cell_type": "code",
   "execution_count": 13,
   "id": "3bc6a9bc",
   "metadata": {},
   "outputs": [],
   "source": [
    "payload = {'t1': 'vert', 'shield': 'heater', \n",
    "             'charges': [{'charge': 'lionRampant', 't': 'gules', 'p': 'k', 'size': '0.7'},\n",
    "                        {'charge': 'eagle', 't': 'or', 'p': 'n', 'size': '0.7'}],\n",
    "             'ordinaries': []}\n",
    "api = ArmoriaAPIWrapper(size = 500,format=\"png\", coa=payload)\n",
    "api.show_image()\n"
   ]
  },
  {
   "cell_type": "code",
   "execution_count": 6,
   "id": "15fd59ff",
   "metadata": {},
   "outputs": [],
   "source": [
    "payload = {'t1': 'or', 'shield': 'heater', \n",
    "             'charges': [{'charge': 'lionRampant', 't': 'or', 'p': 'abc', 'size': '0.3'},\n",
    "                         {'charge': 'eagle', 't': 'azure', 'p': 'dfgz', 'size': '0.3'},\n",
    "                         {'charge': 'crossHummetty', 't': 'argent', 'p': 'i', 'size': '0.3'}],\n",
    "             'ordinaries': [{\"ordinary\":\"bordure\", \"t\":\"azure\"}]}\n",
    "\n",
    "api = ArmoriaAPIWrapper(size = 500,format=\"png\", coa=payload)\n",
    "api.show_image()\n"
   ]
  },
  {
   "cell_type": "markdown",
   "id": "70e6438b",
   "metadata": {},
   "source": [
    "# Generate Permutations"
   ]
  },
  {
   "cell_type": "code",
   "execution_count": 15,
   "id": "5b84e897",
   "metadata": {},
   "outputs": [],
   "source": [
    "import itertools\n",
    "import src.alphabet as alphabet\n",
    "from src.armoria_api import COLORS_MAP, SINGLE_LION_MODIFIERS_MAP, PLURAL_LION_MODIFIERS_MAP, CROSS_MODIFIERS_MAP, \\\n",
    "SINGLE_EAGLE_MODIFIERS_MAP, PLURAL_EAGLE_MODIFIERS_MAP, \\\n",
    "POSITIONS, SIZES, NUMBERS, NUMBERS_MULTI, SINGLE_POSITION, SINGLE_LION_MODIFIERS_MAP, SINGLE_CROSS_MODIFIERS_MAP, SINGLE_EAGLE_MODIFIERS_MAP \n",
    "\n",
    "# BORDER_MOD = ['& border', '']"
   ]
  },
  {
   "cell_type": "markdown",
   "id": "5b2e308d",
   "metadata": {},
   "source": [
    "## Single object"
   ]
  },
  {
   "cell_type": "code",
   "execution_count": 16,
   "id": "9a4c943e",
   "metadata": {},
   "outputs": [
    {
     "name": "stdout",
     "output_type": "stream",
     "text": [
      "Total number of permutations: 360\n"
     ]
    }
   ],
   "source": [
    "\n",
    "# lion, modifiers and colors\n",
    "permutations1 = list(dict.fromkeys(itertools.product(list(COLORS_MAP.keys()), list(COLORS_MAP.keys()), list( SINGLE_LION_MODIFIERS_MAP.keys()))))\n",
    "\n",
    "# cross, modifiers and colors\n",
    "permutations2 = list(dict.fromkeys(itertools.product(list(COLORS_MAP.keys()), list(COLORS_MAP.keys()), list( SINGLE_CROSS_MODIFIERS_MAP.keys()))))\n",
    "\n",
    "# eagle, modifiers and colors\n",
    "permutations3 = list(dict.fromkeys(itertools.product(list(COLORS_MAP.keys()), list(COLORS_MAP.keys()), list( SINGLE_EAGLE_MODIFIERS_MAP.keys()))))\n",
    "\n",
    "possible_single_permutations = permutations1 + permutations2 + permutations3\n",
    "\n",
    "print('Total number of permutations:', len(possible_single_permutations))"
   ]
  },
  {
   "cell_type": "markdown",
   "id": "5f4e278a",
   "metadata": {},
   "source": [
    "## Plural Object with Number"
   ]
  },
  {
   "cell_type": "code",
   "execution_count": 9,
   "id": "4174816e",
   "metadata": {},
   "outputs": [
    {
     "name": "stdout",
     "output_type": "stream",
     "text": [
      "Total number of plural permutations: 4320\n"
     ]
    }
   ],
   "source": [
    "# lion, modifiers and colors\n",
    "permutations1 = list(dict.fromkeys(itertools.product(list(COLORS_MAP.keys()), list(COLORS_MAP.keys()), list(NUMBERS), list( PLURAL_LION_MODIFIERS_MAP.keys()),BORDER_MOD)))\n",
    "\n",
    "# eagle, modifiers and colors\n",
    "permutations2 = list(dict.fromkeys(itertools.product(list(COLORS_MAP.keys()), list(COLORS_MAP.keys()), list(NUMBERS), list( PLURAL_EAGLE_MODIFIERS_MAP.keys()),BORDER_MOD)))\n",
    "\n",
    "possible_pl_permutations = permutations1 + permutations2\n",
    "\n",
    "print('Total number of plural permutations:', len(possible_pl_permutations))\n"
   ]
  },
  {
   "cell_type": "markdown",
   "id": "1e6e841a",
   "metadata": {},
   "source": [
    "## Multi Objects - single"
   ]
  },
  {
   "cell_type": "code",
   "execution_count": 10,
   "id": "cb0d933f",
   "metadata": {},
   "outputs": [
    {
     "name": "stdout",
     "output_type": "stream",
     "text": [
      "Total number of permutations: 91152\n"
     ]
    }
   ],
   "source": [
    "\n",
    "# lion & eagle\n",
    "permutations1 = list(dict.fromkeys(itertools.product(list(COLORS_MAP.keys()),list(COLORS_MAP.keys()), list(COLORS_MAP.keys()), list( SINGLE_LION_MODIFIERS_MAP.keys()), list( SINGLE_EAGLE_MODIFIERS_MAP.keys()),BORDER_MOD)))\n",
    "\n",
    "# lion & cross\n",
    "permutations2 = list(dict.fromkeys(itertools.product(list(COLORS_MAP.keys()),list(COLORS_MAP.keys()), list(COLORS_MAP.keys()), list( SINGLE_LION_MODIFIERS_MAP.keys()), list( CROSS_MODIFIERS_MAP.keys()),BORDER_MOD)))\n",
    "\n",
    "# eagle & cross\n",
    "permutations3 = list(dict.fromkeys(itertools.product(list(COLORS_MAP.keys()),list(COLORS_MAP.keys()), list(COLORS_MAP.keys()), list( SINGLE_EAGLE_MODIFIERS_MAP.keys()), list( CROSS_MODIFIERS_MAP.keys()),BORDER_MOD)))\n",
    "\n",
    "# lion & cross & eagle\n",
    "permutations4 = list(dict.fromkeys(itertools.product(list(COLORS_MAP.keys()),list(COLORS_MAP.keys()),list(COLORS_MAP.keys()), list(COLORS_MAP.keys()), list( SINGLE_LION_MODIFIERS_MAP.keys()), list( SINGLE_EAGLE_MODIFIERS_MAP.keys()), list( CROSS_MODIFIERS_MAP.keys()),BORDER_MOD)))\n",
    "\n",
    "possible_multi_single_permutations = permutations1 + permutations2 + permutations3 + permutations4\n",
    "\n",
    "print('Total number of permutations:', len(possible_multi_single_permutations))\n"
   ]
  },
  {
   "cell_type": "markdown",
   "id": "44f06b02",
   "metadata": {},
   "source": [
    "## Multi Objects - plural"
   ]
  },
  {
   "cell_type": "code",
   "execution_count": 11,
   "id": "12195c4a",
   "metadata": {},
   "outputs": [
    {
     "name": "stdout",
     "output_type": "stream",
     "text": [
      "Total number of plural permutations: 1081728\n"
     ]
    }
   ],
   "source": [
    "\n",
    "# lion & eagle\n",
    "permutations1 = list(dict.fromkeys(itertools.product(list(COLORS_MAP.keys()),list(COLORS_MAP.keys()), list(COLORS_MAP.keys()), list(NUMBERS_MULTI),list( PLURAL_LION_MODIFIERS_MAP.keys()), list(NUMBERS_MULTI), list( PLURAL_EAGLE_MODIFIERS_MAP.keys()),BORDER_MOD)))\n",
    "\n",
    "# lion & cross\n",
    "permutations2 = list(dict.fromkeys(itertools.product(list(COLORS_MAP.keys()),list(COLORS_MAP.keys()), list(COLORS_MAP.keys()), list(NUMBERS_MULTI),list( PLURAL_LION_MODIFIERS_MAP.keys()), list( CROSS_MODIFIERS_MAP.keys()),BORDER_MOD)))\n",
    "\n",
    "# eagle & cross\n",
    "permutations3 = list(dict.fromkeys(itertools.product(list(COLORS_MAP.keys()),list(COLORS_MAP.keys()), list(COLORS_MAP.keys()), list(NUMBERS_MULTI),list( PLURAL_EAGLE_MODIFIERS_MAP.keys()), list( CROSS_MODIFIERS_MAP.keys()),BORDER_MOD)))\n",
    "\n",
    "# lion & cross & eagle\n",
    "permutations4 = list(dict.fromkeys(itertools.product(list(COLORS_MAP.keys()),list(COLORS_MAP.keys()),list(COLORS_MAP.keys()), list(COLORS_MAP.keys()), list(NUMBERS_MULTI), list( PLURAL_LION_MODIFIERS_MAP.keys()), list(NUMBERS_MULTI),list( PLURAL_EAGLE_MODIFIERS_MAP.keys()), list( CROSS_MODIFIERS_MAP.keys()),BORDER_MOD)))\n",
    "\n",
    "possible_multi_plural_permutations = permutations1 + permutations2 + permutations3 + permutations4\n",
    "\n",
    "print('Total number of plural permutations:', len(possible_multi_plural_permutations))\n"
   ]
  },
  {
   "cell_type": "markdown",
   "id": "92a9c81e",
   "metadata": {},
   "source": [
    "## Total number of permutations before adding border (588960)"
   ]
  },
  {
   "cell_type": "markdown",
   "id": "6e7e5513",
   "metadata": {},
   "source": [
    "## Total number of permutations with/out borders (1177920)\n",
    "## __NOTE__: Not possible to generate this amount of images with the Armoria API"
   ]
  },
  {
   "cell_type": "code",
   "execution_count": 11,
   "id": "0375cc40",
   "metadata": {},
   "outputs": [
    {
     "data": {
      "text/plain": [
       "1177920"
      ]
     },
     "execution_count": 11,
     "metadata": {},
     "output_type": "execute_result"
    }
   ],
   "source": [
    "total_possible_permutations = possible_single_permutations + possible_pl_permutations + \\\n",
    "                            possible_multi_single_permutations  + possible_multi_plural_permutations\n",
    "len(total_possible_permutations)"
   ]
  },
  {
   "cell_type": "code",
   "execution_count": 12,
   "id": "8d30e5a3",
   "metadata": {},
   "outputs": [
    {
     "data": {
      "text/plain": [
       "('A', 'A', 'lion', '& border')"
      ]
     },
     "execution_count": 12,
     "metadata": {},
     "output_type": "execute_result"
    }
   ],
   "source": [
    "total_possible_permutations[0]"
   ]
  },
  {
   "cell_type": "markdown",
   "id": "b7339529",
   "metadata": {},
   "source": [
    "# Take only 2000 random sample from the permutation list"
   ]
  },
  {
   "cell_type": "code",
   "execution_count": 20,
   "id": "af83f9f2",
   "metadata": {},
   "outputs": [
    {
     "data": {
      "text/plain": [
       "2000"
      ]
     },
     "execution_count": 20,
     "metadata": {},
     "output_type": "execute_result"
    }
   ],
   "source": [
    "import random\n",
    "\n",
    "subset_permutations = random.sample(total_possible_permutations, 2000)\n",
    "len(subset_permutations)"
   ]
  },
  {
   "cell_type": "code",
   "execution_count": 21,
   "id": "29a56d30",
   "metadata": {
    "scrolled": true
   },
   "outputs": [
    {
     "data": {
      "text/plain": [
       "[('V',\n",
       "  'O',\n",
       "  'S',\n",
       "  'O',\n",
       "  '4',\n",
       "  'lions',\n",
       "  '3',\n",
       "  'eagles doubleheaded',\n",
       "  'cross patonce',\n",
       "  '& border'),\n",
       " ('O', 'S', 'O', 'B', '5', 'lions passt', '5', 'eagles', 'cross', ''),\n",
       " ('V',\n",
       "  'G',\n",
       "  'O',\n",
       "  'B',\n",
       "  '4',\n",
       "  'lions passt',\n",
       "  '2',\n",
       "  'eagles doubleheaded',\n",
       "  'cross',\n",
       "  '& border'),\n",
       " ('S',\n",
       "  'A',\n",
       "  'S',\n",
       "  'A',\n",
       "  '5',\n",
       "  'lions passt guard',\n",
       "  '5',\n",
       "  'eagles doubleheaded',\n",
       "  'cross',\n",
       "  '& border'),\n",
       " ('V', 'S', 'B', '3', 'lions', '5', 'eagles', ''),\n",
       " ('V',\n",
       "  'G',\n",
       "  'B',\n",
       "  'G',\n",
       "  '2',\n",
       "  'lions rampant',\n",
       "  '5',\n",
       "  'eagles doubleheaded',\n",
       "  'cross',\n",
       "  ''),\n",
       " ('O', 'A', 'A', 'V', '5', 'lions passt', '3', 'eagles', 'cross', ''),\n",
       " ('G',\n",
       "  'G',\n",
       "  'A',\n",
       "  'V',\n",
       "  '5',\n",
       "  'lions rampant',\n",
       "  '3',\n",
       "  'eagles',\n",
       "  'cross',\n",
       "  '& border'),\n",
       " ('B',\n",
       "  'V',\n",
       "  'S',\n",
       "  'V',\n",
       "  '4',\n",
       "  'lions passt guard',\n",
       "  '3',\n",
       "  'eagles doubleheaded',\n",
       "  'cross',\n",
       "  ''),\n",
       " ('G', 'B', 'B', 'V', '3', 'lions rampant', '3', 'eagles', 'cross moline', '')]"
      ]
     },
     "execution_count": 21,
     "metadata": {},
     "output_type": "execute_result"
    }
   ],
   "source": [
    "subset_permutations[:10]"
   ]
  },
  {
   "cell_type": "markdown",
   "id": "dddf4763",
   "metadata": {},
   "source": [
    "## Total number of single permutations +  position and scale"
   ]
  },
  {
   "cell_type": "code",
   "execution_count": 17,
   "id": "e9d4fd32",
   "metadata": {},
   "outputs": [],
   "source": [
    "# FOLDER_NAME = '/home/space/datasets/COA/generated-data-api-subset-random'\n",
    "# FOLDER_NAME = '../gg'\n",
    "FOLDER_NAME = '/home/space/datasets/COA/generated-single-simple'\n",
    "caption_file = FOLDER_NAME + '/' + 'captions.txt'\n",
    "api_gen_helper = ArmoriaAPIGeneratorHelper(caption_file, FOLDER_NAME, possible_single_permutations,0) "
   ]
  },
  {
   "cell_type": "code",
   "execution_count": 18,
   "id": "0ac35bcd",
   "metadata": {},
   "outputs": [],
   "source": [
    "api_gen_helper.creat_caption_file(caption_file,columns='image,caption,pixels')"
   ]
  },
  {
   "cell_type": "code",
   "execution_count": 19,
   "id": "61c32c67",
   "metadata": {},
   "outputs": [],
   "source": [
    "api_gen_helper.generate_caption_file()"
   ]
  },
  {
   "cell_type": "code",
   "execution_count": 20,
   "id": "b8609144",
   "metadata": {
    "scrolled": true
   },
   "outputs": [
    {
     "name": "stdout",
     "output_type": "stream",
     "text": [
      "Image \"/home/space/datasets/COA/generated-single-simple/images/image_0.png\" for label \"A A lion\" has been generated succfully\n",
      "Image \"/home/space/datasets/COA/generated-single-simple/images/image_1.png\" for label \"A A lion rampant\" has been generated succfully\n",
      "Image \"/home/space/datasets/COA/generated-single-simple/images/image_2.png\" for label \"A A lion passt\" has been generated succfully\n",
      "Image \"/home/space/datasets/COA/generated-single-simple/images/image_3.png\" for label \"A A lion passt guard\" has been generated succfully\n",
      "Image \"/home/space/datasets/COA/generated-single-simple/images/image_4.png\" for label \"A A lion's head\" has been generated succfully\n",
      "Image \"/home/space/datasets/COA/generated-single-simple/images/image_5.png\" for label \"A B lion\" has been generated succfully\n",
      "Image \"/home/space/datasets/COA/generated-single-simple/images/image_6.png\" for label \"A B lion rampant\" has been generated succfully\n",
      "Image \"/home/space/datasets/COA/generated-single-simple/images/image_7.png\" for label \"A B lion passt\" has been generated succfully\n",
      "Image \"/home/space/datasets/COA/generated-single-simple/images/image_8.png\" for label \"A B lion passt guard\" has been generated succfully\n",
      "Image \"/home/space/datasets/COA/generated-single-simple/images/image_9.png\" for label \"A B lion's head\" has been generated succfully\n",
      "Image \"/home/space/datasets/COA/generated-single-simple/images/image_10.png\" for label \"A O lion\" has been generated succfully\n",
      "Image \"/home/space/datasets/COA/generated-single-simple/images/image_11.png\" for label \"A O lion rampant\" has been generated succfully\n",
      "Image \"/home/space/datasets/COA/generated-single-simple/images/image_12.png\" for label \"A O lion passt\" has been generated succfully\n",
      "Image \"/home/space/datasets/COA/generated-single-simple/images/image_13.png\" for label \"A O lion passt guard\" has been generated succfully\n",
      "Image \"/home/space/datasets/COA/generated-single-simple/images/image_14.png\" for label \"A O lion's head\" has been generated succfully\n",
      "Image \"/home/space/datasets/COA/generated-single-simple/images/image_15.png\" for label \"A S lion\" has been generated succfully\n",
      "Image \"/home/space/datasets/COA/generated-single-simple/images/image_16.png\" for label \"A S lion rampant\" has been generated succfully\n",
      "Image \"/home/space/datasets/COA/generated-single-simple/images/image_17.png\" for label \"A S lion passt\" has been generated succfully\n",
      "Image \"/home/space/datasets/COA/generated-single-simple/images/image_18.png\" for label \"A S lion passt guard\" has been generated succfully\n",
      "Image \"/home/space/datasets/COA/generated-single-simple/images/image_19.png\" for label \"A S lion's head\" has been generated succfully\n",
      "Image \"/home/space/datasets/COA/generated-single-simple/images/image_20.png\" for label \"A G lion\" has been generated succfully\n",
      "Image \"/home/space/datasets/COA/generated-single-simple/images/image_21.png\" for label \"A G lion rampant\" has been generated succfully\n",
      "Image \"/home/space/datasets/COA/generated-single-simple/images/image_22.png\" for label \"A G lion passt\" has been generated succfully\n",
      "Image \"/home/space/datasets/COA/generated-single-simple/images/image_23.png\" for label \"A G lion passt guard\" has been generated succfully\n",
      "Image \"/home/space/datasets/COA/generated-single-simple/images/image_24.png\" for label \"A G lion's head\" has been generated succfully\n",
      "Image \"/home/space/datasets/COA/generated-single-simple/images/image_25.png\" for label \"A V lion\" has been generated succfully\n",
      "Image \"/home/space/datasets/COA/generated-single-simple/images/image_26.png\" for label \"A V lion rampant\" has been generated succfully\n",
      "Image \"/home/space/datasets/COA/generated-single-simple/images/image_27.png\" for label \"A V lion passt\" has been generated succfully\n",
      "Image \"/home/space/datasets/COA/generated-single-simple/images/image_28.png\" for label \"A V lion passt guard\" has been generated succfully\n",
      "Image \"/home/space/datasets/COA/generated-single-simple/images/image_29.png\" for label \"A V lion's head\" has been generated succfully\n",
      "Image \"/home/space/datasets/COA/generated-single-simple/images/image_30.png\" for label \"B A lion\" has been generated succfully\n",
      "Image \"/home/space/datasets/COA/generated-single-simple/images/image_31.png\" for label \"B A lion rampant\" has been generated succfully\n",
      "Image \"/home/space/datasets/COA/generated-single-simple/images/image_32.png\" for label \"B A lion passt\" has been generated succfully\n",
      "Image \"/home/space/datasets/COA/generated-single-simple/images/image_33.png\" for label \"B A lion passt guard\" has been generated succfully\n",
      "Image \"/home/space/datasets/COA/generated-single-simple/images/image_34.png\" for label \"B A lion's head\" has been generated succfully\n",
      "Image \"/home/space/datasets/COA/generated-single-simple/images/image_35.png\" for label \"B B lion\" has been generated succfully\n",
      "Image \"/home/space/datasets/COA/generated-single-simple/images/image_36.png\" for label \"B B lion rampant\" has been generated succfully\n",
      "Image \"/home/space/datasets/COA/generated-single-simple/images/image_37.png\" for label \"B B lion passt\" has been generated succfully\n",
      "Image \"/home/space/datasets/COA/generated-single-simple/images/image_38.png\" for label \"B B lion passt guard\" has been generated succfully\n",
      "Image \"/home/space/datasets/COA/generated-single-simple/images/image_39.png\" for label \"B B lion's head\" has been generated succfully\n",
      "Image \"/home/space/datasets/COA/generated-single-simple/images/image_40.png\" for label \"B O lion\" has been generated succfully\n",
      "Image \"/home/space/datasets/COA/generated-single-simple/images/image_41.png\" for label \"B O lion rampant\" has been generated succfully\n",
      "Image \"/home/space/datasets/COA/generated-single-simple/images/image_42.png\" for label \"B O lion passt\" has been generated succfully\n",
      "Image \"/home/space/datasets/COA/generated-single-simple/images/image_43.png\" for label \"B O lion passt guard\" has been generated succfully\n",
      "Image \"/home/space/datasets/COA/generated-single-simple/images/image_44.png\" for label \"B O lion's head\" has been generated succfully\n",
      "Image \"/home/space/datasets/COA/generated-single-simple/images/image_45.png\" for label \"B S lion\" has been generated succfully\n",
      "Image \"/home/space/datasets/COA/generated-single-simple/images/image_46.png\" for label \"B S lion rampant\" has been generated succfully\n",
      "Image \"/home/space/datasets/COA/generated-single-simple/images/image_47.png\" for label \"B S lion passt\" has been generated succfully\n",
      "Image \"/home/space/datasets/COA/generated-single-simple/images/image_48.png\" for label \"B S lion passt guard\" has been generated succfully\n",
      "Image \"/home/space/datasets/COA/generated-single-simple/images/image_49.png\" for label \"B S lion's head\" has been generated succfully\n",
      "Image \"/home/space/datasets/COA/generated-single-simple/images/image_50.png\" for label \"B G lion\" has been generated succfully\n",
      "Image \"/home/space/datasets/COA/generated-single-simple/images/image_51.png\" for label \"B G lion rampant\" has been generated succfully\n",
      "Image \"/home/space/datasets/COA/generated-single-simple/images/image_52.png\" for label \"B G lion passt\" has been generated succfully\n",
      "Image \"/home/space/datasets/COA/generated-single-simple/images/image_53.png\" for label \"B G lion passt guard\" has been generated succfully\n",
      "Image \"/home/space/datasets/COA/generated-single-simple/images/image_54.png\" for label \"B G lion's head\" has been generated succfully\n",
      "Image \"/home/space/datasets/COA/generated-single-simple/images/image_55.png\" for label \"B V lion\" has been generated succfully\n",
      "Image \"/home/space/datasets/COA/generated-single-simple/images/image_56.png\" for label \"B V lion rampant\" has been generated succfully\n",
      "Image \"/home/space/datasets/COA/generated-single-simple/images/image_57.png\" for label \"B V lion passt\" has been generated succfully\n",
      "Image \"/home/space/datasets/COA/generated-single-simple/images/image_58.png\" for label \"B V lion passt guard\" has been generated succfully\n",
      "Image \"/home/space/datasets/COA/generated-single-simple/images/image_59.png\" for label \"B V lion's head\" has been generated succfully\n",
      "Image \"/home/space/datasets/COA/generated-single-simple/images/image_60.png\" for label \"O A lion\" has been generated succfully\n",
      "Image \"/home/space/datasets/COA/generated-single-simple/images/image_61.png\" for label \"O A lion rampant\" has been generated succfully\n"
     ]
    },
    {
     "name": "stdout",
     "output_type": "stream",
     "text": [
      "Image \"/home/space/datasets/COA/generated-single-simple/images/image_62.png\" for label \"O A lion passt\" has been generated succfully\n",
      "Image \"/home/space/datasets/COA/generated-single-simple/images/image_63.png\" for label \"O A lion passt guard\" has been generated succfully\n",
      "Image \"/home/space/datasets/COA/generated-single-simple/images/image_64.png\" for label \"O A lion's head\" has been generated succfully\n",
      "Image \"/home/space/datasets/COA/generated-single-simple/images/image_65.png\" for label \"O B lion\" has been generated succfully\n",
      "Image \"/home/space/datasets/COA/generated-single-simple/images/image_66.png\" for label \"O B lion rampant\" has been generated succfully\n",
      "Image \"/home/space/datasets/COA/generated-single-simple/images/image_67.png\" for label \"O B lion passt\" has been generated succfully\n",
      "Image \"/home/space/datasets/COA/generated-single-simple/images/image_68.png\" for label \"O B lion passt guard\" has been generated succfully\n",
      "Image \"/home/space/datasets/COA/generated-single-simple/images/image_69.png\" for label \"O B lion's head\" has been generated succfully\n",
      "Image \"/home/space/datasets/COA/generated-single-simple/images/image_70.png\" for label \"O O lion\" has been generated succfully\n",
      "Image \"/home/space/datasets/COA/generated-single-simple/images/image_71.png\" for label \"O O lion rampant\" has been generated succfully\n",
      "Image \"/home/space/datasets/COA/generated-single-simple/images/image_72.png\" for label \"O O lion passt\" has been generated succfully\n",
      "Image \"/home/space/datasets/COA/generated-single-simple/images/image_73.png\" for label \"O O lion passt guard\" has been generated succfully\n",
      "Image \"/home/space/datasets/COA/generated-single-simple/images/image_74.png\" for label \"O O lion's head\" has been generated succfully\n",
      "Image \"/home/space/datasets/COA/generated-single-simple/images/image_75.png\" for label \"O S lion\" has been generated succfully\n",
      "Image \"/home/space/datasets/COA/generated-single-simple/images/image_76.png\" for label \"O S lion rampant\" has been generated succfully\n",
      "Image \"/home/space/datasets/COA/generated-single-simple/images/image_77.png\" for label \"O S lion passt\" has been generated succfully\n",
      "Image \"/home/space/datasets/COA/generated-single-simple/images/image_78.png\" for label \"O S lion passt guard\" has been generated succfully\n",
      "Image \"/home/space/datasets/COA/generated-single-simple/images/image_79.png\" for label \"O S lion's head\" has been generated succfully\n",
      "Image \"/home/space/datasets/COA/generated-single-simple/images/image_80.png\" for label \"O G lion\" has been generated succfully\n",
      "Image \"/home/space/datasets/COA/generated-single-simple/images/image_81.png\" for label \"O G lion rampant\" has been generated succfully\n",
      "Image \"/home/space/datasets/COA/generated-single-simple/images/image_82.png\" for label \"O G lion passt\" has been generated succfully\n",
      "Image \"/home/space/datasets/COA/generated-single-simple/images/image_83.png\" for label \"O G lion passt guard\" has been generated succfully\n",
      "Image \"/home/space/datasets/COA/generated-single-simple/images/image_84.png\" for label \"O G lion's head\" has been generated succfully\n",
      "Image \"/home/space/datasets/COA/generated-single-simple/images/image_85.png\" for label \"O V lion\" has been generated succfully\n",
      "Image \"/home/space/datasets/COA/generated-single-simple/images/image_86.png\" for label \"O V lion rampant\" has been generated succfully\n",
      "Image \"/home/space/datasets/COA/generated-single-simple/images/image_87.png\" for label \"O V lion passt\" has been generated succfully\n",
      "Image \"/home/space/datasets/COA/generated-single-simple/images/image_88.png\" for label \"O V lion passt guard\" has been generated succfully\n",
      "Image \"/home/space/datasets/COA/generated-single-simple/images/image_89.png\" for label \"O V lion's head\" has been generated succfully\n",
      "Image \"/home/space/datasets/COA/generated-single-simple/images/image_90.png\" for label \"S A lion\" has been generated succfully\n",
      "Image \"/home/space/datasets/COA/generated-single-simple/images/image_91.png\" for label \"S A lion rampant\" has been generated succfully\n",
      "Image \"/home/space/datasets/COA/generated-single-simple/images/image_92.png\" for label \"S A lion passt\" has been generated succfully\n",
      "Image \"/home/space/datasets/COA/generated-single-simple/images/image_93.png\" for label \"S A lion passt guard\" has been generated succfully\n",
      "Image \"/home/space/datasets/COA/generated-single-simple/images/image_94.png\" for label \"S A lion's head\" has been generated succfully\n",
      "Image \"/home/space/datasets/COA/generated-single-simple/images/image_95.png\" for label \"S B lion\" has been generated succfully\n",
      "Image \"/home/space/datasets/COA/generated-single-simple/images/image_96.png\" for label \"S B lion rampant\" has been generated succfully\n",
      "Image \"/home/space/datasets/COA/generated-single-simple/images/image_97.png\" for label \"S B lion passt\" has been generated succfully\n",
      "Image \"/home/space/datasets/COA/generated-single-simple/images/image_98.png\" for label \"S B lion passt guard\" has been generated succfully\n",
      "Image \"/home/space/datasets/COA/generated-single-simple/images/image_99.png\" for label \"S B lion's head\" has been generated succfully\n",
      "Image \"/home/space/datasets/COA/generated-single-simple/images/image_100.png\" for label \"S O lion\" has been generated succfully\n",
      "Image \"/home/space/datasets/COA/generated-single-simple/images/image_101.png\" for label \"S O lion rampant\" has been generated succfully\n",
      "Image \"/home/space/datasets/COA/generated-single-simple/images/image_102.png\" for label \"S O lion passt\" has been generated succfully\n",
      "Image \"/home/space/datasets/COA/generated-single-simple/images/image_103.png\" for label \"S O lion passt guard\" has been generated succfully\n",
      "Image \"/home/space/datasets/COA/generated-single-simple/images/image_104.png\" for label \"S O lion's head\" has been generated succfully\n",
      "Image \"/home/space/datasets/COA/generated-single-simple/images/image_105.png\" for label \"S S lion\" has been generated succfully\n",
      "Image \"/home/space/datasets/COA/generated-single-simple/images/image_106.png\" for label \"S S lion rampant\" has been generated succfully\n",
      "Image \"/home/space/datasets/COA/generated-single-simple/images/image_107.png\" for label \"S S lion passt\" has been generated succfully\n",
      "Image \"/home/space/datasets/COA/generated-single-simple/images/image_108.png\" for label \"S S lion passt guard\" has been generated succfully\n",
      "Image \"/home/space/datasets/COA/generated-single-simple/images/image_109.png\" for label \"S S lion's head\" has been generated succfully\n",
      "Image \"/home/space/datasets/COA/generated-single-simple/images/image_110.png\" for label \"S G lion\" has been generated succfully\n",
      "Image \"/home/space/datasets/COA/generated-single-simple/images/image_111.png\" for label \"S G lion rampant\" has been generated succfully\n",
      "Image \"/home/space/datasets/COA/generated-single-simple/images/image_112.png\" for label \"S G lion passt\" has been generated succfully\n",
      "Image \"/home/space/datasets/COA/generated-single-simple/images/image_113.png\" for label \"S G lion passt guard\" has been generated succfully\n",
      "Image \"/home/space/datasets/COA/generated-single-simple/images/image_114.png\" for label \"S G lion's head\" has been generated succfully\n",
      "Image \"/home/space/datasets/COA/generated-single-simple/images/image_115.png\" for label \"S V lion\" has been generated succfully\n",
      "Image \"/home/space/datasets/COA/generated-single-simple/images/image_116.png\" for label \"S V lion rampant\" has been generated succfully\n",
      "Image \"/home/space/datasets/COA/generated-single-simple/images/image_117.png\" for label \"S V lion passt\" has been generated succfully\n",
      "Image \"/home/space/datasets/COA/generated-single-simple/images/image_118.png\" for label \"S V lion passt guard\" has been generated succfully\n",
      "Image \"/home/space/datasets/COA/generated-single-simple/images/image_119.png\" for label \"S V lion's head\" has been generated succfully\n",
      "Image \"/home/space/datasets/COA/generated-single-simple/images/image_120.png\" for label \"G A lion\" has been generated succfully\n",
      "Image \"/home/space/datasets/COA/generated-single-simple/images/image_121.png\" for label \"G A lion rampant\" has been generated succfully\n",
      "Image \"/home/space/datasets/COA/generated-single-simple/images/image_122.png\" for label \"G A lion passt\" has been generated succfully\n",
      "Image \"/home/space/datasets/COA/generated-single-simple/images/image_123.png\" for label \"G A lion passt guard\" has been generated succfully\n"
     ]
    },
    {
     "name": "stdout",
     "output_type": "stream",
     "text": [
      "Image \"/home/space/datasets/COA/generated-single-simple/images/image_124.png\" for label \"G A lion's head\" has been generated succfully\n",
      "Image \"/home/space/datasets/COA/generated-single-simple/images/image_125.png\" for label \"G B lion\" has been generated succfully\n",
      "Image \"/home/space/datasets/COA/generated-single-simple/images/image_126.png\" for label \"G B lion rampant\" has been generated succfully\n",
      "Image \"/home/space/datasets/COA/generated-single-simple/images/image_127.png\" for label \"G B lion passt\" has been generated succfully\n",
      "Image \"/home/space/datasets/COA/generated-single-simple/images/image_128.png\" for label \"G B lion passt guard\" has been generated succfully\n",
      "Image \"/home/space/datasets/COA/generated-single-simple/images/image_129.png\" for label \"G B lion's head\" has been generated succfully\n",
      "Image \"/home/space/datasets/COA/generated-single-simple/images/image_130.png\" for label \"G O lion\" has been generated succfully\n",
      "Image \"/home/space/datasets/COA/generated-single-simple/images/image_131.png\" for label \"G O lion rampant\" has been generated succfully\n",
      "Image \"/home/space/datasets/COA/generated-single-simple/images/image_132.png\" for label \"G O lion passt\" has been generated succfully\n",
      "Image \"/home/space/datasets/COA/generated-single-simple/images/image_133.png\" for label \"G O lion passt guard\" has been generated succfully\n",
      "Image \"/home/space/datasets/COA/generated-single-simple/images/image_134.png\" for label \"G O lion's head\" has been generated succfully\n",
      "Image \"/home/space/datasets/COA/generated-single-simple/images/image_135.png\" for label \"G S lion\" has been generated succfully\n",
      "Image \"/home/space/datasets/COA/generated-single-simple/images/image_136.png\" for label \"G S lion rampant\" has been generated succfully\n",
      "Image \"/home/space/datasets/COA/generated-single-simple/images/image_137.png\" for label \"G S lion passt\" has been generated succfully\n",
      "Image \"/home/space/datasets/COA/generated-single-simple/images/image_138.png\" for label \"G S lion passt guard\" has been generated succfully\n",
      "Image \"/home/space/datasets/COA/generated-single-simple/images/image_139.png\" for label \"G S lion's head\" has been generated succfully\n",
      "Image \"/home/space/datasets/COA/generated-single-simple/images/image_140.png\" for label \"G G lion\" has been generated succfully\n",
      "Image \"/home/space/datasets/COA/generated-single-simple/images/image_141.png\" for label \"G G lion rampant\" has been generated succfully\n",
      "Image \"/home/space/datasets/COA/generated-single-simple/images/image_142.png\" for label \"G G lion passt\" has been generated succfully\n",
      "Image \"/home/space/datasets/COA/generated-single-simple/images/image_143.png\" for label \"G G lion passt guard\" has been generated succfully\n",
      "Image \"/home/space/datasets/COA/generated-single-simple/images/image_144.png\" for label \"G G lion's head\" has been generated succfully\n",
      "Image \"/home/space/datasets/COA/generated-single-simple/images/image_145.png\" for label \"G V lion\" has been generated succfully\n",
      "Image \"/home/space/datasets/COA/generated-single-simple/images/image_146.png\" for label \"G V lion rampant\" has been generated succfully\n",
      "Image \"/home/space/datasets/COA/generated-single-simple/images/image_147.png\" for label \"G V lion passt\" has been generated succfully\n",
      "Image \"/home/space/datasets/COA/generated-single-simple/images/image_148.png\" for label \"G V lion passt guard\" has been generated succfully\n",
      "Image \"/home/space/datasets/COA/generated-single-simple/images/image_149.png\" for label \"G V lion's head\" has been generated succfully\n",
      "Image \"/home/space/datasets/COA/generated-single-simple/images/image_150.png\" for label \"V A lion\" has been generated succfully\n",
      "Image \"/home/space/datasets/COA/generated-single-simple/images/image_151.png\" for label \"V A lion rampant\" has been generated succfully\n",
      "Image \"/home/space/datasets/COA/generated-single-simple/images/image_152.png\" for label \"V A lion passt\" has been generated succfully\n",
      "Image \"/home/space/datasets/COA/generated-single-simple/images/image_153.png\" for label \"V A lion passt guard\" has been generated succfully\n",
      "Image \"/home/space/datasets/COA/generated-single-simple/images/image_154.png\" for label \"V A lion's head\" has been generated succfully\n",
      "Image \"/home/space/datasets/COA/generated-single-simple/images/image_155.png\" for label \"V B lion\" has been generated succfully\n",
      "Image \"/home/space/datasets/COA/generated-single-simple/images/image_156.png\" for label \"V B lion rampant\" has been generated succfully\n",
      "Image \"/home/space/datasets/COA/generated-single-simple/images/image_157.png\" for label \"V B lion passt\" has been generated succfully\n",
      "Image \"/home/space/datasets/COA/generated-single-simple/images/image_158.png\" for label \"V B lion passt guard\" has been generated succfully\n",
      "Image \"/home/space/datasets/COA/generated-single-simple/images/image_159.png\" for label \"V B lion's head\" has been generated succfully\n",
      "Image \"/home/space/datasets/COA/generated-single-simple/images/image_160.png\" for label \"V O lion\" has been generated succfully\n",
      "Image \"/home/space/datasets/COA/generated-single-simple/images/image_161.png\" for label \"V O lion rampant\" has been generated succfully\n",
      "Image \"/home/space/datasets/COA/generated-single-simple/images/image_162.png\" for label \"V O lion passt\" has been generated succfully\n",
      "Image \"/home/space/datasets/COA/generated-single-simple/images/image_163.png\" for label \"V O lion passt guard\" has been generated succfully\n",
      "Image \"/home/space/datasets/COA/generated-single-simple/images/image_164.png\" for label \"V O lion's head\" has been generated succfully\n",
      "Image \"/home/space/datasets/COA/generated-single-simple/images/image_165.png\" for label \"V S lion\" has been generated succfully\n",
      "Image \"/home/space/datasets/COA/generated-single-simple/images/image_166.png\" for label \"V S lion rampant\" has been generated succfully\n",
      "Image \"/home/space/datasets/COA/generated-single-simple/images/image_167.png\" for label \"V S lion passt\" has been generated succfully\n",
      "Image \"/home/space/datasets/COA/generated-single-simple/images/image_168.png\" for label \"V S lion passt guard\" has been generated succfully\n",
      "Image \"/home/space/datasets/COA/generated-single-simple/images/image_169.png\" for label \"V S lion's head\" has been generated succfully\n",
      "Image \"/home/space/datasets/COA/generated-single-simple/images/image_170.png\" for label \"V G lion\" has been generated succfully\n",
      "Image \"/home/space/datasets/COA/generated-single-simple/images/image_171.png\" for label \"V G lion rampant\" has been generated succfully\n",
      "Image \"/home/space/datasets/COA/generated-single-simple/images/image_172.png\" for label \"V G lion passt\" has been generated succfully\n",
      "Image \"/home/space/datasets/COA/generated-single-simple/images/image_173.png\" for label \"V G lion passt guard\" has been generated succfully\n",
      "Image \"/home/space/datasets/COA/generated-single-simple/images/image_174.png\" for label \"V G lion's head\" has been generated succfully\n",
      "Image \"/home/space/datasets/COA/generated-single-simple/images/image_175.png\" for label \"V V lion\" has been generated succfully\n",
      "Image \"/home/space/datasets/COA/generated-single-simple/images/image_176.png\" for label \"V V lion rampant\" has been generated succfully\n",
      "Image \"/home/space/datasets/COA/generated-single-simple/images/image_177.png\" for label \"V V lion passt\" has been generated succfully\n",
      "Image \"/home/space/datasets/COA/generated-single-simple/images/image_178.png\" for label \"V V lion passt guard\" has been generated succfully\n",
      "Image \"/home/space/datasets/COA/generated-single-simple/images/image_179.png\" for label \"V V lion's head\" has been generated succfully\n",
      "Image \"/home/space/datasets/COA/generated-single-simple/images/image_180.png\" for label \"A A cross\" has been generated succfully\n",
      "Image \"/home/space/datasets/COA/generated-single-simple/images/image_181.png\" for label \"A A cross moline\" has been generated succfully\n",
      "Image \"/home/space/datasets/COA/generated-single-simple/images/image_182.png\" for label \"A A cross patonce\" has been generated succfully\n",
      "Image \"/home/space/datasets/COA/generated-single-simple/images/image_183.png\" for label \"A B cross\" has been generated succfully\n",
      "Image \"/home/space/datasets/COA/generated-single-simple/images/image_184.png\" for label \"A B cross moline\" has been generated succfully\n"
     ]
    },
    {
     "name": "stdout",
     "output_type": "stream",
     "text": [
      "Image \"/home/space/datasets/COA/generated-single-simple/images/image_185.png\" for label \"A B cross patonce\" has been generated succfully\n",
      "Image \"/home/space/datasets/COA/generated-single-simple/images/image_186.png\" for label \"A O cross\" has been generated succfully\n",
      "Image \"/home/space/datasets/COA/generated-single-simple/images/image_187.png\" for label \"A O cross moline\" has been generated succfully\n",
      "Image \"/home/space/datasets/COA/generated-single-simple/images/image_188.png\" for label \"A O cross patonce\" has been generated succfully\n",
      "Image \"/home/space/datasets/COA/generated-single-simple/images/image_189.png\" for label \"A S cross\" has been generated succfully\n",
      "Image \"/home/space/datasets/COA/generated-single-simple/images/image_190.png\" for label \"A S cross moline\" has been generated succfully\n",
      "Image \"/home/space/datasets/COA/generated-single-simple/images/image_191.png\" for label \"A S cross patonce\" has been generated succfully\n",
      "Image \"/home/space/datasets/COA/generated-single-simple/images/image_192.png\" for label \"A G cross\" has been generated succfully\n",
      "Image \"/home/space/datasets/COA/generated-single-simple/images/image_193.png\" for label \"A G cross moline\" has been generated succfully\n",
      "Image \"/home/space/datasets/COA/generated-single-simple/images/image_194.png\" for label \"A G cross patonce\" has been generated succfully\n",
      "Image \"/home/space/datasets/COA/generated-single-simple/images/image_195.png\" for label \"A V cross\" has been generated succfully\n",
      "Image \"/home/space/datasets/COA/generated-single-simple/images/image_196.png\" for label \"A V cross moline\" has been generated succfully\n",
      "Image \"/home/space/datasets/COA/generated-single-simple/images/image_197.png\" for label \"A V cross patonce\" has been generated succfully\n",
      "Image \"/home/space/datasets/COA/generated-single-simple/images/image_198.png\" for label \"B A cross\" has been generated succfully\n",
      "Image \"/home/space/datasets/COA/generated-single-simple/images/image_199.png\" for label \"B A cross moline\" has been generated succfully\n",
      "Image \"/home/space/datasets/COA/generated-single-simple/images/image_200.png\" for label \"B A cross patonce\" has been generated succfully\n",
      "Image \"/home/space/datasets/COA/generated-single-simple/images/image_201.png\" for label \"B B cross\" has been generated succfully\n",
      "Image \"/home/space/datasets/COA/generated-single-simple/images/image_202.png\" for label \"B B cross moline\" has been generated succfully\n",
      "Image \"/home/space/datasets/COA/generated-single-simple/images/image_203.png\" for label \"B B cross patonce\" has been generated succfully\n",
      "Image \"/home/space/datasets/COA/generated-single-simple/images/image_204.png\" for label \"B O cross\" has been generated succfully\n",
      "Image \"/home/space/datasets/COA/generated-single-simple/images/image_205.png\" for label \"B O cross moline\" has been generated succfully\n",
      "Image \"/home/space/datasets/COA/generated-single-simple/images/image_206.png\" for label \"B O cross patonce\" has been generated succfully\n",
      "Image \"/home/space/datasets/COA/generated-single-simple/images/image_207.png\" for label \"B S cross\" has been generated succfully\n",
      "Image \"/home/space/datasets/COA/generated-single-simple/images/image_208.png\" for label \"B S cross moline\" has been generated succfully\n",
      "Image \"/home/space/datasets/COA/generated-single-simple/images/image_209.png\" for label \"B S cross patonce\" has been generated succfully\n",
      "Image \"/home/space/datasets/COA/generated-single-simple/images/image_210.png\" for label \"B G cross\" has been generated succfully\n",
      "Image \"/home/space/datasets/COA/generated-single-simple/images/image_211.png\" for label \"B G cross moline\" has been generated succfully\n",
      "Image \"/home/space/datasets/COA/generated-single-simple/images/image_212.png\" for label \"B G cross patonce\" has been generated succfully\n",
      "Image \"/home/space/datasets/COA/generated-single-simple/images/image_213.png\" for label \"B V cross\" has been generated succfully\n",
      "Image \"/home/space/datasets/COA/generated-single-simple/images/image_214.png\" for label \"B V cross moline\" has been generated succfully\n",
      "Image \"/home/space/datasets/COA/generated-single-simple/images/image_215.png\" for label \"B V cross patonce\" has been generated succfully\n",
      "Image \"/home/space/datasets/COA/generated-single-simple/images/image_216.png\" for label \"O A cross\" has been generated succfully\n",
      "Image \"/home/space/datasets/COA/generated-single-simple/images/image_217.png\" for label \"O A cross moline\" has been generated succfully\n",
      "Image \"/home/space/datasets/COA/generated-single-simple/images/image_218.png\" for label \"O A cross patonce\" has been generated succfully\n",
      "Image \"/home/space/datasets/COA/generated-single-simple/images/image_219.png\" for label \"O B cross\" has been generated succfully\n",
      "Image \"/home/space/datasets/COA/generated-single-simple/images/image_220.png\" for label \"O B cross moline\" has been generated succfully\n",
      "Image \"/home/space/datasets/COA/generated-single-simple/images/image_221.png\" for label \"O B cross patonce\" has been generated succfully\n",
      "Image \"/home/space/datasets/COA/generated-single-simple/images/image_222.png\" for label \"O O cross\" has been generated succfully\n",
      "Image \"/home/space/datasets/COA/generated-single-simple/images/image_223.png\" for label \"O O cross moline\" has been generated succfully\n",
      "Image \"/home/space/datasets/COA/generated-single-simple/images/image_224.png\" for label \"O O cross patonce\" has been generated succfully\n",
      "Image \"/home/space/datasets/COA/generated-single-simple/images/image_225.png\" for label \"O S cross\" has been generated succfully\n",
      "Image \"/home/space/datasets/COA/generated-single-simple/images/image_226.png\" for label \"O S cross moline\" has been generated succfully\n",
      "Image \"/home/space/datasets/COA/generated-single-simple/images/image_227.png\" for label \"O S cross patonce\" has been generated succfully\n",
      "Image \"/home/space/datasets/COA/generated-single-simple/images/image_228.png\" for label \"O G cross\" has been generated succfully\n",
      "Image \"/home/space/datasets/COA/generated-single-simple/images/image_229.png\" for label \"O G cross moline\" has been generated succfully\n",
      "Image \"/home/space/datasets/COA/generated-single-simple/images/image_230.png\" for label \"O G cross patonce\" has been generated succfully\n",
      "Image \"/home/space/datasets/COA/generated-single-simple/images/image_231.png\" for label \"O V cross\" has been generated succfully\n",
      "Image \"/home/space/datasets/COA/generated-single-simple/images/image_232.png\" for label \"O V cross moline\" has been generated succfully\n",
      "Image \"/home/space/datasets/COA/generated-single-simple/images/image_233.png\" for label \"O V cross patonce\" has been generated succfully\n",
      "Image \"/home/space/datasets/COA/generated-single-simple/images/image_234.png\" for label \"S A cross\" has been generated succfully\n",
      "Image \"/home/space/datasets/COA/generated-single-simple/images/image_235.png\" for label \"S A cross moline\" has been generated succfully\n",
      "Image \"/home/space/datasets/COA/generated-single-simple/images/image_236.png\" for label \"S A cross patonce\" has been generated succfully\n",
      "Image \"/home/space/datasets/COA/generated-single-simple/images/image_237.png\" for label \"S B cross\" has been generated succfully\n",
      "Image \"/home/space/datasets/COA/generated-single-simple/images/image_238.png\" for label \"S B cross moline\" has been generated succfully\n",
      "Image \"/home/space/datasets/COA/generated-single-simple/images/image_239.png\" for label \"S B cross patonce\" has been generated succfully\n",
      "Image \"/home/space/datasets/COA/generated-single-simple/images/image_240.png\" for label \"S O cross\" has been generated succfully\n",
      "Image \"/home/space/datasets/COA/generated-single-simple/images/image_241.png\" for label \"S O cross moline\" has been generated succfully\n",
      "Image \"/home/space/datasets/COA/generated-single-simple/images/image_242.png\" for label \"S O cross patonce\" has been generated succfully\n",
      "Image \"/home/space/datasets/COA/generated-single-simple/images/image_243.png\" for label \"S S cross\" has been generated succfully\n",
      "Image \"/home/space/datasets/COA/generated-single-simple/images/image_244.png\" for label \"S S cross moline\" has been generated succfully\n",
      "Image \"/home/space/datasets/COA/generated-single-simple/images/image_245.png\" for label \"S S cross patonce\" has been generated succfully\n",
      "Image \"/home/space/datasets/COA/generated-single-simple/images/image_246.png\" for label \"S G cross\" has been generated succfully\n"
     ]
    },
    {
     "name": "stdout",
     "output_type": "stream",
     "text": [
      "Image \"/home/space/datasets/COA/generated-single-simple/images/image_247.png\" for label \"S G cross moline\" has been generated succfully\n",
      "Image \"/home/space/datasets/COA/generated-single-simple/images/image_248.png\" for label \"S G cross patonce\" has been generated succfully\n",
      "Image \"/home/space/datasets/COA/generated-single-simple/images/image_249.png\" for label \"S V cross\" has been generated succfully\n",
      "Image \"/home/space/datasets/COA/generated-single-simple/images/image_250.png\" for label \"S V cross moline\" has been generated succfully\n",
      "Image \"/home/space/datasets/COA/generated-single-simple/images/image_251.png\" for label \"S V cross patonce\" has been generated succfully\n",
      "Image \"/home/space/datasets/COA/generated-single-simple/images/image_252.png\" for label \"G A cross\" has been generated succfully\n",
      "Image \"/home/space/datasets/COA/generated-single-simple/images/image_253.png\" for label \"G A cross moline\" has been generated succfully\n",
      "Image \"/home/space/datasets/COA/generated-single-simple/images/image_254.png\" for label \"G A cross patonce\" has been generated succfully\n",
      "Image \"/home/space/datasets/COA/generated-single-simple/images/image_255.png\" for label \"G B cross\" has been generated succfully\n",
      "Image \"/home/space/datasets/COA/generated-single-simple/images/image_256.png\" for label \"G B cross moline\" has been generated succfully\n",
      "Image \"/home/space/datasets/COA/generated-single-simple/images/image_257.png\" for label \"G B cross patonce\" has been generated succfully\n",
      "Image \"/home/space/datasets/COA/generated-single-simple/images/image_258.png\" for label \"G O cross\" has been generated succfully\n",
      "Image \"/home/space/datasets/COA/generated-single-simple/images/image_259.png\" for label \"G O cross moline\" has been generated succfully\n",
      "Image \"/home/space/datasets/COA/generated-single-simple/images/image_260.png\" for label \"G O cross patonce\" has been generated succfully\n",
      "Image \"/home/space/datasets/COA/generated-single-simple/images/image_261.png\" for label \"G S cross\" has been generated succfully\n",
      "Image \"/home/space/datasets/COA/generated-single-simple/images/image_262.png\" for label \"G S cross moline\" has been generated succfully\n",
      "Image \"/home/space/datasets/COA/generated-single-simple/images/image_263.png\" for label \"G S cross patonce\" has been generated succfully\n",
      "Image \"/home/space/datasets/COA/generated-single-simple/images/image_264.png\" for label \"G G cross\" has been generated succfully\n",
      "Image \"/home/space/datasets/COA/generated-single-simple/images/image_265.png\" for label \"G G cross moline\" has been generated succfully\n",
      "Image \"/home/space/datasets/COA/generated-single-simple/images/image_266.png\" for label \"G G cross patonce\" has been generated succfully\n",
      "Image \"/home/space/datasets/COA/generated-single-simple/images/image_267.png\" for label \"G V cross\" has been generated succfully\n",
      "Image \"/home/space/datasets/COA/generated-single-simple/images/image_268.png\" for label \"G V cross moline\" has been generated succfully\n",
      "Image \"/home/space/datasets/COA/generated-single-simple/images/image_269.png\" for label \"G V cross patonce\" has been generated succfully\n",
      "Image \"/home/space/datasets/COA/generated-single-simple/images/image_270.png\" for label \"V A cross\" has been generated succfully\n",
      "Image \"/home/space/datasets/COA/generated-single-simple/images/image_271.png\" for label \"V A cross moline\" has been generated succfully\n",
      "Image \"/home/space/datasets/COA/generated-single-simple/images/image_272.png\" for label \"V A cross patonce\" has been generated succfully\n",
      "Image \"/home/space/datasets/COA/generated-single-simple/images/image_273.png\" for label \"V B cross\" has been generated succfully\n",
      "Image \"/home/space/datasets/COA/generated-single-simple/images/image_274.png\" for label \"V B cross moline\" has been generated succfully\n",
      "Image \"/home/space/datasets/COA/generated-single-simple/images/image_275.png\" for label \"V B cross patonce\" has been generated succfully\n",
      "Image \"/home/space/datasets/COA/generated-single-simple/images/image_276.png\" for label \"V O cross\" has been generated succfully\n",
      "Image \"/home/space/datasets/COA/generated-single-simple/images/image_277.png\" for label \"V O cross moline\" has been generated succfully\n",
      "Image \"/home/space/datasets/COA/generated-single-simple/images/image_278.png\" for label \"V O cross patonce\" has been generated succfully\n",
      "Image \"/home/space/datasets/COA/generated-single-simple/images/image_279.png\" for label \"V S cross\" has been generated succfully\n",
      "Image \"/home/space/datasets/COA/generated-single-simple/images/image_280.png\" for label \"V S cross moline\" has been generated succfully\n",
      "Image \"/home/space/datasets/COA/generated-single-simple/images/image_281.png\" for label \"V S cross patonce\" has been generated succfully\n",
      "Image \"/home/space/datasets/COA/generated-single-simple/images/image_282.png\" for label \"V G cross\" has been generated succfully\n",
      "Image \"/home/space/datasets/COA/generated-single-simple/images/image_283.png\" for label \"V G cross moline\" has been generated succfully\n",
      "Image \"/home/space/datasets/COA/generated-single-simple/images/image_284.png\" for label \"V G cross patonce\" has been generated succfully\n",
      "Image \"/home/space/datasets/COA/generated-single-simple/images/image_285.png\" for label \"V V cross\" has been generated succfully\n",
      "Image \"/home/space/datasets/COA/generated-single-simple/images/image_286.png\" for label \"V V cross moline\" has been generated succfully\n",
      "Image \"/home/space/datasets/COA/generated-single-simple/images/image_287.png\" for label \"V V cross patonce\" has been generated succfully\n",
      "Image \"/home/space/datasets/COA/generated-single-simple/images/image_288.png\" for label \"A A eagle\" has been generated succfully\n",
      "Image \"/home/space/datasets/COA/generated-single-simple/images/image_289.png\" for label \"A A eagle doubleheaded\" has been generated succfully\n",
      "Image \"/home/space/datasets/COA/generated-single-simple/images/image_290.png\" for label \"A B eagle\" has been generated succfully\n",
      "Image \"/home/space/datasets/COA/generated-single-simple/images/image_291.png\" for label \"A B eagle doubleheaded\" has been generated succfully\n",
      "Image \"/home/space/datasets/COA/generated-single-simple/images/image_292.png\" for label \"A O eagle\" has been generated succfully\n",
      "Image \"/home/space/datasets/COA/generated-single-simple/images/image_293.png\" for label \"A O eagle doubleheaded\" has been generated succfully\n",
      "Image \"/home/space/datasets/COA/generated-single-simple/images/image_294.png\" for label \"A S eagle\" has been generated succfully\n",
      "Image \"/home/space/datasets/COA/generated-single-simple/images/image_295.png\" for label \"A S eagle doubleheaded\" has been generated succfully\n",
      "Image \"/home/space/datasets/COA/generated-single-simple/images/image_296.png\" for label \"A G eagle\" has been generated succfully\n",
      "Image \"/home/space/datasets/COA/generated-single-simple/images/image_297.png\" for label \"A G eagle doubleheaded\" has been generated succfully\n",
      "Image \"/home/space/datasets/COA/generated-single-simple/images/image_298.png\" for label \"A V eagle\" has been generated succfully\n",
      "Image \"/home/space/datasets/COA/generated-single-simple/images/image_299.png\" for label \"A V eagle doubleheaded\" has been generated succfully\n",
      "Image \"/home/space/datasets/COA/generated-single-simple/images/image_300.png\" for label \"B A eagle\" has been generated succfully\n",
      "Image \"/home/space/datasets/COA/generated-single-simple/images/image_301.png\" for label \"B A eagle doubleheaded\" has been generated succfully\n",
      "Image \"/home/space/datasets/COA/generated-single-simple/images/image_302.png\" for label \"B B eagle\" has been generated succfully\n",
      "Image \"/home/space/datasets/COA/generated-single-simple/images/image_303.png\" for label \"B B eagle doubleheaded\" has been generated succfully\n",
      "Image \"/home/space/datasets/COA/generated-single-simple/images/image_304.png\" for label \"B O eagle\" has been generated succfully\n",
      "Image \"/home/space/datasets/COA/generated-single-simple/images/image_305.png\" for label \"B O eagle doubleheaded\" has been generated succfully\n",
      "Image \"/home/space/datasets/COA/generated-single-simple/images/image_306.png\" for label \"B S eagle\" has been generated succfully\n",
      "Image \"/home/space/datasets/COA/generated-single-simple/images/image_307.png\" for label \"B S eagle doubleheaded\" has been generated succfully\n"
     ]
    },
    {
     "name": "stdout",
     "output_type": "stream",
     "text": [
      "Image \"/home/space/datasets/COA/generated-single-simple/images/image_308.png\" for label \"B G eagle\" has been generated succfully\n",
      "Image \"/home/space/datasets/COA/generated-single-simple/images/image_309.png\" for label \"B G eagle doubleheaded\" has been generated succfully\n",
      "Image \"/home/space/datasets/COA/generated-single-simple/images/image_310.png\" for label \"B V eagle\" has been generated succfully\n",
      "Image \"/home/space/datasets/COA/generated-single-simple/images/image_311.png\" for label \"B V eagle doubleheaded\" has been generated succfully\n",
      "Image \"/home/space/datasets/COA/generated-single-simple/images/image_312.png\" for label \"O A eagle\" has been generated succfully\n",
      "Image \"/home/space/datasets/COA/generated-single-simple/images/image_313.png\" for label \"O A eagle doubleheaded\" has been generated succfully\n",
      "Image \"/home/space/datasets/COA/generated-single-simple/images/image_314.png\" for label \"O B eagle\" has been generated succfully\n",
      "Image \"/home/space/datasets/COA/generated-single-simple/images/image_315.png\" for label \"O B eagle doubleheaded\" has been generated succfully\n",
      "Image \"/home/space/datasets/COA/generated-single-simple/images/image_316.png\" for label \"O O eagle\" has been generated succfully\n",
      "Image \"/home/space/datasets/COA/generated-single-simple/images/image_317.png\" for label \"O O eagle doubleheaded\" has been generated succfully\n",
      "Image \"/home/space/datasets/COA/generated-single-simple/images/image_318.png\" for label \"O S eagle\" has been generated succfully\n",
      "Image \"/home/space/datasets/COA/generated-single-simple/images/image_319.png\" for label \"O S eagle doubleheaded\" has been generated succfully\n",
      "Image \"/home/space/datasets/COA/generated-single-simple/images/image_320.png\" for label \"O G eagle\" has been generated succfully\n",
      "Image \"/home/space/datasets/COA/generated-single-simple/images/image_321.png\" for label \"O G eagle doubleheaded\" has been generated succfully\n",
      "Image \"/home/space/datasets/COA/generated-single-simple/images/image_322.png\" for label \"O V eagle\" has been generated succfully\n",
      "Image \"/home/space/datasets/COA/generated-single-simple/images/image_323.png\" for label \"O V eagle doubleheaded\" has been generated succfully\n",
      "Image \"/home/space/datasets/COA/generated-single-simple/images/image_324.png\" for label \"S A eagle\" has been generated succfully\n",
      "Image \"/home/space/datasets/COA/generated-single-simple/images/image_325.png\" for label \"S A eagle doubleheaded\" has been generated succfully\n",
      "Image \"/home/space/datasets/COA/generated-single-simple/images/image_326.png\" for label \"S B eagle\" has been generated succfully\n",
      "Image \"/home/space/datasets/COA/generated-single-simple/images/image_327.png\" for label \"S B eagle doubleheaded\" has been generated succfully\n",
      "Image \"/home/space/datasets/COA/generated-single-simple/images/image_328.png\" for label \"S O eagle\" has been generated succfully\n",
      "Image \"/home/space/datasets/COA/generated-single-simple/images/image_329.png\" for label \"S O eagle doubleheaded\" has been generated succfully\n",
      "Image \"/home/space/datasets/COA/generated-single-simple/images/image_330.png\" for label \"S S eagle\" has been generated succfully\n",
      "Image \"/home/space/datasets/COA/generated-single-simple/images/image_331.png\" for label \"S S eagle doubleheaded\" has been generated succfully\n",
      "Image \"/home/space/datasets/COA/generated-single-simple/images/image_332.png\" for label \"S G eagle\" has been generated succfully\n",
      "Image \"/home/space/datasets/COA/generated-single-simple/images/image_333.png\" for label \"S G eagle doubleheaded\" has been generated succfully\n",
      "Image \"/home/space/datasets/COA/generated-single-simple/images/image_334.png\" for label \"S V eagle\" has been generated succfully\n",
      "Image \"/home/space/datasets/COA/generated-single-simple/images/image_335.png\" for label \"S V eagle doubleheaded\" has been generated succfully\n",
      "Image \"/home/space/datasets/COA/generated-single-simple/images/image_336.png\" for label \"G A eagle\" has been generated succfully\n",
      "Image \"/home/space/datasets/COA/generated-single-simple/images/image_337.png\" for label \"G A eagle doubleheaded\" has been generated succfully\n",
      "Image \"/home/space/datasets/COA/generated-single-simple/images/image_338.png\" for label \"G B eagle\" has been generated succfully\n",
      "Image \"/home/space/datasets/COA/generated-single-simple/images/image_339.png\" for label \"G B eagle doubleheaded\" has been generated succfully\n",
      "Image \"/home/space/datasets/COA/generated-single-simple/images/image_340.png\" for label \"G O eagle\" has been generated succfully\n",
      "Image \"/home/space/datasets/COA/generated-single-simple/images/image_341.png\" for label \"G O eagle doubleheaded\" has been generated succfully\n",
      "Image \"/home/space/datasets/COA/generated-single-simple/images/image_342.png\" for label \"G S eagle\" has been generated succfully\n",
      "Image \"/home/space/datasets/COA/generated-single-simple/images/image_343.png\" for label \"G S eagle doubleheaded\" has been generated succfully\n",
      "Image \"/home/space/datasets/COA/generated-single-simple/images/image_344.png\" for label \"G G eagle\" has been generated succfully\n",
      "Image \"/home/space/datasets/COA/generated-single-simple/images/image_345.png\" for label \"G G eagle doubleheaded\" has been generated succfully\n",
      "Image \"/home/space/datasets/COA/generated-single-simple/images/image_346.png\" for label \"G V eagle\" has been generated succfully\n",
      "Image \"/home/space/datasets/COA/generated-single-simple/images/image_347.png\" for label \"G V eagle doubleheaded\" has been generated succfully\n",
      "Image \"/home/space/datasets/COA/generated-single-simple/images/image_348.png\" for label \"V A eagle\" has been generated succfully\n",
      "Image \"/home/space/datasets/COA/generated-single-simple/images/image_349.png\" for label \"V A eagle doubleheaded\" has been generated succfully\n",
      "Image \"/home/space/datasets/COA/generated-single-simple/images/image_350.png\" for label \"V B eagle\" has been generated succfully\n",
      "Image \"/home/space/datasets/COA/generated-single-simple/images/image_351.png\" for label \"V B eagle doubleheaded\" has been generated succfully\n",
      "Image \"/home/space/datasets/COA/generated-single-simple/images/image_352.png\" for label \"V O eagle\" has been generated succfully\n",
      "Image \"/home/space/datasets/COA/generated-single-simple/images/image_353.png\" for label \"V O eagle doubleheaded\" has been generated succfully\n",
      "Image \"/home/space/datasets/COA/generated-single-simple/images/image_354.png\" for label \"V S eagle\" has been generated succfully\n",
      "Image \"/home/space/datasets/COA/generated-single-simple/images/image_355.png\" for label \"V S eagle doubleheaded\" has been generated succfully\n",
      "Image \"/home/space/datasets/COA/generated-single-simple/images/image_356.png\" for label \"V G eagle\" has been generated succfully\n",
      "Image \"/home/space/datasets/COA/generated-single-simple/images/image_357.png\" for label \"V G eagle doubleheaded\" has been generated succfully\n",
      "Image \"/home/space/datasets/COA/generated-single-simple/images/image_358.png\" for label \"V V eagle\" has been generated succfully\n",
      "Image \"/home/space/datasets/COA/generated-single-simple/images/image_359.png\" for label \"V V eagle doubleheaded\" has been generated succfully\n"
     ]
    }
   ],
   "source": [
    "api_gen_helper.generate_dataset()"
   ]
  },
  {
   "cell_type": "markdown",
   "id": "7db2ed8a",
   "metadata": {},
   "source": [
    "# Generate new captions.txt with num of pixels "
   ]
  },
  {
   "cell_type": "code",
   "execution_count": 33,
   "id": "f2998997",
   "metadata": {},
   "outputs": [],
   "source": [
    "FOLDER_NAME = '../baseline-gen-data/small'\n",
    "# FOLDER_NAME = '/home/space/datasets/COA/generated-data-api-large'\n",
    "\n",
    "caption_file = FOLDER_NAME + '/' + 'captions.txt'\n",
    "new_caption_file = FOLDER_NAME + '/' + 'captions-pix.txt'\n",
    "\n",
    "api_gen_helper = ArmoriaAPIGeneratorHelper(caption_file, FOLDER_NAME,possible_single_permutations,100) \n"
   ]
  },
  {
   "cell_type": "code",
   "execution_count": 37,
   "id": "ba052bf0",
   "metadata": {},
   "outputs": [],
   "source": [
    "api_gen_helper.creat_caption_file(new_caption_file,columns='image,caption,pixels')"
   ]
  },
  {
   "cell_type": "code",
   "execution_count": 39,
   "id": "c164f1fd",
   "metadata": {},
   "outputs": [],
   "source": [
    "start_index = 141\n",
    "api_gen_helper.add_pixels_column(FOLDER_NAME, new_caption_file,caption_file,start_index)"
   ]
  },
  {
   "cell_type": "code",
   "execution_count": 6,
   "id": "9e12490a",
   "metadata": {},
   "outputs": [
    {
     "name": "stdout",
     "output_type": "stream",
     "text": [
      "['image_1.png', 'A A lion rampant', '363417.875']\n"
     ]
    }
   ],
   "source": [
    "with open(new_caption_file, 'r') as f2:\n",
    "    for line in f2:\n",
    "        if 'image,caption' in line:\n",
    "            continue\n",
    "        print(line.strip().split(','))\n",
    "        break\n"
   ]
  },
  {
   "cell_type": "code",
   "execution_count": null,
   "id": "b7dda642",
   "metadata": {},
   "outputs": [],
   "source": []
  }
 ],
 "metadata": {
  "kernelspec": {
   "display_name": "Python 3 (ipykernel)",
   "language": "python",
   "name": "python3"
  },
  "language_info": {
   "codemirror_mode": {
    "name": "ipython",
    "version": 3
   },
   "file_extension": ".py",
   "mimetype": "text/x-python",
   "name": "python",
   "nbconvert_exporter": "python",
   "pygments_lexer": "ipython3",
   "version": "3.8.10"
  },
  "toc": {
   "base_numbering": 1,
   "nav_menu": {},
   "number_sections": true,
   "sideBar": true,
   "skip_h1_title": false,
   "title_cell": "Table of Contents",
   "title_sidebar": "Contents",
   "toc_cell": false,
   "toc_position": {},
   "toc_section_display": true,
   "toc_window_display": false
  }
 },
 "nbformat": 4,
 "nbformat_minor": 5
}
