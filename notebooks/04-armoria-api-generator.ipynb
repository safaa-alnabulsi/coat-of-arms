{
 "cells": [
  {
   "cell_type": "markdown",
   "id": "101e5655",
   "metadata": {},
   "source": [
    "# Armoria API"
   ]
  },
  {
   "cell_type": "code",
   "execution_count": 1,
   "id": "afa9a8d3",
   "metadata": {},
   "outputs": [],
   "source": [
    "# auto-load when code changes outside\n",
    "%load_ext autoreload\n",
    "%autoreload 2\n",
    "%load_ext pyinstrument\n",
    "\n",
    "import sys\n",
    "sys.path.insert(0,'..')\n",
    "\n",
    "\n",
    "import os\n",
    "from src.armoria_api import ArmoriaAPIPayload, ArmoriaAPIWrapper\n",
    "from src.armoria_api_generator_helper import ArmoriaAPIGeneratorHelper\n",
    "\n",
    "from src.caption import Caption\n"
   ]
  },
  {
   "cell_type": "markdown",
   "id": "bd4d09b5",
   "metadata": {},
   "source": [
    "# Examples of using the ArmoriaAPIWrapper "
   ]
  },
  {
   "cell_type": "code",
   "execution_count": 3,
   "id": "e6698cfd",
   "metadata": {},
   "outputs": [],
   "source": [
    "coa_lion = {\"t1\":\"or\",\n",
    "       \"shield\":\"heater\",\n",
    "       \"charges\":[{\"charge\":\"lionRampant\",\"t\":\"gules\",\"p\":\"e\",\"size\":1.5}],\n",
    "       \"ordinaries\":[{\"ordinary\":\"bordure\",\"t\":\"azure\"}],\n",
    "      }\n",
    "\n",
    "api = ArmoriaAPIWrapper(size = 500,format=\"png\", coa=coa_lion)\n",
    "api.show_image()\n"
   ]
  },
  {
   "cell_type": "code",
   "execution_count": 19,
   "id": "b372925e",
   "metadata": {},
   "outputs": [],
   "source": [
    "\n",
    "coa_cross = {\"t1\":\"argent\",\n",
    "       \"shield\":\"heater\",\n",
    "       \"charges\":[{\"charge\":\"crossMoline\",\n",
    "                   \"t\":\"azure\",\n",
    "                   \"p\":\"df\",\n",
    "                   \"size\":0.5}]\n",
    "      }\n",
    "\n",
    "api = ArmoriaAPIWrapper(size = 500,format=\"png\", coa=coa_cross)\n",
    "api.show_image()"
   ]
  },
  {
   "cell_type": "code",
   "execution_count": 13,
   "id": "3bc6a9bc",
   "metadata": {},
   "outputs": [],
   "source": [
    "payload = {'t1': 'vert', 'shield': 'heater', \n",
    "             'charges': [{'charge': 'lionRampant', 't': 'gules', 'p': 'k', 'size': '0.7'},\n",
    "                        {'charge': 'eagle', 't': 'or', 'p': 'n', 'size': '0.7'}],\n",
    "             'ordinaries': []}\n",
    "api = ArmoriaAPIWrapper(size = 500,format=\"png\", coa=payload)\n",
    "api.show_image()\n"
   ]
  },
  {
   "cell_type": "code",
   "execution_count": 6,
   "id": "15fd59ff",
   "metadata": {},
   "outputs": [],
   "source": [
    "payload = {'t1': 'or', 'shield': 'heater', \n",
    "             'charges': [{'charge': 'lionRampant', 't': 'or', 'p': 'abc', 'size': '0.3'},\n",
    "                         {'charge': 'eagle', 't': 'azure', 'p': 'dfgz', 'size': '0.3'},\n",
    "                         {'charge': 'crossHummetty', 't': 'argent', 'p': 'i', 'size': '0.3'}],\n",
    "             'ordinaries': [{\"ordinary\":\"bordure\", \"t\":\"azure\"}]}\n",
    "\n",
    "api = ArmoriaAPIWrapper(size = 500,format=\"png\", coa=payload)\n",
    "api.show_image()\n"
   ]
  },
  {
   "cell_type": "markdown",
   "id": "70e6438b",
   "metadata": {},
   "source": [
    "# Generate Permutations"
   ]
  },
  {
   "cell_type": "code",
   "execution_count": 7,
   "id": "5b84e897",
   "metadata": {},
   "outputs": [],
   "source": [
    "import itertools\n",
    "import src.alphabet as alphabet\n",
    "from src.armoria_api import COLORS_MAP, SINGLE_LION_MODIFIERS_MAP, PLURAL_LION_MODIFIERS_MAP, CROSS_MODIFIERS_MAP, \\\n",
    "SINGLE_EAGLE_MODIFIERS_MAP, PLURAL_EAGLE_MODIFIERS_MAP, \\\n",
    "POSITIONS, SIZES, NUMBERS, NUMBERS_MULTI, SINGLE_POSITION\n",
    "\n",
    "BORDER_MOD = ['& border', '']"
   ]
  },
  {
   "cell_type": "markdown",
   "id": "5b2e308d",
   "metadata": {},
   "source": [
    "## Single object"
   ]
  },
  {
   "cell_type": "code",
   "execution_count": 8,
   "id": "9a4c943e",
   "metadata": {},
   "outputs": [
    {
     "name": "stdout",
     "output_type": "stream",
     "text": [
      "Total number of permutations: 720\n"
     ]
    }
   ],
   "source": [
    "\n",
    "# lion, modifiers and colors\n",
    "permutations1 = list(dict.fromkeys(itertools.product(list(COLORS_MAP.keys()), list(COLORS_MAP.keys()), list( SINGLE_LION_MODIFIERS_MAP.keys()),BORDER_MOD)))\n",
    "\n",
    "# cross, modifiers and colors\n",
    "permutations2 = list(dict.fromkeys(itertools.product(list(COLORS_MAP.keys()), list(COLORS_MAP.keys()), list( CROSS_MODIFIERS_MAP.keys()),BORDER_MOD)))\n",
    "\n",
    "# eagle, modifiers and colors\n",
    "permutations3 = list(dict.fromkeys(itertools.product(list(COLORS_MAP.keys()), list(COLORS_MAP.keys()), list( SINGLE_EAGLE_MODIFIERS_MAP.keys()),BORDER_MOD)))\n",
    "\n",
    "possible_single_permutations = permutations1 + permutations2 + permutations3\n",
    "\n",
    "print('Total number of permutations:', len(possible_single_permutations))"
   ]
  },
  {
   "cell_type": "markdown",
   "id": "5f4e278a",
   "metadata": {},
   "source": [
    "## Plural Object with Number"
   ]
  },
  {
   "cell_type": "code",
   "execution_count": 9,
   "id": "4174816e",
   "metadata": {},
   "outputs": [
    {
     "name": "stdout",
     "output_type": "stream",
     "text": [
      "Total number of plural permutations: 4320\n"
     ]
    }
   ],
   "source": [
    "# lion, modifiers and colors\n",
    "permutations1 = list(dict.fromkeys(itertools.product(list(COLORS_MAP.keys()), list(COLORS_MAP.keys()), list(NUMBERS), list( PLURAL_LION_MODIFIERS_MAP.keys()),BORDER_MOD)))\n",
    "\n",
    "# eagle, modifiers and colors\n",
    "permutations2 = list(dict.fromkeys(itertools.product(list(COLORS_MAP.keys()), list(COLORS_MAP.keys()), list(NUMBERS), list( PLURAL_EAGLE_MODIFIERS_MAP.keys()),BORDER_MOD)))\n",
    "\n",
    "possible_pl_permutations = permutations1 + permutations2\n",
    "\n",
    "print('Total number of plural permutations:', len(possible_pl_permutations))\n"
   ]
  },
  {
   "cell_type": "markdown",
   "id": "1e6e841a",
   "metadata": {},
   "source": [
    "## Multi Objects - single"
   ]
  },
  {
   "cell_type": "code",
   "execution_count": 10,
   "id": "cb0d933f",
   "metadata": {},
   "outputs": [
    {
     "name": "stdout",
     "output_type": "stream",
     "text": [
      "Total number of permutations: 91152\n"
     ]
    }
   ],
   "source": [
    "\n",
    "# lion & eagle\n",
    "permutations1 = list(dict.fromkeys(itertools.product(list(COLORS_MAP.keys()),list(COLORS_MAP.keys()), list(COLORS_MAP.keys()), list( SINGLE_LION_MODIFIERS_MAP.keys()), list( SINGLE_EAGLE_MODIFIERS_MAP.keys()),BORDER_MOD)))\n",
    "\n",
    "# lion & cross\n",
    "permutations2 = list(dict.fromkeys(itertools.product(list(COLORS_MAP.keys()),list(COLORS_MAP.keys()), list(COLORS_MAP.keys()), list( SINGLE_LION_MODIFIERS_MAP.keys()), list( CROSS_MODIFIERS_MAP.keys()),BORDER_MOD)))\n",
    "\n",
    "# eagle & cross\n",
    "permutations3 = list(dict.fromkeys(itertools.product(list(COLORS_MAP.keys()),list(COLORS_MAP.keys()), list(COLORS_MAP.keys()), list( SINGLE_EAGLE_MODIFIERS_MAP.keys()), list( CROSS_MODIFIERS_MAP.keys()),BORDER_MOD)))\n",
    "\n",
    "# lion & cross & eagle\n",
    "permutations4 = list(dict.fromkeys(itertools.product(list(COLORS_MAP.keys()),list(COLORS_MAP.keys()),list(COLORS_MAP.keys()), list(COLORS_MAP.keys()), list( SINGLE_LION_MODIFIERS_MAP.keys()), list( SINGLE_EAGLE_MODIFIERS_MAP.keys()), list( CROSS_MODIFIERS_MAP.keys()),BORDER_MOD)))\n",
    "\n",
    "possible_multi_single_permutations = permutations1 + permutations2 + permutations3 + permutations4\n",
    "\n",
    "print('Total number of permutations:', len(possible_multi_single_permutations))\n"
   ]
  },
  {
   "cell_type": "markdown",
   "id": "44f06b02",
   "metadata": {},
   "source": [
    "## Multi Objects - plural"
   ]
  },
  {
   "cell_type": "code",
   "execution_count": 11,
   "id": "12195c4a",
   "metadata": {},
   "outputs": [
    {
     "name": "stdout",
     "output_type": "stream",
     "text": [
      "Total number of plural permutations: 1081728\n"
     ]
    }
   ],
   "source": [
    "\n",
    "# lion & eagle\n",
    "permutations1 = list(dict.fromkeys(itertools.product(list(COLORS_MAP.keys()),list(COLORS_MAP.keys()), list(COLORS_MAP.keys()), list(NUMBERS_MULTI),list( PLURAL_LION_MODIFIERS_MAP.keys()), list(NUMBERS_MULTI), list( PLURAL_EAGLE_MODIFIERS_MAP.keys()),BORDER_MOD)))\n",
    "\n",
    "# lion & cross\n",
    "permutations2 = list(dict.fromkeys(itertools.product(list(COLORS_MAP.keys()),list(COLORS_MAP.keys()), list(COLORS_MAP.keys()), list(NUMBERS_MULTI),list( PLURAL_LION_MODIFIERS_MAP.keys()), list( CROSS_MODIFIERS_MAP.keys()),BORDER_MOD)))\n",
    "\n",
    "# eagle & cross\n",
    "permutations3 = list(dict.fromkeys(itertools.product(list(COLORS_MAP.keys()),list(COLORS_MAP.keys()), list(COLORS_MAP.keys()), list(NUMBERS_MULTI),list( PLURAL_EAGLE_MODIFIERS_MAP.keys()), list( CROSS_MODIFIERS_MAP.keys()),BORDER_MOD)))\n",
    "\n",
    "# lion & cross & eagle\n",
    "permutations4 = list(dict.fromkeys(itertools.product(list(COLORS_MAP.keys()),list(COLORS_MAP.keys()),list(COLORS_MAP.keys()), list(COLORS_MAP.keys()), list(NUMBERS_MULTI), list( PLURAL_LION_MODIFIERS_MAP.keys()), list(NUMBERS_MULTI),list( PLURAL_EAGLE_MODIFIERS_MAP.keys()), list( CROSS_MODIFIERS_MAP.keys()),BORDER_MOD)))\n",
    "\n",
    "possible_multi_plural_permutations = permutations1 + permutations2 + permutations3 + permutations4\n",
    "\n",
    "print('Total number of plural permutations:', len(possible_multi_plural_permutations))\n"
   ]
  },
  {
   "cell_type": "markdown",
   "id": "92a9c81e",
   "metadata": {},
   "source": [
    "## Total number of permutations before adding border (588960)"
   ]
  },
  {
   "cell_type": "markdown",
   "id": "6e7e5513",
   "metadata": {},
   "source": [
    "## Total number of permutations with/out borders (1177920)\n",
    "## __NOTE__: Not possible to generate this amount of images with the Armoria API"
   ]
  },
  {
   "cell_type": "code",
   "execution_count": 11,
   "id": "0375cc40",
   "metadata": {},
   "outputs": [
    {
     "data": {
      "text/plain": [
       "1177920"
      ]
     },
     "execution_count": 11,
     "metadata": {},
     "output_type": "execute_result"
    }
   ],
   "source": [
    "total_possible_permutations = possible_single_permutations + possible_pl_permutations + \\\n",
    "                            possible_multi_single_permutations  + possible_multi_plural_permutations\n",
    "len(total_possible_permutations)"
   ]
  },
  {
   "cell_type": "code",
   "execution_count": 12,
   "id": "8d30e5a3",
   "metadata": {},
   "outputs": [
    {
     "data": {
      "text/plain": [
       "('A', 'A', 'lion', '& border')"
      ]
     },
     "execution_count": 12,
     "metadata": {},
     "output_type": "execute_result"
    }
   ],
   "source": [
    "total_possible_permutations[0]"
   ]
  },
  {
   "cell_type": "markdown",
   "id": "b7339529",
   "metadata": {},
   "source": [
    "# Take only 2000 random sample from the permutation list"
   ]
  },
  {
   "cell_type": "code",
   "execution_count": 20,
   "id": "af83f9f2",
   "metadata": {},
   "outputs": [
    {
     "data": {
      "text/plain": [
       "2000"
      ]
     },
     "execution_count": 20,
     "metadata": {},
     "output_type": "execute_result"
    }
   ],
   "source": [
    "import random\n",
    "\n",
    "subset_permutations = random.sample(total_possible_permutations, 2000)\n",
    "len(subset_permutations)"
   ]
  },
  {
   "cell_type": "code",
   "execution_count": 21,
   "id": "29a56d30",
   "metadata": {
    "scrolled": true
   },
   "outputs": [
    {
     "data": {
      "text/plain": [
       "[('V',\n",
       "  'O',\n",
       "  'S',\n",
       "  'O',\n",
       "  '4',\n",
       "  'lions',\n",
       "  '3',\n",
       "  'eagles doubleheaded',\n",
       "  'cross patonce',\n",
       "  '& border'),\n",
       " ('O', 'S', 'O', 'B', '5', 'lions passt', '5', 'eagles', 'cross', ''),\n",
       " ('V',\n",
       "  'G',\n",
       "  'O',\n",
       "  'B',\n",
       "  '4',\n",
       "  'lions passt',\n",
       "  '2',\n",
       "  'eagles doubleheaded',\n",
       "  'cross',\n",
       "  '& border'),\n",
       " ('S',\n",
       "  'A',\n",
       "  'S',\n",
       "  'A',\n",
       "  '5',\n",
       "  'lions passt guard',\n",
       "  '5',\n",
       "  'eagles doubleheaded',\n",
       "  'cross',\n",
       "  '& border'),\n",
       " ('V', 'S', 'B', '3', 'lions', '5', 'eagles', ''),\n",
       " ('V',\n",
       "  'G',\n",
       "  'B',\n",
       "  'G',\n",
       "  '2',\n",
       "  'lions rampant',\n",
       "  '5',\n",
       "  'eagles doubleheaded',\n",
       "  'cross',\n",
       "  ''),\n",
       " ('O', 'A', 'A', 'V', '5', 'lions passt', '3', 'eagles', 'cross', ''),\n",
       " ('G',\n",
       "  'G',\n",
       "  'A',\n",
       "  'V',\n",
       "  '5',\n",
       "  'lions rampant',\n",
       "  '3',\n",
       "  'eagles',\n",
       "  'cross',\n",
       "  '& border'),\n",
       " ('B',\n",
       "  'V',\n",
       "  'S',\n",
       "  'V',\n",
       "  '4',\n",
       "  'lions passt guard',\n",
       "  '3',\n",
       "  'eagles doubleheaded',\n",
       "  'cross',\n",
       "  ''),\n",
       " ('G', 'B', 'B', 'V', '3', 'lions rampant', '3', 'eagles', 'cross moline', '')]"
      ]
     },
     "execution_count": 21,
     "metadata": {},
     "output_type": "execute_result"
    }
   ],
   "source": [
    "subset_permutations[:10]"
   ]
  },
  {
   "cell_type": "markdown",
   "id": "dddf4763",
   "metadata": {},
   "source": [
    "## Total number of single permutations +  position and scale"
   ]
  },
  {
   "cell_type": "code",
   "execution_count": 5,
   "id": "e9d4fd32",
   "metadata": {},
   "outputs": [],
   "source": [
    "# FOLDER_NAME = '/home/space/datasets/COA/generated-data-api-subset-random'\n",
    "FOLDER_NAME = '../gg'\n",
    "caption_file = FOLDER_NAME + '/' + 'captions.txt'\n",
    "api_gen_helper = ArmoriaAPIGeneratorHelper(caption_file, FOLDER_NAME, possible_single_permutations,100) "
   ]
  },
  {
   "cell_type": "code",
   "execution_count": 6,
   "id": "0ac35bcd",
   "metadata": {},
   "outputs": [],
   "source": [
    "api_gen_helper.creat_caption_file()"
   ]
  },
  {
   "cell_type": "code",
   "execution_count": 7,
   "id": "61c32c67",
   "metadata": {},
   "outputs": [],
   "source": [
    "api_gen_helper.generate_caption_file()"
   ]
  },
  {
   "cell_type": "code",
   "execution_count": 7,
   "id": "b8609144",
   "metadata": {
    "scrolled": true
   },
   "outputs": [
    {
     "name": "stdout",
     "output_type": "stream",
     "text": [
      "Image \"../gg/images/image_99.png\" for label \"B S lion's head\" has been generated succfully\n",
      "Image \"../gg/images/image_100.png\" for label \"B G lion & border\" has been generated succfully\n",
      "Image \"../gg/images/image_101.png\" for label \"B G lion\" has been generated succfully\n",
      "Image \"../gg/images/image_102.png\" for label \"B G lion rampant & border\" has been generated succfully\n",
      "Image \"../gg/images/image_103.png\" for label \"B G lion rampant\" has been generated succfully\n",
      "Image \"../gg/images/image_104.png\" for label \"B G lion passt & border\" has been generated succfully\n",
      "Image \"../gg/images/image_105.png\" for label \"B G lion passt\" has been generated succfully\n",
      "Image \"../gg/images/image_106.png\" for label \"B G lion passt guard & border\" has been generated succfully\n",
      "Image \"../gg/images/image_107.png\" for label \"B G lion passt guard\" has been generated succfully\n",
      "Image \"../gg/images/image_108.png\" for label \"B G lion's head & border\" has been generated succfully\n",
      "Image \"../gg/images/image_109.png\" for label \"B G lion's head\" has been generated succfully\n",
      "Image \"../gg/images/image_110.png\" for label \"B V lion & border\" has been generated succfully\n",
      "Image \"../gg/images/image_111.png\" for label \"B V lion\" has been generated succfully\n",
      "Image \"../gg/images/image_112.png\" for label \"B V lion rampant & border\" has been generated succfully\n",
      "Image \"../gg/images/image_113.png\" for label \"B V lion rampant\" has been generated succfully\n",
      "Image \"../gg/images/image_114.png\" for label \"B V lion passt & border\" has been generated succfully\n",
      "Image \"../gg/images/image_115.png\" for label \"B V lion passt\" has been generated succfully\n",
      "Image \"../gg/images/image_116.png\" for label \"B V lion passt guard & border\" has been generated succfully\n",
      "Image \"../gg/images/image_117.png\" for label \"B V lion passt guard\" has been generated succfully\n",
      "Image \"../gg/images/image_118.png\" for label \"B V lion's head & border\" has been generated succfully\n",
      "Image \"../gg/images/image_119.png\" for label \"B V lion's head\" has been generated succfully\n",
      "Image \"../gg/images/image_120.png\" for label \"O A lion & border\" has been generated succfully\n",
      "Image \"../gg/images/image_121.png\" for label \"O A lion\" has been generated succfully\n",
      "Image \"../gg/images/image_122.png\" for label \"O A lion rampant & border\" has been generated succfully\n",
      "Image \"../gg/images/image_123.png\" for label \"O A lion rampant\" has been generated succfully\n",
      "Image \"../gg/images/image_124.png\" for label \"O A lion passt & border\" has been generated succfully\n",
      "Image \"../gg/images/image_125.png\" for label \"O A lion passt\" has been generated succfully\n",
      "Image \"../gg/images/image_126.png\" for label \"O A lion passt guard & border\" has been generated succfully\n",
      "Image \"../gg/images/image_127.png\" for label \"O A lion passt guard\" has been generated succfully\n",
      "Image \"../gg/images/image_128.png\" for label \"O A lion's head & border\" has been generated succfully\n",
      "Image \"../gg/images/image_129.png\" for label \"O A lion's head\" has been generated succfully\n",
      "Image \"../gg/images/image_130.png\" for label \"O B lion & border\" has been generated succfully\n",
      "Image \"../gg/images/image_131.png\" for label \"O B lion\" has been generated succfully\n",
      "Image \"../gg/images/image_132.png\" for label \"O B lion rampant & border\" has been generated succfully\n",
      "Image \"../gg/images/image_133.png\" for label \"O B lion rampant\" has been generated succfully\n",
      "Image \"../gg/images/image_134.png\" for label \"O B lion passt & border\" has been generated succfully\n",
      "Image \"../gg/images/image_135.png\" for label \"O B lion passt\" has been generated succfully\n",
      "Image \"../gg/images/image_136.png\" for label \"O B lion passt guard & border\" has been generated succfully\n",
      "Image \"../gg/images/image_137.png\" for label \"O B lion passt guard\" has been generated succfully\n",
      "Image \"../gg/images/image_138.png\" for label \"O B lion's head & border\" has been generated succfully\n",
      "Image \"../gg/images/image_139.png\" for label \"O B lion's head\" has been generated succfully\n",
      "Image \"../gg/images/image_140.png\" for label \"O O lion & border\" has been generated succfully\n",
      "Image \"../gg/images/image_141.png\" for label \"O O lion\" has been generated succfully\n",
      "Image \"../gg/images/image_142.png\" for label \"O O lion rampant & border\" has been generated succfully\n",
      "Image \"../gg/images/image_143.png\" for label \"O O lion rampant\" has been generated succfully\n",
      "Image \"../gg/images/image_144.png\" for label \"O O lion passt & border\" has been generated succfully\n",
      "Image \"../gg/images/image_145.png\" for label \"O O lion passt\" has been generated succfully\n"
     ]
    },
    {
     "ename": "KeyboardInterrupt",
     "evalue": "",
     "output_type": "error",
     "traceback": [
      "\u001b[0;31m---------------------------------------------------------------------------\u001b[0m",
      "\u001b[0;31mKeyboardInterrupt\u001b[0m                         Traceback (most recent call last)",
      "\u001b[0;32m/var/folders/0d/kx07xpsn40v0mbjthb6sbc5h0000gq/T/ipykernel_19391/3649694634.py\u001b[0m in \u001b[0;36m<module>\u001b[0;34m\u001b[0m\n\u001b[0;32m----> 1\u001b[0;31m \u001b[0mapi_gen_helper\u001b[0m\u001b[0;34m.\u001b[0m\u001b[0mgenerate_dataset\u001b[0m\u001b[0;34m(\u001b[0m\u001b[0;34m)\u001b[0m\u001b[0;34m\u001b[0m\u001b[0;34m\u001b[0m\u001b[0m\n\u001b[0m",
      "\u001b[0;32m~/tub/coat-of-arms/notebooks/../src/armoria_api_generator_helper.py\u001b[0m in \u001b[0;36mgenerate_dataset\u001b[0;34m(self)\u001b[0m\n\u001b[1;32m     47\u001b[0m                     \u001b[0mself\u001b[0m\u001b[0;34m.\u001b[0m\u001b[0mensure_dir\u001b[0m\u001b[0;34m(\u001b[0m\u001b[0mimage_full_path\u001b[0m\u001b[0;34m)\u001b[0m\u001b[0;34m\u001b[0m\u001b[0;34m\u001b[0m\u001b[0m\n\u001b[1;32m     48\u001b[0m \u001b[0;34m\u001b[0m\u001b[0m\n\u001b[0;32m---> 49\u001b[0;31m                     \u001b[0mapi\u001b[0m\u001b[0;34m.\u001b[0m\u001b[0msave_image\u001b[0m\u001b[0;34m(\u001b[0m\u001b[0mimage_full_path\u001b[0m\u001b[0;34m)\u001b[0m\u001b[0;34m\u001b[0m\u001b[0;34m\u001b[0m\u001b[0m\n\u001b[0m\u001b[1;32m     50\u001b[0m \u001b[0;34m\u001b[0m\u001b[0m\n\u001b[1;32m     51\u001b[0m                     print('Image \"{}\" for label \"{}\" has been generated succfully' .format(\n",
      "\u001b[0;32m~/tub/coat-of-arms/notebooks/../src/armoria_api.py\u001b[0m in \u001b[0;36msave_image\u001b[0;34m(self, full_path)\u001b[0m\n\u001b[1;32m    244\u001b[0m     \u001b[0;32mdef\u001b[0m \u001b[0msave_image\u001b[0m\u001b[0;34m(\u001b[0m\u001b[0mself\u001b[0m\u001b[0;34m,\u001b[0m \u001b[0mfull_path\u001b[0m\u001b[0;34m)\u001b[0m\u001b[0;34m:\u001b[0m\u001b[0;34m\u001b[0m\u001b[0;34m\u001b[0m\u001b[0m\n\u001b[1;32m    245\u001b[0m         \u001b[0mi\u001b[0m \u001b[0;34m=\u001b[0m \u001b[0mself\u001b[0m\u001b[0;34m.\u001b[0m\u001b[0mget_image_bytes\u001b[0m\u001b[0;34m(\u001b[0m\u001b[0;34m)\u001b[0m\u001b[0;34m\u001b[0m\u001b[0;34m\u001b[0m\u001b[0m\n\u001b[0;32m--> 246\u001b[0;31m         \u001b[0mi\u001b[0m\u001b[0;34m.\u001b[0m\u001b[0msave\u001b[0m\u001b[0;34m(\u001b[0m\u001b[0mfull_path\u001b[0m\u001b[0;34m,\u001b[0m \u001b[0;34m'png'\u001b[0m\u001b[0;34m)\u001b[0m\u001b[0;34m\u001b[0m\u001b[0;34m\u001b[0m\u001b[0m\n\u001b[0m\u001b[1;32m    247\u001b[0m \u001b[0;34m\u001b[0m\u001b[0m\n\u001b[1;32m    248\u001b[0m \u001b[0;31m# =====================================================================================\u001b[0m\u001b[0;34m\u001b[0m\u001b[0;34m\u001b[0m\u001b[0;34m\u001b[0m\u001b[0m\n",
      "\u001b[0;32m~/miniconda/envs/thesis-py38/lib/python3.8/site-packages/PIL/Image.py\u001b[0m in \u001b[0;36msave\u001b[0;34m(self, fp, format, **params)\u001b[0m\n\u001b[1;32m   2176\u001b[0m \u001b[0;34m\u001b[0m\u001b[0m\n\u001b[1;32m   2177\u001b[0m         \u001b[0;31m# may mutate self!\u001b[0m\u001b[0;34m\u001b[0m\u001b[0;34m\u001b[0m\u001b[0;34m\u001b[0m\u001b[0m\n\u001b[0;32m-> 2178\u001b[0;31m         \u001b[0mself\u001b[0m\u001b[0;34m.\u001b[0m\u001b[0m_ensure_mutable\u001b[0m\u001b[0;34m(\u001b[0m\u001b[0;34m)\u001b[0m\u001b[0;34m\u001b[0m\u001b[0;34m\u001b[0m\u001b[0m\n\u001b[0m\u001b[1;32m   2179\u001b[0m \u001b[0;34m\u001b[0m\u001b[0m\n\u001b[1;32m   2180\u001b[0m         \u001b[0msave_all\u001b[0m \u001b[0;34m=\u001b[0m \u001b[0mparams\u001b[0m\u001b[0;34m.\u001b[0m\u001b[0mpop\u001b[0m\u001b[0;34m(\u001b[0m\u001b[0;34m\"save_all\"\u001b[0m\u001b[0;34m,\u001b[0m \u001b[0;32mFalse\u001b[0m\u001b[0;34m)\u001b[0m\u001b[0;34m\u001b[0m\u001b[0;34m\u001b[0m\u001b[0m\n",
      "\u001b[0;32m~/miniconda/envs/thesis-py38/lib/python3.8/site-packages/PIL/Image.py\u001b[0m in \u001b[0;36m_ensure_mutable\u001b[0;34m(self)\u001b[0m\n\u001b[1;32m    595\u001b[0m     \u001b[0;32mdef\u001b[0m \u001b[0m_ensure_mutable\u001b[0m\u001b[0;34m(\u001b[0m\u001b[0mself\u001b[0m\u001b[0;34m)\u001b[0m\u001b[0;34m:\u001b[0m\u001b[0;34m\u001b[0m\u001b[0;34m\u001b[0m\u001b[0m\n\u001b[1;32m    596\u001b[0m         \u001b[0;32mif\u001b[0m \u001b[0mself\u001b[0m\u001b[0;34m.\u001b[0m\u001b[0mreadonly\u001b[0m\u001b[0;34m:\u001b[0m\u001b[0;34m\u001b[0m\u001b[0;34m\u001b[0m\u001b[0m\n\u001b[0;32m--> 597\u001b[0;31m             \u001b[0mself\u001b[0m\u001b[0;34m.\u001b[0m\u001b[0m_copy\u001b[0m\u001b[0;34m(\u001b[0m\u001b[0;34m)\u001b[0m\u001b[0;34m\u001b[0m\u001b[0;34m\u001b[0m\u001b[0m\n\u001b[0m\u001b[1;32m    598\u001b[0m         \u001b[0;32melse\u001b[0m\u001b[0;34m:\u001b[0m\u001b[0;34m\u001b[0m\u001b[0;34m\u001b[0m\u001b[0m\n\u001b[1;32m    599\u001b[0m             \u001b[0mself\u001b[0m\u001b[0;34m.\u001b[0m\u001b[0mload\u001b[0m\u001b[0;34m(\u001b[0m\u001b[0;34m)\u001b[0m\u001b[0;34m\u001b[0m\u001b[0;34m\u001b[0m\u001b[0m\n",
      "\u001b[0;32m~/miniconda/envs/thesis-py38/lib/python3.8/site-packages/PIL/Image.py\u001b[0m in \u001b[0;36m_copy\u001b[0;34m(self)\u001b[0m\n\u001b[1;32m    588\u001b[0m \u001b[0;34m\u001b[0m\u001b[0m\n\u001b[1;32m    589\u001b[0m     \u001b[0;32mdef\u001b[0m \u001b[0m_copy\u001b[0m\u001b[0;34m(\u001b[0m\u001b[0mself\u001b[0m\u001b[0;34m)\u001b[0m\u001b[0;34m:\u001b[0m\u001b[0;34m\u001b[0m\u001b[0;34m\u001b[0m\u001b[0m\n\u001b[0;32m--> 590\u001b[0;31m         \u001b[0mself\u001b[0m\u001b[0;34m.\u001b[0m\u001b[0mload\u001b[0m\u001b[0;34m(\u001b[0m\u001b[0;34m)\u001b[0m\u001b[0;34m\u001b[0m\u001b[0;34m\u001b[0m\u001b[0m\n\u001b[0m\u001b[1;32m    591\u001b[0m         \u001b[0mself\u001b[0m\u001b[0;34m.\u001b[0m\u001b[0mim\u001b[0m \u001b[0;34m=\u001b[0m \u001b[0mself\u001b[0m\u001b[0;34m.\u001b[0m\u001b[0mim\u001b[0m\u001b[0;34m.\u001b[0m\u001b[0mcopy\u001b[0m\u001b[0;34m(\u001b[0m\u001b[0;34m)\u001b[0m\u001b[0;34m\u001b[0m\u001b[0;34m\u001b[0m\u001b[0m\n\u001b[1;32m    592\u001b[0m         \u001b[0mself\u001b[0m\u001b[0;34m.\u001b[0m\u001b[0mpyaccess\u001b[0m \u001b[0;34m=\u001b[0m \u001b[0;32mNone\u001b[0m\u001b[0;34m\u001b[0m\u001b[0;34m\u001b[0m\u001b[0m\n",
      "\u001b[0;32m~/miniconda/envs/thesis-py38/lib/python3.8/site-packages/PIL/ImageFile.py\u001b[0m in \u001b[0;36mload\u001b[0;34m(self)\u001b[0m\n\u001b[1;32m    251\u001b[0m \u001b[0;34m\u001b[0m\u001b[0m\n\u001b[1;32m    252\u001b[0m                             \u001b[0mb\u001b[0m \u001b[0;34m=\u001b[0m \u001b[0mb\u001b[0m \u001b[0;34m+\u001b[0m \u001b[0ms\u001b[0m\u001b[0;34m\u001b[0m\u001b[0;34m\u001b[0m\u001b[0m\n\u001b[0;32m--> 253\u001b[0;31m                             \u001b[0mn\u001b[0m\u001b[0;34m,\u001b[0m \u001b[0merr_code\u001b[0m \u001b[0;34m=\u001b[0m \u001b[0mdecoder\u001b[0m\u001b[0;34m.\u001b[0m\u001b[0mdecode\u001b[0m\u001b[0;34m(\u001b[0m\u001b[0mb\u001b[0m\u001b[0;34m)\u001b[0m\u001b[0;34m\u001b[0m\u001b[0;34m\u001b[0m\u001b[0m\n\u001b[0m\u001b[1;32m    254\u001b[0m                             \u001b[0;32mif\u001b[0m \u001b[0mn\u001b[0m \u001b[0;34m<\u001b[0m \u001b[0;36m0\u001b[0m\u001b[0;34m:\u001b[0m\u001b[0;34m\u001b[0m\u001b[0;34m\u001b[0m\u001b[0m\n\u001b[1;32m    255\u001b[0m                                 \u001b[0;32mbreak\u001b[0m\u001b[0;34m\u001b[0m\u001b[0;34m\u001b[0m\u001b[0m\n",
      "\u001b[0;31mKeyboardInterrupt\u001b[0m: "
     ]
    }
   ],
   "source": [
    "api_gen_helper.generate_dataset()"
   ]
  },
  {
   "cell_type": "markdown",
   "id": "7db2ed8a",
   "metadata": {},
   "source": [
    "# Generate new captions.txt with num of pixels "
   ]
  },
  {
   "cell_type": "code",
   "execution_count": 33,
   "id": "f2998997",
   "metadata": {},
   "outputs": [],
   "source": [
    "FOLDER_NAME = '../baseline-gen-data/small'\n",
    "# FOLDER_NAME = '/home/space/datasets/COA/generated-data-api-large'\n",
    "caption_file = FOLDER_NAME + '/' + 'captions.txt'\n",
    "new_caption_file = FOLDER_NAME + '/' + 'captions-pix.txt'\n",
    "\n",
    "api_gen_helper = ArmoriaAPIGeneratorHelper(caption_file, FOLDER_NAME,[],100) \n"
   ]
  },
  {
   "cell_type": "code",
   "execution_count": 37,
   "id": "ba052bf0",
   "metadata": {},
   "outputs": [],
   "source": [
    "api_gen_helper.creat_caption_file(new_caption_file,columns='image,caption,pixels')"
   ]
  },
  {
   "cell_type": "code",
   "execution_count": 39,
   "id": "c164f1fd",
   "metadata": {},
   "outputs": [],
   "source": [
    "start_index = 141\n",
    "api_gen_helper.add_pixels_column(FOLDER_NAME, new_caption_file,caption_file,start_index)"
   ]
  },
  {
   "cell_type": "code",
   "execution_count": 6,
   "id": "9e12490a",
   "metadata": {},
   "outputs": [
    {
     "name": "stdout",
     "output_type": "stream",
     "text": [
      "['image_1.png', 'A A lion rampant', '363417.875']\n"
     ]
    }
   ],
   "source": [
    "with open(new_caption_file, 'r') as f2:\n",
    "    for line in f2:\n",
    "        if 'image,caption' in line:\n",
    "            continue\n",
    "        print(line.strip().split(','))\n",
    "        break\n"
   ]
  },
  {
   "cell_type": "code",
   "execution_count": null,
   "id": "b7dda642",
   "metadata": {},
   "outputs": [],
   "source": []
  }
 ],
 "metadata": {
  "kernelspec": {
   "display_name": "Python 3 (ipykernel)",
   "language": "python",
   "name": "python3"
  },
  "language_info": {
   "codemirror_mode": {
    "name": "ipython",
    "version": 3
   },
   "file_extension": ".py",
   "mimetype": "text/x-python",
   "name": "python",
   "nbconvert_exporter": "python",
   "pygments_lexer": "ipython3",
   "version": "3.8.12"
  },
  "toc": {
   "base_numbering": 1,
   "nav_menu": {},
   "number_sections": true,
   "sideBar": true,
   "skip_h1_title": false,
   "title_cell": "Table of Contents",
   "title_sidebar": "Contents",
   "toc_cell": false,
   "toc_position": {},
   "toc_section_display": true,
   "toc_window_display": false
  }
 },
 "nbformat": 4,
 "nbformat_minor": 5
}
