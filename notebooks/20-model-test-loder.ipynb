{
 "cells": [
  {
   "cell_type": "code",
   "execution_count": 10,
   "id": "a87e5497",
   "metadata": {},
   "outputs": [],
   "source": [
    "## This notebook is for debugging the test loader for the images which are producing different prediction results with the sam model and parameters but different seed"
   ]
  },
  {
   "cell_type": "code",
   "execution_count": 18,
   "id": "e5cdbcf3",
   "metadata": {},
   "outputs": [
    {
     "name": "stdout",
     "output_type": "stream",
     "text": [
      "The autoreload extension is already loaded. To reload it, use:\n",
      "  %reload_ext autoreload\n",
      "The pyinstrument extension is already loaded. To reload it, use:\n",
      "  %reload_ext pyinstrument\n"
     ]
    }
   ],
   "source": [
    "# auto-load when code changes outside\n",
    "%load_ext autoreload\n",
    "%autoreload 2\n",
    "%load_ext pyinstrument\n",
    "\n",
    "import sys\n",
    "sys.path.insert(0,'..')\n"
   ]
  },
  {
   "cell_type": "code",
   "execution_count": 19,
   "id": "12fa6a61",
   "metadata": {},
   "outputs": [],
   "source": [
    "#imports \n",
    "import os\n",
    "import nltk\n",
    "import spacy\n",
    "import numpy as np\n",
    "import pandas as pd\n",
    "import torch\n",
    "import torch.nn as nn\n",
    "import torch.onnx as onnx\n",
    "import torch.optim as optim\n",
    "import torchvision.models as models\n",
    "\n",
    "from src.baseline.vocabulary import Vocabulary\n",
    "from src.utils import print_time, list_of_tensors_to_numpy_arr, plot_image, plot_im\n",
    "from src.accuracy import Accuracy\n",
    "from src.accuracy import WEIGHT_MAP, WEIGHT_MAP_ONLY_SHIELD_COLOR, WEIGHT_MAP_ONLY_CHARGE, WEIGHT_MAP_ONLY_CHARGE_COLOR\n",
    "from src.baseline.coa_model import get_new_model,load_model, train_validate_test_split, init_testing_model, test_model, test_rand_image, get_training_mean_std\n"
   ]
  },
  {
   "cell_type": "code",
   "execution_count": 20,
   "id": "25fd47a2",
   "metadata": {},
   "outputs": [],
   "source": [
    "!export CUDA_VISIBLE_DEVICES=0\n",
    "!export CUDA_LAUNCH_BLOCKING=1"
   ]
  },
  {
   "cell_type": "code",
   "execution_count": 21,
   "id": "cf67d490",
   "metadata": {},
   "outputs": [
    {
     "data": {
      "text/plain": [
       "device(type='cuda', index=0)"
      ]
     },
     "execution_count": 21,
     "metadata": {},
     "output_type": "execute_result"
    }
   ],
   "source": [
    "# device = torch.device(\"cuda:0\" if torch.cuda.is_available() else \"cpu\")\n",
    "device = torch.device(\"cuda:0\" if torch.cuda.is_available() else \"cpu\")\n",
    "# device = torch.device(\"cpu\")\n",
    "\n",
    "device"
   ]
  },
  {
   "cell_type": "code",
   "execution_count": 22,
   "id": "0a13d222",
   "metadata": {},
   "outputs": [],
   "source": [
    "# torch.cuda.get_device_name(0)"
   ]
  },
  {
   "cell_type": "code",
   "execution_count": 23,
   "id": "82cc65cc",
   "metadata": {},
   "outputs": [],
   "source": [
    "# Hyperparams\n",
    "\n",
    "embed_size=300\n",
    "vocab_size = 36\n",
    "attention_dim=256\n",
    "encoder_dim=512\n",
    "decoder_dim=512\n",
    "learning_rate = 3e-4\n",
    "drop_prob=0.3\n",
    "ignored_idx = 0\n",
    "\n",
    "device = torch.device(\"cuda:0\" if torch.cuda.is_available() else \"cpu\")\n",
    "\n",
    "hyper_params = {'embed_size': embed_size,\n",
    "                'attention_dim': attention_dim,\n",
    "                'encoder_dim': encoder_dim,\n",
    "                'decoder_dim': decoder_dim,\n",
    "                'vocab_size': vocab_size\n",
    "              }\n"
   ]
  },
  {
   "cell_type": "code",
   "execution_count": 24,
   "id": "c61fc8d4",
   "metadata": {},
   "outputs": [
    {
     "name": "stdout",
     "output_type": "stream",
     "text": [
      "There are 29 test images\n"
     ]
    }
   ],
   "source": [
    "data_location =  '/home/salnabulsi/coat-of-arms/data/new/'\n",
    "\n",
    "root_folder_images = data_location + '/resized'\n",
    "\n",
    "# test_caption_file = data_location + '/test_captions_faulty.txt'\n",
    "\n",
    "test_caption_file = data_location + '/test_captions_psumsq.txt'\n",
    "df = pd.read_csv(test_caption_file)\n",
    "\n",
    "print(\"There are {} test images\".format(len(df)))"
   ]
  },
  {
   "cell_type": "code",
   "execution_count": 31,
   "id": "f6db3dba",
   "metadata": {},
   "outputs": [],
   "source": [
    "EXP_FOLDER_PATH = '/home/space/datasets/COA/experiments/' \n",
    "run_path   = EXP_FOLDER_PATH + 'run-03-12-2023-19:37:19/'\n",
    "model_file = 'baseline-model-03-13-2023-11:47:01.pth'\n",
    "# BATCH_SIZE = 5\n",
    "NUM_WORKER = 2 #### this needs multi-core\n",
    "freq_threshold = 5\n",
    "batch_size = 3\n",
    "\n",
    "\n",
    "vocab = Vocabulary(freq_threshold)\n",
    "vocab.stoi = {'<PAD>': 0, '<SOS>': 1, '<EOS>': 2, '<UNK>': 3, 'lion': 4, 'rampant': 5, 'passt': 6, 'guard': 7, 'head': 8, 'lions': 9, 'cross': 10, 'molxine': 11, 'patonce': 12, 'eagle': 13, 'doubleheaded': 14, 'eagles': 15, 'a': 16, 'b': 17, 'o': 18, 's': 19, 'g': 20, 'e': 21, 'v': 22, '1': 23, '2': 24, '3': 25, '4': 26, '5': 27, '6': 28, '7': 29, '8': 30, '9': 31, '10': 32, '11': 33, 'border': 34, '&': 35}\n",
    "vocab.itos = {0: '<PAD>', 1: '<SOS>', 2: '<EOS>', 3: '<UNK>', 4: 'lion', 5: 'rampant', 6: 'passt', 7: 'guard', 8: 'head', 9: 'lions', 10: 'cross', 11: 'moline', 12: 'patonce', 13: 'eagle', 14: 'doubleheaded', 15: 'eagles', 16: 'a', 17: 'b', 18: 'o', 19: 's', 20: 'g', 21: 'e', 22: 'v', 23: '1', 24: '2', 25: '3', 26: '4', 27: '5', 28: '6', 29: '7', 30: '8', 31: '9', 32: '10', 33: '11', 34: 'border', 35: '&'}\n",
    "\n"
   ]
  },
  {
   "cell_type": "code",
   "execution_count": 32,
   "id": "53074260",
   "metadata": {},
   "outputs": [],
   "source": [
    "!export CUDA_LAUNCH_BLOCKING=1\n",
    "!export CUDA_VISIBLE_DEVICES=2"
   ]
  },
  {
   "cell_type": "markdown",
   "id": "31425291",
   "metadata": {},
   "source": [
    "### Get the mean and std \n",
    "This was calculated and saved in training phase in files"
   ]
  },
  {
   "cell_type": "code",
   "execution_count": 33,
   "id": "80101537",
   "metadata": {},
   "outputs": [
    {
     "data": {
      "text/plain": [
       "(tensor(0.2900), tensor(0.3396))"
      ]
     },
     "execution_count": 33,
     "metadata": {},
     "output_type": "execute_result"
    }
   ],
   "source": [
    "mean,std = (torch.tensor(0.2900), torch.tensor(0.3396))\n",
    "mean,std"
   ]
  },
  {
   "cell_type": "markdown",
   "id": "7f29ce61",
   "metadata": {},
   "source": [
    "### Init the test model"
   ]
  },
  {
   "cell_type": "code",
   "execution_count": 60,
   "id": "04960f04",
   "metadata": {},
   "outputs": [],
   "source": [
    "test_loader, test_dataset = init_testing_model(test_caption_file, \n",
    "                                               root_folder_images, \n",
    "                                               mean, std,\n",
    "                                               NUM_WORKER,\n",
    "                                               vocab,\n",
    "                                               batch_size, \n",
    "                                               device, \n",
    "                                               pin_memory=False)\n",
    "\n"
   ]
  },
  {
   "cell_type": "code",
   "execution_count": 61,
   "id": "7955dd64",
   "metadata": {},
   "outputs": [
    {
     "data": {
      "text/plain": [
       "(tensor([[[[1.8828, 1.8828, 1.8020,  ..., 1.7558, 1.7905, 1.8136],\n",
       "           [1.8828, 1.8597, 1.8251,  ..., 1.8597, 1.8944, 1.9406],\n",
       "           [1.8944, 1.8366, 1.8366,  ..., 1.8713, 1.8944, 1.9290],\n",
       "           ...,\n",
       "           [1.8597, 1.8828, 1.8713,  ..., 1.7327, 1.6519, 1.3516],\n",
       "           [1.8597, 1.8713, 1.8597,  ..., 0.3355, 0.3932, 0.3816],\n",
       "           [1.8713, 1.8828, 1.8597,  ..., 1.4440, 1.5133, 1.4440]],\n",
       " \n",
       "          [[1.7905, 1.7905, 1.7096,  ..., 1.5249, 1.5018, 1.4787],\n",
       "           [1.7558, 1.7327, 1.6981,  ..., 1.6519, 1.6403, 1.6172],\n",
       "           [1.7212, 1.6634, 1.6865,  ..., 1.6981, 1.6981, 1.6750],\n",
       "           ...,\n",
       "           [1.6519, 1.6865, 1.6981,  ..., 1.6288, 1.5480, 1.2477],\n",
       "           [1.6519, 1.6750, 1.6865,  ..., 0.2315, 0.2893, 0.2777],\n",
       "           [1.6634, 1.6865, 1.6865,  ..., 1.3401, 1.4094, 1.3401]],\n",
       " \n",
       "          [[1.5480, 1.5480, 1.4671,  ..., 1.2477, 1.2708, 1.3170],\n",
       "           [1.5249, 1.5018, 1.4671,  ..., 1.3747, 1.3978, 1.4556],\n",
       "           [1.5018, 1.4440, 1.4671,  ..., 1.4325, 1.4671, 1.5133],\n",
       "           ...,\n",
       "           [1.4902, 1.5018, 1.4787,  ..., 1.4556, 1.3747, 1.0745],\n",
       "           [1.4902, 1.4902, 1.4671,  ..., 0.0583, 0.1161, 0.1045],\n",
       "           [1.5018, 1.5018, 1.4671,  ..., 1.1669, 1.2362, 1.1669]]],\n",
       " \n",
       " \n",
       "         [[[1.7674, 1.7789, 1.8136,  ..., 1.8136, 1.8366, 1.8020],\n",
       "           [1.7674, 1.7789, 1.8136,  ..., 1.8136, 1.8366, 1.8020],\n",
       "           [1.7789, 1.8020, 1.8366,  ..., 1.8251, 1.8597, 1.8366],\n",
       "           ...,\n",
       "           [1.8251, 1.8251, 1.8597,  ..., 1.7096, 1.7443, 1.7905],\n",
       "           [1.8251, 1.8251, 1.8597,  ..., 1.7096, 1.7443, 1.7905],\n",
       "           [1.8366, 1.8251, 1.8482,  ..., 1.7096, 1.7443, 1.7905]],\n",
       " \n",
       "          [[1.7674, 1.7558, 1.7327,  ..., 1.7212, 1.7443, 1.7096],\n",
       "           [1.7674, 1.7558, 1.7327,  ..., 1.7212, 1.7443, 1.7096],\n",
       "           [1.7558, 1.7558, 1.7212,  ..., 1.7212, 1.7327, 1.7096],\n",
       "           ...,\n",
       "           [1.7443, 1.7443, 1.7327,  ..., 1.6057, 1.6403, 1.6865],\n",
       "           [1.7443, 1.7443, 1.7327,  ..., 1.6057, 1.6403, 1.6865],\n",
       "           [1.7558, 1.7443, 1.7212,  ..., 1.6057, 1.6403, 1.6865]],\n",
       " \n",
       "          [[1.4671, 1.4671, 1.4671,  ..., 1.4787, 1.4787, 1.4440],\n",
       "           [1.4671, 1.4671, 1.4671,  ..., 1.4787, 1.4787, 1.4440],\n",
       "           [1.4671, 1.4671, 1.4671,  ..., 1.4787, 1.4787, 1.4556],\n",
       "           ...,\n",
       "           [1.5595, 1.5364, 1.5249,  ..., 1.4094, 1.4440, 1.4902],\n",
       "           [1.5595, 1.5364, 1.5249,  ..., 1.4094, 1.4440, 1.4902],\n",
       "           [1.5711, 1.5364, 1.5133,  ..., 1.4094, 1.4440, 1.4902]]],\n",
       " \n",
       " \n",
       "         [[[1.9290, 1.8828, 1.8828,  ..., 1.8828, 1.9175, 1.9175],\n",
       "           [1.8828, 1.8366, 1.8366,  ..., 1.8713, 1.8828, 1.8828],\n",
       "           [1.8713, 1.8251, 1.8251,  ..., 1.8482, 1.8482, 1.8366],\n",
       "           ...,\n",
       "           [1.9175, 1.8944, 1.9175,  ..., 1.8482, 1.8251, 1.8482],\n",
       "           [1.9175, 1.8944, 1.9175,  ..., 1.8251, 1.8136, 1.8597],\n",
       "           [1.9175, 1.8944, 1.9175,  ..., 1.8020, 1.8020, 1.8597]],\n",
       " \n",
       "          [[1.7558, 1.7096, 1.7096,  ..., 1.6750, 1.6750, 1.6750],\n",
       "           [1.7096, 1.6634, 1.6634,  ..., 1.6634, 1.6403, 1.6403],\n",
       "           [1.6981, 1.6519, 1.6519,  ..., 1.6403, 1.6057, 1.5941],\n",
       "           ...,\n",
       "           [1.7674, 1.7443, 1.7674,  ..., 1.6981, 1.6750, 1.6981],\n",
       "           [1.7674, 1.7443, 1.7674,  ..., 1.6750, 1.6634, 1.7096],\n",
       "           [1.7674, 1.7443, 1.7674,  ..., 1.6519, 1.6519, 1.7096]],\n",
       " \n",
       "          [[1.5133, 1.4671, 1.4440,  ..., 1.4440, 1.4556, 1.4556],\n",
       "           [1.4671, 1.4209, 1.3978,  ..., 1.4325, 1.4209, 1.4209],\n",
       "           [1.4556, 1.4094, 1.3863,  ..., 1.4094, 1.3863, 1.3747],\n",
       "           ...,\n",
       "           [1.5711, 1.5480, 1.5711,  ..., 1.4787, 1.4556, 1.4787],\n",
       "           [1.5711, 1.5480, 1.5711,  ..., 1.4556, 1.4440, 1.4902],\n",
       "           [1.5711, 1.5480, 1.5711,  ..., 1.4325, 1.4325, 1.4902]]]]),\n",
       " tensor([[ 1, 20, 16,  4,  5,  2],\n",
       "         [ 1, 17, 16, 10,  2,  0],\n",
       "         [ 1, 16, 20, 10,  3,  2]]),\n",
       " tensor([17354.9551, 18010.1719, 19988.1270]),\n",
       " tensor([12048.4678, 13233.8330, 15459.9482]),\n",
       " ['27618_G A lion rampant.jpg',\n",
       "  '561_B A cross.jpg',\n",
       "  '6384_A G cross moline.jpg'])"
      ]
     },
     "execution_count": 61,
     "metadata": {},
     "output_type": "execute_result"
    }
   ],
   "source": [
    "dataiter = iter(test_loader)\n",
    "next(dataiter)\n",
    "\n",
    "# torch.Size([3, 224, 224]) with crop\n"
   ]
  },
  {
   "cell_type": "code",
   "execution_count": null,
   "id": "c81e2ecd",
   "metadata": {},
   "outputs": [],
   "source": [
    "dataiter = iter(test_loader)\n",
    "next(dataiter)\n"
   ]
  },
  {
   "cell_type": "code",
   "execution_count": 80,
   "id": "0552a1d5",
   "metadata": {},
   "outputs": [
    {
     "data": {
      "text/plain": [
       "(tensor([[[[ 1.7558,  1.7558,  1.8020,  ...,  1.7905,  1.7905,  1.8136],\n",
       "           [ 1.8020,  1.8136,  1.8251,  ...,  1.8136,  1.8136,  1.8251],\n",
       "           [ 1.8597,  1.8597,  1.8597,  ...,  1.8251,  1.8251,  1.8366],\n",
       "           ...,\n",
       "           [ 1.8020,  1.8020,  1.8020,  ...,  1.7558,  1.7558,  1.7789],\n",
       "           [ 1.8136,  1.8136,  1.7905,  ...,  1.7674,  1.7674,  1.7905],\n",
       "           [ 1.8251,  1.8136,  1.8020,  ...,  1.7443,  1.7674,  1.7789]],\n",
       " \n",
       "          [[ 1.6057,  1.6057,  1.6519,  ...,  1.6865,  1.6865,  1.6981],\n",
       "           [ 1.6519,  1.6634,  1.6750,  ...,  1.7096,  1.7096,  1.7096],\n",
       "           [ 1.7096,  1.7096,  1.7096,  ...,  1.7212,  1.7212,  1.7212],\n",
       "           ...,\n",
       "           [ 1.6519,  1.6519,  1.6519,  ...,  1.6288,  1.6172,  1.6403],\n",
       "           [ 1.6634,  1.6634,  1.6403,  ...,  1.6519,  1.6519,  1.6634],\n",
       "           [ 1.6750,  1.6634,  1.6519,  ...,  1.6288,  1.6403,  1.6519]],\n",
       " \n",
       "          [[ 1.3863,  1.3863,  1.4325,  ...,  1.5018,  1.4902,  1.4902],\n",
       "           [ 1.4325,  1.4440,  1.4556,  ...,  1.5133,  1.5133,  1.5133],\n",
       "           [ 1.4902,  1.4902,  1.4902,  ...,  1.5249,  1.5249,  1.5249],\n",
       "           ...,\n",
       "           [ 1.4325,  1.4325,  1.4325,  ...,  1.3632,  1.3516,  1.3747],\n",
       "           [ 1.4440,  1.4440,  1.4209,  ...,  1.3632,  1.3747,  1.3863],\n",
       "           [ 1.4556,  1.4440,  1.4325,  ...,  1.3401,  1.3516,  1.3747]]],\n",
       " \n",
       " \n",
       "         [[[ 1.9175,  1.9059,  1.8944,  ...,  1.9059,  1.9290,  1.9175],\n",
       "           [ 1.9059,  1.9059,  1.8944,  ...,  1.8828,  1.9059,  1.8944],\n",
       "           [ 1.9175,  1.9175,  1.9059,  ...,  1.8713,  1.8944,  1.8944],\n",
       "           ...,\n",
       "           [ 1.9175,  1.9059,  1.9059,  ...,  1.8713,  1.8944,  1.8944],\n",
       "           [ 1.9175,  1.9059,  1.9059,  ...,  1.8713,  1.8944,  1.8944],\n",
       "           [ 1.9175,  1.9059,  1.9059,  ...,  1.8713,  1.8944,  1.8944]],\n",
       " \n",
       "          [[ 1.7443,  1.7327,  1.7327,  ...,  1.7212,  1.7443,  1.7327],\n",
       "           [ 1.7327,  1.7327,  1.7327,  ...,  1.6981,  1.7212,  1.7096],\n",
       "           [ 1.7443,  1.7443,  1.7443,  ...,  1.6981,  1.7212,  1.7096],\n",
       "           ...,\n",
       "           [ 1.7674,  1.7558,  1.7558,  ...,  1.7327,  1.7558,  1.7558],\n",
       "           [ 1.7674,  1.7558,  1.7558,  ...,  1.7327,  1.7558,  1.7558],\n",
       "           [ 1.7674,  1.7558,  1.7558,  ...,  1.7327,  1.7558,  1.7558]],\n",
       " \n",
       "          [[ 1.5018,  1.4902,  1.4902,  ...,  1.4556,  1.4787,  1.4671],\n",
       "           [ 1.4902,  1.4902,  1.4902,  ...,  1.4325,  1.4556,  1.4440],\n",
       "           [ 1.5018,  1.5018,  1.5018,  ...,  1.4325,  1.4556,  1.4440],\n",
       "           ...,\n",
       "           [ 1.5480,  1.5364,  1.5364,  ...,  1.4787,  1.5018,  1.5018],\n",
       "           [ 1.5480,  1.5364,  1.5364,  ...,  1.4787,  1.5018,  1.5018],\n",
       "           [ 1.5480,  1.5364,  1.5364,  ...,  1.4787,  1.5018,  1.5018]]],\n",
       " \n",
       " \n",
       "         [[[ 1.4325,  1.3978,  1.3747,  ...,  0.6357,  0.9475,  1.0745],\n",
       "           [ 1.3978,  1.3516,  1.3170,  ...,  0.5318,  0.8551,  1.0168],\n",
       "           [ 1.3055,  1.2246,  1.1438,  ...,  0.2315,  0.6011,  0.8551],\n",
       "           ...,\n",
       "           [ 1.4209,  1.4209,  1.4094,  ...,  1.3170,  1.3170,  1.3170],\n",
       "           [ 1.4671,  1.4440,  1.4209,  ...,  1.3747,  1.3632,  1.3516],\n",
       "           [ 1.4440,  1.4209,  1.4094,  ...,  1.3516,  1.3401,  1.3286]],\n",
       " \n",
       "          [[ 1.3170,  1.2939,  1.2824,  ...,  0.5318,  0.8551,  0.9821],\n",
       "           [ 1.2939,  1.2477,  1.2246,  ...,  0.4278,  0.7627,  0.9244],\n",
       "           [ 1.2131,  1.1322,  1.0630,  ...,  0.1391,  0.5087,  0.7627],\n",
       "           ...,\n",
       "           [ 1.2593,  1.2593,  1.2477,  ...,  1.1322,  1.1322,  1.1322],\n",
       "           [ 1.2939,  1.2708,  1.2477,  ...,  1.1784,  1.1669,  1.1553],\n",
       "           [ 1.2708,  1.2477,  1.2362,  ...,  1.1553,  1.1438,  1.1322]],\n",
       " \n",
       "          [[ 1.0630,  1.0514,  1.0399,  ...,  0.3355,  0.6472,  0.7627],\n",
       "           [ 1.0283,  1.0052,  0.9821,  ...,  0.2315,  0.5549,  0.7050],\n",
       "           [ 0.9475,  0.8782,  0.8089,  ..., -0.0687,  0.3008,  0.5433],\n",
       "           ...,\n",
       "           [ 0.9013,  0.8897,  0.8782,  ...,  0.8205,  0.8089,  0.8089],\n",
       "           [ 0.9590,  0.9244,  0.8897,  ...,  0.8782,  0.8666,  0.8551],\n",
       "           [ 0.9359,  0.9128,  0.8897,  ...,  0.8551,  0.8436,  0.8320]]],\n",
       " \n",
       " \n",
       "         ...,\n",
       " \n",
       " \n",
       "         [[[ 1.8828,  1.8713,  1.8713,  ...,  1.7443,  1.7558,  1.7674],\n",
       "           [ 1.8713,  1.8713,  1.8713,  ...,  1.7443,  1.7558,  1.7674],\n",
       "           [ 1.8713,  1.8828,  1.8828,  ...,  1.7443,  1.7558,  1.7674],\n",
       "           ...,\n",
       "           [ 1.8251,  1.8251,  1.8251,  ...,  1.7327,  1.7674,  1.7905],\n",
       "           [ 1.8366,  1.8366,  1.8366,  ...,  1.6750,  1.7212,  1.7558],\n",
       "           [ 1.8366,  1.8366,  1.8366,  ...,  1.6634,  1.7096,  1.7443]],\n",
       " \n",
       "          [[ 1.7327,  1.7212,  1.7212,  ...,  1.6750,  1.6865,  1.6981],\n",
       "           [ 1.7212,  1.7212,  1.7212,  ...,  1.6750,  1.6865,  1.6981],\n",
       "           [ 1.7212,  1.7327,  1.7327,  ...,  1.6750,  1.6865,  1.6981],\n",
       "           ...,\n",
       "           [ 1.6981,  1.6981,  1.6981,  ...,  1.6634,  1.6981,  1.7096],\n",
       "           [ 1.7096,  1.7096,  1.7096,  ...,  1.6057,  1.6519,  1.6865],\n",
       "           [ 1.7096,  1.7096,  1.7096,  ...,  1.5941,  1.6403,  1.6750]],\n",
       " \n",
       "          [[ 1.5133,  1.5018,  1.5018,  ...,  1.3747,  1.3863,  1.3978],\n",
       "           [ 1.5018,  1.5018,  1.5018,  ...,  1.3747,  1.3863,  1.3978],\n",
       "           [ 1.5018,  1.5133,  1.5133,  ...,  1.3747,  1.3863,  1.3978],\n",
       "           ...,\n",
       "           [ 1.4902,  1.4902,  1.4902,  ...,  1.3863,  1.4209,  1.4325],\n",
       "           [ 1.5018,  1.5018,  1.5018,  ...,  1.3286,  1.3747,  1.4094],\n",
       "           [ 1.5018,  1.5018,  1.5018,  ...,  1.3170,  1.3632,  1.3978]]],\n",
       " \n",
       " \n",
       "         [[[ 1.8482,  1.8482,  1.8482,  ...,  1.9059,  1.9059,  1.9059],\n",
       "           [ 1.8713,  1.8713,  1.8713,  ...,  1.9059,  1.9059,  1.9059],\n",
       "           [ 1.8944,  1.8944,  1.8944,  ...,  1.9059,  1.9059,  1.9059],\n",
       "           ...,\n",
       "           [ 1.8828,  1.8828,  1.8828,  ...,  1.8713,  1.8713,  1.8713],\n",
       "           [ 1.8828,  1.8828,  1.8828,  ...,  1.8251,  1.8251,  1.8251],\n",
       "           [ 1.8828,  1.8828,  1.8828,  ...,  1.7674,  1.7674,  1.7674]],\n",
       " \n",
       "          [[ 1.7212,  1.7212,  1.7212,  ...,  1.7674,  1.7674,  1.7674],\n",
       "           [ 1.7443,  1.7443,  1.7443,  ...,  1.7674,  1.7674,  1.7674],\n",
       "           [ 1.7674,  1.7674,  1.7674,  ...,  1.7674,  1.7674,  1.7674],\n",
       "           ...,\n",
       "           [ 1.7327,  1.7327,  1.7327,  ...,  1.7212,  1.7212,  1.7212],\n",
       "           [ 1.7327,  1.7327,  1.7327,  ...,  1.6750,  1.6750,  1.6750],\n",
       "           [ 1.7327,  1.7327,  1.7327,  ...,  1.6172,  1.6172,  1.6172]],\n",
       " \n",
       "          [[ 1.5133,  1.5133,  1.5133,  ...,  1.5826,  1.5826,  1.5826],\n",
       "           [ 1.5364,  1.5364,  1.5364,  ...,  1.5826,  1.5826,  1.5826],\n",
       "           [ 1.5595,  1.5595,  1.5595,  ...,  1.5826,  1.5826,  1.5826],\n",
       "           ...,\n",
       "           [ 1.5364,  1.5364,  1.5364,  ...,  1.5249,  1.5249,  1.5364],\n",
       "           [ 1.5364,  1.5364,  1.5364,  ...,  1.4787,  1.4787,  1.4902],\n",
       "           [ 1.5364,  1.5364,  1.5364,  ...,  1.4209,  1.4209,  1.4325]]],\n",
       " \n",
       " \n",
       "         [[[ 1.8482,  1.8482,  1.8366,  ...,  1.8020,  1.8136,  1.5941],\n",
       "           [ 1.8597,  1.8597,  1.8482,  ...,  1.7789,  1.7674,  1.5364],\n",
       "           [ 1.8713,  1.8713,  1.8597,  ...,  1.7558,  1.7327,  1.5018],\n",
       "           ...,\n",
       "           [ 1.8136,  1.8136,  1.8136,  ...,  1.8020,  1.8020,  1.8020],\n",
       "           [ 1.8020,  1.8020,  1.8136,  ...,  1.8020,  1.8020,  1.8020],\n",
       "           [ 1.8020,  1.8020,  1.8136,  ...,  1.8020,  1.8020,  1.8020]],\n",
       " \n",
       "          [[ 1.7096,  1.7096,  1.6981,  ...,  1.5711,  1.5826,  1.3632],\n",
       "           [ 1.7212,  1.7212,  1.7096,  ...,  1.5480,  1.5364,  1.3055],\n",
       "           [ 1.7327,  1.7327,  1.7212,  ...,  1.5364,  1.5249,  1.2939],\n",
       "           ...,\n",
       "           [ 1.7212,  1.7212,  1.7212,  ...,  1.6750,  1.6750,  1.6750],\n",
       "           [ 1.7096,  1.7096,  1.7212,  ...,  1.6750,  1.6750,  1.6750],\n",
       "           [ 1.7096,  1.7096,  1.7212,  ...,  1.6750,  1.6750,  1.6750]],\n",
       " \n",
       "          [[ 1.4325,  1.4325,  1.4209,  ...,  1.2824,  1.2939,  1.0745],\n",
       "           [ 1.4440,  1.4440,  1.4325,  ...,  1.2593,  1.2477,  1.0168],\n",
       "           [ 1.4440,  1.4440,  1.4325,  ...,  1.2477,  1.2246,  0.9937],\n",
       "           ...,\n",
       "           [ 1.4556,  1.4556,  1.4556,  ...,  1.3516,  1.3516,  1.3516],\n",
       "           [ 1.4440,  1.4440,  1.4556,  ...,  1.3516,  1.3516,  1.3516],\n",
       "           [ 1.4440,  1.4440,  1.4556,  ...,  1.3516,  1.3516,  1.3516]]]]),\n",
       " tensor([[ 1, 19, 18,  4,  5,  2],\n",
       "         [ 1, 16, 20, 13, 14,  2],\n",
       "         [ 1, 16, 22,  4,  5,  2],\n",
       "         [ 1, 18, 19, 10,  2,  0],\n",
       "         [ 1, 19, 16, 13,  2,  0],\n",
       "         [ 1, 16, 20,  4,  5,  2],\n",
       "         [ 1, 18, 19,  4,  5,  2],\n",
       "         [ 1, 16, 19,  4,  5,  2],\n",
       "         [ 1, 20, 16,  4,  5,  2],\n",
       "         [ 1, 16, 19,  4,  5,  2],\n",
       "         [ 1, 16, 20, 10,  3,  2],\n",
       "         [ 1, 17, 18,  4,  2,  0],\n",
       "         [ 1, 18, 17,  4,  5,  2],\n",
       "         [ 1, 20, 18, 13,  2,  0],\n",
       "         [ 1, 17, 16,  4,  5,  2],\n",
       "         [ 1, 18, 19, 13,  2,  0],\n",
       "         [ 1, 20, 16, 13,  2,  0],\n",
       "         [ 1, 17, 16, 10,  2,  0],\n",
       "         [ 1, 17, 18, 13,  2,  0],\n",
       "         [ 1, 18, 20,  4,  5,  2],\n",
       "         [ 1, 16, 20, 10,  2,  0],\n",
       "         [ 1, 18, 17,  4,  5,  2],\n",
       "         [ 1, 20, 18,  4,  5,  2],\n",
       "         [ 1, 16, 17, 13, 14,  2],\n",
       "         [ 1, 17, 16, 13,  2,  0],\n",
       "         [ 1, 18, 17, 10,  2,  0],\n",
       "         [ 1, 18, 19, 10,  3,  2],\n",
       "         [ 1, 18, 20, 10,  2,  0],\n",
       "         [ 1, 16, 19, 13, 14,  2]]),\n",
       " tensor([14328.1328, 17792.5918, 18519.8984, 15642.7646, 15152.4668, 20343.5039,\n",
       "         18559.0898, 14618.1826, 17354.9551, 17216.3945, 19988.1270, 17294.9219,\n",
       "         18156.5254, 13512.2520, 15471.3760, 14585.3818, 17228.4375, 18010.1719,\n",
       "         17204.2090, 15484.2900, 16989.8027, 17543.9199, 18045.9453, 14009.1533,\n",
       "         16983.4414, 16504.3418, 17556.3203, 18418.9375, 18435.9453]),\n",
       " tensor([ 9109.7695, 13136.1074, 13367.4785, 10946.0352, 10438.5586, 15026.5059,\n",
       "         13508.6143,  9891.1738, 12048.4678, 12833.9414, 15459.9482, 12365.0713,\n",
       "         13340.4180,  7817.9453,  9641.7725, 10453.9102, 12069.4717, 13233.8330,\n",
       "         12334.9717, 10479.8486, 12900.4141, 12252.8281, 12782.3428,  8283.4238,\n",
       "         10545.4814, 11865.5137, 12836.3398, 13829.1904, 13167.0254]),\n",
       " ['586_S O lion rampant.jpg',\n",
       "  '4150_A G eagle doubleheaded.jpg',\n",
       "  '7350_A V lion rampant.jpg',\n",
       "  '22122_O S cross.jpg',\n",
       "  '17591_S A eagle.jpg',\n",
       "  '7131_A G lion rampant.jpg',\n",
       "  '715_O S lion rampant.jpg',\n",
       "  '18220_A S lion rampant.jpg',\n",
       "  '27618_G A lion rampant.jpg',\n",
       "  '3837_A S lion rampant.jpg',\n",
       "  '6384_A G cross moline.jpg',\n",
       "  '5096_B O lion.jpg',\n",
       "  '6736_O B lion rampant.jpg',\n",
       "  '4660_G O eagle.jpg',\n",
       "  '32013_B A lion rampant.jpg',\n",
       "  '6679_O S eagle.jpg',\n",
       "  '3551_G A eagle.jpg',\n",
       "  '561_B A cross.jpg',\n",
       "  '10757_B O eagle.jpg',\n",
       "  '7598_O G lion rampant.jpg',\n",
       "  '7037_A G cross.jpg',\n",
       "  '19245_O B lion rampant.jpg',\n",
       "  '22337_G O lion rampant.jpg',\n",
       "  '16852_A B eagle doubleheaded.jpg',\n",
       "  '18847_B A eagle.jpg',\n",
       "  '22910_O B cross.jpg',\n",
       "  '22323_O S cross moline.jpg',\n",
       "  '22874_O G cross.jpg',\n",
       "  '1537_A S eagle doubleheaded.jpg'])"
      ]
     },
     "execution_count": 80,
     "metadata": {},
     "output_type": "execute_result"
    }
   ],
   "source": [
    "dataiter = iter(test_loader)\n",
    "next(dataiter)\n"
   ]
  },
  {
   "cell_type": "code",
   "execution_count": 25,
   "id": "fd631115",
   "metadata": {},
   "outputs": [
    {
     "ename": "NameError",
     "evalue": "name 'random' is not defined",
     "output_type": "error",
     "traceback": [
      "\u001b[0;31m---------------------------------------------------------------------------\u001b[0m",
      "\u001b[0;31mNameError\u001b[0m                                 Traceback (most recent call last)",
      "\u001b[0;32m/tmp/ipykernel_31164/2249832962.py\u001b[0m in \u001b[0;36m<module>\u001b[0;34m\u001b[0m\n\u001b[1;32m      1\u001b[0m \u001b[0mseed\u001b[0m \u001b[0;34m=\u001b[0m \u001b[0;36m123456\u001b[0m\u001b[0;34m\u001b[0m\u001b[0;34m\u001b[0m\u001b[0m\n\u001b[0;32m----> 2\u001b[0;31m \u001b[0mrandom\u001b[0m\u001b[0;34m.\u001b[0m\u001b[0mseed\u001b[0m\u001b[0;34m(\u001b[0m\u001b[0mseed\u001b[0m\u001b[0;34m)\u001b[0m     \u001b[0;31m# python random generator\u001b[0m\u001b[0;34m\u001b[0m\u001b[0;34m\u001b[0m\u001b[0m\n\u001b[0m\u001b[1;32m      3\u001b[0m \u001b[0mnp\u001b[0m\u001b[0;34m.\u001b[0m\u001b[0mrandom\u001b[0m\u001b[0;34m.\u001b[0m\u001b[0mseed\u001b[0m\u001b[0;34m(\u001b[0m\u001b[0mseed\u001b[0m\u001b[0;34m)\u001b[0m  \u001b[0;31m# numpy random generator\u001b[0m\u001b[0;34m\u001b[0m\u001b[0;34m\u001b[0m\u001b[0m\n\u001b[1;32m      4\u001b[0m \u001b[0;34m\u001b[0m\u001b[0m\n\u001b[1;32m      5\u001b[0m \u001b[0mtorch\u001b[0m\u001b[0;34m.\u001b[0m\u001b[0mmanual_seed\u001b[0m\u001b[0;34m(\u001b[0m\u001b[0mseed\u001b[0m\u001b[0;34m)\u001b[0m\u001b[0;34m\u001b[0m\u001b[0;34m\u001b[0m\u001b[0m\n",
      "\u001b[0;31mNameError\u001b[0m: name 'random' is not defined"
     ]
    }
   ],
   "source": [
    "seed = 123456\n",
    "random.seed(seed)     # python random generator\n",
    "np.random.seed(seed)  # numpy random generator\n",
    "\n",
    "torch.manual_seed(seed)\n",
    "torch.cuda.manual_seed_all(seed)\n",
    "\n",
    "torch.backends.cudnn.deterministic = True\n",
    "torch.backends.cudnn.benchmark = False\n"
   ]
  },
  {
   "cell_type": "code",
   "execution_count": null,
   "id": "e37f297c",
   "metadata": {},
   "outputs": [],
   "source": [
    "model_path= f\"{run_path}/{model_file}\"\n",
    "model, optimizer, loss, criterion = load_model(model_path, \n",
    "                                hyper_params, \n",
    "                                learning_rate,\n",
    "                                drop_prob, \n",
    "                                ignored_idx,\n",
    "                                pretrained=True)\n"
   ]
  },
  {
   "cell_type": "code",
   "execution_count": 26,
   "id": "57536b17",
   "metadata": {},
   "outputs": [
    {
     "name": "stdout",
     "output_type": "stream",
     "text": [
      "test function image_file_names ['3837_A S lion rampant.jpg', '22874_O G cross.jpg', '5096_B O lion.jpg', '22337_G O lion rampant.jpg', '3551_G A eagle.jpg', '586_S O lion rampant.jpg', '22910_O B cross.jpg', '18847_B A eagle.jpg', '19245_O B lion rampant.jpg', '7131_A G lion rampant.jpg', '6736_O B lion rampant.jpg', '1537_A S eagle doubleheaded.jpg', '17591_S A eagle.jpg', '6384_A G cross moline.jpg', '18220_A S lion rampant.jpg', '7598_O G lion rampant.jpg', '4150_A G eagle doubleheaded.jpg', '32013_B A lion rampant.jpg', '10757_B O eagle.jpg', '7037_A G cross.jpg', '16852_A B eagle doubleheaded.jpg', '27618_G A lion rampant.jpg', '22323_O S cross moline.jpg', '561_B A cross.jpg', '22122_O S cross.jpg', '4660_G O eagle.jpg', '6679_O S eagle.jpg', '7350_A V lion rampant.jpg', '715_O S lion rampant.jpg'] in batch 0\n"
     ]
    },
    {
     "name": "stderr",
     "output_type": "stream",
     "text": [
      "/home/salnabulsi/.thesis-py38/lib/python3.8/site-packages/torch/nn/functional.py:718: UserWarning: Named tensors and all their associated APIs are an experimental feature and subject to change. Please do not use them for anything important until they are released as stable. (Triggered internally at  /pytorch/c10/core/TensorImpl.h:1156.)\n",
      "  return torch.max_pool2d(input, kernel_size, stride, padding, dilation, ceil_mode)\n"
     ]
    },
    {
     "name": "stdout",
     "output_type": "stream",
     "text": [
      "image_file_name, acc_image, acc_charge_only,acc_image_charge_color, acc_shield_only: 3837_A S lion rampant.jpg, 1.0, 1.0, 1, 1.0, a s lion rampant\n",
      "image_file_name, acc_image, acc_charge_only,acc_image_charge_color, acc_shield_only: 22874_O G cross.jpg, 1.0, 1.0, 1, 1.0, o g cross\n",
      "image_file_name, acc_image, acc_charge_only,acc_image_charge_color, acc_shield_only: 5096_B O lion.jpg, 0.67, 1.0, 1, 0.0, g o lion rampant\n",
      "image_file_name, acc_image, acc_charge_only,acc_image_charge_color, acc_shield_only: 22337_G O lion rampant.jpg, 0.33, 1.0, 0, 0.0, a g lion rampant\n",
      "image_file_name, acc_image, acc_charge_only,acc_image_charge_color, acc_shield_only: 3551_G A eagle.jpg, 1.0, 1.0, 1, 1.0, g a eagle\n",
      "image_file_name, acc_image, acc_charge_only,acc_image_charge_color, acc_shield_only: 586_S O lion rampant.jpg, 0.33, 1.0, 0, 0.0, a a lion rampant\n",
      "image_file_name, acc_image, acc_charge_only,acc_image_charge_color, acc_shield_only: 22910_O B cross.jpg, 0.33, 1.0, 0, 0.0, a g cross\n",
      "image_file_name, acc_image, acc_charge_only,acc_image_charge_color, acc_shield_only: 18847_B A eagle.jpg, 0.33, 1.0, 0, 0.0, o o eagle\n",
      "image_file_name, acc_image, acc_charge_only,acc_image_charge_color, acc_shield_only: 19245_O B lion rampant.jpg, 0.67, 1.0, 1, 0.0, a b lion rampant\n",
      "image_file_name, acc_image, acc_charge_only,acc_image_charge_color, acc_shield_only: 7131_A G lion rampant.jpg, 1.0, 1.0, 1, 1.0, a g lion rampant\n",
      "image_file_name, acc_image, acc_charge_only,acc_image_charge_color, acc_shield_only: 6736_O B lion rampant.jpg, 0.67, 1.0, 1, 0.0, a b lion rampant\n",
      "image_file_name, acc_image, acc_charge_only,acc_image_charge_color, acc_shield_only: 1537_A S eagle doubleheaded.jpg, 1.0, 1.0, 1, 1.0, a s eagle doubleheaded\n",
      "image_file_name, acc_image, acc_charge_only,acc_image_charge_color, acc_shield_only: 17591_S A eagle.jpg, 0.67, 1.0, 1, 0.0, a a eagle\n",
      "image_file_name, acc_image, acc_charge_only,acc_image_charge_color, acc_shield_only: 6384_A G cross moline.jpg, 1.0, 1.0, 1, 1.0, a g cross moline\n",
      "image_file_name, acc_image, acc_charge_only,acc_image_charge_color, acc_shield_only: 18220_A S lion rampant.jpg, 0.67, 0.0, 1, 1.0, a s eagle\n",
      "image_file_name, acc_image, acc_charge_only,acc_image_charge_color, acc_shield_only: 7598_O G lion rampant.jpg, 0.33, 1.0, 0, 0.0, a a lion rampant\n",
      "image_file_name, acc_image, acc_charge_only,acc_image_charge_color, acc_shield_only: 4150_A G eagle doubleheaded.jpg, 1.0, 1.0, 1, 1.0, a g eagle doubleheaded\n",
      "image_file_name, acc_image, acc_charge_only,acc_image_charge_color, acc_shield_only: 32013_B A lion rampant.jpg, 0.33, 1.0, 0, 0.0, o b lion rampant\n",
      "image_file_name, acc_image, acc_charge_only,acc_image_charge_color, acc_shield_only: 10757_B O eagle.jpg, 0.33, 1.0, 0, 0.0, a g eagle doubleheaded\n",
      "image_file_name, acc_image, acc_charge_only,acc_image_charge_color, acc_shield_only: 7037_A G cross.jpg, 0.67, 0.0, 1, 1.0, a g lion rampant\n",
      "image_file_name, acc_image, acc_charge_only,acc_image_charge_color, acc_shield_only: 16852_A B eagle doubleheaded.jpg, 0.0, 0.0, 0, 0.0, g a lion rampant\n",
      "image_file_name, acc_image, acc_charge_only,acc_image_charge_color, acc_shield_only: 27618_G A lion rampant.jpg, 1.0, 1.0, 1, 1.0, g a lion rampant\n",
      "image_file_name, acc_image, acc_charge_only,acc_image_charge_color, acc_shield_only: 22323_O S cross moline.jpg, 0.33, 1.0, 0, 0.0, a g cross moline\n",
      "image_file_name, acc_image, acc_charge_only,acc_image_charge_color, acc_shield_only: 561_B A cross.jpg, 0.67, 1.0, 1, 0.0, a a cross\n",
      "image_file_name, acc_image, acc_charge_only,acc_image_charge_color, acc_shield_only: 22122_O S cross.jpg, 0.33, 1.0, 0, 0.0, a g cross moline\n",
      "image_file_name, acc_image, acc_charge_only,acc_image_charge_color, acc_shield_only: 4660_G O eagle.jpg, 0.0, 0.0, 0, 0.0, o g lion rampant\n",
      "image_file_name, acc_image, acc_charge_only,acc_image_charge_color, acc_shield_only: 6679_O S eagle.jpg, 0.67, 1.0, 1, 0.0, a s eagle doubleheaded\n",
      "image_file_name, acc_image, acc_charge_only,acc_image_charge_color, acc_shield_only: 7350_A V lion rampant.jpg, 0.67, 1.0, 0, 1.0, a g lion rampant\n",
      "image_file_name, acc_image, acc_charge_only,acc_image_charge_color, acc_shield_only: 715_O S lion rampant.jpg, 1.0, 1.0, 1, 1.0, o s lion rampant\n",
      "Test Accuracy ALL (in progress): 62.0%\n",
      "Test Accuracy Charge-Mod only (in progress): 86.0%\n",
      "Test Accuracy Charge color (in progress): 59.0%\n",
      "Test Accuracy Shield color (in progress): 41.0%\n",
      "Test Accuracy ALL (Overall): 62.0%\n",
      "Test Accuracy Charge-Mod only (Overall): 86.0%\n",
      "Test Accuracy Charge color (Overall): 59.0%\n",
      "Test Accuracy Shield color (Overall): 41.0%\n",
      "Test Loss (final):  1.11\n"
     ]
    }
   ],
   "source": [
    "test_losses, accuracy_test_list, image_names_list, predictions_list, acc_test_score, test_loss = test_model(model, \n",
    "                                                                        criterion,\n",
    "                                                                        test_loader, \n",
    "                                                                        test_dataset, \n",
    "                                                                        vocab_size, \n",
    "                                                                        device,\n",
    "                                                                        run_path,\n",
    "                                                                        True,\n",
    "                                                                        WEIGHT_MAP)    \n"
   ]
  },
  {
   "cell_type": "markdown",
   "id": "1927f99b",
   "metadata": {},
   "source": [
    "## Visualizing the attentions"
   ]
  },
  {
   "cell_type": "code",
   "execution_count": 87,
   "id": "ebe98616",
   "metadata": {},
   "outputs": [
    {
     "ename": "ValueError",
     "evalue": "too many values to unpack (expected 4)",
     "output_type": "error",
     "traceback": [
      "\u001b[0;31m---------------------------------------------------------------------------\u001b[0m",
      "\u001b[0;31mValueError\u001b[0m                                Traceback (most recent call last)",
      "\u001b[0;32m/tmp/ipykernel_19116/918130492.py\u001b[0m in \u001b[0;36m<module>\u001b[0;34m\u001b[0m\n\u001b[1;32m      1\u001b[0m \u001b[0;31m# torch.cuda.empty_cache()\u001b[0m\u001b[0;34m\u001b[0m\u001b[0;34m\u001b[0m\u001b[0;34m\u001b[0m\u001b[0m\n\u001b[0;32m----> 2\u001b[0;31m \u001b[0mtest_rand_image\u001b[0m\u001b[0;34m(\u001b[0m\u001b[0mmodel\u001b[0m\u001b[0;34m,\u001b[0m\u001b[0mtest_dataset\u001b[0m\u001b[0;34m,\u001b[0m\u001b[0mtest_loader\u001b[0m\u001b[0;34m,\u001b[0m\u001b[0mdevice\u001b[0m\u001b[0;34m)\u001b[0m\u001b[0;34m\u001b[0m\u001b[0;34m\u001b[0m\u001b[0m\n\u001b[0m",
      "\u001b[0;32m~/coat-of-arms/notebooks/../src/baseline/coa_model.py\u001b[0m in \u001b[0;36mtest_rand_image\u001b[0;34m(model, test_dataset, test_loader, device)\u001b[0m\n\u001b[1;32m    646\u001b[0m \u001b[0;32mdef\u001b[0m \u001b[0mtest_rand_image\u001b[0m\u001b[0;34m(\u001b[0m\u001b[0mmodel\u001b[0m\u001b[0;34m,\u001b[0m \u001b[0mtest_dataset\u001b[0m\u001b[0;34m,\u001b[0m \u001b[0mtest_loader\u001b[0m\u001b[0;34m,\u001b[0m\u001b[0mdevice\u001b[0m\u001b[0;34m)\u001b[0m\u001b[0;34m:\u001b[0m\u001b[0;34m\u001b[0m\u001b[0;34m\u001b[0m\u001b[0m\n\u001b[1;32m    647\u001b[0m     \u001b[0mdataiter\u001b[0m \u001b[0;34m=\u001b[0m \u001b[0miter\u001b[0m\u001b[0;34m(\u001b[0m\u001b[0mtest_loader\u001b[0m\u001b[0;34m)\u001b[0m\u001b[0;34m\u001b[0m\u001b[0;34m\u001b[0m\u001b[0m\n\u001b[0;32m--> 648\u001b[0;31m     \u001b[0mimages\u001b[0m\u001b[0;34m,\u001b[0m\u001b[0m_\u001b[0m\u001b[0;34m,\u001b[0m\u001b[0m_\u001b[0m\u001b[0;34m,\u001b[0m\u001b[0m_\u001b[0m \u001b[0;34m=\u001b[0m \u001b[0mnext\u001b[0m\u001b[0;34m(\u001b[0m\u001b[0mdataiter\u001b[0m\u001b[0;34m)\u001b[0m\u001b[0;34m\u001b[0m\u001b[0;34m\u001b[0m\u001b[0m\n\u001b[0m\u001b[1;32m    649\u001b[0m \u001b[0;34m\u001b[0m\u001b[0m\n\u001b[1;32m    650\u001b[0m     \u001b[0mimg\u001b[0m \u001b[0;34m=\u001b[0m \u001b[0mimages\u001b[0m\u001b[0;34m[\u001b[0m\u001b[0;36m0\u001b[0m\u001b[0;34m]\u001b[0m\u001b[0;34m.\u001b[0m\u001b[0mdetach\u001b[0m\u001b[0;34m(\u001b[0m\u001b[0;34m)\u001b[0m\u001b[0;34m.\u001b[0m\u001b[0mclone\u001b[0m\u001b[0;34m(\u001b[0m\u001b[0;34m)\u001b[0m\u001b[0;34m\u001b[0m\u001b[0;34m\u001b[0m\u001b[0m\n",
      "\u001b[0;31mValueError\u001b[0m: too many values to unpack (expected 4)"
     ]
    }
   ],
   "source": [
    "# torch.cuda.empty_cache()\n",
    "test_rand_image(model,test_dataset,test_loader,device)"
   ]
  },
  {
   "cell_type": "code",
   "execution_count": null,
   "id": "24399e7b",
   "metadata": {},
   "outputs": [],
   "source": []
  }
 ],
 "metadata": {
  "kernelspec": {
   "display_name": "Python 3 (ipykernel)",
   "language": "python",
   "name": "python3"
  },
  "language_info": {
   "codemirror_mode": {
    "name": "ipython",
    "version": 3
   },
   "file_extension": ".py",
   "mimetype": "text/x-python",
   "name": "python",
   "nbconvert_exporter": "python",
   "pygments_lexer": "ipython3",
   "version": "3.8.10"
  }
 },
 "nbformat": 4,
 "nbformat_minor": 5
}
