{
 "cells": [
  {
   "cell_type": "code",
   "execution_count": 1,
   "id": "d49722b4",
   "metadata": {},
   "outputs": [],
   "source": [
    "MAIN_FOLDER = 'dataset'\n",
    "ANNOTATED_DATASET_FOLDER = 'annotated-images' \n",
    "BOXED_DATASET_FOLDER = 'images-with-boxes'\n",
    "CROPPED_IMAGES_FOLDER = 'cropped-coa'"
   ]
  },
  {
   "cell_type": "markdown",
   "id": "732b4d7b",
   "metadata": {},
   "source": [
    "# Get the COA with their coordinates"
   ]
  },
  {
   "cell_type": "code",
   "execution_count": 2,
   "id": "a018d233",
   "metadata": {},
   "outputs": [
    {
     "name": "stdout",
     "output_type": "stream",
     "text": [
      "samples without coordinates:  452\n",
      "samples with coordinates:  599\n"
     ]
    }
   ],
   "source": [
    "import pandas as pd\n",
    "import json\n",
    "\n",
    "lables = {}\n",
    "not_annotated = []\n",
    "with open('../dataset/2021-03-19_classification-labeling-results.json') as json_file:\n",
    "    data = json.load(json_file)\n",
    "    for task in data:\n",
    "        im_id= task['image']\n",
    "        lables[im_id] = []\n",
    "        for label_result in task['selected_labels']:   \n",
    "            try:\n",
    "                sample = {'description': label_result['coa_description'], \n",
    "                          'coordinates': label_result['coa_coordinates']\n",
    "                         }\n",
    "                \n",
    "                lables[im_id].append(sample)\n",
    "                \n",
    "            except KeyError as e:\n",
    "                  not_annotated.append(im_id)\n",
    "            \n",
    "\n",
    "print('samples without coordinates: ', len(not_annotated))\n",
    "print('samples with coordinates: ', len(lables)).\n"
   ]
  },
  {
   "cell_type": "markdown",
   "id": "a686c3dc",
   "metadata": {},
   "source": [
    "# Crop COA from images"
   ]
  },
  {
   "cell_type": "code",
   "execution_count": 5,
   "id": "3e2dc734",
   "metadata": {},
   "outputs": [],
   "source": [
    "from PIL import Image\n",
    "\n",
    "# The coordinates of the COAs are all normalized\n",
    "# Using those values directly without normalization doesn't work \n",
    "def denormalize(left, upper, right, lower, size):\n",
    "    w, l = size\n",
    "        \n",
    "    return left*w, upper*l, right*w, lower*l    \n",
    "\n",
    "# 0.5 x = 150x; \n",
    "# 0.6y = 250y;\n",
    "# 150 “measured x position of the box on the image”\n",
    "\n",
    "# try resizeing the images for the same size - see first if they are different size\n",
    "# see where the crop works well \n",
    "\n",
    "\n",
    "def get_coa_coordinates(coa, size):\n",
    "    left = coa['coordinates']['topL']['x']\n",
    "    upper = coa['coordinates']['topL']['y']\n",
    "    right = coa['coordinates']['botR']['x']\n",
    "    lower = coa['coordinates']['botR']['y']\n",
    "\n",
    "    return denormalize(left, upper, right, lower, size)\n",
    "\n",
    "def crop_image(img_id, img_data):\n",
    "    img = Image.open(MAIN_FOLDER + '/'+  img_id)\n",
    "    for coa in img_data:\n",
    "        desc = coa['description']\n",
    "        left, upper, right, lower = get_coa_coordinates(coa,img.size)\n",
    "        img2 = img.crop((left, upper, right, lower))\n",
    "        img2.save(MAIN_FOLDER + '/' + CROPPED_IMAGES_FOLDER + '/' + desc + \".png\")\n"
   ]
  },
  {
   "cell_type": "code",
   "execution_count": 6,
   "id": "5cd1c5ac",
   "metadata": {},
   "outputs": [],
   "source": [
    "for img_id, img_data in lables.items():\n",
    "    crop_image(img_id, img_data)\n",
    "\n"
   ]
  },
  {
   "cell_type": "code",
   "execution_count": null,
   "id": "0f9f9b95",
   "metadata": {},
   "outputs": [],
   "source": []
  }
 ],
 "metadata": {
  "kernelspec": {
   "display_name": "Python 3 (ipykernel)",
   "language": "python",
   "name": "python3"
  },
  "language_info": {
   "codemirror_mode": {
    "name": "ipython",
    "version": 3
   },
   "file_extension": ".py",
   "mimetype": "text/x-python",
   "name": "python",
   "nbconvert_exporter": "python",
   "pygments_lexer": "ipython3",
   "version": "3.8.12"
  },
  "toc": {
   "base_numbering": 1,
   "nav_menu": {},
   "number_sections": true,
   "sideBar": true,
   "skip_h1_title": false,
   "title_cell": "Table of Contents",
   "title_sidebar": "Contents",
   "toc_cell": false,
   "toc_position": {},
   "toc_section_display": true,
   "toc_window_display": false
  }
 },
 "nbformat": 4,
 "nbformat_minor": 5
}
